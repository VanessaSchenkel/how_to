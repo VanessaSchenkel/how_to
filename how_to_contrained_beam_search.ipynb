{
  "nbformat": 4,
  "nbformat_minor": 0,
  "metadata": {
    "colab": {
      "provenance": [],
      "collapsed_sections": [],
      "machine_shape": "hm",
      "authorship_tag": "ABX9TyPk4jJp+l9C9lYa1Dq/aNdo",
      "include_colab_link": true
    },
    "kernelspec": {
      "name": "python3",
      "display_name": "Python 3"
    },
    "language_info": {
      "name": "python"
    },
    "accelerator": "GPU",
    "gpuClass": "standard",
    "widgets": {
      "application/vnd.jupyter.widget-state+json": {
        "f5ac1b8b0ad646e68e2dc77152490c0f": {
          "model_module": "@jupyter-widgets/controls",
          "model_name": "HBoxModel",
          "model_module_version": "1.5.0",
          "state": {
            "_dom_classes": [],
            "_model_module": "@jupyter-widgets/controls",
            "_model_module_version": "1.5.0",
            "_model_name": "HBoxModel",
            "_view_count": null,
            "_view_module": "@jupyter-widgets/controls",
            "_view_module_version": "1.5.0",
            "_view_name": "HBoxView",
            "box_style": "",
            "children": [
              "IPY_MODEL_bc20e01ce7a24255aee76b1449cd5c2c",
              "IPY_MODEL_59d581b402fb44c384420d1a97c11bb4",
              "IPY_MODEL_b8e28f4a678a4374ae394c31f2d5738a"
            ],
            "layout": "IPY_MODEL_a18b177d26fb479ab5ca9c61c01289e0"
          }
        },
        "bc20e01ce7a24255aee76b1449cd5c2c": {
          "model_module": "@jupyter-widgets/controls",
          "model_name": "HTMLModel",
          "model_module_version": "1.5.0",
          "state": {
            "_dom_classes": [],
            "_model_module": "@jupyter-widgets/controls",
            "_model_module_version": "1.5.0",
            "_model_name": "HTMLModel",
            "_view_count": null,
            "_view_module": "@jupyter-widgets/controls",
            "_view_module_version": "1.5.0",
            "_view_name": "HTMLView",
            "description": "",
            "description_tooltip": null,
            "layout": "IPY_MODEL_12b3923c3d4240018525d542ea8892c0",
            "placeholder": "​",
            "style": "IPY_MODEL_39d91447324745f99c07fde66d020e09",
            "value": "Downloading: 100%"
          }
        },
        "59d581b402fb44c384420d1a97c11bb4": {
          "model_module": "@jupyter-widgets/controls",
          "model_name": "FloatProgressModel",
          "model_module_version": "1.5.0",
          "state": {
            "_dom_classes": [],
            "_model_module": "@jupyter-widgets/controls",
            "_model_module_version": "1.5.0",
            "_model_name": "FloatProgressModel",
            "_view_count": null,
            "_view_module": "@jupyter-widgets/controls",
            "_view_module_version": "1.5.0",
            "_view_name": "ProgressView",
            "bar_style": "success",
            "description": "",
            "description_tooltip": null,
            "layout": "IPY_MODEL_a286b2670c9c42fa8edf559b02a0365b",
            "max": 2399,
            "min": 0,
            "orientation": "horizontal",
            "style": "IPY_MODEL_6b57128c5228484eb7bf6f808d0b0b47",
            "value": 2399
          }
        },
        "b8e28f4a678a4374ae394c31f2d5738a": {
          "model_module": "@jupyter-widgets/controls",
          "model_name": "HTMLModel",
          "model_module_version": "1.5.0",
          "state": {
            "_dom_classes": [],
            "_model_module": "@jupyter-widgets/controls",
            "_model_module_version": "1.5.0",
            "_model_name": "HTMLModel",
            "_view_count": null,
            "_view_module": "@jupyter-widgets/controls",
            "_view_module_version": "1.5.0",
            "_view_name": "HTMLView",
            "description": "",
            "description_tooltip": null,
            "layout": "IPY_MODEL_ef8efa3881c640018487c0e7f8ccaadf",
            "placeholder": "​",
            "style": "IPY_MODEL_1885fde12f3a41a598b2157846771da9",
            "value": " 2.40k/2.40k [00:00&lt;00:00, 97.6kB/s]"
          }
        },
        "a18b177d26fb479ab5ca9c61c01289e0": {
          "model_module": "@jupyter-widgets/base",
          "model_name": "LayoutModel",
          "model_module_version": "1.2.0",
          "state": {
            "_model_module": "@jupyter-widgets/base",
            "_model_module_version": "1.2.0",
            "_model_name": "LayoutModel",
            "_view_count": null,
            "_view_module": "@jupyter-widgets/base",
            "_view_module_version": "1.2.0",
            "_view_name": "LayoutView",
            "align_content": null,
            "align_items": null,
            "align_self": null,
            "border": null,
            "bottom": null,
            "display": null,
            "flex": null,
            "flex_flow": null,
            "grid_area": null,
            "grid_auto_columns": null,
            "grid_auto_flow": null,
            "grid_auto_rows": null,
            "grid_column": null,
            "grid_gap": null,
            "grid_row": null,
            "grid_template_areas": null,
            "grid_template_columns": null,
            "grid_template_rows": null,
            "height": null,
            "justify_content": null,
            "justify_items": null,
            "left": null,
            "margin": null,
            "max_height": null,
            "max_width": null,
            "min_height": null,
            "min_width": null,
            "object_fit": null,
            "object_position": null,
            "order": null,
            "overflow": null,
            "overflow_x": null,
            "overflow_y": null,
            "padding": null,
            "right": null,
            "top": null,
            "visibility": null,
            "width": null
          }
        },
        "12b3923c3d4240018525d542ea8892c0": {
          "model_module": "@jupyter-widgets/base",
          "model_name": "LayoutModel",
          "model_module_version": "1.2.0",
          "state": {
            "_model_module": "@jupyter-widgets/base",
            "_model_module_version": "1.2.0",
            "_model_name": "LayoutModel",
            "_view_count": null,
            "_view_module": "@jupyter-widgets/base",
            "_view_module_version": "1.2.0",
            "_view_name": "LayoutView",
            "align_content": null,
            "align_items": null,
            "align_self": null,
            "border": null,
            "bottom": null,
            "display": null,
            "flex": null,
            "flex_flow": null,
            "grid_area": null,
            "grid_auto_columns": null,
            "grid_auto_flow": null,
            "grid_auto_rows": null,
            "grid_column": null,
            "grid_gap": null,
            "grid_row": null,
            "grid_template_areas": null,
            "grid_template_columns": null,
            "grid_template_rows": null,
            "height": null,
            "justify_content": null,
            "justify_items": null,
            "left": null,
            "margin": null,
            "max_height": null,
            "max_width": null,
            "min_height": null,
            "min_width": null,
            "object_fit": null,
            "object_position": null,
            "order": null,
            "overflow": null,
            "overflow_x": null,
            "overflow_y": null,
            "padding": null,
            "right": null,
            "top": null,
            "visibility": null,
            "width": null
          }
        },
        "39d91447324745f99c07fde66d020e09": {
          "model_module": "@jupyter-widgets/controls",
          "model_name": "DescriptionStyleModel",
          "model_module_version": "1.5.0",
          "state": {
            "_model_module": "@jupyter-widgets/controls",
            "_model_module_version": "1.5.0",
            "_model_name": "DescriptionStyleModel",
            "_view_count": null,
            "_view_module": "@jupyter-widgets/base",
            "_view_module_version": "1.2.0",
            "_view_name": "StyleView",
            "description_width": ""
          }
        },
        "a286b2670c9c42fa8edf559b02a0365b": {
          "model_module": "@jupyter-widgets/base",
          "model_name": "LayoutModel",
          "model_module_version": "1.2.0",
          "state": {
            "_model_module": "@jupyter-widgets/base",
            "_model_module_version": "1.2.0",
            "_model_name": "LayoutModel",
            "_view_count": null,
            "_view_module": "@jupyter-widgets/base",
            "_view_module_version": "1.2.0",
            "_view_name": "LayoutView",
            "align_content": null,
            "align_items": null,
            "align_self": null,
            "border": null,
            "bottom": null,
            "display": null,
            "flex": null,
            "flex_flow": null,
            "grid_area": null,
            "grid_auto_columns": null,
            "grid_auto_flow": null,
            "grid_auto_rows": null,
            "grid_column": null,
            "grid_gap": null,
            "grid_row": null,
            "grid_template_areas": null,
            "grid_template_columns": null,
            "grid_template_rows": null,
            "height": null,
            "justify_content": null,
            "justify_items": null,
            "left": null,
            "margin": null,
            "max_height": null,
            "max_width": null,
            "min_height": null,
            "min_width": null,
            "object_fit": null,
            "object_position": null,
            "order": null,
            "overflow": null,
            "overflow_x": null,
            "overflow_y": null,
            "padding": null,
            "right": null,
            "top": null,
            "visibility": null,
            "width": null
          }
        },
        "6b57128c5228484eb7bf6f808d0b0b47": {
          "model_module": "@jupyter-widgets/controls",
          "model_name": "ProgressStyleModel",
          "model_module_version": "1.5.0",
          "state": {
            "_model_module": "@jupyter-widgets/controls",
            "_model_module_version": "1.5.0",
            "_model_name": "ProgressStyleModel",
            "_view_count": null,
            "_view_module": "@jupyter-widgets/base",
            "_view_module_version": "1.2.0",
            "_view_name": "StyleView",
            "bar_color": null,
            "description_width": ""
          }
        },
        "ef8efa3881c640018487c0e7f8ccaadf": {
          "model_module": "@jupyter-widgets/base",
          "model_name": "LayoutModel",
          "model_module_version": "1.2.0",
          "state": {
            "_model_module": "@jupyter-widgets/base",
            "_model_module_version": "1.2.0",
            "_model_name": "LayoutModel",
            "_view_count": null,
            "_view_module": "@jupyter-widgets/base",
            "_view_module_version": "1.2.0",
            "_view_name": "LayoutView",
            "align_content": null,
            "align_items": null,
            "align_self": null,
            "border": null,
            "bottom": null,
            "display": null,
            "flex": null,
            "flex_flow": null,
            "grid_area": null,
            "grid_auto_columns": null,
            "grid_auto_flow": null,
            "grid_auto_rows": null,
            "grid_column": null,
            "grid_gap": null,
            "grid_row": null,
            "grid_template_areas": null,
            "grid_template_columns": null,
            "grid_template_rows": null,
            "height": null,
            "justify_content": null,
            "justify_items": null,
            "left": null,
            "margin": null,
            "max_height": null,
            "max_width": null,
            "min_height": null,
            "min_width": null,
            "object_fit": null,
            "object_position": null,
            "order": null,
            "overflow": null,
            "overflow_x": null,
            "overflow_y": null,
            "padding": null,
            "right": null,
            "top": null,
            "visibility": null,
            "width": null
          }
        },
        "1885fde12f3a41a598b2157846771da9": {
          "model_module": "@jupyter-widgets/controls",
          "model_name": "DescriptionStyleModel",
          "model_module_version": "1.5.0",
          "state": {
            "_model_module": "@jupyter-widgets/controls",
            "_model_module_version": "1.5.0",
            "_model_name": "DescriptionStyleModel",
            "_view_count": null,
            "_view_module": "@jupyter-widgets/base",
            "_view_module_version": "1.2.0",
            "_view_name": "StyleView",
            "description_width": ""
          }
        },
        "349c1f6c1f7b4108a62d70e5f9518695": {
          "model_module": "@jupyter-widgets/controls",
          "model_name": "HBoxModel",
          "model_module_version": "1.5.0",
          "state": {
            "_dom_classes": [],
            "_model_module": "@jupyter-widgets/controls",
            "_model_module_version": "1.5.0",
            "_model_name": "HBoxModel",
            "_view_count": null,
            "_view_module": "@jupyter-widgets/controls",
            "_view_module_version": "1.5.0",
            "_view_name": "HBoxView",
            "box_style": "",
            "children": [
              "IPY_MODEL_38c5d4642db14c199f6b7187695410be",
              "IPY_MODEL_06c49c87e5b7444b828a62a6cf9463a2",
              "IPY_MODEL_4fc622711cab4036aa58abf4353e0ddd"
            ],
            "layout": "IPY_MODEL_db524cfa7cce4c7ba6c2e49788f1228f"
          }
        },
        "38c5d4642db14c199f6b7187695410be": {
          "model_module": "@jupyter-widgets/controls",
          "model_name": "HTMLModel",
          "model_module_version": "1.5.0",
          "state": {
            "_dom_classes": [],
            "_model_module": "@jupyter-widgets/controls",
            "_model_module_version": "1.5.0",
            "_model_name": "HTMLModel",
            "_view_count": null,
            "_view_module": "@jupyter-widgets/controls",
            "_view_module_version": "1.5.0",
            "_view_name": "HTMLView",
            "description": "",
            "description_tooltip": null,
            "layout": "IPY_MODEL_249ce83b30364ab7accaba3b352808f3",
            "placeholder": "​",
            "style": "IPY_MODEL_83f5a4bc5c364ed1b242a40514b023af",
            "value": "Downloading: 100%"
          }
        },
        "06c49c87e5b7444b828a62a6cf9463a2": {
          "model_module": "@jupyter-widgets/controls",
          "model_name": "FloatProgressModel",
          "model_module_version": "1.5.0",
          "state": {
            "_dom_classes": [],
            "_model_module": "@jupyter-widgets/controls",
            "_model_module_version": "1.5.0",
            "_model_name": "FloatProgressModel",
            "_view_count": null,
            "_view_module": "@jupyter-widgets/controls",
            "_view_module_version": "1.5.0",
            "_view_name": "ProgressView",
            "bar_style": "success",
            "description": "",
            "description_tooltip": null,
            "layout": "IPY_MODEL_9a73d3dc2f7b49b5bf51446681f05573",
            "max": 755569,
            "min": 0,
            "orientation": "horizontal",
            "style": "IPY_MODEL_7eda78a2a152494ea3490e1be67c14cf",
            "value": 755569
          }
        },
        "4fc622711cab4036aa58abf4353e0ddd": {
          "model_module": "@jupyter-widgets/controls",
          "model_name": "HTMLModel",
          "model_module_version": "1.5.0",
          "state": {
            "_dom_classes": [],
            "_model_module": "@jupyter-widgets/controls",
            "_model_module_version": "1.5.0",
            "_model_name": "HTMLModel",
            "_view_count": null,
            "_view_module": "@jupyter-widgets/controls",
            "_view_module_version": "1.5.0",
            "_view_name": "HTMLView",
            "description": "",
            "description_tooltip": null,
            "layout": "IPY_MODEL_356c85ba016742ccb431cbe4c3bd91e8",
            "placeholder": "​",
            "style": "IPY_MODEL_f948e5c434bc448a87ae656931e70f04",
            "value": " 756k/756k [00:01&lt;00:00, 937kB/s]"
          }
        },
        "db524cfa7cce4c7ba6c2e49788f1228f": {
          "model_module": "@jupyter-widgets/base",
          "model_name": "LayoutModel",
          "model_module_version": "1.2.0",
          "state": {
            "_model_module": "@jupyter-widgets/base",
            "_model_module_version": "1.2.0",
            "_model_name": "LayoutModel",
            "_view_count": null,
            "_view_module": "@jupyter-widgets/base",
            "_view_module_version": "1.2.0",
            "_view_name": "LayoutView",
            "align_content": null,
            "align_items": null,
            "align_self": null,
            "border": null,
            "bottom": null,
            "display": null,
            "flex": null,
            "flex_flow": null,
            "grid_area": null,
            "grid_auto_columns": null,
            "grid_auto_flow": null,
            "grid_auto_rows": null,
            "grid_column": null,
            "grid_gap": null,
            "grid_row": null,
            "grid_template_areas": null,
            "grid_template_columns": null,
            "grid_template_rows": null,
            "height": null,
            "justify_content": null,
            "justify_items": null,
            "left": null,
            "margin": null,
            "max_height": null,
            "max_width": null,
            "min_height": null,
            "min_width": null,
            "object_fit": null,
            "object_position": null,
            "order": null,
            "overflow": null,
            "overflow_x": null,
            "overflow_y": null,
            "padding": null,
            "right": null,
            "top": null,
            "visibility": null,
            "width": null
          }
        },
        "249ce83b30364ab7accaba3b352808f3": {
          "model_module": "@jupyter-widgets/base",
          "model_name": "LayoutModel",
          "model_module_version": "1.2.0",
          "state": {
            "_model_module": "@jupyter-widgets/base",
            "_model_module_version": "1.2.0",
            "_model_name": "LayoutModel",
            "_view_count": null,
            "_view_module": "@jupyter-widgets/base",
            "_view_module_version": "1.2.0",
            "_view_name": "LayoutView",
            "align_content": null,
            "align_items": null,
            "align_self": null,
            "border": null,
            "bottom": null,
            "display": null,
            "flex": null,
            "flex_flow": null,
            "grid_area": null,
            "grid_auto_columns": null,
            "grid_auto_flow": null,
            "grid_auto_rows": null,
            "grid_column": null,
            "grid_gap": null,
            "grid_row": null,
            "grid_template_areas": null,
            "grid_template_columns": null,
            "grid_template_rows": null,
            "height": null,
            "justify_content": null,
            "justify_items": null,
            "left": null,
            "margin": null,
            "max_height": null,
            "max_width": null,
            "min_height": null,
            "min_width": null,
            "object_fit": null,
            "object_position": null,
            "order": null,
            "overflow": null,
            "overflow_x": null,
            "overflow_y": null,
            "padding": null,
            "right": null,
            "top": null,
            "visibility": null,
            "width": null
          }
        },
        "83f5a4bc5c364ed1b242a40514b023af": {
          "model_module": "@jupyter-widgets/controls",
          "model_name": "DescriptionStyleModel",
          "model_module_version": "1.5.0",
          "state": {
            "_model_module": "@jupyter-widgets/controls",
            "_model_module_version": "1.5.0",
            "_model_name": "DescriptionStyleModel",
            "_view_count": null,
            "_view_module": "@jupyter-widgets/base",
            "_view_module_version": "1.2.0",
            "_view_name": "StyleView",
            "description_width": ""
          }
        },
        "9a73d3dc2f7b49b5bf51446681f05573": {
          "model_module": "@jupyter-widgets/base",
          "model_name": "LayoutModel",
          "model_module_version": "1.2.0",
          "state": {
            "_model_module": "@jupyter-widgets/base",
            "_model_module_version": "1.2.0",
            "_model_name": "LayoutModel",
            "_view_count": null,
            "_view_module": "@jupyter-widgets/base",
            "_view_module_version": "1.2.0",
            "_view_name": "LayoutView",
            "align_content": null,
            "align_items": null,
            "align_self": null,
            "border": null,
            "bottom": null,
            "display": null,
            "flex": null,
            "flex_flow": null,
            "grid_area": null,
            "grid_auto_columns": null,
            "grid_auto_flow": null,
            "grid_auto_rows": null,
            "grid_column": null,
            "grid_gap": null,
            "grid_row": null,
            "grid_template_areas": null,
            "grid_template_columns": null,
            "grid_template_rows": null,
            "height": null,
            "justify_content": null,
            "justify_items": null,
            "left": null,
            "margin": null,
            "max_height": null,
            "max_width": null,
            "min_height": null,
            "min_width": null,
            "object_fit": null,
            "object_position": null,
            "order": null,
            "overflow": null,
            "overflow_x": null,
            "overflow_y": null,
            "padding": null,
            "right": null,
            "top": null,
            "visibility": null,
            "width": null
          }
        },
        "7eda78a2a152494ea3490e1be67c14cf": {
          "model_module": "@jupyter-widgets/controls",
          "model_name": "ProgressStyleModel",
          "model_module_version": "1.5.0",
          "state": {
            "_model_module": "@jupyter-widgets/controls",
            "_model_module_version": "1.5.0",
            "_model_name": "ProgressStyleModel",
            "_view_count": null,
            "_view_module": "@jupyter-widgets/base",
            "_view_module_version": "1.2.0",
            "_view_name": "StyleView",
            "bar_color": null,
            "description_width": ""
          }
        },
        "356c85ba016742ccb431cbe4c3bd91e8": {
          "model_module": "@jupyter-widgets/base",
          "model_name": "LayoutModel",
          "model_module_version": "1.2.0",
          "state": {
            "_model_module": "@jupyter-widgets/base",
            "_model_module_version": "1.2.0",
            "_model_name": "LayoutModel",
            "_view_count": null,
            "_view_module": "@jupyter-widgets/base",
            "_view_module_version": "1.2.0",
            "_view_name": "LayoutView",
            "align_content": null,
            "align_items": null,
            "align_self": null,
            "border": null,
            "bottom": null,
            "display": null,
            "flex": null,
            "flex_flow": null,
            "grid_area": null,
            "grid_auto_columns": null,
            "grid_auto_flow": null,
            "grid_auto_rows": null,
            "grid_column": null,
            "grid_gap": null,
            "grid_row": null,
            "grid_template_areas": null,
            "grid_template_columns": null,
            "grid_template_rows": null,
            "height": null,
            "justify_content": null,
            "justify_items": null,
            "left": null,
            "margin": null,
            "max_height": null,
            "max_width": null,
            "min_height": null,
            "min_width": null,
            "object_fit": null,
            "object_position": null,
            "order": null,
            "overflow": null,
            "overflow_x": null,
            "overflow_y": null,
            "padding": null,
            "right": null,
            "top": null,
            "visibility": null,
            "width": null
          }
        },
        "f948e5c434bc448a87ae656931e70f04": {
          "model_module": "@jupyter-widgets/controls",
          "model_name": "DescriptionStyleModel",
          "model_module_version": "1.5.0",
          "state": {
            "_model_module": "@jupyter-widgets/controls",
            "_model_module_version": "1.5.0",
            "_model_name": "DescriptionStyleModel",
            "_view_count": null,
            "_view_module": "@jupyter-widgets/base",
            "_view_module_version": "1.2.0",
            "_view_name": "StyleView",
            "description_width": ""
          }
        },
        "c8bae6cd649d443f9252b39367becb09": {
          "model_module": "@jupyter-widgets/controls",
          "model_name": "HBoxModel",
          "model_module_version": "1.5.0",
          "state": {
            "_dom_classes": [],
            "_model_module": "@jupyter-widgets/controls",
            "_model_module_version": "1.5.0",
            "_model_name": "HBoxModel",
            "_view_count": null,
            "_view_module": "@jupyter-widgets/controls",
            "_view_module_version": "1.5.0",
            "_view_name": "HBoxView",
            "box_style": "",
            "children": [
              "IPY_MODEL_c9d3bc0fb2ab43d7adfa55c5d137ae0c",
              "IPY_MODEL_c26a19dfc6db41b0994933cdd244c54d",
              "IPY_MODEL_a300ba4273ee4ad292dffa7bde834b93"
            ],
            "layout": "IPY_MODEL_ac2f737bead442e4a1652805fbb1c15f"
          }
        },
        "c9d3bc0fb2ab43d7adfa55c5d137ae0c": {
          "model_module": "@jupyter-widgets/controls",
          "model_name": "HTMLModel",
          "model_module_version": "1.5.0",
          "state": {
            "_dom_classes": [],
            "_model_module": "@jupyter-widgets/controls",
            "_model_module_version": "1.5.0",
            "_model_name": "HTMLModel",
            "_view_count": null,
            "_view_module": "@jupyter-widgets/controls",
            "_view_module_version": "1.5.0",
            "_view_name": "HTMLView",
            "description": "",
            "description_tooltip": null,
            "layout": "IPY_MODEL_767ca73d64214451a28ea4b9eb649091",
            "placeholder": "​",
            "style": "IPY_MODEL_4bf99943ac704ed7882f7acad80c2727",
            "value": "Downloading: 100%"
          }
        },
        "c26a19dfc6db41b0994933cdd244c54d": {
          "model_module": "@jupyter-widgets/controls",
          "model_name": "FloatProgressModel",
          "model_module_version": "1.5.0",
          "state": {
            "_dom_classes": [],
            "_model_module": "@jupyter-widgets/controls",
            "_model_module_version": "1.5.0",
            "_model_name": "FloatProgressModel",
            "_view_count": null,
            "_view_module": "@jupyter-widgets/controls",
            "_view_module_version": "1.5.0",
            "_view_name": "ProgressView",
            "bar_style": "success",
            "description": "",
            "description_tooltip": null,
            "layout": "IPY_MODEL_d8ddee057ba7417a98a98937e339248d",
            "max": 2386119,
            "min": 0,
            "orientation": "horizontal",
            "style": "IPY_MODEL_47499ff485984ff59a2c467b462698e5",
            "value": 2386119
          }
        },
        "a300ba4273ee4ad292dffa7bde834b93": {
          "model_module": "@jupyter-widgets/controls",
          "model_name": "HTMLModel",
          "model_module_version": "1.5.0",
          "state": {
            "_dom_classes": [],
            "_model_module": "@jupyter-widgets/controls",
            "_model_module_version": "1.5.0",
            "_model_name": "HTMLModel",
            "_view_count": null,
            "_view_module": "@jupyter-widgets/controls",
            "_view_module_version": "1.5.0",
            "_view_name": "HTMLView",
            "description": "",
            "description_tooltip": null,
            "layout": "IPY_MODEL_0f26786a6b624536befb3d35e3204c85",
            "placeholder": "​",
            "style": "IPY_MODEL_8d44b047d23e42d7889a14e92ab45e97",
            "value": " 2.39M/2.39M [00:01&lt;00:00, 1.85MB/s]"
          }
        },
        "ac2f737bead442e4a1652805fbb1c15f": {
          "model_module": "@jupyter-widgets/base",
          "model_name": "LayoutModel",
          "model_module_version": "1.2.0",
          "state": {
            "_model_module": "@jupyter-widgets/base",
            "_model_module_version": "1.2.0",
            "_model_name": "LayoutModel",
            "_view_count": null,
            "_view_module": "@jupyter-widgets/base",
            "_view_module_version": "1.2.0",
            "_view_name": "LayoutView",
            "align_content": null,
            "align_items": null,
            "align_self": null,
            "border": null,
            "bottom": null,
            "display": null,
            "flex": null,
            "flex_flow": null,
            "grid_area": null,
            "grid_auto_columns": null,
            "grid_auto_flow": null,
            "grid_auto_rows": null,
            "grid_column": null,
            "grid_gap": null,
            "grid_row": null,
            "grid_template_areas": null,
            "grid_template_columns": null,
            "grid_template_rows": null,
            "height": null,
            "justify_content": null,
            "justify_items": null,
            "left": null,
            "margin": null,
            "max_height": null,
            "max_width": null,
            "min_height": null,
            "min_width": null,
            "object_fit": null,
            "object_position": null,
            "order": null,
            "overflow": null,
            "overflow_x": null,
            "overflow_y": null,
            "padding": null,
            "right": null,
            "top": null,
            "visibility": null,
            "width": null
          }
        },
        "767ca73d64214451a28ea4b9eb649091": {
          "model_module": "@jupyter-widgets/base",
          "model_name": "LayoutModel",
          "model_module_version": "1.2.0",
          "state": {
            "_model_module": "@jupyter-widgets/base",
            "_model_module_version": "1.2.0",
            "_model_name": "LayoutModel",
            "_view_count": null,
            "_view_module": "@jupyter-widgets/base",
            "_view_module_version": "1.2.0",
            "_view_name": "LayoutView",
            "align_content": null,
            "align_items": null,
            "align_self": null,
            "border": null,
            "bottom": null,
            "display": null,
            "flex": null,
            "flex_flow": null,
            "grid_area": null,
            "grid_auto_columns": null,
            "grid_auto_flow": null,
            "grid_auto_rows": null,
            "grid_column": null,
            "grid_gap": null,
            "grid_row": null,
            "grid_template_areas": null,
            "grid_template_columns": null,
            "grid_template_rows": null,
            "height": null,
            "justify_content": null,
            "justify_items": null,
            "left": null,
            "margin": null,
            "max_height": null,
            "max_width": null,
            "min_height": null,
            "min_width": null,
            "object_fit": null,
            "object_position": null,
            "order": null,
            "overflow": null,
            "overflow_x": null,
            "overflow_y": null,
            "padding": null,
            "right": null,
            "top": null,
            "visibility": null,
            "width": null
          }
        },
        "4bf99943ac704ed7882f7acad80c2727": {
          "model_module": "@jupyter-widgets/controls",
          "model_name": "DescriptionStyleModel",
          "model_module_version": "1.5.0",
          "state": {
            "_model_module": "@jupyter-widgets/controls",
            "_model_module_version": "1.5.0",
            "_model_name": "DescriptionStyleModel",
            "_view_count": null,
            "_view_module": "@jupyter-widgets/base",
            "_view_module_version": "1.2.0",
            "_view_name": "StyleView",
            "description_width": ""
          }
        },
        "d8ddee057ba7417a98a98937e339248d": {
          "model_module": "@jupyter-widgets/base",
          "model_name": "LayoutModel",
          "model_module_version": "1.2.0",
          "state": {
            "_model_module": "@jupyter-widgets/base",
            "_model_module_version": "1.2.0",
            "_model_name": "LayoutModel",
            "_view_count": null,
            "_view_module": "@jupyter-widgets/base",
            "_view_module_version": "1.2.0",
            "_view_name": "LayoutView",
            "align_content": null,
            "align_items": null,
            "align_self": null,
            "border": null,
            "bottom": null,
            "display": null,
            "flex": null,
            "flex_flow": null,
            "grid_area": null,
            "grid_auto_columns": null,
            "grid_auto_flow": null,
            "grid_auto_rows": null,
            "grid_column": null,
            "grid_gap": null,
            "grid_row": null,
            "grid_template_areas": null,
            "grid_template_columns": null,
            "grid_template_rows": null,
            "height": null,
            "justify_content": null,
            "justify_items": null,
            "left": null,
            "margin": null,
            "max_height": null,
            "max_width": null,
            "min_height": null,
            "min_width": null,
            "object_fit": null,
            "object_position": null,
            "order": null,
            "overflow": null,
            "overflow_x": null,
            "overflow_y": null,
            "padding": null,
            "right": null,
            "top": null,
            "visibility": null,
            "width": null
          }
        },
        "47499ff485984ff59a2c467b462698e5": {
          "model_module": "@jupyter-widgets/controls",
          "model_name": "ProgressStyleModel",
          "model_module_version": "1.5.0",
          "state": {
            "_model_module": "@jupyter-widgets/controls",
            "_model_module_version": "1.5.0",
            "_model_name": "ProgressStyleModel",
            "_view_count": null,
            "_view_module": "@jupyter-widgets/base",
            "_view_module_version": "1.2.0",
            "_view_name": "StyleView",
            "bar_color": null,
            "description_width": ""
          }
        },
        "0f26786a6b624536befb3d35e3204c85": {
          "model_module": "@jupyter-widgets/base",
          "model_name": "LayoutModel",
          "model_module_version": "1.2.0",
          "state": {
            "_model_module": "@jupyter-widgets/base",
            "_model_module_version": "1.2.0",
            "_model_name": "LayoutModel",
            "_view_count": null,
            "_view_module": "@jupyter-widgets/base",
            "_view_module_version": "1.2.0",
            "_view_name": "LayoutView",
            "align_content": null,
            "align_items": null,
            "align_self": null,
            "border": null,
            "bottom": null,
            "display": null,
            "flex": null,
            "flex_flow": null,
            "grid_area": null,
            "grid_auto_columns": null,
            "grid_auto_flow": null,
            "grid_auto_rows": null,
            "grid_column": null,
            "grid_gap": null,
            "grid_row": null,
            "grid_template_areas": null,
            "grid_template_columns": null,
            "grid_template_rows": null,
            "height": null,
            "justify_content": null,
            "justify_items": null,
            "left": null,
            "margin": null,
            "max_height": null,
            "max_width": null,
            "min_height": null,
            "min_width": null,
            "object_fit": null,
            "object_position": null,
            "order": null,
            "overflow": null,
            "overflow_x": null,
            "overflow_y": null,
            "padding": null,
            "right": null,
            "top": null,
            "visibility": null,
            "width": null
          }
        },
        "8d44b047d23e42d7889a14e92ab45e97": {
          "model_module": "@jupyter-widgets/controls",
          "model_name": "DescriptionStyleModel",
          "model_module_version": "1.5.0",
          "state": {
            "_model_module": "@jupyter-widgets/controls",
            "_model_module_version": "1.5.0",
            "_model_name": "DescriptionStyleModel",
            "_view_count": null,
            "_view_module": "@jupyter-widgets/base",
            "_view_module_version": "1.2.0",
            "_view_name": "StyleView",
            "description_width": ""
          }
        },
        "157159871757440c960cc681c359397b": {
          "model_module": "@jupyter-widgets/controls",
          "model_name": "HBoxModel",
          "model_module_version": "1.5.0",
          "state": {
            "_dom_classes": [],
            "_model_module": "@jupyter-widgets/controls",
            "_model_module_version": "1.5.0",
            "_model_name": "HBoxModel",
            "_view_count": null,
            "_view_module": "@jupyter-widgets/controls",
            "_view_module_version": "1.5.0",
            "_view_name": "HBoxView",
            "box_style": "",
            "children": [
              "IPY_MODEL_e337ce8420c64a94a4cb74027b38f3b2",
              "IPY_MODEL_2ba8931dc40344bc99304a06075d8148",
              "IPY_MODEL_eb4bdfad48c64804abbe87547175bed1"
            ],
            "layout": "IPY_MODEL_fd42204bb8a54d7f836984cf500925b1"
          }
        },
        "e337ce8420c64a94a4cb74027b38f3b2": {
          "model_module": "@jupyter-widgets/controls",
          "model_name": "HTMLModel",
          "model_module_version": "1.5.0",
          "state": {
            "_dom_classes": [],
            "_model_module": "@jupyter-widgets/controls",
            "_model_module_version": "1.5.0",
            "_model_name": "HTMLModel",
            "_view_count": null,
            "_view_module": "@jupyter-widgets/controls",
            "_view_module_version": "1.5.0",
            "_view_name": "HTMLView",
            "description": "",
            "description_tooltip": null,
            "layout": "IPY_MODEL_4cf4180809f5493794ee5e15639bef88",
            "placeholder": "​",
            "style": "IPY_MODEL_f4f5cb6eabb6412188cd13d9333001bd",
            "value": "Downloading: 100%"
          }
        },
        "2ba8931dc40344bc99304a06075d8148": {
          "model_module": "@jupyter-widgets/controls",
          "model_name": "FloatProgressModel",
          "model_module_version": "1.5.0",
          "state": {
            "_dom_classes": [],
            "_model_module": "@jupyter-widgets/controls",
            "_model_module_version": "1.5.0",
            "_model_name": "FloatProgressModel",
            "_view_count": null,
            "_view_module": "@jupyter-widgets/controls",
            "_view_module_version": "1.5.0",
            "_view_name": "ProgressView",
            "bar_style": "success",
            "description": "",
            "description_tooltip": null,
            "layout": "IPY_MODEL_58665cd816b04ed2818646d5a91890bc",
            "max": 2201,
            "min": 0,
            "orientation": "horizontal",
            "style": "IPY_MODEL_4313e5fda47a4337b0123016377fff2c",
            "value": 2201
          }
        },
        "eb4bdfad48c64804abbe87547175bed1": {
          "model_module": "@jupyter-widgets/controls",
          "model_name": "HTMLModel",
          "model_module_version": "1.5.0",
          "state": {
            "_dom_classes": [],
            "_model_module": "@jupyter-widgets/controls",
            "_model_module_version": "1.5.0",
            "_model_name": "HTMLModel",
            "_view_count": null,
            "_view_module": "@jupyter-widgets/controls",
            "_view_module_version": "1.5.0",
            "_view_name": "HTMLView",
            "description": "",
            "description_tooltip": null,
            "layout": "IPY_MODEL_c9086b29752f4165ab8f8646fa2a1263",
            "placeholder": "​",
            "style": "IPY_MODEL_73a155df7cc94f72a86247db624f48c4",
            "value": " 2.20k/2.20k [00:00&lt;00:00, 39.6kB/s]"
          }
        },
        "fd42204bb8a54d7f836984cf500925b1": {
          "model_module": "@jupyter-widgets/base",
          "model_name": "LayoutModel",
          "model_module_version": "1.2.0",
          "state": {
            "_model_module": "@jupyter-widgets/base",
            "_model_module_version": "1.2.0",
            "_model_name": "LayoutModel",
            "_view_count": null,
            "_view_module": "@jupyter-widgets/base",
            "_view_module_version": "1.2.0",
            "_view_name": "LayoutView",
            "align_content": null,
            "align_items": null,
            "align_self": null,
            "border": null,
            "bottom": null,
            "display": null,
            "flex": null,
            "flex_flow": null,
            "grid_area": null,
            "grid_auto_columns": null,
            "grid_auto_flow": null,
            "grid_auto_rows": null,
            "grid_column": null,
            "grid_gap": null,
            "grid_row": null,
            "grid_template_areas": null,
            "grid_template_columns": null,
            "grid_template_rows": null,
            "height": null,
            "justify_content": null,
            "justify_items": null,
            "left": null,
            "margin": null,
            "max_height": null,
            "max_width": null,
            "min_height": null,
            "min_width": null,
            "object_fit": null,
            "object_position": null,
            "order": null,
            "overflow": null,
            "overflow_x": null,
            "overflow_y": null,
            "padding": null,
            "right": null,
            "top": null,
            "visibility": null,
            "width": null
          }
        },
        "4cf4180809f5493794ee5e15639bef88": {
          "model_module": "@jupyter-widgets/base",
          "model_name": "LayoutModel",
          "model_module_version": "1.2.0",
          "state": {
            "_model_module": "@jupyter-widgets/base",
            "_model_module_version": "1.2.0",
            "_model_name": "LayoutModel",
            "_view_count": null,
            "_view_module": "@jupyter-widgets/base",
            "_view_module_version": "1.2.0",
            "_view_name": "LayoutView",
            "align_content": null,
            "align_items": null,
            "align_self": null,
            "border": null,
            "bottom": null,
            "display": null,
            "flex": null,
            "flex_flow": null,
            "grid_area": null,
            "grid_auto_columns": null,
            "grid_auto_flow": null,
            "grid_auto_rows": null,
            "grid_column": null,
            "grid_gap": null,
            "grid_row": null,
            "grid_template_areas": null,
            "grid_template_columns": null,
            "grid_template_rows": null,
            "height": null,
            "justify_content": null,
            "justify_items": null,
            "left": null,
            "margin": null,
            "max_height": null,
            "max_width": null,
            "min_height": null,
            "min_width": null,
            "object_fit": null,
            "object_position": null,
            "order": null,
            "overflow": null,
            "overflow_x": null,
            "overflow_y": null,
            "padding": null,
            "right": null,
            "top": null,
            "visibility": null,
            "width": null
          }
        },
        "f4f5cb6eabb6412188cd13d9333001bd": {
          "model_module": "@jupyter-widgets/controls",
          "model_name": "DescriptionStyleModel",
          "model_module_version": "1.5.0",
          "state": {
            "_model_module": "@jupyter-widgets/controls",
            "_model_module_version": "1.5.0",
            "_model_name": "DescriptionStyleModel",
            "_view_count": null,
            "_view_module": "@jupyter-widgets/base",
            "_view_module_version": "1.2.0",
            "_view_name": "StyleView",
            "description_width": ""
          }
        },
        "58665cd816b04ed2818646d5a91890bc": {
          "model_module": "@jupyter-widgets/base",
          "model_name": "LayoutModel",
          "model_module_version": "1.2.0",
          "state": {
            "_model_module": "@jupyter-widgets/base",
            "_model_module_version": "1.2.0",
            "_model_name": "LayoutModel",
            "_view_count": null,
            "_view_module": "@jupyter-widgets/base",
            "_view_module_version": "1.2.0",
            "_view_name": "LayoutView",
            "align_content": null,
            "align_items": null,
            "align_self": null,
            "border": null,
            "bottom": null,
            "display": null,
            "flex": null,
            "flex_flow": null,
            "grid_area": null,
            "grid_auto_columns": null,
            "grid_auto_flow": null,
            "grid_auto_rows": null,
            "grid_column": null,
            "grid_gap": null,
            "grid_row": null,
            "grid_template_areas": null,
            "grid_template_columns": null,
            "grid_template_rows": null,
            "height": null,
            "justify_content": null,
            "justify_items": null,
            "left": null,
            "margin": null,
            "max_height": null,
            "max_width": null,
            "min_height": null,
            "min_width": null,
            "object_fit": null,
            "object_position": null,
            "order": null,
            "overflow": null,
            "overflow_x": null,
            "overflow_y": null,
            "padding": null,
            "right": null,
            "top": null,
            "visibility": null,
            "width": null
          }
        },
        "4313e5fda47a4337b0123016377fff2c": {
          "model_module": "@jupyter-widgets/controls",
          "model_name": "ProgressStyleModel",
          "model_module_version": "1.5.0",
          "state": {
            "_model_module": "@jupyter-widgets/controls",
            "_model_module_version": "1.5.0",
            "_model_name": "ProgressStyleModel",
            "_view_count": null,
            "_view_module": "@jupyter-widgets/base",
            "_view_module_version": "1.2.0",
            "_view_name": "StyleView",
            "bar_color": null,
            "description_width": ""
          }
        },
        "c9086b29752f4165ab8f8646fa2a1263": {
          "model_module": "@jupyter-widgets/base",
          "model_name": "LayoutModel",
          "model_module_version": "1.2.0",
          "state": {
            "_model_module": "@jupyter-widgets/base",
            "_model_module_version": "1.2.0",
            "_model_name": "LayoutModel",
            "_view_count": null,
            "_view_module": "@jupyter-widgets/base",
            "_view_module_version": "1.2.0",
            "_view_name": "LayoutView",
            "align_content": null,
            "align_items": null,
            "align_self": null,
            "border": null,
            "bottom": null,
            "display": null,
            "flex": null,
            "flex_flow": null,
            "grid_area": null,
            "grid_auto_columns": null,
            "grid_auto_flow": null,
            "grid_auto_rows": null,
            "grid_column": null,
            "grid_gap": null,
            "grid_row": null,
            "grid_template_areas": null,
            "grid_template_columns": null,
            "grid_template_rows": null,
            "height": null,
            "justify_content": null,
            "justify_items": null,
            "left": null,
            "margin": null,
            "max_height": null,
            "max_width": null,
            "min_height": null,
            "min_width": null,
            "object_fit": null,
            "object_position": null,
            "order": null,
            "overflow": null,
            "overflow_x": null,
            "overflow_y": null,
            "padding": null,
            "right": null,
            "top": null,
            "visibility": null,
            "width": null
          }
        },
        "73a155df7cc94f72a86247db624f48c4": {
          "model_module": "@jupyter-widgets/controls",
          "model_name": "DescriptionStyleModel",
          "model_module_version": "1.5.0",
          "state": {
            "_model_module": "@jupyter-widgets/controls",
            "_model_module_version": "1.5.0",
            "_model_name": "DescriptionStyleModel",
            "_view_count": null,
            "_view_module": "@jupyter-widgets/base",
            "_view_module_version": "1.2.0",
            "_view_name": "StyleView",
            "description_width": ""
          }
        },
        "42caa564271b437a8d57c6168bc34930": {
          "model_module": "@jupyter-widgets/controls",
          "model_name": "HBoxModel",
          "model_module_version": "1.5.0",
          "state": {
            "_dom_classes": [],
            "_model_module": "@jupyter-widgets/controls",
            "_model_module_version": "1.5.0",
            "_model_name": "HBoxModel",
            "_view_count": null,
            "_view_module": "@jupyter-widgets/controls",
            "_view_module_version": "1.5.0",
            "_view_name": "HBoxView",
            "box_style": "",
            "children": [
              "IPY_MODEL_aace37bea83b4ba5b037ee77017169e3",
              "IPY_MODEL_b06a8e05662f406d9213d80eca51ac63",
              "IPY_MODEL_975a6cbcf01f416dbd3636d329094be1"
            ],
            "layout": "IPY_MODEL_71dd6513a5534a759690ab1b12c8ed9c"
          }
        },
        "aace37bea83b4ba5b037ee77017169e3": {
          "model_module": "@jupyter-widgets/controls",
          "model_name": "HTMLModel",
          "model_module_version": "1.5.0",
          "state": {
            "_dom_classes": [],
            "_model_module": "@jupyter-widgets/controls",
            "_model_module_version": "1.5.0",
            "_model_name": "HTMLModel",
            "_view_count": null,
            "_view_module": "@jupyter-widgets/controls",
            "_view_module_version": "1.5.0",
            "_view_name": "HTMLView",
            "description": "",
            "description_tooltip": null,
            "layout": "IPY_MODEL_2fcaf54604d34a8aab94ee39dfa0a03c",
            "placeholder": "​",
            "style": "IPY_MODEL_3f61cfa6a56e4c5fb56b7c005d0bab78",
            "value": "Downloading: 100%"
          }
        },
        "b06a8e05662f406d9213d80eca51ac63": {
          "model_module": "@jupyter-widgets/controls",
          "model_name": "FloatProgressModel",
          "model_module_version": "1.5.0",
          "state": {
            "_dom_classes": [],
            "_model_module": "@jupyter-widgets/controls",
            "_model_module_version": "1.5.0",
            "_model_name": "FloatProgressModel",
            "_view_count": null,
            "_view_module": "@jupyter-widgets/controls",
            "_view_module_version": "1.5.0",
            "_view_name": "ProgressView",
            "bar_style": "success",
            "description": "",
            "description_tooltip": null,
            "layout": "IPY_MODEL_bda9eda6def74067bfd166fce6d22334",
            "max": 759,
            "min": 0,
            "orientation": "horizontal",
            "style": "IPY_MODEL_00ad06fab13742788ccaa8b53a8048d4",
            "value": 759
          }
        },
        "975a6cbcf01f416dbd3636d329094be1": {
          "model_module": "@jupyter-widgets/controls",
          "model_name": "HTMLModel",
          "model_module_version": "1.5.0",
          "state": {
            "_dom_classes": [],
            "_model_module": "@jupyter-widgets/controls",
            "_model_module_version": "1.5.0",
            "_model_name": "HTMLModel",
            "_view_count": null,
            "_view_module": "@jupyter-widgets/controls",
            "_view_module_version": "1.5.0",
            "_view_name": "HTMLView",
            "description": "",
            "description_tooltip": null,
            "layout": "IPY_MODEL_b159140d5ec245cfb36d04251f69935b",
            "placeholder": "​",
            "style": "IPY_MODEL_570a599dc8464508878f19548c168e96",
            "value": " 759/759 [00:00&lt;00:00, 27.7kB/s]"
          }
        },
        "71dd6513a5534a759690ab1b12c8ed9c": {
          "model_module": "@jupyter-widgets/base",
          "model_name": "LayoutModel",
          "model_module_version": "1.2.0",
          "state": {
            "_model_module": "@jupyter-widgets/base",
            "_model_module_version": "1.2.0",
            "_model_name": "LayoutModel",
            "_view_count": null,
            "_view_module": "@jupyter-widgets/base",
            "_view_module_version": "1.2.0",
            "_view_name": "LayoutView",
            "align_content": null,
            "align_items": null,
            "align_self": null,
            "border": null,
            "bottom": null,
            "display": null,
            "flex": null,
            "flex_flow": null,
            "grid_area": null,
            "grid_auto_columns": null,
            "grid_auto_flow": null,
            "grid_auto_rows": null,
            "grid_column": null,
            "grid_gap": null,
            "grid_row": null,
            "grid_template_areas": null,
            "grid_template_columns": null,
            "grid_template_rows": null,
            "height": null,
            "justify_content": null,
            "justify_items": null,
            "left": null,
            "margin": null,
            "max_height": null,
            "max_width": null,
            "min_height": null,
            "min_width": null,
            "object_fit": null,
            "object_position": null,
            "order": null,
            "overflow": null,
            "overflow_x": null,
            "overflow_y": null,
            "padding": null,
            "right": null,
            "top": null,
            "visibility": null,
            "width": null
          }
        },
        "2fcaf54604d34a8aab94ee39dfa0a03c": {
          "model_module": "@jupyter-widgets/base",
          "model_name": "LayoutModel",
          "model_module_version": "1.2.0",
          "state": {
            "_model_module": "@jupyter-widgets/base",
            "_model_module_version": "1.2.0",
            "_model_name": "LayoutModel",
            "_view_count": null,
            "_view_module": "@jupyter-widgets/base",
            "_view_module_version": "1.2.0",
            "_view_name": "LayoutView",
            "align_content": null,
            "align_items": null,
            "align_self": null,
            "border": null,
            "bottom": null,
            "display": null,
            "flex": null,
            "flex_flow": null,
            "grid_area": null,
            "grid_auto_columns": null,
            "grid_auto_flow": null,
            "grid_auto_rows": null,
            "grid_column": null,
            "grid_gap": null,
            "grid_row": null,
            "grid_template_areas": null,
            "grid_template_columns": null,
            "grid_template_rows": null,
            "height": null,
            "justify_content": null,
            "justify_items": null,
            "left": null,
            "margin": null,
            "max_height": null,
            "max_width": null,
            "min_height": null,
            "min_width": null,
            "object_fit": null,
            "object_position": null,
            "order": null,
            "overflow": null,
            "overflow_x": null,
            "overflow_y": null,
            "padding": null,
            "right": null,
            "top": null,
            "visibility": null,
            "width": null
          }
        },
        "3f61cfa6a56e4c5fb56b7c005d0bab78": {
          "model_module": "@jupyter-widgets/controls",
          "model_name": "DescriptionStyleModel",
          "model_module_version": "1.5.0",
          "state": {
            "_model_module": "@jupyter-widgets/controls",
            "_model_module_version": "1.5.0",
            "_model_name": "DescriptionStyleModel",
            "_view_count": null,
            "_view_module": "@jupyter-widgets/base",
            "_view_module_version": "1.2.0",
            "_view_name": "StyleView",
            "description_width": ""
          }
        },
        "bda9eda6def74067bfd166fce6d22334": {
          "model_module": "@jupyter-widgets/base",
          "model_name": "LayoutModel",
          "model_module_version": "1.2.0",
          "state": {
            "_model_module": "@jupyter-widgets/base",
            "_model_module_version": "1.2.0",
            "_model_name": "LayoutModel",
            "_view_count": null,
            "_view_module": "@jupyter-widgets/base",
            "_view_module_version": "1.2.0",
            "_view_name": "LayoutView",
            "align_content": null,
            "align_items": null,
            "align_self": null,
            "border": null,
            "bottom": null,
            "display": null,
            "flex": null,
            "flex_flow": null,
            "grid_area": null,
            "grid_auto_columns": null,
            "grid_auto_flow": null,
            "grid_auto_rows": null,
            "grid_column": null,
            "grid_gap": null,
            "grid_row": null,
            "grid_template_areas": null,
            "grid_template_columns": null,
            "grid_template_rows": null,
            "height": null,
            "justify_content": null,
            "justify_items": null,
            "left": null,
            "margin": null,
            "max_height": null,
            "max_width": null,
            "min_height": null,
            "min_width": null,
            "object_fit": null,
            "object_position": null,
            "order": null,
            "overflow": null,
            "overflow_x": null,
            "overflow_y": null,
            "padding": null,
            "right": null,
            "top": null,
            "visibility": null,
            "width": null
          }
        },
        "00ad06fab13742788ccaa8b53a8048d4": {
          "model_module": "@jupyter-widgets/controls",
          "model_name": "ProgressStyleModel",
          "model_module_version": "1.5.0",
          "state": {
            "_model_module": "@jupyter-widgets/controls",
            "_model_module_version": "1.5.0",
            "_model_name": "ProgressStyleModel",
            "_view_count": null,
            "_view_module": "@jupyter-widgets/base",
            "_view_module_version": "1.2.0",
            "_view_name": "StyleView",
            "bar_color": null,
            "description_width": ""
          }
        },
        "b159140d5ec245cfb36d04251f69935b": {
          "model_module": "@jupyter-widgets/base",
          "model_name": "LayoutModel",
          "model_module_version": "1.2.0",
          "state": {
            "_model_module": "@jupyter-widgets/base",
            "_model_module_version": "1.2.0",
            "_model_name": "LayoutModel",
            "_view_count": null,
            "_view_module": "@jupyter-widgets/base",
            "_view_module_version": "1.2.0",
            "_view_name": "LayoutView",
            "align_content": null,
            "align_items": null,
            "align_self": null,
            "border": null,
            "bottom": null,
            "display": null,
            "flex": null,
            "flex_flow": null,
            "grid_area": null,
            "grid_auto_columns": null,
            "grid_auto_flow": null,
            "grid_auto_rows": null,
            "grid_column": null,
            "grid_gap": null,
            "grid_row": null,
            "grid_template_areas": null,
            "grid_template_columns": null,
            "grid_template_rows": null,
            "height": null,
            "justify_content": null,
            "justify_items": null,
            "left": null,
            "margin": null,
            "max_height": null,
            "max_width": null,
            "min_height": null,
            "min_width": null,
            "object_fit": null,
            "object_position": null,
            "order": null,
            "overflow": null,
            "overflow_x": null,
            "overflow_y": null,
            "padding": null,
            "right": null,
            "top": null,
            "visibility": null,
            "width": null
          }
        },
        "570a599dc8464508878f19548c168e96": {
          "model_module": "@jupyter-widgets/controls",
          "model_name": "DescriptionStyleModel",
          "model_module_version": "1.5.0",
          "state": {
            "_model_module": "@jupyter-widgets/controls",
            "_model_module_version": "1.5.0",
            "_model_name": "DescriptionStyleModel",
            "_view_count": null,
            "_view_module": "@jupyter-widgets/base",
            "_view_module_version": "1.2.0",
            "_view_name": "StyleView",
            "description_width": ""
          }
        },
        "3c33e05e249f476fb325d43a25a05e35": {
          "model_module": "@jupyter-widgets/controls",
          "model_name": "HBoxModel",
          "model_module_version": "1.5.0",
          "state": {
            "_dom_classes": [],
            "_model_module": "@jupyter-widgets/controls",
            "_model_module_version": "1.5.0",
            "_model_name": "HBoxModel",
            "_view_count": null,
            "_view_module": "@jupyter-widgets/controls",
            "_view_module_version": "1.5.0",
            "_view_name": "HBoxView",
            "box_style": "",
            "children": [
              "IPY_MODEL_787f140eb479430ebeb9031c0e83b638",
              "IPY_MODEL_b9482b78203f462d847ab7874750e766",
              "IPY_MODEL_65de7ec3d67e40fc96a52c261a5172f0"
            ],
            "layout": "IPY_MODEL_b8d2dc043fc94517935bb16ad6e1bc0c"
          }
        },
        "787f140eb479430ebeb9031c0e83b638": {
          "model_module": "@jupyter-widgets/controls",
          "model_name": "HTMLModel",
          "model_module_version": "1.5.0",
          "state": {
            "_dom_classes": [],
            "_model_module": "@jupyter-widgets/controls",
            "_model_module_version": "1.5.0",
            "_model_name": "HTMLModel",
            "_view_count": null,
            "_view_module": "@jupyter-widgets/controls",
            "_view_module_version": "1.5.0",
            "_view_name": "HTMLView",
            "description": "",
            "description_tooltip": null,
            "layout": "IPY_MODEL_4895bcc61ea443509b1f344dee7343dc",
            "placeholder": "​",
            "style": "IPY_MODEL_339166a5cfea4eccb1c4ba3439655505",
            "value": "Downloading: 100%"
          }
        },
        "b9482b78203f462d847ab7874750e766": {
          "model_module": "@jupyter-widgets/controls",
          "model_name": "FloatProgressModel",
          "model_module_version": "1.5.0",
          "state": {
            "_dom_classes": [],
            "_model_module": "@jupyter-widgets/controls",
            "_model_module_version": "1.5.0",
            "_model_name": "FloatProgressModel",
            "_view_count": null,
            "_view_module": "@jupyter-widgets/controls",
            "_view_module_version": "1.5.0",
            "_view_name": "ProgressView",
            "bar_style": "success",
            "description": "",
            "description_tooltip": null,
            "layout": "IPY_MODEL_0831e0971ef34b0aa78ae206b4a976e4",
            "max": 891700799,
            "min": 0,
            "orientation": "horizontal",
            "style": "IPY_MODEL_59fb9735de5041318657d7c0e24cbb7e",
            "value": 891700799
          }
        },
        "65de7ec3d67e40fc96a52c261a5172f0": {
          "model_module": "@jupyter-widgets/controls",
          "model_name": "HTMLModel",
          "model_module_version": "1.5.0",
          "state": {
            "_dom_classes": [],
            "_model_module": "@jupyter-widgets/controls",
            "_model_module_version": "1.5.0",
            "_model_name": "HTMLModel",
            "_view_count": null,
            "_view_module": "@jupyter-widgets/controls",
            "_view_module_version": "1.5.0",
            "_view_name": "HTMLView",
            "description": "",
            "description_tooltip": null,
            "layout": "IPY_MODEL_94f192233f864be9bb06ab2ffdcdb9f9",
            "placeholder": "​",
            "style": "IPY_MODEL_b43639c9e729461bb7c7eec561fe7b07",
            "value": " 892M/892M [00:49&lt;00:00, 18.3MB/s]"
          }
        },
        "b8d2dc043fc94517935bb16ad6e1bc0c": {
          "model_module": "@jupyter-widgets/base",
          "model_name": "LayoutModel",
          "model_module_version": "1.2.0",
          "state": {
            "_model_module": "@jupyter-widgets/base",
            "_model_module_version": "1.2.0",
            "_model_name": "LayoutModel",
            "_view_count": null,
            "_view_module": "@jupyter-widgets/base",
            "_view_module_version": "1.2.0",
            "_view_name": "LayoutView",
            "align_content": null,
            "align_items": null,
            "align_self": null,
            "border": null,
            "bottom": null,
            "display": null,
            "flex": null,
            "flex_flow": null,
            "grid_area": null,
            "grid_auto_columns": null,
            "grid_auto_flow": null,
            "grid_auto_rows": null,
            "grid_column": null,
            "grid_gap": null,
            "grid_row": null,
            "grid_template_areas": null,
            "grid_template_columns": null,
            "grid_template_rows": null,
            "height": null,
            "justify_content": null,
            "justify_items": null,
            "left": null,
            "margin": null,
            "max_height": null,
            "max_width": null,
            "min_height": null,
            "min_width": null,
            "object_fit": null,
            "object_position": null,
            "order": null,
            "overflow": null,
            "overflow_x": null,
            "overflow_y": null,
            "padding": null,
            "right": null,
            "top": null,
            "visibility": null,
            "width": null
          }
        },
        "4895bcc61ea443509b1f344dee7343dc": {
          "model_module": "@jupyter-widgets/base",
          "model_name": "LayoutModel",
          "model_module_version": "1.2.0",
          "state": {
            "_model_module": "@jupyter-widgets/base",
            "_model_module_version": "1.2.0",
            "_model_name": "LayoutModel",
            "_view_count": null,
            "_view_module": "@jupyter-widgets/base",
            "_view_module_version": "1.2.0",
            "_view_name": "LayoutView",
            "align_content": null,
            "align_items": null,
            "align_self": null,
            "border": null,
            "bottom": null,
            "display": null,
            "flex": null,
            "flex_flow": null,
            "grid_area": null,
            "grid_auto_columns": null,
            "grid_auto_flow": null,
            "grid_auto_rows": null,
            "grid_column": null,
            "grid_gap": null,
            "grid_row": null,
            "grid_template_areas": null,
            "grid_template_columns": null,
            "grid_template_rows": null,
            "height": null,
            "justify_content": null,
            "justify_items": null,
            "left": null,
            "margin": null,
            "max_height": null,
            "max_width": null,
            "min_height": null,
            "min_width": null,
            "object_fit": null,
            "object_position": null,
            "order": null,
            "overflow": null,
            "overflow_x": null,
            "overflow_y": null,
            "padding": null,
            "right": null,
            "top": null,
            "visibility": null,
            "width": null
          }
        },
        "339166a5cfea4eccb1c4ba3439655505": {
          "model_module": "@jupyter-widgets/controls",
          "model_name": "DescriptionStyleModel",
          "model_module_version": "1.5.0",
          "state": {
            "_model_module": "@jupyter-widgets/controls",
            "_model_module_version": "1.5.0",
            "_model_name": "DescriptionStyleModel",
            "_view_count": null,
            "_view_module": "@jupyter-widgets/base",
            "_view_module_version": "1.2.0",
            "_view_name": "StyleView",
            "description_width": ""
          }
        },
        "0831e0971ef34b0aa78ae206b4a976e4": {
          "model_module": "@jupyter-widgets/base",
          "model_name": "LayoutModel",
          "model_module_version": "1.2.0",
          "state": {
            "_model_module": "@jupyter-widgets/base",
            "_model_module_version": "1.2.0",
            "_model_name": "LayoutModel",
            "_view_count": null,
            "_view_module": "@jupyter-widgets/base",
            "_view_module_version": "1.2.0",
            "_view_name": "LayoutView",
            "align_content": null,
            "align_items": null,
            "align_self": null,
            "border": null,
            "bottom": null,
            "display": null,
            "flex": null,
            "flex_flow": null,
            "grid_area": null,
            "grid_auto_columns": null,
            "grid_auto_flow": null,
            "grid_auto_rows": null,
            "grid_column": null,
            "grid_gap": null,
            "grid_row": null,
            "grid_template_areas": null,
            "grid_template_columns": null,
            "grid_template_rows": null,
            "height": null,
            "justify_content": null,
            "justify_items": null,
            "left": null,
            "margin": null,
            "max_height": null,
            "max_width": null,
            "min_height": null,
            "min_width": null,
            "object_fit": null,
            "object_position": null,
            "order": null,
            "overflow": null,
            "overflow_x": null,
            "overflow_y": null,
            "padding": null,
            "right": null,
            "top": null,
            "visibility": null,
            "width": null
          }
        },
        "59fb9735de5041318657d7c0e24cbb7e": {
          "model_module": "@jupyter-widgets/controls",
          "model_name": "ProgressStyleModel",
          "model_module_version": "1.5.0",
          "state": {
            "_model_module": "@jupyter-widgets/controls",
            "_model_module_version": "1.5.0",
            "_model_name": "ProgressStyleModel",
            "_view_count": null,
            "_view_module": "@jupyter-widgets/base",
            "_view_module_version": "1.2.0",
            "_view_name": "StyleView",
            "bar_color": null,
            "description_width": ""
          }
        },
        "94f192233f864be9bb06ab2ffdcdb9f9": {
          "model_module": "@jupyter-widgets/base",
          "model_name": "LayoutModel",
          "model_module_version": "1.2.0",
          "state": {
            "_model_module": "@jupyter-widgets/base",
            "_model_module_version": "1.2.0",
            "_model_name": "LayoutModel",
            "_view_count": null,
            "_view_module": "@jupyter-widgets/base",
            "_view_module_version": "1.2.0",
            "_view_name": "LayoutView",
            "align_content": null,
            "align_items": null,
            "align_self": null,
            "border": null,
            "bottom": null,
            "display": null,
            "flex": null,
            "flex_flow": null,
            "grid_area": null,
            "grid_auto_columns": null,
            "grid_auto_flow": null,
            "grid_auto_rows": null,
            "grid_column": null,
            "grid_gap": null,
            "grid_row": null,
            "grid_template_areas": null,
            "grid_template_columns": null,
            "grid_template_rows": null,
            "height": null,
            "justify_content": null,
            "justify_items": null,
            "left": null,
            "margin": null,
            "max_height": null,
            "max_width": null,
            "min_height": null,
            "min_width": null,
            "object_fit": null,
            "object_position": null,
            "order": null,
            "overflow": null,
            "overflow_x": null,
            "overflow_y": null,
            "padding": null,
            "right": null,
            "top": null,
            "visibility": null,
            "width": null
          }
        },
        "b43639c9e729461bb7c7eec561fe7b07": {
          "model_module": "@jupyter-widgets/controls",
          "model_name": "DescriptionStyleModel",
          "model_module_version": "1.5.0",
          "state": {
            "_model_module": "@jupyter-widgets/controls",
            "_model_module_version": "1.5.0",
            "_model_name": "DescriptionStyleModel",
            "_view_count": null,
            "_view_module": "@jupyter-widgets/base",
            "_view_module_version": "1.2.0",
            "_view_name": "StyleView",
            "description_width": ""
          }
        },
        "cccdf3ae174d4c80a56c2859bf9012a1": {
          "model_module": "@jupyter-widgets/controls",
          "model_name": "HBoxModel",
          "model_module_version": "1.5.0",
          "state": {
            "_dom_classes": [],
            "_model_module": "@jupyter-widgets/controls",
            "_model_module_version": "1.5.0",
            "_model_name": "HBoxModel",
            "_view_count": null,
            "_view_module": "@jupyter-widgets/controls",
            "_view_module_version": "1.5.0",
            "_view_name": "HBoxView",
            "box_style": "",
            "children": [
              "IPY_MODEL_c52c863051c04b2797113db8ca7ca00f",
              "IPY_MODEL_2635839c7bc044e5971c3da2d3050b1d",
              "IPY_MODEL_4c0191e8e5b6499ba865ee8538401409"
            ],
            "layout": "IPY_MODEL_f6fefba172bd4f82b2a03c811e028835"
          }
        },
        "c52c863051c04b2797113db8ca7ca00f": {
          "model_module": "@jupyter-widgets/controls",
          "model_name": "HTMLModel",
          "model_module_version": "1.5.0",
          "state": {
            "_dom_classes": [],
            "_model_module": "@jupyter-widgets/controls",
            "_model_module_version": "1.5.0",
            "_model_name": "HTMLModel",
            "_view_count": null,
            "_view_module": "@jupyter-widgets/controls",
            "_view_module_version": "1.5.0",
            "_view_name": "HTMLView",
            "description": "",
            "description_tooltip": null,
            "layout": "IPY_MODEL_34911ac47b4b4b1a8d0922da91e66f90",
            "placeholder": "​",
            "style": "IPY_MODEL_978d4773fc364481b55ae8719fff37bf",
            "value": "Downloading data files: 100%"
          }
        },
        "2635839c7bc044e5971c3da2d3050b1d": {
          "model_module": "@jupyter-widgets/controls",
          "model_name": "FloatProgressModel",
          "model_module_version": "1.5.0",
          "state": {
            "_dom_classes": [],
            "_model_module": "@jupyter-widgets/controls",
            "_model_module_version": "1.5.0",
            "_model_name": "FloatProgressModel",
            "_view_count": null,
            "_view_module": "@jupyter-widgets/controls",
            "_view_module_version": "1.5.0",
            "_view_name": "ProgressView",
            "bar_style": "success",
            "description": "",
            "description_tooltip": null,
            "layout": "IPY_MODEL_6294b1accb8e452ba339d0ec8a077d3c",
            "max": 1,
            "min": 0,
            "orientation": "horizontal",
            "style": "IPY_MODEL_1a7f2c8ee6dc4b63b4d0c3d073b88fd4",
            "value": 1
          }
        },
        "4c0191e8e5b6499ba865ee8538401409": {
          "model_module": "@jupyter-widgets/controls",
          "model_name": "HTMLModel",
          "model_module_version": "1.5.0",
          "state": {
            "_dom_classes": [],
            "_model_module": "@jupyter-widgets/controls",
            "_model_module_version": "1.5.0",
            "_model_name": "HTMLModel",
            "_view_count": null,
            "_view_module": "@jupyter-widgets/controls",
            "_view_module_version": "1.5.0",
            "_view_name": "HTMLView",
            "description": "",
            "description_tooltip": null,
            "layout": "IPY_MODEL_5760e1beb6764b6da6e9e922fa6c1264",
            "placeholder": "​",
            "style": "IPY_MODEL_f569717e58284e2f897cbba88ef13442",
            "value": " 1/1 [00:06&lt;00:00,  6.57s/it]"
          }
        },
        "f6fefba172bd4f82b2a03c811e028835": {
          "model_module": "@jupyter-widgets/base",
          "model_name": "LayoutModel",
          "model_module_version": "1.2.0",
          "state": {
            "_model_module": "@jupyter-widgets/base",
            "_model_module_version": "1.2.0",
            "_model_name": "LayoutModel",
            "_view_count": null,
            "_view_module": "@jupyter-widgets/base",
            "_view_module_version": "1.2.0",
            "_view_name": "LayoutView",
            "align_content": null,
            "align_items": null,
            "align_self": null,
            "border": null,
            "bottom": null,
            "display": null,
            "flex": null,
            "flex_flow": null,
            "grid_area": null,
            "grid_auto_columns": null,
            "grid_auto_flow": null,
            "grid_auto_rows": null,
            "grid_column": null,
            "grid_gap": null,
            "grid_row": null,
            "grid_template_areas": null,
            "grid_template_columns": null,
            "grid_template_rows": null,
            "height": null,
            "justify_content": null,
            "justify_items": null,
            "left": null,
            "margin": null,
            "max_height": null,
            "max_width": null,
            "min_height": null,
            "min_width": null,
            "object_fit": null,
            "object_position": null,
            "order": null,
            "overflow": null,
            "overflow_x": null,
            "overflow_y": null,
            "padding": null,
            "right": null,
            "top": null,
            "visibility": null,
            "width": null
          }
        },
        "34911ac47b4b4b1a8d0922da91e66f90": {
          "model_module": "@jupyter-widgets/base",
          "model_name": "LayoutModel",
          "model_module_version": "1.2.0",
          "state": {
            "_model_module": "@jupyter-widgets/base",
            "_model_module_version": "1.2.0",
            "_model_name": "LayoutModel",
            "_view_count": null,
            "_view_module": "@jupyter-widgets/base",
            "_view_module_version": "1.2.0",
            "_view_name": "LayoutView",
            "align_content": null,
            "align_items": null,
            "align_self": null,
            "border": null,
            "bottom": null,
            "display": null,
            "flex": null,
            "flex_flow": null,
            "grid_area": null,
            "grid_auto_columns": null,
            "grid_auto_flow": null,
            "grid_auto_rows": null,
            "grid_column": null,
            "grid_gap": null,
            "grid_row": null,
            "grid_template_areas": null,
            "grid_template_columns": null,
            "grid_template_rows": null,
            "height": null,
            "justify_content": null,
            "justify_items": null,
            "left": null,
            "margin": null,
            "max_height": null,
            "max_width": null,
            "min_height": null,
            "min_width": null,
            "object_fit": null,
            "object_position": null,
            "order": null,
            "overflow": null,
            "overflow_x": null,
            "overflow_y": null,
            "padding": null,
            "right": null,
            "top": null,
            "visibility": null,
            "width": null
          }
        },
        "978d4773fc364481b55ae8719fff37bf": {
          "model_module": "@jupyter-widgets/controls",
          "model_name": "DescriptionStyleModel",
          "model_module_version": "1.5.0",
          "state": {
            "_model_module": "@jupyter-widgets/controls",
            "_model_module_version": "1.5.0",
            "_model_name": "DescriptionStyleModel",
            "_view_count": null,
            "_view_module": "@jupyter-widgets/base",
            "_view_module_version": "1.2.0",
            "_view_name": "StyleView",
            "description_width": ""
          }
        },
        "6294b1accb8e452ba339d0ec8a077d3c": {
          "model_module": "@jupyter-widgets/base",
          "model_name": "LayoutModel",
          "model_module_version": "1.2.0",
          "state": {
            "_model_module": "@jupyter-widgets/base",
            "_model_module_version": "1.2.0",
            "_model_name": "LayoutModel",
            "_view_count": null,
            "_view_module": "@jupyter-widgets/base",
            "_view_module_version": "1.2.0",
            "_view_name": "LayoutView",
            "align_content": null,
            "align_items": null,
            "align_self": null,
            "border": null,
            "bottom": null,
            "display": null,
            "flex": null,
            "flex_flow": null,
            "grid_area": null,
            "grid_auto_columns": null,
            "grid_auto_flow": null,
            "grid_auto_rows": null,
            "grid_column": null,
            "grid_gap": null,
            "grid_row": null,
            "grid_template_areas": null,
            "grid_template_columns": null,
            "grid_template_rows": null,
            "height": null,
            "justify_content": null,
            "justify_items": null,
            "left": null,
            "margin": null,
            "max_height": null,
            "max_width": null,
            "min_height": null,
            "min_width": null,
            "object_fit": null,
            "object_position": null,
            "order": null,
            "overflow": null,
            "overflow_x": null,
            "overflow_y": null,
            "padding": null,
            "right": null,
            "top": null,
            "visibility": null,
            "width": null
          }
        },
        "1a7f2c8ee6dc4b63b4d0c3d073b88fd4": {
          "model_module": "@jupyter-widgets/controls",
          "model_name": "ProgressStyleModel",
          "model_module_version": "1.5.0",
          "state": {
            "_model_module": "@jupyter-widgets/controls",
            "_model_module_version": "1.5.0",
            "_model_name": "ProgressStyleModel",
            "_view_count": null,
            "_view_module": "@jupyter-widgets/base",
            "_view_module_version": "1.2.0",
            "_view_name": "StyleView",
            "bar_color": null,
            "description_width": ""
          }
        },
        "5760e1beb6764b6da6e9e922fa6c1264": {
          "model_module": "@jupyter-widgets/base",
          "model_name": "LayoutModel",
          "model_module_version": "1.2.0",
          "state": {
            "_model_module": "@jupyter-widgets/base",
            "_model_module_version": "1.2.0",
            "_model_name": "LayoutModel",
            "_view_count": null,
            "_view_module": "@jupyter-widgets/base",
            "_view_module_version": "1.2.0",
            "_view_name": "LayoutView",
            "align_content": null,
            "align_items": null,
            "align_self": null,
            "border": null,
            "bottom": null,
            "display": null,
            "flex": null,
            "flex_flow": null,
            "grid_area": null,
            "grid_auto_columns": null,
            "grid_auto_flow": null,
            "grid_auto_rows": null,
            "grid_column": null,
            "grid_gap": null,
            "grid_row": null,
            "grid_template_areas": null,
            "grid_template_columns": null,
            "grid_template_rows": null,
            "height": null,
            "justify_content": null,
            "justify_items": null,
            "left": null,
            "margin": null,
            "max_height": null,
            "max_width": null,
            "min_height": null,
            "min_width": null,
            "object_fit": null,
            "object_position": null,
            "order": null,
            "overflow": null,
            "overflow_x": null,
            "overflow_y": null,
            "padding": null,
            "right": null,
            "top": null,
            "visibility": null,
            "width": null
          }
        },
        "f569717e58284e2f897cbba88ef13442": {
          "model_module": "@jupyter-widgets/controls",
          "model_name": "DescriptionStyleModel",
          "model_module_version": "1.5.0",
          "state": {
            "_model_module": "@jupyter-widgets/controls",
            "_model_module_version": "1.5.0",
            "_model_name": "DescriptionStyleModel",
            "_view_count": null,
            "_view_module": "@jupyter-widgets/base",
            "_view_module_version": "1.2.0",
            "_view_name": "StyleView",
            "description_width": ""
          }
        },
        "1daab361e93046b4856fabec3c015495": {
          "model_module": "@jupyter-widgets/controls",
          "model_name": "HBoxModel",
          "model_module_version": "1.5.0",
          "state": {
            "_dom_classes": [],
            "_model_module": "@jupyter-widgets/controls",
            "_model_module_version": "1.5.0",
            "_model_name": "HBoxModel",
            "_view_count": null,
            "_view_module": "@jupyter-widgets/controls",
            "_view_module_version": "1.5.0",
            "_view_name": "HBoxView",
            "box_style": "",
            "children": [
              "IPY_MODEL_0ea9be9f25cc475ca542c3ab02750a83",
              "IPY_MODEL_0eadaf41243b4fd6a711a90fbe1103ab",
              "IPY_MODEL_9207f826dbdf4b21901b7fe6223be018"
            ],
            "layout": "IPY_MODEL_451e295e862a404abbdaf03925618d15"
          }
        },
        "0ea9be9f25cc475ca542c3ab02750a83": {
          "model_module": "@jupyter-widgets/controls",
          "model_name": "HTMLModel",
          "model_module_version": "1.5.0",
          "state": {
            "_dom_classes": [],
            "_model_module": "@jupyter-widgets/controls",
            "_model_module_version": "1.5.0",
            "_model_name": "HTMLModel",
            "_view_count": null,
            "_view_module": "@jupyter-widgets/controls",
            "_view_module_version": "1.5.0",
            "_view_name": "HTMLView",
            "description": "",
            "description_tooltip": null,
            "layout": "IPY_MODEL_bbb459759cb6485196ab5a16a99d882e",
            "placeholder": "​",
            "style": "IPY_MODEL_bf3fed43b6d24cda994f6f37f375450c",
            "value": "Downloading data: 100%"
          }
        },
        "0eadaf41243b4fd6a711a90fbe1103ab": {
          "model_module": "@jupyter-widgets/controls",
          "model_name": "FloatProgressModel",
          "model_module_version": "1.5.0",
          "state": {
            "_dom_classes": [],
            "_model_module": "@jupyter-widgets/controls",
            "_model_module_version": "1.5.0",
            "_model_name": "FloatProgressModel",
            "_view_count": null,
            "_view_module": "@jupyter-widgets/controls",
            "_view_module_version": "1.5.0",
            "_view_name": "ProgressView",
            "bar_style": "success",
            "description": "",
            "description_tooltip": null,
            "layout": "IPY_MODEL_a0cab9e8b34e4ca0b8fbdbed51cc91eb",
            "max": 39066393,
            "min": 0,
            "orientation": "horizontal",
            "style": "IPY_MODEL_02e38efaef074aa0a2547757849f03d4",
            "value": 39066393
          }
        },
        "9207f826dbdf4b21901b7fe6223be018": {
          "model_module": "@jupyter-widgets/controls",
          "model_name": "HTMLModel",
          "model_module_version": "1.5.0",
          "state": {
            "_dom_classes": [],
            "_model_module": "@jupyter-widgets/controls",
            "_model_module_version": "1.5.0",
            "_model_name": "HTMLModel",
            "_view_count": null,
            "_view_module": "@jupyter-widgets/controls",
            "_view_module_version": "1.5.0",
            "_view_name": "HTMLView",
            "description": "",
            "description_tooltip": null,
            "layout": "IPY_MODEL_70732aa366ef48c7b1c2cd7cc48665e3",
            "placeholder": "​",
            "style": "IPY_MODEL_e0228f850bc743cebce45f7fd137e16a",
            "value": " 39.1M/39.1M [00:03&lt;00:00, 21.9MB/s]"
          }
        },
        "451e295e862a404abbdaf03925618d15": {
          "model_module": "@jupyter-widgets/base",
          "model_name": "LayoutModel",
          "model_module_version": "1.2.0",
          "state": {
            "_model_module": "@jupyter-widgets/base",
            "_model_module_version": "1.2.0",
            "_model_name": "LayoutModel",
            "_view_count": null,
            "_view_module": "@jupyter-widgets/base",
            "_view_module_version": "1.2.0",
            "_view_name": "LayoutView",
            "align_content": null,
            "align_items": null,
            "align_self": null,
            "border": null,
            "bottom": null,
            "display": null,
            "flex": null,
            "flex_flow": null,
            "grid_area": null,
            "grid_auto_columns": null,
            "grid_auto_flow": null,
            "grid_auto_rows": null,
            "grid_column": null,
            "grid_gap": null,
            "grid_row": null,
            "grid_template_areas": null,
            "grid_template_columns": null,
            "grid_template_rows": null,
            "height": null,
            "justify_content": null,
            "justify_items": null,
            "left": null,
            "margin": null,
            "max_height": null,
            "max_width": null,
            "min_height": null,
            "min_width": null,
            "object_fit": null,
            "object_position": null,
            "order": null,
            "overflow": null,
            "overflow_x": null,
            "overflow_y": null,
            "padding": null,
            "right": null,
            "top": null,
            "visibility": null,
            "width": null
          }
        },
        "bbb459759cb6485196ab5a16a99d882e": {
          "model_module": "@jupyter-widgets/base",
          "model_name": "LayoutModel",
          "model_module_version": "1.2.0",
          "state": {
            "_model_module": "@jupyter-widgets/base",
            "_model_module_version": "1.2.0",
            "_model_name": "LayoutModel",
            "_view_count": null,
            "_view_module": "@jupyter-widgets/base",
            "_view_module_version": "1.2.0",
            "_view_name": "LayoutView",
            "align_content": null,
            "align_items": null,
            "align_self": null,
            "border": null,
            "bottom": null,
            "display": null,
            "flex": null,
            "flex_flow": null,
            "grid_area": null,
            "grid_auto_columns": null,
            "grid_auto_flow": null,
            "grid_auto_rows": null,
            "grid_column": null,
            "grid_gap": null,
            "grid_row": null,
            "grid_template_areas": null,
            "grid_template_columns": null,
            "grid_template_rows": null,
            "height": null,
            "justify_content": null,
            "justify_items": null,
            "left": null,
            "margin": null,
            "max_height": null,
            "max_width": null,
            "min_height": null,
            "min_width": null,
            "object_fit": null,
            "object_position": null,
            "order": null,
            "overflow": null,
            "overflow_x": null,
            "overflow_y": null,
            "padding": null,
            "right": null,
            "top": null,
            "visibility": null,
            "width": null
          }
        },
        "bf3fed43b6d24cda994f6f37f375450c": {
          "model_module": "@jupyter-widgets/controls",
          "model_name": "DescriptionStyleModel",
          "model_module_version": "1.5.0",
          "state": {
            "_model_module": "@jupyter-widgets/controls",
            "_model_module_version": "1.5.0",
            "_model_name": "DescriptionStyleModel",
            "_view_count": null,
            "_view_module": "@jupyter-widgets/base",
            "_view_module_version": "1.2.0",
            "_view_name": "StyleView",
            "description_width": ""
          }
        },
        "a0cab9e8b34e4ca0b8fbdbed51cc91eb": {
          "model_module": "@jupyter-widgets/base",
          "model_name": "LayoutModel",
          "model_module_version": "1.2.0",
          "state": {
            "_model_module": "@jupyter-widgets/base",
            "_model_module_version": "1.2.0",
            "_model_name": "LayoutModel",
            "_view_count": null,
            "_view_module": "@jupyter-widgets/base",
            "_view_module_version": "1.2.0",
            "_view_name": "LayoutView",
            "align_content": null,
            "align_items": null,
            "align_self": null,
            "border": null,
            "bottom": null,
            "display": null,
            "flex": null,
            "flex_flow": null,
            "grid_area": null,
            "grid_auto_columns": null,
            "grid_auto_flow": null,
            "grid_auto_rows": null,
            "grid_column": null,
            "grid_gap": null,
            "grid_row": null,
            "grid_template_areas": null,
            "grid_template_columns": null,
            "grid_template_rows": null,
            "height": null,
            "justify_content": null,
            "justify_items": null,
            "left": null,
            "margin": null,
            "max_height": null,
            "max_width": null,
            "min_height": null,
            "min_width": null,
            "object_fit": null,
            "object_position": null,
            "order": null,
            "overflow": null,
            "overflow_x": null,
            "overflow_y": null,
            "padding": null,
            "right": null,
            "top": null,
            "visibility": null,
            "width": null
          }
        },
        "02e38efaef074aa0a2547757849f03d4": {
          "model_module": "@jupyter-widgets/controls",
          "model_name": "ProgressStyleModel",
          "model_module_version": "1.5.0",
          "state": {
            "_model_module": "@jupyter-widgets/controls",
            "_model_module_version": "1.5.0",
            "_model_name": "ProgressStyleModel",
            "_view_count": null,
            "_view_module": "@jupyter-widgets/base",
            "_view_module_version": "1.2.0",
            "_view_name": "StyleView",
            "bar_color": null,
            "description_width": ""
          }
        },
        "70732aa366ef48c7b1c2cd7cc48665e3": {
          "model_module": "@jupyter-widgets/base",
          "model_name": "LayoutModel",
          "model_module_version": "1.2.0",
          "state": {
            "_model_module": "@jupyter-widgets/base",
            "_model_module_version": "1.2.0",
            "_model_name": "LayoutModel",
            "_view_count": null,
            "_view_module": "@jupyter-widgets/base",
            "_view_module_version": "1.2.0",
            "_view_name": "LayoutView",
            "align_content": null,
            "align_items": null,
            "align_self": null,
            "border": null,
            "bottom": null,
            "display": null,
            "flex": null,
            "flex_flow": null,
            "grid_area": null,
            "grid_auto_columns": null,
            "grid_auto_flow": null,
            "grid_auto_rows": null,
            "grid_column": null,
            "grid_gap": null,
            "grid_row": null,
            "grid_template_areas": null,
            "grid_template_columns": null,
            "grid_template_rows": null,
            "height": null,
            "justify_content": null,
            "justify_items": null,
            "left": null,
            "margin": null,
            "max_height": null,
            "max_width": null,
            "min_height": null,
            "min_width": null,
            "object_fit": null,
            "object_position": null,
            "order": null,
            "overflow": null,
            "overflow_x": null,
            "overflow_y": null,
            "padding": null,
            "right": null,
            "top": null,
            "visibility": null,
            "width": null
          }
        },
        "e0228f850bc743cebce45f7fd137e16a": {
          "model_module": "@jupyter-widgets/controls",
          "model_name": "DescriptionStyleModel",
          "model_module_version": "1.5.0",
          "state": {
            "_model_module": "@jupyter-widgets/controls",
            "_model_module_version": "1.5.0",
            "_model_name": "DescriptionStyleModel",
            "_view_count": null,
            "_view_module": "@jupyter-widgets/base",
            "_view_module_version": "1.2.0",
            "_view_name": "StyleView",
            "description_width": ""
          }
        },
        "9248115d1937406b87af99d82071e15e": {
          "model_module": "@jupyter-widgets/controls",
          "model_name": "HBoxModel",
          "model_module_version": "1.5.0",
          "state": {
            "_dom_classes": [],
            "_model_module": "@jupyter-widgets/controls",
            "_model_module_version": "1.5.0",
            "_model_name": "HBoxModel",
            "_view_count": null,
            "_view_module": "@jupyter-widgets/controls",
            "_view_module_version": "1.5.0",
            "_view_name": "HBoxView",
            "box_style": "",
            "children": [
              "IPY_MODEL_1f48eb5b44fd4ec18899da94914180ab",
              "IPY_MODEL_ffe024983ab9401199c012389afc1712",
              "IPY_MODEL_15f9babfbe8d47fe8bb1e36b53fd1108"
            ],
            "layout": "IPY_MODEL_da5366769ebe4588b3ffd7a87a2ad0ca"
          }
        },
        "1f48eb5b44fd4ec18899da94914180ab": {
          "model_module": "@jupyter-widgets/controls",
          "model_name": "HTMLModel",
          "model_module_version": "1.5.0",
          "state": {
            "_dom_classes": [],
            "_model_module": "@jupyter-widgets/controls",
            "_model_module_version": "1.5.0",
            "_model_name": "HTMLModel",
            "_view_count": null,
            "_view_module": "@jupyter-widgets/controls",
            "_view_module_version": "1.5.0",
            "_view_name": "HTMLView",
            "description": "",
            "description_tooltip": null,
            "layout": "IPY_MODEL_de748d6ce1314cb6b4b1e0b052ae589d",
            "placeholder": "​",
            "style": "IPY_MODEL_2535b653b1b84d4cbfb600906cf2d283",
            "value": "Extracting data files: 100%"
          }
        },
        "ffe024983ab9401199c012389afc1712": {
          "model_module": "@jupyter-widgets/controls",
          "model_name": "FloatProgressModel",
          "model_module_version": "1.5.0",
          "state": {
            "_dom_classes": [],
            "_model_module": "@jupyter-widgets/controls",
            "_model_module_version": "1.5.0",
            "_model_name": "FloatProgressModel",
            "_view_count": null,
            "_view_module": "@jupyter-widgets/controls",
            "_view_module_version": "1.5.0",
            "_view_name": "ProgressView",
            "bar_style": "success",
            "description": "",
            "description_tooltip": null,
            "layout": "IPY_MODEL_98b030de3323409f9c2d3321431aa27b",
            "max": 1,
            "min": 0,
            "orientation": "horizontal",
            "style": "IPY_MODEL_9ace4964fcda4c42b95928cd1832c24e",
            "value": 1
          }
        },
        "15f9babfbe8d47fe8bb1e36b53fd1108": {
          "model_module": "@jupyter-widgets/controls",
          "model_name": "HTMLModel",
          "model_module_version": "1.5.0",
          "state": {
            "_dom_classes": [],
            "_model_module": "@jupyter-widgets/controls",
            "_model_module_version": "1.5.0",
            "_model_name": "HTMLModel",
            "_view_count": null,
            "_view_module": "@jupyter-widgets/controls",
            "_view_module_version": "1.5.0",
            "_view_name": "HTMLView",
            "description": "",
            "description_tooltip": null,
            "layout": "IPY_MODEL_36950ce09d9f462abdb56d8589d85400",
            "placeholder": "​",
            "style": "IPY_MODEL_700e91af51404ff983e61c6b3f767260",
            "value": " 1/1 [00:00&lt;00:00, 27.26it/s]"
          }
        },
        "da5366769ebe4588b3ffd7a87a2ad0ca": {
          "model_module": "@jupyter-widgets/base",
          "model_name": "LayoutModel",
          "model_module_version": "1.2.0",
          "state": {
            "_model_module": "@jupyter-widgets/base",
            "_model_module_version": "1.2.0",
            "_model_name": "LayoutModel",
            "_view_count": null,
            "_view_module": "@jupyter-widgets/base",
            "_view_module_version": "1.2.0",
            "_view_name": "LayoutView",
            "align_content": null,
            "align_items": null,
            "align_self": null,
            "border": null,
            "bottom": null,
            "display": null,
            "flex": null,
            "flex_flow": null,
            "grid_area": null,
            "grid_auto_columns": null,
            "grid_auto_flow": null,
            "grid_auto_rows": null,
            "grid_column": null,
            "grid_gap": null,
            "grid_row": null,
            "grid_template_areas": null,
            "grid_template_columns": null,
            "grid_template_rows": null,
            "height": null,
            "justify_content": null,
            "justify_items": null,
            "left": null,
            "margin": null,
            "max_height": null,
            "max_width": null,
            "min_height": null,
            "min_width": null,
            "object_fit": null,
            "object_position": null,
            "order": null,
            "overflow": null,
            "overflow_x": null,
            "overflow_y": null,
            "padding": null,
            "right": null,
            "top": null,
            "visibility": null,
            "width": null
          }
        },
        "de748d6ce1314cb6b4b1e0b052ae589d": {
          "model_module": "@jupyter-widgets/base",
          "model_name": "LayoutModel",
          "model_module_version": "1.2.0",
          "state": {
            "_model_module": "@jupyter-widgets/base",
            "_model_module_version": "1.2.0",
            "_model_name": "LayoutModel",
            "_view_count": null,
            "_view_module": "@jupyter-widgets/base",
            "_view_module_version": "1.2.0",
            "_view_name": "LayoutView",
            "align_content": null,
            "align_items": null,
            "align_self": null,
            "border": null,
            "bottom": null,
            "display": null,
            "flex": null,
            "flex_flow": null,
            "grid_area": null,
            "grid_auto_columns": null,
            "grid_auto_flow": null,
            "grid_auto_rows": null,
            "grid_column": null,
            "grid_gap": null,
            "grid_row": null,
            "grid_template_areas": null,
            "grid_template_columns": null,
            "grid_template_rows": null,
            "height": null,
            "justify_content": null,
            "justify_items": null,
            "left": null,
            "margin": null,
            "max_height": null,
            "max_width": null,
            "min_height": null,
            "min_width": null,
            "object_fit": null,
            "object_position": null,
            "order": null,
            "overflow": null,
            "overflow_x": null,
            "overflow_y": null,
            "padding": null,
            "right": null,
            "top": null,
            "visibility": null,
            "width": null
          }
        },
        "2535b653b1b84d4cbfb600906cf2d283": {
          "model_module": "@jupyter-widgets/controls",
          "model_name": "DescriptionStyleModel",
          "model_module_version": "1.5.0",
          "state": {
            "_model_module": "@jupyter-widgets/controls",
            "_model_module_version": "1.5.0",
            "_model_name": "DescriptionStyleModel",
            "_view_count": null,
            "_view_module": "@jupyter-widgets/base",
            "_view_module_version": "1.2.0",
            "_view_name": "StyleView",
            "description_width": ""
          }
        },
        "98b030de3323409f9c2d3321431aa27b": {
          "model_module": "@jupyter-widgets/base",
          "model_name": "LayoutModel",
          "model_module_version": "1.2.0",
          "state": {
            "_model_module": "@jupyter-widgets/base",
            "_model_module_version": "1.2.0",
            "_model_name": "LayoutModel",
            "_view_count": null,
            "_view_module": "@jupyter-widgets/base",
            "_view_module_version": "1.2.0",
            "_view_name": "LayoutView",
            "align_content": null,
            "align_items": null,
            "align_self": null,
            "border": null,
            "bottom": null,
            "display": null,
            "flex": null,
            "flex_flow": null,
            "grid_area": null,
            "grid_auto_columns": null,
            "grid_auto_flow": null,
            "grid_auto_rows": null,
            "grid_column": null,
            "grid_gap": null,
            "grid_row": null,
            "grid_template_areas": null,
            "grid_template_columns": null,
            "grid_template_rows": null,
            "height": null,
            "justify_content": null,
            "justify_items": null,
            "left": null,
            "margin": null,
            "max_height": null,
            "max_width": null,
            "min_height": null,
            "min_width": null,
            "object_fit": null,
            "object_position": null,
            "order": null,
            "overflow": null,
            "overflow_x": null,
            "overflow_y": null,
            "padding": null,
            "right": null,
            "top": null,
            "visibility": null,
            "width": null
          }
        },
        "9ace4964fcda4c42b95928cd1832c24e": {
          "model_module": "@jupyter-widgets/controls",
          "model_name": "ProgressStyleModel",
          "model_module_version": "1.5.0",
          "state": {
            "_model_module": "@jupyter-widgets/controls",
            "_model_module_version": "1.5.0",
            "_model_name": "ProgressStyleModel",
            "_view_count": null,
            "_view_module": "@jupyter-widgets/base",
            "_view_module_version": "1.2.0",
            "_view_name": "StyleView",
            "bar_color": null,
            "description_width": ""
          }
        },
        "36950ce09d9f462abdb56d8589d85400": {
          "model_module": "@jupyter-widgets/base",
          "model_name": "LayoutModel",
          "model_module_version": "1.2.0",
          "state": {
            "_model_module": "@jupyter-widgets/base",
            "_model_module_version": "1.2.0",
            "_model_name": "LayoutModel",
            "_view_count": null,
            "_view_module": "@jupyter-widgets/base",
            "_view_module_version": "1.2.0",
            "_view_name": "LayoutView",
            "align_content": null,
            "align_items": null,
            "align_self": null,
            "border": null,
            "bottom": null,
            "display": null,
            "flex": null,
            "flex_flow": null,
            "grid_area": null,
            "grid_auto_columns": null,
            "grid_auto_flow": null,
            "grid_auto_rows": null,
            "grid_column": null,
            "grid_gap": null,
            "grid_row": null,
            "grid_template_areas": null,
            "grid_template_columns": null,
            "grid_template_rows": null,
            "height": null,
            "justify_content": null,
            "justify_items": null,
            "left": null,
            "margin": null,
            "max_height": null,
            "max_width": null,
            "min_height": null,
            "min_width": null,
            "object_fit": null,
            "object_position": null,
            "order": null,
            "overflow": null,
            "overflow_x": null,
            "overflow_y": null,
            "padding": null,
            "right": null,
            "top": null,
            "visibility": null,
            "width": null
          }
        },
        "700e91af51404ff983e61c6b3f767260": {
          "model_module": "@jupyter-widgets/controls",
          "model_name": "DescriptionStyleModel",
          "model_module_version": "1.5.0",
          "state": {
            "_model_module": "@jupyter-widgets/controls",
            "_model_module_version": "1.5.0",
            "_model_name": "DescriptionStyleModel",
            "_view_count": null,
            "_view_module": "@jupyter-widgets/base",
            "_view_module_version": "1.2.0",
            "_view_name": "StyleView",
            "description_width": ""
          }
        },
        "ad8df87078c940138a7d3dab47b8f79c": {
          "model_module": "@jupyter-widgets/controls",
          "model_name": "HBoxModel",
          "model_module_version": "1.5.0",
          "state": {
            "_dom_classes": [],
            "_model_module": "@jupyter-widgets/controls",
            "_model_module_version": "1.5.0",
            "_model_name": "HBoxModel",
            "_view_count": null,
            "_view_module": "@jupyter-widgets/controls",
            "_view_module_version": "1.5.0",
            "_view_name": "HBoxView",
            "box_style": "",
            "children": [
              "IPY_MODEL_80eff23b273f48c6b4051c715743a1aa",
              "IPY_MODEL_45fa8f5327304f54ad9c5647971c7fa6",
              "IPY_MODEL_075b5dd9d52948c7abeb0518d7f0eae9"
            ],
            "layout": "IPY_MODEL_12d79ec1597b40b799a02ba191d89225"
          }
        },
        "80eff23b273f48c6b4051c715743a1aa": {
          "model_module": "@jupyter-widgets/controls",
          "model_name": "HTMLModel",
          "model_module_version": "1.5.0",
          "state": {
            "_dom_classes": [],
            "_model_module": "@jupyter-widgets/controls",
            "_model_module_version": "1.5.0",
            "_model_name": "HTMLModel",
            "_view_count": null,
            "_view_module": "@jupyter-widgets/controls",
            "_view_module_version": "1.5.0",
            "_view_name": "HTMLView",
            "description": "",
            "description_tooltip": null,
            "layout": "IPY_MODEL_769d0921d809430eb9eae2b7b312ae7c",
            "placeholder": "​",
            "style": "IPY_MODEL_450ccfe684e44af4be798cf556adc724",
            "value": ""
          }
        },
        "45fa8f5327304f54ad9c5647971c7fa6": {
          "model_module": "@jupyter-widgets/controls",
          "model_name": "FloatProgressModel",
          "model_module_version": "1.5.0",
          "state": {
            "_dom_classes": [],
            "_model_module": "@jupyter-widgets/controls",
            "_model_module_version": "1.5.0",
            "_model_name": "FloatProgressModel",
            "_view_count": null,
            "_view_module": "@jupyter-widgets/controls",
            "_view_module_version": "1.5.0",
            "_view_name": "ProgressView",
            "bar_style": "info",
            "description": "",
            "description_tooltip": null,
            "layout": "IPY_MODEL_15804cfc984846658c2244c944383238",
            "max": 1,
            "min": 0,
            "orientation": "horizontal",
            "style": "IPY_MODEL_80f982e9a06a411ba061a55484ef6572",
            "value": 1
          }
        },
        "075b5dd9d52948c7abeb0518d7f0eae9": {
          "model_module": "@jupyter-widgets/controls",
          "model_name": "HTMLModel",
          "model_module_version": "1.5.0",
          "state": {
            "_dom_classes": [],
            "_model_module": "@jupyter-widgets/controls",
            "_model_module_version": "1.5.0",
            "_model_name": "HTMLModel",
            "_view_count": null,
            "_view_module": "@jupyter-widgets/controls",
            "_view_module_version": "1.5.0",
            "_view_name": "HTMLView",
            "description": "",
            "description_tooltip": null,
            "layout": "IPY_MODEL_bc381bfc56d14a2f866ba5ef12a65683",
            "placeholder": "​",
            "style": "IPY_MODEL_34f80b83dccd4db6abb4110df9cddab7",
            "value": " 1/? [00:01&lt;00:00,  1.91s/ tables]"
          }
        },
        "12d79ec1597b40b799a02ba191d89225": {
          "model_module": "@jupyter-widgets/base",
          "model_name": "LayoutModel",
          "model_module_version": "1.2.0",
          "state": {
            "_model_module": "@jupyter-widgets/base",
            "_model_module_version": "1.2.0",
            "_model_name": "LayoutModel",
            "_view_count": null,
            "_view_module": "@jupyter-widgets/base",
            "_view_module_version": "1.2.0",
            "_view_name": "LayoutView",
            "align_content": null,
            "align_items": null,
            "align_self": null,
            "border": null,
            "bottom": null,
            "display": null,
            "flex": null,
            "flex_flow": null,
            "grid_area": null,
            "grid_auto_columns": null,
            "grid_auto_flow": null,
            "grid_auto_rows": null,
            "grid_column": null,
            "grid_gap": null,
            "grid_row": null,
            "grid_template_areas": null,
            "grid_template_columns": null,
            "grid_template_rows": null,
            "height": null,
            "justify_content": null,
            "justify_items": null,
            "left": null,
            "margin": null,
            "max_height": null,
            "max_width": null,
            "min_height": null,
            "min_width": null,
            "object_fit": null,
            "object_position": null,
            "order": null,
            "overflow": null,
            "overflow_x": null,
            "overflow_y": null,
            "padding": null,
            "right": null,
            "top": null,
            "visibility": "hidden",
            "width": null
          }
        },
        "769d0921d809430eb9eae2b7b312ae7c": {
          "model_module": "@jupyter-widgets/base",
          "model_name": "LayoutModel",
          "model_module_version": "1.2.0",
          "state": {
            "_model_module": "@jupyter-widgets/base",
            "_model_module_version": "1.2.0",
            "_model_name": "LayoutModel",
            "_view_count": null,
            "_view_module": "@jupyter-widgets/base",
            "_view_module_version": "1.2.0",
            "_view_name": "LayoutView",
            "align_content": null,
            "align_items": null,
            "align_self": null,
            "border": null,
            "bottom": null,
            "display": null,
            "flex": null,
            "flex_flow": null,
            "grid_area": null,
            "grid_auto_columns": null,
            "grid_auto_flow": null,
            "grid_auto_rows": null,
            "grid_column": null,
            "grid_gap": null,
            "grid_row": null,
            "grid_template_areas": null,
            "grid_template_columns": null,
            "grid_template_rows": null,
            "height": null,
            "justify_content": null,
            "justify_items": null,
            "left": null,
            "margin": null,
            "max_height": null,
            "max_width": null,
            "min_height": null,
            "min_width": null,
            "object_fit": null,
            "object_position": null,
            "order": null,
            "overflow": null,
            "overflow_x": null,
            "overflow_y": null,
            "padding": null,
            "right": null,
            "top": null,
            "visibility": null,
            "width": null
          }
        },
        "450ccfe684e44af4be798cf556adc724": {
          "model_module": "@jupyter-widgets/controls",
          "model_name": "DescriptionStyleModel",
          "model_module_version": "1.5.0",
          "state": {
            "_model_module": "@jupyter-widgets/controls",
            "_model_module_version": "1.5.0",
            "_model_name": "DescriptionStyleModel",
            "_view_count": null,
            "_view_module": "@jupyter-widgets/base",
            "_view_module_version": "1.2.0",
            "_view_name": "StyleView",
            "description_width": ""
          }
        },
        "15804cfc984846658c2244c944383238": {
          "model_module": "@jupyter-widgets/base",
          "model_name": "LayoutModel",
          "model_module_version": "1.2.0",
          "state": {
            "_model_module": "@jupyter-widgets/base",
            "_model_module_version": "1.2.0",
            "_model_name": "LayoutModel",
            "_view_count": null,
            "_view_module": "@jupyter-widgets/base",
            "_view_module_version": "1.2.0",
            "_view_name": "LayoutView",
            "align_content": null,
            "align_items": null,
            "align_self": null,
            "border": null,
            "bottom": null,
            "display": null,
            "flex": null,
            "flex_flow": null,
            "grid_area": null,
            "grid_auto_columns": null,
            "grid_auto_flow": null,
            "grid_auto_rows": null,
            "grid_column": null,
            "grid_gap": null,
            "grid_row": null,
            "grid_template_areas": null,
            "grid_template_columns": null,
            "grid_template_rows": null,
            "height": null,
            "justify_content": null,
            "justify_items": null,
            "left": null,
            "margin": null,
            "max_height": null,
            "max_width": null,
            "min_height": null,
            "min_width": null,
            "object_fit": null,
            "object_position": null,
            "order": null,
            "overflow": null,
            "overflow_x": null,
            "overflow_y": null,
            "padding": null,
            "right": null,
            "top": null,
            "visibility": null,
            "width": "20px"
          }
        },
        "80f982e9a06a411ba061a55484ef6572": {
          "model_module": "@jupyter-widgets/controls",
          "model_name": "ProgressStyleModel",
          "model_module_version": "1.5.0",
          "state": {
            "_model_module": "@jupyter-widgets/controls",
            "_model_module_version": "1.5.0",
            "_model_name": "ProgressStyleModel",
            "_view_count": null,
            "_view_module": "@jupyter-widgets/base",
            "_view_module_version": "1.2.0",
            "_view_name": "StyleView",
            "bar_color": null,
            "description_width": ""
          }
        },
        "bc381bfc56d14a2f866ba5ef12a65683": {
          "model_module": "@jupyter-widgets/base",
          "model_name": "LayoutModel",
          "model_module_version": "1.2.0",
          "state": {
            "_model_module": "@jupyter-widgets/base",
            "_model_module_version": "1.2.0",
            "_model_name": "LayoutModel",
            "_view_count": null,
            "_view_module": "@jupyter-widgets/base",
            "_view_module_version": "1.2.0",
            "_view_name": "LayoutView",
            "align_content": null,
            "align_items": null,
            "align_self": null,
            "border": null,
            "bottom": null,
            "display": null,
            "flex": null,
            "flex_flow": null,
            "grid_area": null,
            "grid_auto_columns": null,
            "grid_auto_flow": null,
            "grid_auto_rows": null,
            "grid_column": null,
            "grid_gap": null,
            "grid_row": null,
            "grid_template_areas": null,
            "grid_template_columns": null,
            "grid_template_rows": null,
            "height": null,
            "justify_content": null,
            "justify_items": null,
            "left": null,
            "margin": null,
            "max_height": null,
            "max_width": null,
            "min_height": null,
            "min_width": null,
            "object_fit": null,
            "object_position": null,
            "order": null,
            "overflow": null,
            "overflow_x": null,
            "overflow_y": null,
            "padding": null,
            "right": null,
            "top": null,
            "visibility": null,
            "width": null
          }
        },
        "34f80b83dccd4db6abb4110df9cddab7": {
          "model_module": "@jupyter-widgets/controls",
          "model_name": "DescriptionStyleModel",
          "model_module_version": "1.5.0",
          "state": {
            "_model_module": "@jupyter-widgets/controls",
            "_model_module_version": "1.5.0",
            "_model_name": "DescriptionStyleModel",
            "_view_count": null,
            "_view_module": "@jupyter-widgets/base",
            "_view_module_version": "1.2.0",
            "_view_name": "StyleView",
            "description_width": ""
          }
        },
        "d6cf9909c7e841a3bca0c07735d1c9c1": {
          "model_module": "@jupyter-widgets/controls",
          "model_name": "HBoxModel",
          "model_module_version": "1.5.0",
          "state": {
            "_dom_classes": [],
            "_model_module": "@jupyter-widgets/controls",
            "_model_module_version": "1.5.0",
            "_model_name": "HBoxModel",
            "_view_count": null,
            "_view_module": "@jupyter-widgets/controls",
            "_view_module_version": "1.5.0",
            "_view_name": "HBoxView",
            "box_style": "",
            "children": [
              "IPY_MODEL_8ab44bbfb6804132b5e6008759a98c53",
              "IPY_MODEL_b1c419110e564858acac52388ba3ca0a",
              "IPY_MODEL_87603fb3664a4d0aa0c02d6cfc125c8f"
            ],
            "layout": "IPY_MODEL_d4c16751667d4cf6ba3bf9a5abcd16af"
          }
        },
        "8ab44bbfb6804132b5e6008759a98c53": {
          "model_module": "@jupyter-widgets/controls",
          "model_name": "HTMLModel",
          "model_module_version": "1.5.0",
          "state": {
            "_dom_classes": [],
            "_model_module": "@jupyter-widgets/controls",
            "_model_module_version": "1.5.0",
            "_model_name": "HTMLModel",
            "_view_count": null,
            "_view_module": "@jupyter-widgets/controls",
            "_view_module_version": "1.5.0",
            "_view_name": "HTMLView",
            "description": "",
            "description_tooltip": null,
            "layout": "IPY_MODEL_8b347e8b55684673b722d065f0a24013",
            "placeholder": "​",
            "style": "IPY_MODEL_27f1fca59c0d4076bab8e81b03bda8a6",
            "value": "100%"
          }
        },
        "b1c419110e564858acac52388ba3ca0a": {
          "model_module": "@jupyter-widgets/controls",
          "model_name": "FloatProgressModel",
          "model_module_version": "1.5.0",
          "state": {
            "_dom_classes": [],
            "_model_module": "@jupyter-widgets/controls",
            "_model_module_version": "1.5.0",
            "_model_name": "FloatProgressModel",
            "_view_count": null,
            "_view_module": "@jupyter-widgets/controls",
            "_view_module_version": "1.5.0",
            "_view_name": "ProgressView",
            "bar_style": "success",
            "description": "",
            "description_tooltip": null,
            "layout": "IPY_MODEL_d48817dbafbe44a8b2f89d7e8ca05e36",
            "max": 1,
            "min": 0,
            "orientation": "horizontal",
            "style": "IPY_MODEL_18c7c03664f940b9a8b9fe5fc3d2509c",
            "value": 1
          }
        },
        "87603fb3664a4d0aa0c02d6cfc125c8f": {
          "model_module": "@jupyter-widgets/controls",
          "model_name": "HTMLModel",
          "model_module_version": "1.5.0",
          "state": {
            "_dom_classes": [],
            "_model_module": "@jupyter-widgets/controls",
            "_model_module_version": "1.5.0",
            "_model_name": "HTMLModel",
            "_view_count": null,
            "_view_module": "@jupyter-widgets/controls",
            "_view_module_version": "1.5.0",
            "_view_name": "HTMLView",
            "description": "",
            "description_tooltip": null,
            "layout": "IPY_MODEL_bc7789afa4f74d998e37f465b06ac6b8",
            "placeholder": "​",
            "style": "IPY_MODEL_ede26984a8bb40c9acde53cbbbefdce4",
            "value": " 1/1 [00:00&lt;00:00, 25.75it/s]"
          }
        },
        "d4c16751667d4cf6ba3bf9a5abcd16af": {
          "model_module": "@jupyter-widgets/base",
          "model_name": "LayoutModel",
          "model_module_version": "1.2.0",
          "state": {
            "_model_module": "@jupyter-widgets/base",
            "_model_module_version": "1.2.0",
            "_model_name": "LayoutModel",
            "_view_count": null,
            "_view_module": "@jupyter-widgets/base",
            "_view_module_version": "1.2.0",
            "_view_name": "LayoutView",
            "align_content": null,
            "align_items": null,
            "align_self": null,
            "border": null,
            "bottom": null,
            "display": null,
            "flex": null,
            "flex_flow": null,
            "grid_area": null,
            "grid_auto_columns": null,
            "grid_auto_flow": null,
            "grid_auto_rows": null,
            "grid_column": null,
            "grid_gap": null,
            "grid_row": null,
            "grid_template_areas": null,
            "grid_template_columns": null,
            "grid_template_rows": null,
            "height": null,
            "justify_content": null,
            "justify_items": null,
            "left": null,
            "margin": null,
            "max_height": null,
            "max_width": null,
            "min_height": null,
            "min_width": null,
            "object_fit": null,
            "object_position": null,
            "order": null,
            "overflow": null,
            "overflow_x": null,
            "overflow_y": null,
            "padding": null,
            "right": null,
            "top": null,
            "visibility": null,
            "width": null
          }
        },
        "8b347e8b55684673b722d065f0a24013": {
          "model_module": "@jupyter-widgets/base",
          "model_name": "LayoutModel",
          "model_module_version": "1.2.0",
          "state": {
            "_model_module": "@jupyter-widgets/base",
            "_model_module_version": "1.2.0",
            "_model_name": "LayoutModel",
            "_view_count": null,
            "_view_module": "@jupyter-widgets/base",
            "_view_module_version": "1.2.0",
            "_view_name": "LayoutView",
            "align_content": null,
            "align_items": null,
            "align_self": null,
            "border": null,
            "bottom": null,
            "display": null,
            "flex": null,
            "flex_flow": null,
            "grid_area": null,
            "grid_auto_columns": null,
            "grid_auto_flow": null,
            "grid_auto_rows": null,
            "grid_column": null,
            "grid_gap": null,
            "grid_row": null,
            "grid_template_areas": null,
            "grid_template_columns": null,
            "grid_template_rows": null,
            "height": null,
            "justify_content": null,
            "justify_items": null,
            "left": null,
            "margin": null,
            "max_height": null,
            "max_width": null,
            "min_height": null,
            "min_width": null,
            "object_fit": null,
            "object_position": null,
            "order": null,
            "overflow": null,
            "overflow_x": null,
            "overflow_y": null,
            "padding": null,
            "right": null,
            "top": null,
            "visibility": null,
            "width": null
          }
        },
        "27f1fca59c0d4076bab8e81b03bda8a6": {
          "model_module": "@jupyter-widgets/controls",
          "model_name": "DescriptionStyleModel",
          "model_module_version": "1.5.0",
          "state": {
            "_model_module": "@jupyter-widgets/controls",
            "_model_module_version": "1.5.0",
            "_model_name": "DescriptionStyleModel",
            "_view_count": null,
            "_view_module": "@jupyter-widgets/base",
            "_view_module_version": "1.2.0",
            "_view_name": "StyleView",
            "description_width": ""
          }
        },
        "d48817dbafbe44a8b2f89d7e8ca05e36": {
          "model_module": "@jupyter-widgets/base",
          "model_name": "LayoutModel",
          "model_module_version": "1.2.0",
          "state": {
            "_model_module": "@jupyter-widgets/base",
            "_model_module_version": "1.2.0",
            "_model_name": "LayoutModel",
            "_view_count": null,
            "_view_module": "@jupyter-widgets/base",
            "_view_module_version": "1.2.0",
            "_view_name": "LayoutView",
            "align_content": null,
            "align_items": null,
            "align_self": null,
            "border": null,
            "bottom": null,
            "display": null,
            "flex": null,
            "flex_flow": null,
            "grid_area": null,
            "grid_auto_columns": null,
            "grid_auto_flow": null,
            "grid_auto_rows": null,
            "grid_column": null,
            "grid_gap": null,
            "grid_row": null,
            "grid_template_areas": null,
            "grid_template_columns": null,
            "grid_template_rows": null,
            "height": null,
            "justify_content": null,
            "justify_items": null,
            "left": null,
            "margin": null,
            "max_height": null,
            "max_width": null,
            "min_height": null,
            "min_width": null,
            "object_fit": null,
            "object_position": null,
            "order": null,
            "overflow": null,
            "overflow_x": null,
            "overflow_y": null,
            "padding": null,
            "right": null,
            "top": null,
            "visibility": null,
            "width": null
          }
        },
        "18c7c03664f940b9a8b9fe5fc3d2509c": {
          "model_module": "@jupyter-widgets/controls",
          "model_name": "ProgressStyleModel",
          "model_module_version": "1.5.0",
          "state": {
            "_model_module": "@jupyter-widgets/controls",
            "_model_module_version": "1.5.0",
            "_model_name": "ProgressStyleModel",
            "_view_count": null,
            "_view_module": "@jupyter-widgets/base",
            "_view_module_version": "1.2.0",
            "_view_name": "StyleView",
            "bar_color": null,
            "description_width": ""
          }
        },
        "bc7789afa4f74d998e37f465b06ac6b8": {
          "model_module": "@jupyter-widgets/base",
          "model_name": "LayoutModel",
          "model_module_version": "1.2.0",
          "state": {
            "_model_module": "@jupyter-widgets/base",
            "_model_module_version": "1.2.0",
            "_model_name": "LayoutModel",
            "_view_count": null,
            "_view_module": "@jupyter-widgets/base",
            "_view_module_version": "1.2.0",
            "_view_name": "LayoutView",
            "align_content": null,
            "align_items": null,
            "align_self": null,
            "border": null,
            "bottom": null,
            "display": null,
            "flex": null,
            "flex_flow": null,
            "grid_area": null,
            "grid_auto_columns": null,
            "grid_auto_flow": null,
            "grid_auto_rows": null,
            "grid_column": null,
            "grid_gap": null,
            "grid_row": null,
            "grid_template_areas": null,
            "grid_template_columns": null,
            "grid_template_rows": null,
            "height": null,
            "justify_content": null,
            "justify_items": null,
            "left": null,
            "margin": null,
            "max_height": null,
            "max_width": null,
            "min_height": null,
            "min_width": null,
            "object_fit": null,
            "object_position": null,
            "order": null,
            "overflow": null,
            "overflow_x": null,
            "overflow_y": null,
            "padding": null,
            "right": null,
            "top": null,
            "visibility": null,
            "width": null
          }
        },
        "ede26984a8bb40c9acde53cbbbefdce4": {
          "model_module": "@jupyter-widgets/controls",
          "model_name": "DescriptionStyleModel",
          "model_module_version": "1.5.0",
          "state": {
            "_model_module": "@jupyter-widgets/controls",
            "_model_module_version": "1.5.0",
            "_model_name": "DescriptionStyleModel",
            "_view_count": null,
            "_view_module": "@jupyter-widgets/base",
            "_view_module_version": "1.2.0",
            "_view_name": "StyleView",
            "description_width": ""
          }
        },
        "6bc09d75e61e463e82e09785531a4c83": {
          "model_module": "@jupyter-widgets/controls",
          "model_name": "HBoxModel",
          "model_module_version": "1.5.0",
          "state": {
            "_dom_classes": [],
            "_model_module": "@jupyter-widgets/controls",
            "_model_module_version": "1.5.0",
            "_model_name": "HBoxModel",
            "_view_count": null,
            "_view_module": "@jupyter-widgets/controls",
            "_view_module_version": "1.5.0",
            "_view_name": "HBoxView",
            "box_style": "",
            "children": [
              "IPY_MODEL_857172d33fe94549974aaec4f618fb4a",
              "IPY_MODEL_fd9d9668118940ec814ce61a80b72650",
              "IPY_MODEL_ba005104feba4b2db5e1192c55326187"
            ],
            "layout": "IPY_MODEL_4ac8e8d7f428423f826d3834f9dd4899"
          }
        },
        "857172d33fe94549974aaec4f618fb4a": {
          "model_module": "@jupyter-widgets/controls",
          "model_name": "HTMLModel",
          "model_module_version": "1.5.0",
          "state": {
            "_dom_classes": [],
            "_model_module": "@jupyter-widgets/controls",
            "_model_module_version": "1.5.0",
            "_model_name": "HTMLModel",
            "_view_count": null,
            "_view_module": "@jupyter-widgets/controls",
            "_view_module_version": "1.5.0",
            "_view_name": "HTMLView",
            "description": "",
            "description_tooltip": null,
            "layout": "IPY_MODEL_ab3f56eaa0034a9d9fed9917da3806f4",
            "placeholder": "​",
            "style": "IPY_MODEL_ebf527d3ac5343d1a93ddf685cf8c2cc",
            "value": "100%"
          }
        },
        "fd9d9668118940ec814ce61a80b72650": {
          "model_module": "@jupyter-widgets/controls",
          "model_name": "FloatProgressModel",
          "model_module_version": "1.5.0",
          "state": {
            "_dom_classes": [],
            "_model_module": "@jupyter-widgets/controls",
            "_model_module_version": "1.5.0",
            "_model_name": "FloatProgressModel",
            "_view_count": null,
            "_view_module": "@jupyter-widgets/controls",
            "_view_module_version": "1.5.0",
            "_view_name": "ProgressView",
            "bar_style": "success",
            "description": "",
            "description_tooltip": null,
            "layout": "IPY_MODEL_23f6ac73d07e425eb6fd631df3034fee",
            "max": 322,
            "min": 0,
            "orientation": "horizontal",
            "style": "IPY_MODEL_e8932c99461c48d2bffddf7dedc731f7",
            "value": 322
          }
        },
        "ba005104feba4b2db5e1192c55326187": {
          "model_module": "@jupyter-widgets/controls",
          "model_name": "HTMLModel",
          "model_module_version": "1.5.0",
          "state": {
            "_dom_classes": [],
            "_model_module": "@jupyter-widgets/controls",
            "_model_module_version": "1.5.0",
            "_model_name": "HTMLModel",
            "_view_count": null,
            "_view_module": "@jupyter-widgets/controls",
            "_view_module_version": "1.5.0",
            "_view_name": "HTMLView",
            "description": "",
            "description_tooltip": null,
            "layout": "IPY_MODEL_fc6601b979f64fee8d75e2cfdbc776da",
            "placeholder": "​",
            "style": "IPY_MODEL_924bddf9b8b345cbb3dfad9a4f22f1ee",
            "value": " 322/322 [00:02&lt;00:00, 159.69ba/s]"
          }
        },
        "4ac8e8d7f428423f826d3834f9dd4899": {
          "model_module": "@jupyter-widgets/base",
          "model_name": "LayoutModel",
          "model_module_version": "1.2.0",
          "state": {
            "_model_module": "@jupyter-widgets/base",
            "_model_module_version": "1.2.0",
            "_model_name": "LayoutModel",
            "_view_count": null,
            "_view_module": "@jupyter-widgets/base",
            "_view_module_version": "1.2.0",
            "_view_name": "LayoutView",
            "align_content": null,
            "align_items": null,
            "align_self": null,
            "border": null,
            "bottom": null,
            "display": null,
            "flex": null,
            "flex_flow": null,
            "grid_area": null,
            "grid_auto_columns": null,
            "grid_auto_flow": null,
            "grid_auto_rows": null,
            "grid_column": null,
            "grid_gap": null,
            "grid_row": null,
            "grid_template_areas": null,
            "grid_template_columns": null,
            "grid_template_rows": null,
            "height": null,
            "justify_content": null,
            "justify_items": null,
            "left": null,
            "margin": null,
            "max_height": null,
            "max_width": null,
            "min_height": null,
            "min_width": null,
            "object_fit": null,
            "object_position": null,
            "order": null,
            "overflow": null,
            "overflow_x": null,
            "overflow_y": null,
            "padding": null,
            "right": null,
            "top": null,
            "visibility": null,
            "width": null
          }
        },
        "ab3f56eaa0034a9d9fed9917da3806f4": {
          "model_module": "@jupyter-widgets/base",
          "model_name": "LayoutModel",
          "model_module_version": "1.2.0",
          "state": {
            "_model_module": "@jupyter-widgets/base",
            "_model_module_version": "1.2.0",
            "_model_name": "LayoutModel",
            "_view_count": null,
            "_view_module": "@jupyter-widgets/base",
            "_view_module_version": "1.2.0",
            "_view_name": "LayoutView",
            "align_content": null,
            "align_items": null,
            "align_self": null,
            "border": null,
            "bottom": null,
            "display": null,
            "flex": null,
            "flex_flow": null,
            "grid_area": null,
            "grid_auto_columns": null,
            "grid_auto_flow": null,
            "grid_auto_rows": null,
            "grid_column": null,
            "grid_gap": null,
            "grid_row": null,
            "grid_template_areas": null,
            "grid_template_columns": null,
            "grid_template_rows": null,
            "height": null,
            "justify_content": null,
            "justify_items": null,
            "left": null,
            "margin": null,
            "max_height": null,
            "max_width": null,
            "min_height": null,
            "min_width": null,
            "object_fit": null,
            "object_position": null,
            "order": null,
            "overflow": null,
            "overflow_x": null,
            "overflow_y": null,
            "padding": null,
            "right": null,
            "top": null,
            "visibility": null,
            "width": null
          }
        },
        "ebf527d3ac5343d1a93ddf685cf8c2cc": {
          "model_module": "@jupyter-widgets/controls",
          "model_name": "DescriptionStyleModel",
          "model_module_version": "1.5.0",
          "state": {
            "_model_module": "@jupyter-widgets/controls",
            "_model_module_version": "1.5.0",
            "_model_name": "DescriptionStyleModel",
            "_view_count": null,
            "_view_module": "@jupyter-widgets/base",
            "_view_module_version": "1.2.0",
            "_view_name": "StyleView",
            "description_width": ""
          }
        },
        "23f6ac73d07e425eb6fd631df3034fee": {
          "model_module": "@jupyter-widgets/base",
          "model_name": "LayoutModel",
          "model_module_version": "1.2.0",
          "state": {
            "_model_module": "@jupyter-widgets/base",
            "_model_module_version": "1.2.0",
            "_model_name": "LayoutModel",
            "_view_count": null,
            "_view_module": "@jupyter-widgets/base",
            "_view_module_version": "1.2.0",
            "_view_name": "LayoutView",
            "align_content": null,
            "align_items": null,
            "align_self": null,
            "border": null,
            "bottom": null,
            "display": null,
            "flex": null,
            "flex_flow": null,
            "grid_area": null,
            "grid_auto_columns": null,
            "grid_auto_flow": null,
            "grid_auto_rows": null,
            "grid_column": null,
            "grid_gap": null,
            "grid_row": null,
            "grid_template_areas": null,
            "grid_template_columns": null,
            "grid_template_rows": null,
            "height": null,
            "justify_content": null,
            "justify_items": null,
            "left": null,
            "margin": null,
            "max_height": null,
            "max_width": null,
            "min_height": null,
            "min_width": null,
            "object_fit": null,
            "object_position": null,
            "order": null,
            "overflow": null,
            "overflow_x": null,
            "overflow_y": null,
            "padding": null,
            "right": null,
            "top": null,
            "visibility": null,
            "width": null
          }
        },
        "e8932c99461c48d2bffddf7dedc731f7": {
          "model_module": "@jupyter-widgets/controls",
          "model_name": "ProgressStyleModel",
          "model_module_version": "1.5.0",
          "state": {
            "_model_module": "@jupyter-widgets/controls",
            "_model_module_version": "1.5.0",
            "_model_name": "ProgressStyleModel",
            "_view_count": null,
            "_view_module": "@jupyter-widgets/base",
            "_view_module_version": "1.2.0",
            "_view_name": "StyleView",
            "bar_color": null,
            "description_width": ""
          }
        },
        "fc6601b979f64fee8d75e2cfdbc776da": {
          "model_module": "@jupyter-widgets/base",
          "model_name": "LayoutModel",
          "model_module_version": "1.2.0",
          "state": {
            "_model_module": "@jupyter-widgets/base",
            "_model_module_version": "1.2.0",
            "_model_name": "LayoutModel",
            "_view_count": null,
            "_view_module": "@jupyter-widgets/base",
            "_view_module_version": "1.2.0",
            "_view_name": "LayoutView",
            "align_content": null,
            "align_items": null,
            "align_self": null,
            "border": null,
            "bottom": null,
            "display": null,
            "flex": null,
            "flex_flow": null,
            "grid_area": null,
            "grid_auto_columns": null,
            "grid_auto_flow": null,
            "grid_auto_rows": null,
            "grid_column": null,
            "grid_gap": null,
            "grid_row": null,
            "grid_template_areas": null,
            "grid_template_columns": null,
            "grid_template_rows": null,
            "height": null,
            "justify_content": null,
            "justify_items": null,
            "left": null,
            "margin": null,
            "max_height": null,
            "max_width": null,
            "min_height": null,
            "min_width": null,
            "object_fit": null,
            "object_position": null,
            "order": null,
            "overflow": null,
            "overflow_x": null,
            "overflow_y": null,
            "padding": null,
            "right": null,
            "top": null,
            "visibility": null,
            "width": null
          }
        },
        "924bddf9b8b345cbb3dfad9a4f22f1ee": {
          "model_module": "@jupyter-widgets/controls",
          "model_name": "DescriptionStyleModel",
          "model_module_version": "1.5.0",
          "state": {
            "_model_module": "@jupyter-widgets/controls",
            "_model_module_version": "1.5.0",
            "_model_name": "DescriptionStyleModel",
            "_view_count": null,
            "_view_module": "@jupyter-widgets/base",
            "_view_module_version": "1.2.0",
            "_view_name": "StyleView",
            "description_width": ""
          }
        }
      }
    }
  },
  "cells": [
    {
      "cell_type": "markdown",
      "metadata": {
        "id": "view-in-github",
        "colab_type": "text"
      },
      "source": [
        "<a href=\"https://colab.research.google.com/github/VanessaSchenkel/how_to/blob/main/how_to_contrained_beam_search.ipynb\" target=\"_parent\"><img src=\"https://colab.research.google.com/assets/colab-badge.svg\" alt=\"Open In Colab\"/></a>"
      ]
    },
    {
      "cell_type": "code",
      "execution_count": null,
      "metadata": {
        "colab": {
          "base_uri": "https://localhost:8080/"
        },
        "id": "Tprln3Yjsh2Y",
        "outputId": "404dc236-839b-4002-bc4f-cafebccb8d8b"
      },
      "outputs": [
        {
          "output_type": "stream",
          "name": "stdout",
          "text": [
            "Looking in indexes: https://pypi.org/simple, https://us-python.pkg.dev/colab-wheels/public/simple/\n",
            "Collecting transformers\n",
            "  Downloading transformers-4.23.1-py3-none-any.whl (5.3 MB)\n",
            "\u001b[K     |████████████████████████████████| 5.3 MB 27.9 MB/s \n",
            "\u001b[?25hCollecting tokenizers!=0.11.3,<0.14,>=0.11.1\n",
            "  Downloading tokenizers-0.13.1-cp37-cp37m-manylinux_2_17_x86_64.manylinux2014_x86_64.whl (7.6 MB)\n",
            "\u001b[K     |████████████████████████████████| 7.6 MB 69.0 MB/s \n",
            "\u001b[?25hRequirement already satisfied: pyyaml>=5.1 in /usr/local/lib/python3.7/dist-packages (from transformers) (6.0)\n",
            "Collecting huggingface-hub<1.0,>=0.10.0\n",
            "  Downloading huggingface_hub-0.10.1-py3-none-any.whl (163 kB)\n",
            "\u001b[K     |████████████████████████████████| 163 kB 96.3 MB/s \n",
            "\u001b[?25hRequirement already satisfied: regex!=2019.12.17 in /usr/local/lib/python3.7/dist-packages (from transformers) (2022.6.2)\n",
            "Requirement already satisfied: filelock in /usr/local/lib/python3.7/dist-packages (from transformers) (3.8.0)\n",
            "Requirement already satisfied: packaging>=20.0 in /usr/local/lib/python3.7/dist-packages (from transformers) (21.3)\n",
            "Requirement already satisfied: requests in /usr/local/lib/python3.7/dist-packages (from transformers) (2.23.0)\n",
            "Requirement already satisfied: numpy>=1.17 in /usr/local/lib/python3.7/dist-packages (from transformers) (1.21.6)\n",
            "Requirement already satisfied: importlib-metadata in /usr/local/lib/python3.7/dist-packages (from transformers) (5.0.0)\n",
            "Requirement already satisfied: tqdm>=4.27 in /usr/local/lib/python3.7/dist-packages (from transformers) (4.64.1)\n",
            "Requirement already satisfied: typing-extensions>=3.7.4.3 in /usr/local/lib/python3.7/dist-packages (from huggingface-hub<1.0,>=0.10.0->transformers) (4.1.1)\n",
            "Requirement already satisfied: pyparsing!=3.0.5,>=2.0.2 in /usr/local/lib/python3.7/dist-packages (from packaging>=20.0->transformers) (3.0.9)\n",
            "Requirement already satisfied: zipp>=0.5 in /usr/local/lib/python3.7/dist-packages (from importlib-metadata->transformers) (3.8.1)\n",
            "Requirement already satisfied: urllib3!=1.25.0,!=1.25.1,<1.26,>=1.21.1 in /usr/local/lib/python3.7/dist-packages (from requests->transformers) (1.24.3)\n",
            "Requirement already satisfied: idna<3,>=2.5 in /usr/local/lib/python3.7/dist-packages (from requests->transformers) (2.10)\n",
            "Requirement already satisfied: chardet<4,>=3.0.2 in /usr/local/lib/python3.7/dist-packages (from requests->transformers) (3.0.4)\n",
            "Requirement already satisfied: certifi>=2017.4.17 in /usr/local/lib/python3.7/dist-packages (from requests->transformers) (2022.9.24)\n",
            "Installing collected packages: tokenizers, huggingface-hub, transformers\n",
            "Successfully installed huggingface-hub-0.10.1 tokenizers-0.13.1 transformers-4.23.1\n",
            "Looking in indexes: https://pypi.org/simple, https://us-python.pkg.dev/colab-wheels/public/simple/\n",
            "Requirement already satisfied: spacy in /usr/local/lib/python3.7/dist-packages (3.4.1)\n",
            "Requirement already satisfied: requests<3.0.0,>=2.13.0 in /usr/local/lib/python3.7/dist-packages (from spacy) (2.23.0)\n",
            "Requirement already satisfied: thinc<8.2.0,>=8.1.0 in /usr/local/lib/python3.7/dist-packages (from spacy) (8.1.2)\n",
            "Requirement already satisfied: catalogue<2.1.0,>=2.0.6 in /usr/local/lib/python3.7/dist-packages (from spacy) (2.0.8)\n",
            "Requirement already satisfied: preshed<3.1.0,>=3.0.2 in /usr/local/lib/python3.7/dist-packages (from spacy) (3.0.7)\n",
            "Requirement already satisfied: srsly<3.0.0,>=2.4.3 in /usr/local/lib/python3.7/dist-packages (from spacy) (2.4.4)\n",
            "Requirement already satisfied: typer<0.5.0,>=0.3.0 in /usr/local/lib/python3.7/dist-packages (from spacy) (0.4.2)\n",
            "Requirement already satisfied: jinja2 in /usr/local/lib/python3.7/dist-packages (from spacy) (2.11.3)\n",
            "Requirement already satisfied: murmurhash<1.1.0,>=0.28.0 in /usr/local/lib/python3.7/dist-packages (from spacy) (1.0.8)\n",
            "Requirement already satisfied: numpy>=1.15.0 in /usr/local/lib/python3.7/dist-packages (from spacy) (1.21.6)\n",
            "Requirement already satisfied: pathy>=0.3.5 in /usr/local/lib/python3.7/dist-packages (from spacy) (0.6.2)\n",
            "Requirement already satisfied: tqdm<5.0.0,>=4.38.0 in /usr/local/lib/python3.7/dist-packages (from spacy) (4.64.1)\n",
            "Requirement already satisfied: spacy-loggers<2.0.0,>=1.0.0 in /usr/local/lib/python3.7/dist-packages (from spacy) (1.0.3)\n",
            "Requirement already satisfied: cymem<2.1.0,>=2.0.2 in /usr/local/lib/python3.7/dist-packages (from spacy) (2.0.6)\n",
            "Requirement already satisfied: wasabi<1.1.0,>=0.9.1 in /usr/local/lib/python3.7/dist-packages (from spacy) (0.10.1)\n",
            "Requirement already satisfied: pydantic!=1.8,!=1.8.1,<1.10.0,>=1.7.4 in /usr/local/lib/python3.7/dist-packages (from spacy) (1.9.2)\n",
            "Requirement already satisfied: typing-extensions<4.2.0,>=3.7.4 in /usr/local/lib/python3.7/dist-packages (from spacy) (4.1.1)\n",
            "Requirement already satisfied: spacy-legacy<3.1.0,>=3.0.9 in /usr/local/lib/python3.7/dist-packages (from spacy) (3.0.10)\n",
            "Requirement already satisfied: langcodes<4.0.0,>=3.2.0 in /usr/local/lib/python3.7/dist-packages (from spacy) (3.3.0)\n",
            "Requirement already satisfied: setuptools in /usr/local/lib/python3.7/dist-packages (from spacy) (57.4.0)\n",
            "Requirement already satisfied: packaging>=20.0 in /usr/local/lib/python3.7/dist-packages (from spacy) (21.3)\n",
            "Requirement already satisfied: zipp>=0.5 in /usr/local/lib/python3.7/dist-packages (from catalogue<2.1.0,>=2.0.6->spacy) (3.8.1)\n",
            "Requirement already satisfied: pyparsing!=3.0.5,>=2.0.2 in /usr/local/lib/python3.7/dist-packages (from packaging>=20.0->spacy) (3.0.9)\n",
            "Requirement already satisfied: smart-open<6.0.0,>=5.2.1 in /usr/local/lib/python3.7/dist-packages (from pathy>=0.3.5->spacy) (5.2.1)\n",
            "Requirement already satisfied: idna<3,>=2.5 in /usr/local/lib/python3.7/dist-packages (from requests<3.0.0,>=2.13.0->spacy) (2.10)\n",
            "Requirement already satisfied: certifi>=2017.4.17 in /usr/local/lib/python3.7/dist-packages (from requests<3.0.0,>=2.13.0->spacy) (2022.9.24)\n",
            "Requirement already satisfied: chardet<4,>=3.0.2 in /usr/local/lib/python3.7/dist-packages (from requests<3.0.0,>=2.13.0->spacy) (3.0.4)\n",
            "Requirement already satisfied: urllib3!=1.25.0,!=1.25.1,<1.26,>=1.21.1 in /usr/local/lib/python3.7/dist-packages (from requests<3.0.0,>=2.13.0->spacy) (1.24.3)\n",
            "Requirement already satisfied: confection<1.0.0,>=0.0.1 in /usr/local/lib/python3.7/dist-packages (from thinc<8.2.0,>=8.1.0->spacy) (0.0.2)\n",
            "Requirement already satisfied: blis<0.8.0,>=0.7.8 in /usr/local/lib/python3.7/dist-packages (from thinc<8.2.0,>=8.1.0->spacy) (0.7.8)\n",
            "Requirement already satisfied: click<9.0.0,>=7.1.1 in /usr/local/lib/python3.7/dist-packages (from typer<0.5.0,>=0.3.0->spacy) (7.1.2)\n",
            "Requirement already satisfied: MarkupSafe>=0.23 in /usr/local/lib/python3.7/dist-packages (from jinja2->spacy) (2.0.1)\n",
            "Looking in indexes: https://pypi.org/simple, https://us-python.pkg.dev/colab-wheels/public/simple/\n",
            "Collecting pt-core-news-lg==3.4.0\n",
            "  Downloading https://github.com/explosion/spacy-models/releases/download/pt_core_news_lg-3.4.0/pt_core_news_lg-3.4.0-py3-none-any.whl (568.2 MB)\n",
            "\u001b[K     |████████████████████████████████| 568.2 MB 14 kB/s \n",
            "\u001b[?25hRequirement already satisfied: spacy<3.5.0,>=3.4.0 in /usr/local/lib/python3.7/dist-packages (from pt-core-news-lg==3.4.0) (3.4.1)\n",
            "Requirement already satisfied: typer<0.5.0,>=0.3.0 in /usr/local/lib/python3.7/dist-packages (from spacy<3.5.0,>=3.4.0->pt-core-news-lg==3.4.0) (0.4.2)\n",
            "Requirement already satisfied: catalogue<2.1.0,>=2.0.6 in /usr/local/lib/python3.7/dist-packages (from spacy<3.5.0,>=3.4.0->pt-core-news-lg==3.4.0) (2.0.8)\n",
            "Requirement already satisfied: tqdm<5.0.0,>=4.38.0 in /usr/local/lib/python3.7/dist-packages (from spacy<3.5.0,>=3.4.0->pt-core-news-lg==3.4.0) (4.64.1)\n",
            "Requirement already satisfied: thinc<8.2.0,>=8.1.0 in /usr/local/lib/python3.7/dist-packages (from spacy<3.5.0,>=3.4.0->pt-core-news-lg==3.4.0) (8.1.2)\n",
            "Requirement already satisfied: pydantic!=1.8,!=1.8.1,<1.10.0,>=1.7.4 in /usr/local/lib/python3.7/dist-packages (from spacy<3.5.0,>=3.4.0->pt-core-news-lg==3.4.0) (1.9.2)\n",
            "Requirement already satisfied: langcodes<4.0.0,>=3.2.0 in /usr/local/lib/python3.7/dist-packages (from spacy<3.5.0,>=3.4.0->pt-core-news-lg==3.4.0) (3.3.0)\n",
            "Requirement already satisfied: spacy-loggers<2.0.0,>=1.0.0 in /usr/local/lib/python3.7/dist-packages (from spacy<3.5.0,>=3.4.0->pt-core-news-lg==3.4.0) (1.0.3)\n",
            "Requirement already satisfied: srsly<3.0.0,>=2.4.3 in /usr/local/lib/python3.7/dist-packages (from spacy<3.5.0,>=3.4.0->pt-core-news-lg==3.4.0) (2.4.4)\n",
            "Requirement already satisfied: setuptools in /usr/local/lib/python3.7/dist-packages (from spacy<3.5.0,>=3.4.0->pt-core-news-lg==3.4.0) (57.4.0)\n",
            "Requirement already satisfied: jinja2 in /usr/local/lib/python3.7/dist-packages (from spacy<3.5.0,>=3.4.0->pt-core-news-lg==3.4.0) (2.11.3)\n",
            "Requirement already satisfied: cymem<2.1.0,>=2.0.2 in /usr/local/lib/python3.7/dist-packages (from spacy<3.5.0,>=3.4.0->pt-core-news-lg==3.4.0) (2.0.6)\n",
            "Requirement already satisfied: wasabi<1.1.0,>=0.9.1 in /usr/local/lib/python3.7/dist-packages (from spacy<3.5.0,>=3.4.0->pt-core-news-lg==3.4.0) (0.10.1)\n",
            "Requirement already satisfied: packaging>=20.0 in /usr/local/lib/python3.7/dist-packages (from spacy<3.5.0,>=3.4.0->pt-core-news-lg==3.4.0) (21.3)\n",
            "Requirement already satisfied: preshed<3.1.0,>=3.0.2 in /usr/local/lib/python3.7/dist-packages (from spacy<3.5.0,>=3.4.0->pt-core-news-lg==3.4.0) (3.0.7)\n",
            "Requirement already satisfied: murmurhash<1.1.0,>=0.28.0 in /usr/local/lib/python3.7/dist-packages (from spacy<3.5.0,>=3.4.0->pt-core-news-lg==3.4.0) (1.0.8)\n",
            "Requirement already satisfied: numpy>=1.15.0 in /usr/local/lib/python3.7/dist-packages (from spacy<3.5.0,>=3.4.0->pt-core-news-lg==3.4.0) (1.21.6)\n",
            "Requirement already satisfied: requests<3.0.0,>=2.13.0 in /usr/local/lib/python3.7/dist-packages (from spacy<3.5.0,>=3.4.0->pt-core-news-lg==3.4.0) (2.23.0)\n",
            "Requirement already satisfied: typing-extensions<4.2.0,>=3.7.4 in /usr/local/lib/python3.7/dist-packages (from spacy<3.5.0,>=3.4.0->pt-core-news-lg==3.4.0) (4.1.1)\n",
            "Requirement already satisfied: pathy>=0.3.5 in /usr/local/lib/python3.7/dist-packages (from spacy<3.5.0,>=3.4.0->pt-core-news-lg==3.4.0) (0.6.2)\n",
            "Requirement already satisfied: spacy-legacy<3.1.0,>=3.0.9 in /usr/local/lib/python3.7/dist-packages (from spacy<3.5.0,>=3.4.0->pt-core-news-lg==3.4.0) (3.0.10)\n",
            "Requirement already satisfied: zipp>=0.5 in /usr/local/lib/python3.7/dist-packages (from catalogue<2.1.0,>=2.0.6->spacy<3.5.0,>=3.4.0->pt-core-news-lg==3.4.0) (3.8.1)\n",
            "Requirement already satisfied: pyparsing!=3.0.5,>=2.0.2 in /usr/local/lib/python3.7/dist-packages (from packaging>=20.0->spacy<3.5.0,>=3.4.0->pt-core-news-lg==3.4.0) (3.0.9)\n",
            "Requirement already satisfied: smart-open<6.0.0,>=5.2.1 in /usr/local/lib/python3.7/dist-packages (from pathy>=0.3.5->spacy<3.5.0,>=3.4.0->pt-core-news-lg==3.4.0) (5.2.1)\n",
            "Requirement already satisfied: urllib3!=1.25.0,!=1.25.1,<1.26,>=1.21.1 in /usr/local/lib/python3.7/dist-packages (from requests<3.0.0,>=2.13.0->spacy<3.5.0,>=3.4.0->pt-core-news-lg==3.4.0) (1.24.3)\n",
            "Requirement already satisfied: idna<3,>=2.5 in /usr/local/lib/python3.7/dist-packages (from requests<3.0.0,>=2.13.0->spacy<3.5.0,>=3.4.0->pt-core-news-lg==3.4.0) (2.10)\n",
            "Requirement already satisfied: certifi>=2017.4.17 in /usr/local/lib/python3.7/dist-packages (from requests<3.0.0,>=2.13.0->spacy<3.5.0,>=3.4.0->pt-core-news-lg==3.4.0) (2022.9.24)\n",
            "Requirement already satisfied: chardet<4,>=3.0.2 in /usr/local/lib/python3.7/dist-packages (from requests<3.0.0,>=2.13.0->spacy<3.5.0,>=3.4.0->pt-core-news-lg==3.4.0) (3.0.4)\n",
            "Requirement already satisfied: confection<1.0.0,>=0.0.1 in /usr/local/lib/python3.7/dist-packages (from thinc<8.2.0,>=8.1.0->spacy<3.5.0,>=3.4.0->pt-core-news-lg==3.4.0) (0.0.2)\n",
            "Requirement already satisfied: blis<0.8.0,>=0.7.8 in /usr/local/lib/python3.7/dist-packages (from thinc<8.2.0,>=8.1.0->spacy<3.5.0,>=3.4.0->pt-core-news-lg==3.4.0) (0.7.8)\n",
            "Requirement already satisfied: click<9.0.0,>=7.1.1 in /usr/local/lib/python3.7/dist-packages (from typer<0.5.0,>=0.3.0->spacy<3.5.0,>=3.4.0->pt-core-news-lg==3.4.0) (7.1.2)\n",
            "Requirement already satisfied: MarkupSafe>=0.23 in /usr/local/lib/python3.7/dist-packages (from jinja2->spacy<3.5.0,>=3.4.0->pt-core-news-lg==3.4.0) (2.0.1)\n",
            "Installing collected packages: pt-core-news-lg\n",
            "Successfully installed pt-core-news-lg-3.4.0\n",
            "\u001b[38;5;2m✔ Download and installation successful\u001b[0m\n",
            "You can now load the package via spacy.load('pt_core_news_lg')\n"
          ]
        }
      ],
      "source": [
        "!pip install transformers\n",
        "!pip install spacy\n",
        "!python -m spacy download pt_core_news_lg"
      ]
    },
    {
      "cell_type": "markdown",
      "source": [
        "### Model"
      ],
      "metadata": {
        "id": "-zeROUjXyUa5"
      }
    },
    {
      "cell_type": "code",
      "source": [
        "import spacy\n",
        "\n",
        "nlp = spacy.load(\"pt_core_news_lg\")\n",
        "\n",
        "doc = nlp(\"O médico acabou seu trabalho.\")"
      ],
      "metadata": {
        "id": "zwPxEsKgtrrt"
      },
      "execution_count": null,
      "outputs": []
    },
    {
      "cell_type": "code",
      "source": [
        "from transformers import AutoTokenizer, AutoModelForSeq2SeqLM\n",
        "\n",
        "model_name = 'VanessaSchenkel/pt-unicamp-handcrafted'\n",
        "tokenizer = AutoTokenizer.from_pretrained(model_name)\n",
        "model = AutoModelForSeq2SeqLM.from_pretrained(model_name)\n",
        "\n",
        "sentence = \"The doctor finished her work.\"\n",
        "input_ids = tokenizer(sentence, return_tensors=\"pt\").input_ids\n",
        "\n",
        "outputs = model.generate(input_ids, num_beams=5)\n",
        "tokenizer.batch_decode(outputs, skip_special_tokens=True)"
      ],
      "metadata": {
        "colab": {
          "base_uri": "https://localhost:8080/",
          "height": 281,
          "referenced_widgets": [
            "f5ac1b8b0ad646e68e2dc77152490c0f",
            "bc20e01ce7a24255aee76b1449cd5c2c",
            "59d581b402fb44c384420d1a97c11bb4",
            "b8e28f4a678a4374ae394c31f2d5738a",
            "a18b177d26fb479ab5ca9c61c01289e0",
            "12b3923c3d4240018525d542ea8892c0",
            "39d91447324745f99c07fde66d020e09",
            "a286b2670c9c42fa8edf559b02a0365b",
            "6b57128c5228484eb7bf6f808d0b0b47",
            "ef8efa3881c640018487c0e7f8ccaadf",
            "1885fde12f3a41a598b2157846771da9",
            "349c1f6c1f7b4108a62d70e5f9518695",
            "38c5d4642db14c199f6b7187695410be",
            "06c49c87e5b7444b828a62a6cf9463a2",
            "4fc622711cab4036aa58abf4353e0ddd",
            "db524cfa7cce4c7ba6c2e49788f1228f",
            "249ce83b30364ab7accaba3b352808f3",
            "83f5a4bc5c364ed1b242a40514b023af",
            "9a73d3dc2f7b49b5bf51446681f05573",
            "7eda78a2a152494ea3490e1be67c14cf",
            "356c85ba016742ccb431cbe4c3bd91e8",
            "f948e5c434bc448a87ae656931e70f04",
            "c8bae6cd649d443f9252b39367becb09",
            "c9d3bc0fb2ab43d7adfa55c5d137ae0c",
            "c26a19dfc6db41b0994933cdd244c54d",
            "a300ba4273ee4ad292dffa7bde834b93",
            "ac2f737bead442e4a1652805fbb1c15f",
            "767ca73d64214451a28ea4b9eb649091",
            "4bf99943ac704ed7882f7acad80c2727",
            "d8ddee057ba7417a98a98937e339248d",
            "47499ff485984ff59a2c467b462698e5",
            "0f26786a6b624536befb3d35e3204c85",
            "8d44b047d23e42d7889a14e92ab45e97",
            "157159871757440c960cc681c359397b",
            "e337ce8420c64a94a4cb74027b38f3b2",
            "2ba8931dc40344bc99304a06075d8148",
            "eb4bdfad48c64804abbe87547175bed1",
            "fd42204bb8a54d7f836984cf500925b1",
            "4cf4180809f5493794ee5e15639bef88",
            "f4f5cb6eabb6412188cd13d9333001bd",
            "58665cd816b04ed2818646d5a91890bc",
            "4313e5fda47a4337b0123016377fff2c",
            "c9086b29752f4165ab8f8646fa2a1263",
            "73a155df7cc94f72a86247db624f48c4",
            "42caa564271b437a8d57c6168bc34930",
            "aace37bea83b4ba5b037ee77017169e3",
            "b06a8e05662f406d9213d80eca51ac63",
            "975a6cbcf01f416dbd3636d329094be1",
            "71dd6513a5534a759690ab1b12c8ed9c",
            "2fcaf54604d34a8aab94ee39dfa0a03c",
            "3f61cfa6a56e4c5fb56b7c005d0bab78",
            "bda9eda6def74067bfd166fce6d22334",
            "00ad06fab13742788ccaa8b53a8048d4",
            "b159140d5ec245cfb36d04251f69935b",
            "570a599dc8464508878f19548c168e96",
            "3c33e05e249f476fb325d43a25a05e35",
            "787f140eb479430ebeb9031c0e83b638",
            "b9482b78203f462d847ab7874750e766",
            "65de7ec3d67e40fc96a52c261a5172f0",
            "b8d2dc043fc94517935bb16ad6e1bc0c",
            "4895bcc61ea443509b1f344dee7343dc",
            "339166a5cfea4eccb1c4ba3439655505",
            "0831e0971ef34b0aa78ae206b4a976e4",
            "59fb9735de5041318657d7c0e24cbb7e",
            "94f192233f864be9bb06ab2ffdcdb9f9",
            "b43639c9e729461bb7c7eec561fe7b07"
          ]
        },
        "id": "wi0UKHuft2-S",
        "outputId": "0586abae-49d9-4630-e477-be34669a025c"
      },
      "execution_count": null,
      "outputs": [
        {
          "output_type": "display_data",
          "data": {
            "text/plain": [
              "Downloading:   0%|          | 0.00/2.40k [00:00<?, ?B/s]"
            ],
            "application/vnd.jupyter.widget-view+json": {
              "version_major": 2,
              "version_minor": 0,
              "model_id": "f5ac1b8b0ad646e68e2dc77152490c0f"
            }
          },
          "metadata": {}
        },
        {
          "output_type": "display_data",
          "data": {
            "text/plain": [
              "Downloading:   0%|          | 0.00/756k [00:00<?, ?B/s]"
            ],
            "application/vnd.jupyter.widget-view+json": {
              "version_major": 2,
              "version_minor": 0,
              "model_id": "349c1f6c1f7b4108a62d70e5f9518695"
            }
          },
          "metadata": {}
        },
        {
          "output_type": "display_data",
          "data": {
            "text/plain": [
              "Downloading:   0%|          | 0.00/2.39M [00:00<?, ?B/s]"
            ],
            "application/vnd.jupyter.widget-view+json": {
              "version_major": 2,
              "version_minor": 0,
              "model_id": "c8bae6cd649d443f9252b39367becb09"
            }
          },
          "metadata": {}
        },
        {
          "output_type": "display_data",
          "data": {
            "text/plain": [
              "Downloading:   0%|          | 0.00/2.20k [00:00<?, ?B/s]"
            ],
            "application/vnd.jupyter.widget-view+json": {
              "version_major": 2,
              "version_minor": 0,
              "model_id": "157159871757440c960cc681c359397b"
            }
          },
          "metadata": {}
        },
        {
          "output_type": "display_data",
          "data": {
            "text/plain": [
              "Downloading:   0%|          | 0.00/759 [00:00<?, ?B/s]"
            ],
            "application/vnd.jupyter.widget-view+json": {
              "version_major": 2,
              "version_minor": 0,
              "model_id": "42caa564271b437a8d57c6168bc34930"
            }
          },
          "metadata": {}
        },
        {
          "output_type": "display_data",
          "data": {
            "text/plain": [
              "Downloading:   0%|          | 0.00/892M [00:00<?, ?B/s]"
            ],
            "application/vnd.jupyter.widget-view+json": {
              "version_major": 2,
              "version_minor": 0,
              "model_id": "3c33e05e249f476fb325d43a25a05e35"
            }
          },
          "metadata": {}
        },
        {
          "output_type": "stream",
          "name": "stderr",
          "text": [
            "/usr/local/lib/python3.7/dist-packages/transformers/generation_utils.py:1301: UserWarning: Neither `max_length` nor `max_new_tokens` has been set, `max_length` will default to 20 (`self.config.max_length`). Controlling `max_length` via the config is deprecated and `max_length` will be removed from the config in v5 of Transformers -- we recommend using `max_new_tokens` to control the maximum length of the generation.\n",
            "  UserWarning,\n"
          ]
        },
        {
          "output_type": "execute_result",
          "data": {
            "text/plain": [
              "['A médica terminou seu trabalho.']"
            ]
          },
          "metadata": {},
          "execution_count": 3
        }
      ]
    },
    {
      "cell_type": "code",
      "source": [
        "translation_google = nlp(\"O médico terminou seu trabalho.\")\n",
        "translation_model = tokenizer.batch_decode(outputs, skip_special_tokens=True)\n",
        "\n",
        "print(translation_google)\n",
        "print(translation_model)"
      ],
      "metadata": {
        "colab": {
          "base_uri": "https://localhost:8080/"
        },
        "id": "IAR8ZOfquQEB",
        "outputId": "c368af97-2c9e-4ab4-a41c-b56708e69f3e"
      },
      "execution_count": null,
      "outputs": [
        {
          "output_type": "stream",
          "name": "stdout",
          "text": [
            "O médico terminou seu trabalho.\n",
            "['A médica terminou seu trabalho.']\n"
          ]
        }
      ]
    },
    {
      "cell_type": "code",
      "source": [
        "from transformers import PhrasalConstraint\n",
        "\n",
        "sentence = \"The doctor finished her work.\"\n",
        "input_ids = tokenizer(sentence, return_tensors=\"pt\").input_ids\n",
        "\n",
        "constraints = [\n",
        "    PhrasalConstraint(\n",
        "        tokenizer(\"acabou seu trabalho\", add_special_tokens=False).input_ids\n",
        "    )\n",
        "]\n",
        "\n",
        "outputs = model.generate(\n",
        "    input_ids,\n",
        "    constraints=constraints,\n",
        "    num_beams=10,\n",
        "    num_return_sequences=3,\n",
        ")\n",
        "\n",
        "print(\"Output:\\n\" + 100 * '-')\n",
        "for i, sample_output in enumerate(outputs):\n",
        "  print(\"{}: {}\".format(i, tokenizer.decode(sample_output, skip_special_tokens=True)))"
      ],
      "metadata": {
        "colab": {
          "base_uri": "https://localhost:8080/"
        },
        "id": "NYL2mSUnu3Au",
        "outputId": "2a496e80-cb47-4634-f542-3fc330f80024"
      },
      "execution_count": null,
      "outputs": [
        {
          "output_type": "stream",
          "name": "stdout",
          "text": [
            "Output:\n",
            "----------------------------------------------------------------------------------------------------\n",
            "0: A médica acabou seu trabalho.\n",
            "1: O médico acabou seu trabalho.\n",
            "2: O doutor acabou seu trabalho.\n"
          ]
        }
      ]
    },
    {
      "cell_type": "code",
      "source": [
        "from transformers import DisjunctiveConstraint\n",
        "\n",
        "sentence = \"The doctor finished her work.\"\n",
        "input_ids = tokenizer(sentence, return_tensors=\"pt\").input_ids\n",
        "\n",
        "flexible_phrases = tokenizer([\"médica\", \"médico\"], add_special_tokens=False).input_ids\n",
        "\n",
        "constraints = [DisjunctiveConstraint(flexible_phrases)]\n",
        "\n",
        "outputs = model.generate(\n",
        "    input_ids,\n",
        "    constraints=constraints,\n",
        "    num_beams=10,\n",
        "    num_return_sequences=3,\n",
        ")\n",
        "\n",
        "print(\"Output:\\n\" + 100 * '-')\n",
        "for i, sample_output in enumerate(outputs):\n",
        "  print(\"{}: {}\".format(i, tokenizer.decode(sample_output, skip_special_tokens=True)))"
      ],
      "metadata": {
        "colab": {
          "base_uri": "https://localhost:8080/"
        },
        "id": "JSuC2a5U1X8i",
        "outputId": "c9b7a2c9-3fad-4333-de26-538ee73c508b"
      },
      "execution_count": null,
      "outputs": [
        {
          "output_type": "stream",
          "name": "stdout",
          "text": [
            "Output:\n",
            "----------------------------------------------------------------------------------------------------\n",
            "0: A médica terminou seu trabalho.\n",
            "1: A médica terminou o seu trabalho.\n",
            "2: O médico terminou seu trabalho.\n"
          ]
        }
      ]
    },
    {
      "cell_type": "code",
      "source": [
        "print(translation_google)\n",
        "print(translation_model)"
      ],
      "metadata": {
        "colab": {
          "base_uri": "https://localhost:8080/"
        },
        "id": "sQXw3y_0Z3bS",
        "outputId": "892e82f5-843d-41b0-edac-f02300b27ff6"
      },
      "execution_count": null,
      "outputs": [
        {
          "output_type": "stream",
          "name": "stdout",
          "text": [
            "O médico terminou seu trabalho.\n",
            "['A médica terminou seu trabalho.']\n"
          ]
        }
      ]
    },
    {
      "cell_type": "code",
      "source": [
        "translation_model = nlp(translation_model[0])\n",
        "translation_model"
      ],
      "metadata": {
        "colab": {
          "base_uri": "https://localhost:8080/"
        },
        "id": "2npNhLLXiBE6",
        "outputId": "55d49aa3-76d2-4737-acd9-dc7a748a1551"
      },
      "execution_count": null,
      "outputs": [
        {
          "output_type": "execute_result",
          "data": {
            "text/plain": [
              "A médica terminou seu trabalho."
            ]
          },
          "metadata": {},
          "execution_count": 8
        }
      ]
    },
    {
      "cell_type": "code",
      "source": [
        "for token in translation_model:\n",
        "  print(token.text)\n",
        "  print(\"ancestors -> \", [ancestor for ancestor in token.ancestors])\n",
        "  print(\"children ->\", [child for child in token.children])\n",
        "  print(\"dep_ ->\",token.dep_)\n",
        "  print(\"head ->\", token.head)\n",
        "  print(\"is_ancestor ->\", token.is_ancestor(token))\n",
        "  print(\"lemma_ ->\", token.lemma_)\n",
        "  print(\"morph ->\", token.morph)\n",
        "  print(\"pos_ ->\", token.pos_)\n",
        "  print(\"norm_ ->\", token.norm_)\n",
        "  print(\"pos_ ->\", token.pos_)\n",
        "  print(\"tag_ ->\", token.tag_)\n",
        "  print(\"suffix_ ->\", token.suffix_ )\n",
        "  print(\"------\")\n",
        " "
      ],
      "metadata": {
        "id": "lWclUI8YiZjW",
        "colab": {
          "base_uri": "https://localhost:8080/"
        },
        "outputId": "572167e3-57ca-4672-972f-70833f91ac28"
      },
      "execution_count": null,
      "outputs": [
        {
          "output_type": "stream",
          "name": "stdout",
          "text": [
            "A\n",
            "ancestors ->  [médica, terminou]\n",
            "children -> []\n",
            "dep_ -> det\n",
            "head -> médica\n",
            "is_ancestor -> False\n",
            "lemma_ -> o\n",
            "morph -> Definite=Def|Gender=Fem|Number=Sing|PronType=Art\n",
            "pos_ -> DET\n",
            "norm_ -> a\n",
            "pos_ -> DET\n",
            "tag_ -> DET\n",
            "suffix_ -> A\n",
            "------\n",
            "médica\n",
            "ancestors ->  [terminou]\n",
            "children -> [A]\n",
            "dep_ -> nsubj\n",
            "head -> terminou\n",
            "is_ancestor -> False\n",
            "lemma_ -> médica\n",
            "morph -> Gender=Fem|Number=Sing\n",
            "pos_ -> NOUN\n",
            "norm_ -> médica\n",
            "pos_ -> NOUN\n",
            "tag_ -> NOUN\n",
            "suffix_ -> ica\n",
            "------\n",
            "terminou\n",
            "ancestors ->  []\n",
            "children -> [médica, trabalho, .]\n",
            "dep_ -> ROOT\n",
            "head -> terminou\n",
            "is_ancestor -> False\n",
            "lemma_ -> terminar\n",
            "morph -> Mood=Ind|Number=Sing|Person=3|Tense=Past|VerbForm=Fin\n",
            "pos_ -> VERB\n",
            "norm_ -> terminou\n",
            "pos_ -> VERB\n",
            "tag_ -> VERB\n",
            "suffix_ -> nou\n",
            "------\n",
            "seu\n",
            "ancestors ->  [trabalho, terminou]\n",
            "children -> []\n",
            "dep_ -> det\n",
            "head -> trabalho\n",
            "is_ancestor -> False\n",
            "lemma_ -> seu\n",
            "morph -> Gender=Masc|Number=Sing|PronType=Prs\n",
            "pos_ -> DET\n",
            "norm_ -> seu\n",
            "pos_ -> DET\n",
            "tag_ -> DET\n",
            "suffix_ -> seu\n",
            "------\n",
            "trabalho\n",
            "ancestors ->  [terminou]\n",
            "children -> [seu]\n",
            "dep_ -> obj\n",
            "head -> terminou\n",
            "is_ancestor -> False\n",
            "lemma_ -> trabalho\n",
            "morph -> Gender=Masc|Number=Sing\n",
            "pos_ -> NOUN\n",
            "norm_ -> trabalho\n",
            "pos_ -> NOUN\n",
            "tag_ -> NOUN\n",
            "suffix_ -> lho\n",
            "------\n",
            ".\n",
            "ancestors ->  [terminou]\n",
            "children -> []\n",
            "dep_ -> punct\n",
            "head -> terminou\n",
            "is_ancestor -> False\n",
            "lemma_ -> .\n",
            "morph -> \n",
            "pos_ -> PUNCT\n",
            "norm_ -> .\n",
            "pos_ -> PUNCT\n",
            "tag_ -> PUNCT\n",
            "suffix_ -> .\n",
            "------\n"
          ]
        }
      ]
    },
    {
      "cell_type": "code",
      "source": [
        "teste = nlp(\"A médica terminou o trabalho, porém o enfermeiro ainda não. Outra frase aqui.\")\n",
        "\n",
        "for n in teste.noun_chunks:\n",
        "  print(n)"
      ],
      "metadata": {
        "colab": {
          "base_uri": "https://localhost:8080/"
        },
        "id": "8UrWi37vwZAr",
        "outputId": "45bbcc69-28f3-441f-9d35-3eeaf00cbdf2"
      },
      "execution_count": null,
      "outputs": [
        {
          "output_type": "stream",
          "name": "stdout",
          "text": [
            "A médica\n",
            "o trabalho\n",
            ", porém o enfermeiro\n",
            "Outra frase\n"
          ]
        }
      ]
    },
    {
      "cell_type": "code",
      "source": [
        "for ex in translation_google.noun_chunks:\n",
        "  print(ex)"
      ],
      "metadata": {
        "colab": {
          "base_uri": "https://localhost:8080/"
        },
        "id": "AxPp9oTWA-NK",
        "outputId": "f2c4760f-bf70-4fd7-a042-af6bce4009ca"
      },
      "execution_count": null,
      "outputs": [
        {
          "output_type": "stream",
          "name": "stdout",
          "text": [
            "O médico\n",
            "seu trabalho\n"
          ]
        }
      ]
    },
    {
      "cell_type": "code",
      "source": [
        "teste = nlp(\"A médica era linda, o enfermeiro nem tanto\")\n",
        "for ex in teste.noun_chunks:\n",
        "  print(ex)\n"
      ],
      "metadata": {
        "colab": {
          "base_uri": "https://localhost:8080/"
        },
        "id": "YHntYj1oBdLF",
        "outputId": "88b73c2c-00b9-4dad-b119-642d779388e9"
      },
      "execution_count": null,
      "outputs": [
        {
          "output_type": "stream",
          "name": "stdout",
          "text": [
            "A médica\n",
            "o enfermeiro\n"
          ]
        }
      ]
    },
    {
      "cell_type": "code",
      "source": [
        "for token in teste:\n",
        "  print(\"TOKEN:  \", token.text)\n",
        "  print(\"ancestors -> \", [ancestor for ancestor in token.ancestors])\n",
        "  print(\"children ->\", [child for child in token.children])\n",
        "  print(\"dep_ ->\",token.dep_)\n",
        "  print(\"head ->\", token.head)\n",
        "  print(\"is_ancestor ->\", token.is_ancestor(token))\n",
        "  print(\"lemma_ ->\", token.lemma_)\n",
        "  print(\"morph ->\", token.morph)\n",
        "  print(\"pos_ ->\", token.pos_)\n",
        "  print(\"norm_ ->\", token.norm_)\n",
        "  print(\"tag_ ->\", token.tag_)\n",
        "  print(\"suffix_ ->\", token.suffix_ )\n",
        "  print(\"--------------------\")"
      ],
      "metadata": {
        "id": "C_ET2A5CHbLr",
        "colab": {
          "base_uri": "https://localhost:8080/"
        },
        "outputId": "10b6cd97-0d84-4c27-f5ac-eee16b890a8d"
      },
      "execution_count": null,
      "outputs": [
        {
          "output_type": "stream",
          "name": "stdout",
          "text": [
            "TOKEN:   A\n",
            "ancestors ->  [médica, linda]\n",
            "children -> []\n",
            "dep_ -> det\n",
            "head -> médica\n",
            "is_ancestor -> False\n",
            "lemma_ -> o\n",
            "morph -> Definite=Def|Gender=Fem|Number=Sing|PronType=Art\n",
            "pos_ -> DET\n",
            "norm_ -> a\n",
            "tag_ -> DET\n",
            "suffix_ -> A\n",
            "--------------------\n",
            "TOKEN:   médica\n",
            "ancestors ->  [linda]\n",
            "children -> [A]\n",
            "dep_ -> nsubj\n",
            "head -> linda\n",
            "is_ancestor -> False\n",
            "lemma_ -> médica\n",
            "morph -> Gender=Fem|Number=Sing\n",
            "pos_ -> NOUN\n",
            "norm_ -> médica\n",
            "tag_ -> NOUN\n",
            "suffix_ -> ica\n",
            "--------------------\n",
            "TOKEN:   era\n",
            "ancestors ->  [linda]\n",
            "children -> []\n",
            "dep_ -> cop\n",
            "head -> linda\n",
            "is_ancestor -> False\n",
            "lemma_ -> ser\n",
            "morph -> Mood=Ind|Number=Sing|Person=3|Tense=Imp|VerbForm=Fin\n",
            "pos_ -> AUX\n",
            "norm_ -> era\n",
            "tag_ -> AUX\n",
            "suffix_ -> era\n",
            "--------------------\n",
            "TOKEN:   linda\n",
            "ancestors ->  []\n",
            "children -> [médica, era, ,, enfermeiro, tanto]\n",
            "dep_ -> ROOT\n",
            "head -> linda\n",
            "is_ancestor -> False\n",
            "lemma_ -> lindo\n",
            "morph -> Gender=Fem|Number=Sing\n",
            "pos_ -> ADJ\n",
            "norm_ -> linda\n",
            "tag_ -> ADJ\n",
            "suffix_ -> nda\n",
            "--------------------\n",
            "TOKEN:   ,\n",
            "ancestors ->  [linda]\n",
            "children -> []\n",
            "dep_ -> punct\n",
            "head -> linda\n",
            "is_ancestor -> False\n",
            "lemma_ -> ,\n",
            "morph -> \n",
            "pos_ -> PUNCT\n",
            "norm_ -> ,\n",
            "tag_ -> PUNCT\n",
            "suffix_ -> ,\n",
            "--------------------\n",
            "TOKEN:   o\n",
            "ancestors ->  [enfermeiro, linda]\n",
            "children -> []\n",
            "dep_ -> det\n",
            "head -> enfermeiro\n",
            "is_ancestor -> False\n",
            "lemma_ -> o\n",
            "morph -> Definite=Def|Gender=Masc|Number=Sing|PronType=Art\n",
            "pos_ -> DET\n",
            "norm_ -> o\n",
            "tag_ -> DET\n",
            "suffix_ -> o\n",
            "--------------------\n",
            "TOKEN:   enfermeiro\n",
            "ancestors ->  [linda]\n",
            "children -> [o]\n",
            "dep_ -> nsubj\n",
            "head -> linda\n",
            "is_ancestor -> False\n",
            "lemma_ -> enfermeiro\n",
            "morph -> Gender=Masc|Number=Sing\n",
            "pos_ -> NOUN\n",
            "norm_ -> enfermeiro\n",
            "tag_ -> NOUN\n",
            "suffix_ -> iro\n",
            "--------------------\n",
            "TOKEN:   nem\n",
            "ancestors ->  [tanto, linda]\n",
            "children -> []\n",
            "dep_ -> case\n",
            "head -> tanto\n",
            "is_ancestor -> False\n",
            "lemma_ -> nem\n",
            "morph -> \n",
            "pos_ -> ADP\n",
            "norm_ -> nem\n",
            "tag_ -> ADP\n",
            "suffix_ -> nem\n",
            "--------------------\n",
            "TOKEN:   tanto\n",
            "ancestors ->  [linda]\n",
            "children -> [nem]\n",
            "dep_ -> conj\n",
            "head -> linda\n",
            "is_ancestor -> False\n",
            "lemma_ -> tanto\n",
            "morph -> \n",
            "pos_ -> ADV\n",
            "norm_ -> tanto\n",
            "tag_ -> ADV\n",
            "suffix_ -> nto\n",
            "--------------------\n"
          ]
        }
      ]
    },
    {
      "cell_type": "code",
      "source": [
        "teste = nlp(\"A médica comeu a comida dela, o enfermeiro comeu o sanduíche dele\")\n",
        "\n",
        "table = {}\n",
        "text_list = []\n",
        "anc = []\n",
        "child = []\n",
        "dep = []\n",
        "head = []\n",
        "lemma = []\n",
        "morph = []\n",
        "pos = []\n",
        "tag = []\n",
        "norm = []\n",
        "suffix = []\n",
        "pref = []\n",
        "\n",
        "for token in teste:\n",
        "  text_list.append(token.text)\n",
        "  anc.append([ancestor for ancestor in token.ancestors])\n",
        "  child.append([child for child in token.children])\n",
        "  dep.append(token.dep_)\n",
        "  head.append(token.head)\n",
        "  lemma.append(token.lemma_)\n",
        "  morph.append(token.morph)\n",
        "  pos.append(token.pos_)\n",
        "  norm.append(token.norm_)\n",
        "  pref.append(token.prefix_)\n",
        "  suffix.append(token.suffix_)\n",
        "\n",
        "table['text'] = text_list\n",
        "table['anc'] = anc\n",
        "table['child'] = child\n",
        "table['dep'] = dep\n",
        "table['head'] = head\n",
        "table['lemma'] = lemma\n",
        "table['morph'] = morph\n",
        "table['pos'] = pos\n",
        "table['norm'] = norm\n",
        "table['pref'] = pref\n",
        "table['suffix'] = suffix"
      ],
      "metadata": {
        "id": "2XW81OeCC5BZ"
      },
      "execution_count": null,
      "outputs": []
    },
    {
      "cell_type": "code",
      "source": [
        "import pandas as pd\n",
        "\n",
        "df = pd.DataFrame(table)\n",
        "\n",
        "display(df)"
      ],
      "metadata": {
        "colab": {
          "base_uri": "https://localhost:8080/",
          "height": 457
        },
        "id": "ess1PvBYJK_W",
        "outputId": "3f43866c-dfb8-4abb-8743-fd303f7edc2b"
      },
      "execution_count": null,
      "outputs": [
        {
          "output_type": "display_data",
          "data": {
            "text/plain": [
              "          text                         anc                       child    dep  \\\n",
              "0            A             [médica, comeu]                          []    det   \n",
              "1       médica                     [comeu]                         [A]  nsubj   \n",
              "2        comeu                          []  [médica, comida, ,, comeu]   ROOT   \n",
              "3            a             [comida, comeu]                          []    det   \n",
              "4       comida                     [comeu]                   [a, dela]    obj   \n",
              "5         dela             [comida, comeu]                          []   nmod   \n",
              "6            ,                     [comeu]                          []  punct   \n",
              "7            o  [enfermeiro, comeu, comeu]                          []    det   \n",
              "8   enfermeiro              [comeu, comeu]                         [o]  nsubj   \n",
              "9        comeu                     [comeu]     [enfermeiro, sanduíche]   conj   \n",
              "10           o   [sanduíche, comeu, comeu]                          []    det   \n",
              "11   sanduíche              [comeu, comeu]                   [o, dele]    obj   \n",
              "12        dele   [sanduíche, comeu, comeu]                          []   nmod   \n",
              "\n",
              "          head       lemma                                              morph  \\\n",
              "0       médica           o  (Definite=Def, Gender=Fem, Number=Sing, PronTy...   \n",
              "1        comeu      médica                          (Gender=Fem, Number=Sing)   \n",
              "2        comeu       comeu  (Mood=Sub, Number=Sing, Person=3, Tense=Past, ...   \n",
              "3       comida           o  (Definite=Def, Gender=Fem, Number=Sing, PronTy...   \n",
              "4        comeu      comida                          (Gender=Fem, Number=Sing)   \n",
              "5       comida      de ele  (Gender=Fem, Number=Sing, Person=3, PronType=Prs)   \n",
              "6        comeu           ,                                                 ()   \n",
              "7   enfermeiro           o  (Definite=Def, Gender=Masc, Number=Sing, PronT...   \n",
              "8        comeu  enfermeiro                         (Gender=Masc, Number=Sing)   \n",
              "9        comeu       comeu  (Mood=Sub, Number=Sing, Person=3, Tense=Past, ...   \n",
              "10   sanduíche           o  (Definite=Def, Gender=Masc, Number=Sing, PronT...   \n",
              "11       comeu   sanduíche                         (Gender=Masc, Number=Sing)   \n",
              "12   sanduíche      de ele  (Gender=Masc, Number=Sing, Person=3, PronType=...   \n",
              "\n",
              "      pos        norm pref suffix  \n",
              "0     DET           a    A      A  \n",
              "1    NOUN      médica    m    ica  \n",
              "2    VERB       comeu    c    meu  \n",
              "3     DET           a    a      a  \n",
              "4    NOUN      comida    c    ida  \n",
              "5    PRON        dela    d    ela  \n",
              "6   PUNCT           ,    ,      ,  \n",
              "7     DET           o    o      o  \n",
              "8    NOUN  enfermeiro    e    iro  \n",
              "9    VERB       comeu    c    meu  \n",
              "10    DET           o    o      o  \n",
              "11   NOUN   sanduíche    s    che  \n",
              "12   PRON        dele    d    ele  "
            ],
            "text/html": [
              "\n",
              "  <div id=\"df-fb06a3bb-6f63-4f62-b53b-88a7a4a0991b\">\n",
              "    <div class=\"colab-df-container\">\n",
              "      <div>\n",
              "<style scoped>\n",
              "    .dataframe tbody tr th:only-of-type {\n",
              "        vertical-align: middle;\n",
              "    }\n",
              "\n",
              "    .dataframe tbody tr th {\n",
              "        vertical-align: top;\n",
              "    }\n",
              "\n",
              "    .dataframe thead th {\n",
              "        text-align: right;\n",
              "    }\n",
              "</style>\n",
              "<table border=\"1\" class=\"dataframe\">\n",
              "  <thead>\n",
              "    <tr style=\"text-align: right;\">\n",
              "      <th></th>\n",
              "      <th>text</th>\n",
              "      <th>anc</th>\n",
              "      <th>child</th>\n",
              "      <th>dep</th>\n",
              "      <th>head</th>\n",
              "      <th>lemma</th>\n",
              "      <th>morph</th>\n",
              "      <th>pos</th>\n",
              "      <th>norm</th>\n",
              "      <th>pref</th>\n",
              "      <th>suffix</th>\n",
              "    </tr>\n",
              "  </thead>\n",
              "  <tbody>\n",
              "    <tr>\n",
              "      <th>0</th>\n",
              "      <td>A</td>\n",
              "      <td>[médica, comeu]</td>\n",
              "      <td>[]</td>\n",
              "      <td>det</td>\n",
              "      <td>médica</td>\n",
              "      <td>o</td>\n",
              "      <td>(Definite=Def, Gender=Fem, Number=Sing, PronTy...</td>\n",
              "      <td>DET</td>\n",
              "      <td>a</td>\n",
              "      <td>A</td>\n",
              "      <td>A</td>\n",
              "    </tr>\n",
              "    <tr>\n",
              "      <th>1</th>\n",
              "      <td>médica</td>\n",
              "      <td>[comeu]</td>\n",
              "      <td>[A]</td>\n",
              "      <td>nsubj</td>\n",
              "      <td>comeu</td>\n",
              "      <td>médica</td>\n",
              "      <td>(Gender=Fem, Number=Sing)</td>\n",
              "      <td>NOUN</td>\n",
              "      <td>médica</td>\n",
              "      <td>m</td>\n",
              "      <td>ica</td>\n",
              "    </tr>\n",
              "    <tr>\n",
              "      <th>2</th>\n",
              "      <td>comeu</td>\n",
              "      <td>[]</td>\n",
              "      <td>[médica, comida, ,, comeu]</td>\n",
              "      <td>ROOT</td>\n",
              "      <td>comeu</td>\n",
              "      <td>comeu</td>\n",
              "      <td>(Mood=Sub, Number=Sing, Person=3, Tense=Past, ...</td>\n",
              "      <td>VERB</td>\n",
              "      <td>comeu</td>\n",
              "      <td>c</td>\n",
              "      <td>meu</td>\n",
              "    </tr>\n",
              "    <tr>\n",
              "      <th>3</th>\n",
              "      <td>a</td>\n",
              "      <td>[comida, comeu]</td>\n",
              "      <td>[]</td>\n",
              "      <td>det</td>\n",
              "      <td>comida</td>\n",
              "      <td>o</td>\n",
              "      <td>(Definite=Def, Gender=Fem, Number=Sing, PronTy...</td>\n",
              "      <td>DET</td>\n",
              "      <td>a</td>\n",
              "      <td>a</td>\n",
              "      <td>a</td>\n",
              "    </tr>\n",
              "    <tr>\n",
              "      <th>4</th>\n",
              "      <td>comida</td>\n",
              "      <td>[comeu]</td>\n",
              "      <td>[a, dela]</td>\n",
              "      <td>obj</td>\n",
              "      <td>comeu</td>\n",
              "      <td>comida</td>\n",
              "      <td>(Gender=Fem, Number=Sing)</td>\n",
              "      <td>NOUN</td>\n",
              "      <td>comida</td>\n",
              "      <td>c</td>\n",
              "      <td>ida</td>\n",
              "    </tr>\n",
              "    <tr>\n",
              "      <th>5</th>\n",
              "      <td>dela</td>\n",
              "      <td>[comida, comeu]</td>\n",
              "      <td>[]</td>\n",
              "      <td>nmod</td>\n",
              "      <td>comida</td>\n",
              "      <td>de ele</td>\n",
              "      <td>(Gender=Fem, Number=Sing, Person=3, PronType=Prs)</td>\n",
              "      <td>PRON</td>\n",
              "      <td>dela</td>\n",
              "      <td>d</td>\n",
              "      <td>ela</td>\n",
              "    </tr>\n",
              "    <tr>\n",
              "      <th>6</th>\n",
              "      <td>,</td>\n",
              "      <td>[comeu]</td>\n",
              "      <td>[]</td>\n",
              "      <td>punct</td>\n",
              "      <td>comeu</td>\n",
              "      <td>,</td>\n",
              "      <td>()</td>\n",
              "      <td>PUNCT</td>\n",
              "      <td>,</td>\n",
              "      <td>,</td>\n",
              "      <td>,</td>\n",
              "    </tr>\n",
              "    <tr>\n",
              "      <th>7</th>\n",
              "      <td>o</td>\n",
              "      <td>[enfermeiro, comeu, comeu]</td>\n",
              "      <td>[]</td>\n",
              "      <td>det</td>\n",
              "      <td>enfermeiro</td>\n",
              "      <td>o</td>\n",
              "      <td>(Definite=Def, Gender=Masc, Number=Sing, PronT...</td>\n",
              "      <td>DET</td>\n",
              "      <td>o</td>\n",
              "      <td>o</td>\n",
              "      <td>o</td>\n",
              "    </tr>\n",
              "    <tr>\n",
              "      <th>8</th>\n",
              "      <td>enfermeiro</td>\n",
              "      <td>[comeu, comeu]</td>\n",
              "      <td>[o]</td>\n",
              "      <td>nsubj</td>\n",
              "      <td>comeu</td>\n",
              "      <td>enfermeiro</td>\n",
              "      <td>(Gender=Masc, Number=Sing)</td>\n",
              "      <td>NOUN</td>\n",
              "      <td>enfermeiro</td>\n",
              "      <td>e</td>\n",
              "      <td>iro</td>\n",
              "    </tr>\n",
              "    <tr>\n",
              "      <th>9</th>\n",
              "      <td>comeu</td>\n",
              "      <td>[comeu]</td>\n",
              "      <td>[enfermeiro, sanduíche]</td>\n",
              "      <td>conj</td>\n",
              "      <td>comeu</td>\n",
              "      <td>comeu</td>\n",
              "      <td>(Mood=Sub, Number=Sing, Person=3, Tense=Past, ...</td>\n",
              "      <td>VERB</td>\n",
              "      <td>comeu</td>\n",
              "      <td>c</td>\n",
              "      <td>meu</td>\n",
              "    </tr>\n",
              "    <tr>\n",
              "      <th>10</th>\n",
              "      <td>o</td>\n",
              "      <td>[sanduíche, comeu, comeu]</td>\n",
              "      <td>[]</td>\n",
              "      <td>det</td>\n",
              "      <td>sanduíche</td>\n",
              "      <td>o</td>\n",
              "      <td>(Definite=Def, Gender=Masc, Number=Sing, PronT...</td>\n",
              "      <td>DET</td>\n",
              "      <td>o</td>\n",
              "      <td>o</td>\n",
              "      <td>o</td>\n",
              "    </tr>\n",
              "    <tr>\n",
              "      <th>11</th>\n",
              "      <td>sanduíche</td>\n",
              "      <td>[comeu, comeu]</td>\n",
              "      <td>[o, dele]</td>\n",
              "      <td>obj</td>\n",
              "      <td>comeu</td>\n",
              "      <td>sanduíche</td>\n",
              "      <td>(Gender=Masc, Number=Sing)</td>\n",
              "      <td>NOUN</td>\n",
              "      <td>sanduíche</td>\n",
              "      <td>s</td>\n",
              "      <td>che</td>\n",
              "    </tr>\n",
              "    <tr>\n",
              "      <th>12</th>\n",
              "      <td>dele</td>\n",
              "      <td>[sanduíche, comeu, comeu]</td>\n",
              "      <td>[]</td>\n",
              "      <td>nmod</td>\n",
              "      <td>sanduíche</td>\n",
              "      <td>de ele</td>\n",
              "      <td>(Gender=Masc, Number=Sing, Person=3, PronType=...</td>\n",
              "      <td>PRON</td>\n",
              "      <td>dele</td>\n",
              "      <td>d</td>\n",
              "      <td>ele</td>\n",
              "    </tr>\n",
              "  </tbody>\n",
              "</table>\n",
              "</div>\n",
              "      <button class=\"colab-df-convert\" onclick=\"convertToInteractive('df-fb06a3bb-6f63-4f62-b53b-88a7a4a0991b')\"\n",
              "              title=\"Convert this dataframe to an interactive table.\"\n",
              "              style=\"display:none;\">\n",
              "        \n",
              "  <svg xmlns=\"http://www.w3.org/2000/svg\" height=\"24px\"viewBox=\"0 0 24 24\"\n",
              "       width=\"24px\">\n",
              "    <path d=\"M0 0h24v24H0V0z\" fill=\"none\"/>\n",
              "    <path d=\"M18.56 5.44l.94 2.06.94-2.06 2.06-.94-2.06-.94-.94-2.06-.94 2.06-2.06.94zm-11 1L8.5 8.5l.94-2.06 2.06-.94-2.06-.94L8.5 2.5l-.94 2.06-2.06.94zm10 10l.94 2.06.94-2.06 2.06-.94-2.06-.94-.94-2.06-.94 2.06-2.06.94z\"/><path d=\"M17.41 7.96l-1.37-1.37c-.4-.4-.92-.59-1.43-.59-.52 0-1.04.2-1.43.59L10.3 9.45l-7.72 7.72c-.78.78-.78 2.05 0 2.83L4 21.41c.39.39.9.59 1.41.59.51 0 1.02-.2 1.41-.59l7.78-7.78 2.81-2.81c.8-.78.8-2.07 0-2.86zM5.41 20L4 18.59l7.72-7.72 1.47 1.35L5.41 20z\"/>\n",
              "  </svg>\n",
              "      </button>\n",
              "      \n",
              "  <style>\n",
              "    .colab-df-container {\n",
              "      display:flex;\n",
              "      flex-wrap:wrap;\n",
              "      gap: 12px;\n",
              "    }\n",
              "\n",
              "    .colab-df-convert {\n",
              "      background-color: #E8F0FE;\n",
              "      border: none;\n",
              "      border-radius: 50%;\n",
              "      cursor: pointer;\n",
              "      display: none;\n",
              "      fill: #1967D2;\n",
              "      height: 32px;\n",
              "      padding: 0 0 0 0;\n",
              "      width: 32px;\n",
              "    }\n",
              "\n",
              "    .colab-df-convert:hover {\n",
              "      background-color: #E2EBFA;\n",
              "      box-shadow: 0px 1px 2px rgba(60, 64, 67, 0.3), 0px 1px 3px 1px rgba(60, 64, 67, 0.15);\n",
              "      fill: #174EA6;\n",
              "    }\n",
              "\n",
              "    [theme=dark] .colab-df-convert {\n",
              "      background-color: #3B4455;\n",
              "      fill: #D2E3FC;\n",
              "    }\n",
              "\n",
              "    [theme=dark] .colab-df-convert:hover {\n",
              "      background-color: #434B5C;\n",
              "      box-shadow: 0px 1px 3px 1px rgba(0, 0, 0, 0.15);\n",
              "      filter: drop-shadow(0px 1px 2px rgba(0, 0, 0, 0.3));\n",
              "      fill: #FFFFFF;\n",
              "    }\n",
              "  </style>\n",
              "\n",
              "      <script>\n",
              "        const buttonEl =\n",
              "          document.querySelector('#df-fb06a3bb-6f63-4f62-b53b-88a7a4a0991b button.colab-df-convert');\n",
              "        buttonEl.style.display =\n",
              "          google.colab.kernel.accessAllowed ? 'block' : 'none';\n",
              "\n",
              "        async function convertToInteractive(key) {\n",
              "          const element = document.querySelector('#df-fb06a3bb-6f63-4f62-b53b-88a7a4a0991b');\n",
              "          const dataTable =\n",
              "            await google.colab.kernel.invokeFunction('convertToInteractive',\n",
              "                                                     [key], {});\n",
              "          if (!dataTable) return;\n",
              "\n",
              "          const docLinkHtml = 'Like what you see? Visit the ' +\n",
              "            '<a target=\"_blank\" href=https://colab.research.google.com/notebooks/data_table.ipynb>data table notebook</a>'\n",
              "            + ' to learn more about interactive tables.';\n",
              "          element.innerHTML = '';\n",
              "          dataTable['output_type'] = 'display_data';\n",
              "          await google.colab.output.renderOutput(dataTable, element);\n",
              "          const docLink = document.createElement('div');\n",
              "          docLink.innerHTML = docLinkHtml;\n",
              "          element.appendChild(docLink);\n",
              "        }\n",
              "      </script>\n",
              "    </div>\n",
              "  </div>\n",
              "  "
            ]
          },
          "metadata": {}
        }
      ]
    },
    {
      "cell_type": "code",
      "source": [
        "for n in teste.noun_chunks:\n",
        "  print(n)"
      ],
      "metadata": {
        "colab": {
          "base_uri": "https://localhost:8080/"
        },
        "id": "-E9oxaGy2O9m",
        "outputId": "bdb205bb-bd9f-49ed-f438-4b738128ef6d"
      },
      "execution_count": null,
      "outputs": [
        {
          "output_type": "stream",
          "name": "stdout",
          "text": [
            "A médica\n",
            "a comida\n",
            "dela\n",
            "o enfermeiro\n",
            "o sanduíche\n",
            "dele\n"
          ]
        }
      ]
    },
    {
      "cell_type": "code",
      "source": [
        "from transformers import PhrasalConstraint\n",
        "\n",
        "sentence = \"The doctor finished her work, the nurse has his job.\"\n",
        "input_ids = tokenizer(sentence, return_tensors=\"pt\").input_ids\n",
        "\n",
        "constraints = [\n",
        "    PhrasalConstraint(\n",
        "        tokenizer(\"acabou seu trabalho\", add_special_tokens=False).input_ids\n",
        "    )\n",
        "]\n",
        "\n",
        "outputs = model.generate(\n",
        "    input_ids,\n",
        "    constraints=constraints,\n",
        "    num_beams=10,\n",
        "    num_return_sequences=3,\n",
        ")\n",
        "\n",
        "print(\"Output:\\n\" + 100 * '-')\n",
        "for i, sample_output in enumerate(outputs):\n",
        "  print(\"{}: {}\".format(i, tokenizer.decode(sample_output, skip_special_tokens=True)))"
      ],
      "metadata": {
        "colab": {
          "base_uri": "https://localhost:8080/"
        },
        "id": "_vTU8wMpDqXI",
        "outputId": "86bae184-425c-4a5b-a9ac-e747ac32e4f2"
      },
      "execution_count": null,
      "outputs": [
        {
          "output_type": "stream",
          "name": "stderr",
          "text": [
            "/usr/local/lib/python3.7/dist-packages/transformers/generation_utils.py:1301: UserWarning: Neither `max_length` nor `max_new_tokens` has been set, `max_length` will default to 20 (`self.config.max_length`). Controlling `max_length` via the config is deprecated and `max_length` will be removed from the config in v5 of Transformers -- we recommend using `max_new_tokens` to control the maximum length of the generation.\n",
            "  UserWarning,\n"
          ]
        },
        {
          "output_type": "stream",
          "name": "stdout",
          "text": [
            "Output:\n",
            "----------------------------------------------------------------------------------------------------\n",
            "0: O médico acabou seu trabalho, a enfermeira tem o seu trabalho.\n",
            "1: O médico acabou seu trabalho, o enfermeiro tem o seu trabalho.\n",
            "2: A médica acabou seu trabalho, a enfermeira tem o seu trabalho.\n"
          ]
        }
      ]
    },
    {
      "cell_type": "code",
      "source": [
        "from transformers import DisjunctiveConstraint\n",
        "\n",
        "sentence = \"The doctor finished her work, the nurse has his job.\"\n",
        "input_ids = tokenizer(sentence, return_tensors=\"pt\").input_ids\n",
        "\n",
        "flexible_phrases = tokenizer([\"médica\", \"médico\", \"enfermeira\", \"enfermeiro\"], add_special_tokens=False).input_ids\n",
        "\n",
        "constraints = [DisjunctiveConstraint(flexible_phrases)]\n",
        "\n",
        "outputs = model.generate(\n",
        "    input_ids,\n",
        "    constraints=constraints,\n",
        "    num_beams=10,\n",
        "    num_return_sequences=6,\n",
        ")\n",
        "\n",
        "print(\"Output:\\n\" + 100 * '-')\n",
        "for i, sample_output in enumerate(outputs):\n",
        "  print(\"{}: {}\".format(i, tokenizer.decode(sample_output, skip_special_tokens=True)))"
      ],
      "metadata": {
        "colab": {
          "base_uri": "https://localhost:8080/"
        },
        "id": "PIyRaiifUKFy",
        "outputId": "4dffb35b-5aa5-4b2d-96d2-704032017533"
      },
      "execution_count": null,
      "outputs": [
        {
          "output_type": "stream",
          "name": "stdout",
          "text": [
            "Output:\n",
            "----------------------------------------------------------------------------------------------------\n",
            "0: A médica terminou seu trabalho, a enfermeira tem o seu trabalho.\n",
            "1: O médico terminou seu trabalho, a enfermeira tem o seu trabalho.\n",
            "2: A médica terminou seu trabalho, a enfermeira tem o seu emprego.\n",
            "3: O médico terminou seu trabalho, o enfermeiro tem o seu trabalho.\n",
            "4: O médico terminou seu trabalho, a enfermeira tem o seu emprego.\n",
            "5: O médico terminou seu trabalho, o enfermeiro tem o seu emprego.\n"
          ]
        }
      ]
    },
    {
      "cell_type": "markdown",
      "source": [
        "### roBERTa"
      ],
      "metadata": {
        "id": "cnL2ZMes4Ohj"
      }
    },
    {
      "cell_type": "code",
      "source": [
        "!pip install torch torchvision\n",
        "!pip install fairseq\n",
        "!pip install sacremoses\n",
        "!python -m spacy download en_core_web_lg"
      ],
      "metadata": {
        "id": "HFnxJYJB4SSW"
      },
      "execution_count": null,
      "outputs": []
    },
    {
      "cell_type": "code",
      "source": [
        "import torch\n",
        "\n",
        "roberta = torch.hub.load('pytorch/fairseq', 'roberta.large.wsc', user_dir='examples/roberta/wsc')"
      ],
      "metadata": {
        "id": "y8OJYVMk4eH6"
      },
      "execution_count": null,
      "outputs": []
    },
    {
      "cell_type": "code",
      "source": [
        "source_sentence = \"The doctor finished her work.\"\n",
        "trans_google = \"O médico terminou seu trabalho.\"\n",
        "trans_model = \"A médica acabou seu trabalho.\""
      ],
      "metadata": {
        "id": "p0-j1lBE5jgk"
      },
      "execution_count": null,
      "outputs": []
    },
    {
      "cell_type": "code",
      "source": [
        "roberta.disambiguate_pronoun('A médica terminou o trabalho [dela].')"
      ],
      "metadata": {
        "colab": {
          "base_uri": "https://localhost:8080/",
          "height": 36
        },
        "id": "b1Prw_8R52UF",
        "outputId": "85be0757-35a8-4bb1-b4a7-4f8966241f70"
      },
      "execution_count": null,
      "outputs": [
        {
          "output_type": "execute_result",
          "data": {
            "text/plain": [
              "'médica'"
            ],
            "application/vnd.google.colaboratory.intrinsic+json": {
              "type": "string"
            }
          },
          "metadata": {},
          "execution_count": 22
        }
      ]
    },
    {
      "cell_type": "code",
      "source": [
        "roberta.disambiguate_pronoun('The doctor finished [her] work.')"
      ],
      "metadata": {
        "colab": {
          "base_uri": "https://localhost:8080/",
          "height": 36
        },
        "id": "OFKOg-UBrwNA",
        "outputId": "07b59b6f-7b20-415b-f81b-e082cf7bf58f"
      },
      "execution_count": null,
      "outputs": [
        {
          "output_type": "execute_result",
          "data": {
            "text/plain": [
              "'The doctor'"
            ],
            "application/vnd.google.colaboratory.intrinsic+json": {
              "type": "string"
            }
          },
          "metadata": {},
          "execution_count": 23
        }
      ]
    },
    {
      "cell_type": "code",
      "source": [
        "tokens = roberta.encode(\"Hello world\")\n",
        "t = roberta.extract_features(tokens)\n"
      ],
      "metadata": {
        "id": "oy1WrILWwOxi"
      },
      "execution_count": null,
      "outputs": []
    },
    {
      "cell_type": "markdown",
      "source": [
        "Tem indicativo de gênero na frase? "
      ],
      "metadata": {
        "id": "sMu6qoAy6t33"
      }
    },
    {
      "cell_type": "code",
      "source": [
        "import spacy\n",
        "\n",
        "nlp_en = spacy.load(\"en_core_web_lg\")\n",
        "\n",
        "source_sentence = nlp_en(source_sentence)\n",
        "\n",
        "for token in source_sentence:\n",
        "  print(token.pos_)"
      ],
      "metadata": {
        "colab": {
          "base_uri": "https://localhost:8080/"
        },
        "id": "wAQIzVZ47vwc",
        "outputId": "0f99d5a3-bff3-46d3-87dc-003d97ed6034"
      },
      "execution_count": null,
      "outputs": [
        {
          "output_type": "stream",
          "name": "stdout",
          "text": [
            "DET\n",
            "NOUN\n",
            "VERB\n",
            "PRON\n",
            "NOUN\n",
            "PUNCT\n"
          ]
        }
      ]
    },
    {
      "cell_type": "code",
      "source": [
        "has_pronoun = False\n",
        "\n",
        "for token in source_sentence:\n",
        "  if token.pos_ is 'PRON':\n",
        "    has_pronoun = True\n",
        "\n",
        "print(has_pronoun)    "
      ],
      "metadata": {
        "colab": {
          "base_uri": "https://localhost:8080/"
        },
        "id": "jRxMlaPYBa6u",
        "outputId": "0f182533-d04f-490d-9743-6d0d96cc4812"
      },
      "execution_count": null,
      "outputs": [
        {
          "output_type": "stream",
          "name": "stdout",
          "text": [
            "True\n"
          ]
        }
      ]
    },
    {
      "cell_type": "code",
      "source": [
        "get_pronoun = ''\n",
        "\n",
        "for token in source_sentence: \n",
        "  if token.pos_ is 'PRON':\n",
        "    get_pronoun = token\n",
        "\n",
        "print(get_pronoun)    "
      ],
      "metadata": {
        "colab": {
          "base_uri": "https://localhost:8080/"
        },
        "id": "dLxkC-w7CjUE",
        "outputId": "7dc34e27-f85b-4b63-e181-52995b08a100"
      },
      "execution_count": null,
      "outputs": [
        {
          "output_type": "stream",
          "name": "stdout",
          "text": [
            "her\n"
          ]
        }
      ]
    },
    {
      "cell_type": "code",
      "source": [
        "pronoun_text = \"[\" + get_pronoun.text + \"]\"\n",
        "new_source_sentence = source_sentence.text.replace(get_pronoun.text, pronoun_text)\n",
        "\n",
        "new_source_sentence"
      ],
      "metadata": {
        "colab": {
          "base_uri": "https://localhost:8080/",
          "height": 36
        },
        "id": "zVnJvNc6GPtk",
        "outputId": "f458f518-f8f8-4b6f-b65b-dc900fa311fe"
      },
      "execution_count": null,
      "outputs": [
        {
          "output_type": "execute_result",
          "data": {
            "text/plain": [
              "'The doctor finished [her] work.'"
            ],
            "application/vnd.google.colaboratory.intrinsic+json": {
              "type": "string"
            }
          },
          "metadata": {},
          "execution_count": 28
        }
      ]
    },
    {
      "cell_type": "code",
      "source": [
        "subj = roberta.disambiguate_pronoun(new_source_sentence)\n",
        "\n",
        "subj"
      ],
      "metadata": {
        "colab": {
          "base_uri": "https://localhost:8080/",
          "height": 36
        },
        "id": "yNLJOgW0Ek-4",
        "outputId": "c6da5065-0089-4f73-aee6-8e36fda91c12"
      },
      "execution_count": null,
      "outputs": [
        {
          "output_type": "execute_result",
          "data": {
            "text/plain": [
              "'The doctor'"
            ],
            "application/vnd.google.colaboratory.intrinsic+json": {
              "type": "string"
            }
          },
          "metadata": {},
          "execution_count": 29
        }
      ]
    },
    {
      "cell_type": "code",
      "source": [
        "get_pronoun.morph\n",
        "\n",
        "\n",
        "is_fem = False\n",
        "is_masc = False \n",
        "is_neutral = False\n",
        "\n",
        "gender = get_pronoun.morph.get(\"Gender\")\n",
        "\n",
        "if gender == ['Fem']:\n",
        "  is_fem = True\n",
        "elif gender == ['Masc']:\n",
        "  is_masc = True\n",
        "else:\n",
        "  is_neutral = True\n",
        "\n",
        "print(is_fem)    \n",
        "print(is_masc)    \n",
        "print(is_neutral)    "
      ],
      "metadata": {
        "colab": {
          "base_uri": "https://localhost:8080/"
        },
        "id": "dNz5JmJ7FtVG",
        "outputId": "d6d777d2-fc6b-47cb-bec2-da7940dc6c00"
      },
      "execution_count": null,
      "outputs": [
        {
          "output_type": "stream",
          "name": "stdout",
          "text": [
            "True\n",
            "False\n",
            "False\n"
          ]
        }
      ]
    },
    {
      "cell_type": "code",
      "source": [
        "subj_model = roberta.disambiguate_pronoun('A médica terminou o trabalho [dela].')"
      ],
      "metadata": {
        "id": "JRZH1qNyLTtd"
      },
      "execution_count": null,
      "outputs": []
    },
    {
      "cell_type": "code",
      "source": [
        "subj_model"
      ],
      "metadata": {
        "colab": {
          "base_uri": "https://localhost:8080/",
          "height": 36
        },
        "id": "lx5sGab3LoaX",
        "outputId": "ef0cb065-3cdb-4029-b48d-ede43875b78e"
      },
      "execution_count": null,
      "outputs": [
        {
          "output_type": "execute_result",
          "data": {
            "text/plain": [
              "'médica'"
            ],
            "application/vnd.google.colaboratory.intrinsic+json": {
              "type": "string"
            }
          },
          "metadata": {},
          "execution_count": 32
        }
      ]
    },
    {
      "cell_type": "code",
      "source": [
        "subj"
      ],
      "metadata": {
        "colab": {
          "base_uri": "https://localhost:8080/",
          "height": 36
        },
        "id": "MLnHKqRqLZ0N",
        "outputId": "ffc34cc1-a85e-4f3e-c078-15e02525d765"
      },
      "execution_count": null,
      "outputs": [
        {
          "output_type": "execute_result",
          "data": {
            "text/plain": [
              "'The doctor'"
            ],
            "application/vnd.google.colaboratory.intrinsic+json": {
              "type": "string"
            }
          },
          "metadata": {},
          "execution_count": 33
        }
      ]
    },
    {
      "cell_type": "code",
      "source": [
        "test_model = nlp(subj_model)\n",
        "test_model"
      ],
      "metadata": {
        "colab": {
          "base_uri": "https://localhost:8080/"
        },
        "id": "hOtqZLaTL1HX",
        "outputId": "f72f6136-55eb-47e2-ff20-34bb0e977e5d"
      },
      "execution_count": null,
      "outputs": [
        {
          "output_type": "execute_result",
          "data": {
            "text/plain": [
              "médica"
            ]
          },
          "metadata": {},
          "execution_count": 34
        }
      ]
    },
    {
      "cell_type": "code",
      "source": [
        "test_source = nlp_en(subj)\n",
        "test_source"
      ],
      "metadata": {
        "colab": {
          "base_uri": "https://localhost:8080/"
        },
        "id": "4IRPpcVhMNDP",
        "outputId": "8b84776c-ee47-455c-8e6b-200176793591"
      },
      "execution_count": null,
      "outputs": [
        {
          "output_type": "execute_result",
          "data": {
            "text/plain": [
              "The doctor"
            ]
          },
          "metadata": {},
          "execution_count": 35
        }
      ]
    },
    {
      "cell_type": "code",
      "source": [
        "for i in test_model: \n",
        "  print(i.morph)"
      ],
      "metadata": {
        "colab": {
          "base_uri": "https://localhost:8080/"
        },
        "id": "JfHczOUIMQB-",
        "outputId": "e6a19fb1-e899-4d2c-f081-6ef73f60d6ef"
      },
      "execution_count": null,
      "outputs": [
        {
          "output_type": "stream",
          "name": "stdout",
          "text": [
            "Gender=Fem|Number=Sing\n"
          ]
        }
      ]
    },
    {
      "cell_type": "code",
      "source": [
        "for i in test_source: \n",
        "  print(i.morph)"
      ],
      "metadata": {
        "colab": {
          "base_uri": "https://localhost:8080/"
        },
        "id": "TYpQD3TBMXU2",
        "outputId": "059fa12f-ed04-4ce4-92af-15545937cb8b"
      },
      "execution_count": null,
      "outputs": [
        {
          "output_type": "stream",
          "name": "stdout",
          "text": [
            "Definite=Def|PronType=Art\n",
            "Number=Sing\n"
          ]
        }
      ]
    },
    {
      "cell_type": "code",
      "source": [
        "\n",
        "is_fem_trans = False\n",
        "is_masc_trans = False \n",
        "is_neutral_trans = False\n",
        "\n",
        "\n",
        "for g in test_model:\n",
        "  gender = g.morph.get(\"Gender\")\n",
        "  if gender == ['Fem']:\n",
        "    is_fem_trans = True\n",
        "  elif gender == ['Masc']:\n",
        "    is_masc_trans = True\n",
        "  else:\n",
        "    is_neutral_trans = True\n",
        "\n",
        "print(is_fem_trans)    \n",
        "print(is_masc_trans)    \n",
        "print(is_neutral_trans)   "
      ],
      "metadata": {
        "colab": {
          "base_uri": "https://localhost:8080/"
        },
        "id": "DsnsVxPkMpH6",
        "outputId": "a2aa8473-7da1-4a0c-f9ce-d02a3975656b"
      },
      "execution_count": null,
      "outputs": [
        {
          "output_type": "stream",
          "name": "stdout",
          "text": [
            "True\n",
            "False\n",
            "False\n"
          ]
        }
      ]
    },
    {
      "cell_type": "code",
      "source": [
        "are_both_fem = is_fem and is_fem_trans\n",
        "are_both_masc = is_masc and is_masc_trans\n",
        "are_both_neutral = is_neutral and is_neutral_trans\n",
        "\n",
        "print(are_both_fem)\n",
        "print(are_both_masc)\n",
        "print(are_both_neutral)"
      ],
      "metadata": {
        "colab": {
          "base_uri": "https://localhost:8080/"
        },
        "id": "8QSd02n0Neje",
        "outputId": "baae8d19-fc15-469a-81b1-28cef27c6824"
      },
      "execution_count": null,
      "outputs": [
        {
          "output_type": "stream",
          "name": "stdout",
          "text": [
            "True\n",
            "False\n",
            "False\n"
          ]
        }
      ]
    },
    {
      "cell_type": "code",
      "source": [
        "!pip install datasets"
      ],
      "metadata": {
        "id": "NC28HHvMOy6M"
      },
      "execution_count": null,
      "outputs": []
    },
    {
      "cell_type": "code",
      "source": [
        "from datasets import load_dataset\n",
        "remote_dataset = load_dataset(\"VanessaSchenkel/pt_gender\", field=\"data\")\n",
        "remote_dataset\n"
      ],
      "metadata": {
        "colab": {
          "base_uri": "https://localhost:8080/",
          "height": 321,
          "referenced_widgets": [
            "cccdf3ae174d4c80a56c2859bf9012a1",
            "c52c863051c04b2797113db8ca7ca00f",
            "2635839c7bc044e5971c3da2d3050b1d",
            "4c0191e8e5b6499ba865ee8538401409",
            "f6fefba172bd4f82b2a03c811e028835",
            "34911ac47b4b4b1a8d0922da91e66f90",
            "978d4773fc364481b55ae8719fff37bf",
            "6294b1accb8e452ba339d0ec8a077d3c",
            "1a7f2c8ee6dc4b63b4d0c3d073b88fd4",
            "5760e1beb6764b6da6e9e922fa6c1264",
            "f569717e58284e2f897cbba88ef13442",
            "1daab361e93046b4856fabec3c015495",
            "0ea9be9f25cc475ca542c3ab02750a83",
            "0eadaf41243b4fd6a711a90fbe1103ab",
            "9207f826dbdf4b21901b7fe6223be018",
            "451e295e862a404abbdaf03925618d15",
            "bbb459759cb6485196ab5a16a99d882e",
            "bf3fed43b6d24cda994f6f37f375450c",
            "a0cab9e8b34e4ca0b8fbdbed51cc91eb",
            "02e38efaef074aa0a2547757849f03d4",
            "70732aa366ef48c7b1c2cd7cc48665e3",
            "e0228f850bc743cebce45f7fd137e16a",
            "9248115d1937406b87af99d82071e15e",
            "1f48eb5b44fd4ec18899da94914180ab",
            "ffe024983ab9401199c012389afc1712",
            "15f9babfbe8d47fe8bb1e36b53fd1108",
            "da5366769ebe4588b3ffd7a87a2ad0ca",
            "de748d6ce1314cb6b4b1e0b052ae589d",
            "2535b653b1b84d4cbfb600906cf2d283",
            "98b030de3323409f9c2d3321431aa27b",
            "9ace4964fcda4c42b95928cd1832c24e",
            "36950ce09d9f462abdb56d8589d85400",
            "700e91af51404ff983e61c6b3f767260",
            "ad8df87078c940138a7d3dab47b8f79c",
            "80eff23b273f48c6b4051c715743a1aa",
            "45fa8f5327304f54ad9c5647971c7fa6",
            "075b5dd9d52948c7abeb0518d7f0eae9",
            "12d79ec1597b40b799a02ba191d89225",
            "769d0921d809430eb9eae2b7b312ae7c",
            "450ccfe684e44af4be798cf556adc724",
            "15804cfc984846658c2244c944383238",
            "80f982e9a06a411ba061a55484ef6572",
            "bc381bfc56d14a2f866ba5ef12a65683",
            "34f80b83dccd4db6abb4110df9cddab7",
            "d6cf9909c7e841a3bca0c07735d1c9c1",
            "8ab44bbfb6804132b5e6008759a98c53",
            "b1c419110e564858acac52388ba3ca0a",
            "87603fb3664a4d0aa0c02d6cfc125c8f",
            "d4c16751667d4cf6ba3bf9a5abcd16af",
            "8b347e8b55684673b722d065f0a24013",
            "27f1fca59c0d4076bab8e81b03bda8a6",
            "d48817dbafbe44a8b2f89d7e8ca05e36",
            "18c7c03664f940b9a8b9fe5fc3d2509c",
            "bc7789afa4f74d998e37f465b06ac6b8",
            "ede26984a8bb40c9acde53cbbbefdce4"
          ]
        },
        "id": "BJx2o1yrOkRE",
        "outputId": "d315f20a-4a85-4991-b190-be498d52581e"
      },
      "execution_count": null,
      "outputs": [
        {
          "output_type": "stream",
          "name": "stderr",
          "text": [
            "WARNING:datasets.builder:Using custom data configuration VanessaSchenkel--pt_gender-95b0f9b96d3847c6\n"
          ]
        },
        {
          "output_type": "stream",
          "name": "stdout",
          "text": [
            "Downloading and preparing dataset json/VanessaSchenkel--pt_gender to /root/.cache/huggingface/datasets/VanessaSchenkel___json/VanessaSchenkel--pt_gender-95b0f9b96d3847c6/0.0.0/e6070c77f18f01a5ad4551a8b7edfba20b8438b7cad4d94e6ad9378022ce4aab...\n"
          ]
        },
        {
          "output_type": "display_data",
          "data": {
            "text/plain": [
              "Downloading data files:   0%|          | 0/1 [00:00<?, ?it/s]"
            ],
            "application/vnd.jupyter.widget-view+json": {
              "version_major": 2,
              "version_minor": 0,
              "model_id": "cccdf3ae174d4c80a56c2859bf9012a1"
            }
          },
          "metadata": {}
        },
        {
          "output_type": "display_data",
          "data": {
            "text/plain": [
              "Downloading data:   0%|          | 0.00/39.1M [00:00<?, ?B/s]"
            ],
            "application/vnd.jupyter.widget-view+json": {
              "version_major": 2,
              "version_minor": 0,
              "model_id": "1daab361e93046b4856fabec3c015495"
            }
          },
          "metadata": {}
        },
        {
          "output_type": "display_data",
          "data": {
            "text/plain": [
              "Extracting data files:   0%|          | 0/1 [00:00<?, ?it/s]"
            ],
            "application/vnd.jupyter.widget-view+json": {
              "version_major": 2,
              "version_minor": 0,
              "model_id": "9248115d1937406b87af99d82071e15e"
            }
          },
          "metadata": {}
        },
        {
          "output_type": "display_data",
          "data": {
            "text/plain": [
              "0 tables [00:00, ? tables/s]"
            ],
            "application/vnd.jupyter.widget-view+json": {
              "version_major": 2,
              "version_minor": 0,
              "model_id": "ad8df87078c940138a7d3dab47b8f79c"
            }
          },
          "metadata": {}
        },
        {
          "output_type": "stream",
          "name": "stdout",
          "text": [
            "Dataset json downloaded and prepared to /root/.cache/huggingface/datasets/VanessaSchenkel___json/VanessaSchenkel--pt_gender-95b0f9b96d3847c6/0.0.0/e6070c77f18f01a5ad4551a8b7edfba20b8438b7cad4d94e6ad9378022ce4aab. Subsequent calls will reuse this data.\n"
          ]
        },
        {
          "output_type": "display_data",
          "data": {
            "text/plain": [
              "  0%|          | 0/1 [00:00<?, ?it/s]"
            ],
            "application/vnd.jupyter.widget-view+json": {
              "version_major": 2,
              "version_minor": 0,
              "model_id": "d6cf9909c7e841a3bca0c07735d1c9c1"
            }
          },
          "metadata": {}
        },
        {
          "output_type": "execute_result",
          "data": {
            "text/plain": [
              "DatasetDict({\n",
              "    train: Dataset({\n",
              "        features: ['root', 'words'],\n",
              "        num_rows: 321265\n",
              "    })\n",
              "})"
            ]
          },
          "metadata": {},
          "execution_count": 41
        }
      ]
    },
    {
      "cell_type": "code",
      "source": [
        "t = remote_dataset.filter(lambda example: \"médica\" in example['words'])\n",
        "\n",
        "t"
      ],
      "metadata": {
        "colab": {
          "base_uri": "https://localhost:8080/",
          "height": 153,
          "referenced_widgets": [
            "6bc09d75e61e463e82e09785531a4c83",
            "857172d33fe94549974aaec4f618fb4a",
            "fd9d9668118940ec814ce61a80b72650",
            "ba005104feba4b2db5e1192c55326187",
            "4ac8e8d7f428423f826d3834f9dd4899",
            "ab3f56eaa0034a9d9fed9917da3806f4",
            "ebf527d3ac5343d1a93ddf685cf8c2cc",
            "23f6ac73d07e425eb6fd631df3034fee",
            "e8932c99461c48d2bffddf7dedc731f7",
            "fc6601b979f64fee8d75e2cfdbc776da",
            "924bddf9b8b345cbb3dfad9a4f22f1ee"
          ]
        },
        "id": "QGpdPUgdPJpX",
        "outputId": "8fadcac7-f8ba-4406-d41f-be4cf522594a"
      },
      "execution_count": null,
      "outputs": [
        {
          "output_type": "display_data",
          "data": {
            "text/plain": [
              "  0%|          | 0/322 [00:00<?, ?ba/s]"
            ],
            "application/vnd.jupyter.widget-view+json": {
              "version_major": 2,
              "version_minor": 0,
              "model_id": "6bc09d75e61e463e82e09785531a4c83"
            }
          },
          "metadata": {}
        },
        {
          "output_type": "execute_result",
          "data": {
            "text/plain": [
              "DatasetDict({\n",
              "    train: Dataset({\n",
              "        features: ['root', 'words'],\n",
              "        num_rows: 1\n",
              "    })\n",
              "})"
            ]
          },
          "metadata": {},
          "execution_count": 42
        }
      ]
    },
    {
      "cell_type": "code",
      "source": [
        "t['train'][0]"
      ],
      "metadata": {
        "colab": {
          "base_uri": "https://localhost:8080/"
        },
        "id": "EXIULFy2SFiX",
        "outputId": "5ff1001d-124b-4a88-d041-e90d9fc46748"
      },
      "execution_count": null,
      "outputs": [
        {
          "output_type": "execute_result",
          "data": {
            "text/plain": [
              "{'root': 'médico', 'words': ['médico', 'médicos', 'médica', 'médicas']}"
            ]
          },
          "metadata": {},
          "execution_count": 43
        }
      ]
    },
    {
      "cell_type": "code",
      "source": [
        "words_with_gender = t['train'][0]['words']\n",
        "words_with_gender"
      ],
      "metadata": {
        "colab": {
          "base_uri": "https://localhost:8080/"
        },
        "id": "9h6qw2tqqPeW",
        "outputId": "f828e12a-a0f5-489b-b6fc-2765d19da0d7"
      },
      "execution_count": null,
      "outputs": [
        {
          "output_type": "execute_result",
          "data": {
            "text/plain": [
              "['médico', 'médicos', 'médica', 'médicas']"
            ]
          },
          "metadata": {},
          "execution_count": 44
        }
      ]
    },
    {
      "cell_type": "code",
      "source": [
        "sentence = \"The doctor finished her work.\"\n",
        "input_ids = tokenizer(sentence, return_tensors=\"pt\").input_ids\n",
        "\n",
        "flexible_phrases = tokenizer([\"médica\", \"médico\"], add_special_tokens=False).input_ids\n",
        "\n",
        "constraints = [DisjunctiveConstraint(flexible_phrases)]\n",
        "\n",
        "outputs = model.generate(\n",
        "    input_ids,\n",
        "    constraints=constraints,\n",
        "    num_beams=10,\n",
        "    num_return_sequences=6,\n",
        ")\n",
        "\n",
        "print(\"Output:\\n\" + 100 * '-')\n",
        "for i, sample_output in enumerate(outputs):\n",
        "  print(\"{}: {}\".format(i, tokenizer.decode(sample_output, skip_special_tokens=True)))"
      ],
      "metadata": {
        "colab": {
          "base_uri": "https://localhost:8080/"
        },
        "id": "kxa4V7CqqZ4V",
        "outputId": "9c4703fa-4d7c-4afd-b133-7953ae99015d"
      },
      "execution_count": null,
      "outputs": [
        {
          "output_type": "stream",
          "name": "stderr",
          "text": [
            "/usr/local/lib/python3.7/dist-packages/transformers/generation_utils.py:1301: UserWarning: Neither `max_length` nor `max_new_tokens` has been set, `max_length` will default to 20 (`self.config.max_length`). Controlling `max_length` via the config is deprecated and `max_length` will be removed from the config in v5 of Transformers -- we recommend using `max_new_tokens` to control the maximum length of the generation.\n",
            "  UserWarning,\n"
          ]
        },
        {
          "output_type": "stream",
          "name": "stdout",
          "text": [
            "Output:\n",
            "----------------------------------------------------------------------------------------------------\n",
            "0: A médica terminou seu trabalho.\n",
            "1: A médica terminou o seu trabalho.\n",
            "2: O médico terminou seu trabalho.\n",
            "3: A médica acabou seu trabalho.\n",
            "4: O médico terminou o seu trabalho.\n",
            "5: A médica acabou o seu trabalho.\n"
          ]
        }
      ]
    },
    {
      "cell_type": "markdown",
      "source": [
        "**constraints** (List[Constraint], optional) — Custom constraints that can be added to the generation to ensure that the output will contain the use of certain tokens as defined by Constraint objects, in the most sensible way possible.\n",
        "\n",
        "**force_words_ids**(List[List[int]] or List[List[List[int]]], optional) — List of token ids that must be generated. If given a List[List[int]], this is treated as a simple list of words that must be included, the opposite to bad_words_ids. If given List[List[List[int]]], this triggers a disjunctive constraint, where one can allow different forms of each word."
      ],
      "metadata": {
        "id": "7rlGQd19w1-i"
      }
    },
    {
      "cell_type": "code",
      "source": [
        "sentence = \"The developer finished her work.\"\n",
        "input_ids = tokenizer(sentence, return_tensors=\"pt\").input_ids\n",
        "\n",
        "force_word = \"terminou o trabalho\"\n",
        "force_flexible = [\"desenvolvedor\", \"desenvolvedora\"]\n",
        "\n",
        "force_words_ids = [\n",
        "    tokenizer([force_word], add_special_tokens=False).input_ids,\n",
        "    tokenizer(force_flexible, add_special_tokens=False).input_ids,\n",
        "]\n",
        "\n",
        "\n",
        "outputs = model.generate(\n",
        "    input_ids,\n",
        "    force_words_ids=force_words_ids,\n",
        "    num_beams=20,\n",
        "    num_return_sequences=3,\n",
        "    top_k=50, \n",
        "    top_p=0.95,\n",
        "    temperature=0.7,\n",
        "    no_repeat_ngram_size=4\n",
        ")\n",
        "\n",
        "print(\"Output:\\n\" + 100 * '-')\n",
        "for i, sample_output in enumerate(outputs):\n",
        "  print(\"{}: {}\".format(i, tokenizer.decode(sample_output, skip_special_tokens=True)))"
      ],
      "metadata": {
        "colab": {
          "base_uri": "https://localhost:8080/"
        },
        "id": "z0FXpxiL5kHz",
        "outputId": "474947cd-c165-4913-c559-c56b15ede8c1"
      },
      "execution_count": null,
      "outputs": [
        {
          "output_type": "stream",
          "name": "stdout",
          "text": [
            "Output:\n",
            "----------------------------------------------------------------------------------------------------\n",
            "0: A desenvolvedora terminou o trabalho.\n",
            "1: O desenvolvedor terminou o trabalho.\n",
            "2: O desenvolvedora terminou o trabalho.\n"
          ]
        }
      ]
    },
    {
      "cell_type": "markdown",
      "source": [
        "Source tem gênero e é a mesma da tradução? "
      ],
      "metadata": {
        "id": "2UXL22PWAbTI"
      }
    },
    {
      "cell_type": "code",
      "source": [
        "source_sentence = \"The doctor finished her work\"\n",
        "\n",
        "print(source_sentence)\n",
        "print(translation_google)\n",
        "print(translation_model)"
      ],
      "metadata": {
        "colab": {
          "base_uri": "https://localhost:8080/"
        },
        "id": "RFs6e7btAaRP",
        "outputId": "732e923a-dd54-477b-f0dc-82320d0067b5"
      },
      "execution_count": null,
      "outputs": [
        {
          "output_type": "stream",
          "name": "stdout",
          "text": [
            "The doctor finished her work\n",
            "O médico terminou seu trabalho.\n",
            "A médica terminou seu trabalho.\n"
          ]
        }
      ]
    },
    {
      "cell_type": "code",
      "source": [
        "def get_pronoun(sentence):\n",
        "  pronoun_list = []\n",
        "  for token in sentence:\n",
        "    if token.pos_ is 'PRON':\n",
        "      pronoun_list.append(token)\n",
        "\n",
        "  return pronoun_list\n"
      ],
      "metadata": {
        "id": "YX0VVJBNDRKy"
      },
      "execution_count": null,
      "outputs": []
    },
    {
      "cell_type": "code",
      "source": [
        "source_sentence = nlp_en(\"The doctor finished her work.\")\n",
        "\n",
        "pronouns_list = get_pronoun(source_sentence)\n",
        "\n",
        "print(pronouns_list)"
      ],
      "metadata": {
        "colab": {
          "base_uri": "https://localhost:8080/"
        },
        "id": "ubjHa3gLEfms",
        "outputId": "d83c8938-9716-4651-d1ad-07829edb715f"
      },
      "execution_count": null,
      "outputs": [
        {
          "output_type": "stream",
          "name": "stdout",
          "text": [
            "[her]\n"
          ]
        }
      ]
    },
    {
      "cell_type": "code",
      "source": [
        "# def get_disambiguate_pronoun(sentence, pronouns_list):\n",
        "#   noun_chunks_list = []\n",
        "  \n",
        "#   for pronoun in pronouns_list:\n",
        "#     pronoun_text_formatted = \"[\" + pronoun.text + \"]\"\n",
        "#     new_source_sentence = sentence.text.replace(pronoun.text, pronoun_text_formatted)\n",
        "#     chunk = roberta.disambiguate_pronoun(new_source_sentence)\n",
        "#     noun_chunks_list.append(chunk)\n",
        "    \n",
        "#   return noun_chunks_list\n",
        "\n",
        "\n",
        "def get_disambiguate_pronoun(sentence, pronoun):\n",
        "  pronoun_text_formatted = \"[\" + pronoun.text + \"]\"\n",
        "  new_source_sentence = sentence.text.replace(pronoun.text, pronoun_text_formatted)\n",
        "  return roberta.disambiguate_pronoun(new_source_sentence)"
      ],
      "metadata": {
        "id": "mqdSKY06J4V9"
      },
      "execution_count": null,
      "outputs": []
    },
    {
      "cell_type": "code",
      "source": [
        "def get_sentence_gender(sentence):\n",
        "  gender_list = []\n",
        "  for token in sentence:\n",
        "    gender = token.morph.get(\"Gender\")\n",
        "    if len(gender) > 0:\n",
        "      gender_list.append(gender.pop())\n",
        "    \n",
        "  return gender_list  \n"
      ],
      "metadata": {
        "id": "vP-8WWrsKXa4"
      },
      "execution_count": null,
      "outputs": []
    },
    {
      "cell_type": "code",
      "source": [
        "get_sentence_gender(source_sentence)"
      ],
      "metadata": {
        "colab": {
          "base_uri": "https://localhost:8080/"
        },
        "id": "QwrDT9HuNYYx",
        "outputId": "384fbcf2-3a0e-4b7e-e59a-62efed57ea13"
      },
      "execution_count": null,
      "outputs": [
        {
          "output_type": "execute_result",
          "data": {
            "text/plain": [
              "['Fem']"
            ]
          },
          "metadata": {},
          "execution_count": 52
        }
      ]
    },
    {
      "cell_type": "code",
      "source": [
        "def is_source_and_translated_same_gender(source, translated):\n",
        "  source_gender = get_sentence_gender(source)\n",
        "  translated_gender = get_sentence_gender(translated)\n",
        "  print(source_gender, translated_gender)\n",
        "  return source_gender == translated_gender"
      ],
      "metadata": {
        "id": "g-UQPt8TOqrO"
      },
      "execution_count": null,
      "outputs": []
    },
    {
      "cell_type": "code",
      "source": [
        "translated = nlp(\"A médica terminou o seu trabalho\")\n",
        "\n",
        "is_source_and_translated_same_gender(source_sentence, translated)"
      ],
      "metadata": {
        "colab": {
          "base_uri": "https://localhost:8080/"
        },
        "id": "V-jTsg56PEZO",
        "outputId": "380d641d-9b0c-4325-9bf8-60e0fa5c6f57"
      },
      "execution_count": null,
      "outputs": [
        {
          "output_type": "stream",
          "name": "stdout",
          "text": [
            "['Fem'] ['Fem', 'Fem', 'Masc', 'Masc', 'Masc']\n"
          ]
        },
        {
          "output_type": "execute_result",
          "data": {
            "text/plain": [
              "False"
            ]
          },
          "metadata": {},
          "execution_count": 54
        }
      ]
    },
    {
      "cell_type": "code",
      "source": [
        "pronouns_list_pt = get_pronoun(translated)\n",
        "pronouns_list_pt"
      ],
      "metadata": {
        "colab": {
          "base_uri": "https://localhost:8080/"
        },
        "id": "-GFBCYlLROty",
        "outputId": "ecee9caa-729b-4259-dd96-d916c71a0f5b"
      },
      "execution_count": null,
      "outputs": [
        {
          "output_type": "execute_result",
          "data": {
            "text/plain": [
              "[]"
            ]
          },
          "metadata": {},
          "execution_count": 55
        }
      ]
    },
    {
      "cell_type": "code",
      "source": [
        "for token in translated.noun_chunks:\n",
        "  print(token)"
      ],
      "metadata": {
        "colab": {
          "base_uri": "https://localhost:8080/"
        },
        "id": "vjGJw0alSpwD",
        "outputId": "19039503-0585-4f55-ef84-ed1bb76d6413"
      },
      "execution_count": null,
      "outputs": [
        {
          "output_type": "stream",
          "name": "stdout",
          "text": [
            "A médica\n",
            "o seu trabalho\n"
          ]
        }
      ]
    },
    {
      "cell_type": "code",
      "source": [
        "for token in source_sentence.noun_chunks:\n",
        "  print(token)"
      ],
      "metadata": {
        "colab": {
          "base_uri": "https://localhost:8080/"
        },
        "id": "ZjklC40FgKzO",
        "outputId": "29de8888-4b8f-4e3a-ec18-624b5e88ccde"
      },
      "execution_count": null,
      "outputs": [
        {
          "output_type": "stream",
          "name": "stdout",
          "text": [
            "The doctor\n",
            "her work\n"
          ]
        }
      ]
    },
    {
      "cell_type": "code",
      "source": [
        "for token in source_sentence:\n",
        "  print(token.dep_)"
      ],
      "metadata": {
        "colab": {
          "base_uri": "https://localhost:8080/"
        },
        "id": "foW1Nx4ggs1i",
        "outputId": "e8dbd9d2-88c7-4bff-b84d-b5b78c274d7a"
      },
      "execution_count": null,
      "outputs": [
        {
          "output_type": "stream",
          "name": "stdout",
          "text": [
            "det\n",
            "nsubj\n",
            "ROOT\n",
            "poss\n",
            "dobj\n",
            "punct\n"
          ]
        }
      ]
    },
    {
      "cell_type": "code",
      "source": [
        "for token in translated:\n",
        "  print(token.dep_)"
      ],
      "metadata": {
        "colab": {
          "base_uri": "https://localhost:8080/"
        },
        "id": "CfKJygC1gzK4",
        "outputId": "902ade34-7994-457e-f5e0-8eaf70bca96a"
      },
      "execution_count": null,
      "outputs": [
        {
          "output_type": "stream",
          "name": "stdout",
          "text": [
            "det\n",
            "nsubj\n",
            "ROOT\n",
            "det\n",
            "det\n",
            "obj\n"
          ]
        }
      ]
    },
    {
      "cell_type": "code",
      "source": [
        "spacy.explain('nsubj')"
      ],
      "metadata": {
        "colab": {
          "base_uri": "https://localhost:8080/",
          "height": 36
        },
        "id": "XR7lkH6VhQFd",
        "outputId": "04c96073-1609-48e5-9257-cccdcd4edb0b"
      },
      "execution_count": null,
      "outputs": [
        {
          "output_type": "execute_result",
          "data": {
            "text/plain": [
              "'nominal subject'"
            ],
            "application/vnd.google.colaboratory.intrinsic+json": {
              "type": "string"
            }
          },
          "metadata": {},
          "execution_count": 60
        }
      ]
    },
    {
      "cell_type": "code",
      "source": [
        "def get_nsub_sentence(sentence):\n",
        "  for token in sentence:\n",
        "    if token.dep_ == 'nsubj':\n",
        "      return token"
      ],
      "metadata": {
        "id": "TCHXc6LliNsB"
      },
      "execution_count": 298,
      "outputs": []
    },
    {
      "cell_type": "code",
      "source": [
        "nsub_translated = get_nsub_sentence(translated)\n",
        "nsub_translated"
      ],
      "metadata": {
        "colab": {
          "base_uri": "https://localhost:8080/"
        },
        "id": "ocD-51c4iw3q",
        "outputId": "a5861834-5a03-44da-ffb2-086d94d476a2"
      },
      "execution_count": null,
      "outputs": [
        {
          "output_type": "execute_result",
          "data": {
            "text/plain": [
              "[médica]"
            ]
          },
          "metadata": {},
          "execution_count": 62
        }
      ]
    },
    {
      "cell_type": "code",
      "source": [
        "is_source_and_translated_same_gender(source_sentence, nsub_translated)"
      ],
      "metadata": {
        "colab": {
          "base_uri": "https://localhost:8080/"
        },
        "id": "44He7w--i5KK",
        "outputId": "5050b252-0000-424f-c160-8453cb18e5b7"
      },
      "execution_count": null,
      "outputs": [
        {
          "output_type": "stream",
          "name": "stdout",
          "text": [
            "['Fem'] ['Fem']\n"
          ]
        },
        {
          "output_type": "execute_result",
          "data": {
            "text/plain": [
              "True"
            ]
          },
          "metadata": {},
          "execution_count": 63
        }
      ]
    },
    {
      "cell_type": "code",
      "source": [
        "translation_google = nlp(\"O médico acabou seu trabalho\")"
      ],
      "metadata": {
        "id": "Ub6jagAwkCH6"
      },
      "execution_count": null,
      "outputs": []
    },
    {
      "cell_type": "code",
      "source": [
        "nsub_translated_google = get_nsub_sentence(translation_google)\n",
        "nsub_translated_google"
      ],
      "metadata": {
        "colab": {
          "base_uri": "https://localhost:8080/"
        },
        "id": "GubT-FFfkQHY",
        "outputId": "8e08b79e-9a29-4586-87dc-ea19d7d977c7"
      },
      "execution_count": null,
      "outputs": [
        {
          "output_type": "execute_result",
          "data": {
            "text/plain": [
              "[médico]"
            ]
          },
          "metadata": {},
          "execution_count": 65
        }
      ]
    },
    {
      "cell_type": "code",
      "source": [
        "table = {}\n",
        "text_list = []\n",
        "anc = []\n",
        "child = []\n",
        "dep = []\n",
        "head = []\n",
        "lemma = []\n",
        "morph = []\n",
        "pos = []\n",
        "tag = []\n",
        "norm = []\n",
        "suffix = []\n",
        "pref = []\n",
        "\n",
        "for token in translation_google:\n",
        "  text_list.append(token.text)\n",
        "  anc.append([ancestor for ancestor in token.ancestors])\n",
        "  child.append([child for child in token.children])\n",
        "  dep.append(token.dep_)\n",
        "  head.append(token.head)\n",
        "  lemma.append(token.lemma_)\n",
        "  morph.append(token.morph)\n",
        "  pos.append(token.pos_)\n",
        "  norm.append(token.norm_)\n",
        "  pref.append(token.prefix_)\n",
        "  suffix.append(token.suffix_)\n",
        "\n",
        "table['text'] = text_list\n",
        "table['anc'] = anc\n",
        "table['child'] = child\n",
        "table['dep'] = dep\n",
        "table['head'] = head\n",
        "table['lemma'] = lemma\n",
        "table['morph'] = morph\n",
        "table['pos'] = pos\n",
        "table['norm'] = norm\n",
        "table['pref'] = pref\n",
        "table['suffix'] = suffix\n",
        "\n",
        "\n",
        "\n",
        "df = pd.DataFrame(table)\n",
        "\n",
        "display(df)"
      ],
      "metadata": {
        "colab": {
          "base_uri": "https://localhost:8080/",
          "height": 206
        },
        "id": "7jKv2JsWlLfP",
        "outputId": "ad67f110-a210-4762-efc8-29dfb94e1ae3"
      },
      "execution_count": null,
      "outputs": [
        {
          "output_type": "display_data",
          "data": {
            "text/plain": [
              "       text                 anc               child    dep      head  \\\n",
              "0         O    [médico, acabou]                  []    det    médico   \n",
              "1    médico            [acabou]                 [O]  nsubj    acabou   \n",
              "2    acabou                  []  [médico, trabalho]   ROOT    acabou   \n",
              "3       seu  [trabalho, acabou]                  []    det  trabalho   \n",
              "4  trabalho            [acabou]               [seu]    obj    acabou   \n",
              "\n",
              "      lemma                                              morph   pos  \\\n",
              "0         o  (Definite=Def, Gender=Masc, Number=Sing, PronT...   DET   \n",
              "1    médico                         (Gender=Masc, Number=Sing)  NOUN   \n",
              "2    acabar  (Mood=Ind, Number=Sing, Person=3, Tense=Past, ...  VERB   \n",
              "3       seu           (Gender=Masc, Number=Sing, PronType=Prs)   DET   \n",
              "4  trabalho                         (Gender=Masc, Number=Sing)  NOUN   \n",
              "\n",
              "       norm pref suffix  \n",
              "0         o    O      O  \n",
              "1    médico    m    ico  \n",
              "2    acabou    a    bou  \n",
              "3       seu    s    seu  \n",
              "4  trabalho    t    lho  "
            ],
            "text/html": [
              "\n",
              "  <div id=\"df-112523ff-53fd-47ec-a728-6ce809d2736c\">\n",
              "    <div class=\"colab-df-container\">\n",
              "      <div>\n",
              "<style scoped>\n",
              "    .dataframe tbody tr th:only-of-type {\n",
              "        vertical-align: middle;\n",
              "    }\n",
              "\n",
              "    .dataframe tbody tr th {\n",
              "        vertical-align: top;\n",
              "    }\n",
              "\n",
              "    .dataframe thead th {\n",
              "        text-align: right;\n",
              "    }\n",
              "</style>\n",
              "<table border=\"1\" class=\"dataframe\">\n",
              "  <thead>\n",
              "    <tr style=\"text-align: right;\">\n",
              "      <th></th>\n",
              "      <th>text</th>\n",
              "      <th>anc</th>\n",
              "      <th>child</th>\n",
              "      <th>dep</th>\n",
              "      <th>head</th>\n",
              "      <th>lemma</th>\n",
              "      <th>morph</th>\n",
              "      <th>pos</th>\n",
              "      <th>norm</th>\n",
              "      <th>pref</th>\n",
              "      <th>suffix</th>\n",
              "    </tr>\n",
              "  </thead>\n",
              "  <tbody>\n",
              "    <tr>\n",
              "      <th>0</th>\n",
              "      <td>O</td>\n",
              "      <td>[médico, acabou]</td>\n",
              "      <td>[]</td>\n",
              "      <td>det</td>\n",
              "      <td>médico</td>\n",
              "      <td>o</td>\n",
              "      <td>(Definite=Def, Gender=Masc, Number=Sing, PronT...</td>\n",
              "      <td>DET</td>\n",
              "      <td>o</td>\n",
              "      <td>O</td>\n",
              "      <td>O</td>\n",
              "    </tr>\n",
              "    <tr>\n",
              "      <th>1</th>\n",
              "      <td>médico</td>\n",
              "      <td>[acabou]</td>\n",
              "      <td>[O]</td>\n",
              "      <td>nsubj</td>\n",
              "      <td>acabou</td>\n",
              "      <td>médico</td>\n",
              "      <td>(Gender=Masc, Number=Sing)</td>\n",
              "      <td>NOUN</td>\n",
              "      <td>médico</td>\n",
              "      <td>m</td>\n",
              "      <td>ico</td>\n",
              "    </tr>\n",
              "    <tr>\n",
              "      <th>2</th>\n",
              "      <td>acabou</td>\n",
              "      <td>[]</td>\n",
              "      <td>[médico, trabalho]</td>\n",
              "      <td>ROOT</td>\n",
              "      <td>acabou</td>\n",
              "      <td>acabar</td>\n",
              "      <td>(Mood=Ind, Number=Sing, Person=3, Tense=Past, ...</td>\n",
              "      <td>VERB</td>\n",
              "      <td>acabou</td>\n",
              "      <td>a</td>\n",
              "      <td>bou</td>\n",
              "    </tr>\n",
              "    <tr>\n",
              "      <th>3</th>\n",
              "      <td>seu</td>\n",
              "      <td>[trabalho, acabou]</td>\n",
              "      <td>[]</td>\n",
              "      <td>det</td>\n",
              "      <td>trabalho</td>\n",
              "      <td>seu</td>\n",
              "      <td>(Gender=Masc, Number=Sing, PronType=Prs)</td>\n",
              "      <td>DET</td>\n",
              "      <td>seu</td>\n",
              "      <td>s</td>\n",
              "      <td>seu</td>\n",
              "    </tr>\n",
              "    <tr>\n",
              "      <th>4</th>\n",
              "      <td>trabalho</td>\n",
              "      <td>[acabou]</td>\n",
              "      <td>[seu]</td>\n",
              "      <td>obj</td>\n",
              "      <td>acabou</td>\n",
              "      <td>trabalho</td>\n",
              "      <td>(Gender=Masc, Number=Sing)</td>\n",
              "      <td>NOUN</td>\n",
              "      <td>trabalho</td>\n",
              "      <td>t</td>\n",
              "      <td>lho</td>\n",
              "    </tr>\n",
              "  </tbody>\n",
              "</table>\n",
              "</div>\n",
              "      <button class=\"colab-df-convert\" onclick=\"convertToInteractive('df-112523ff-53fd-47ec-a728-6ce809d2736c')\"\n",
              "              title=\"Convert this dataframe to an interactive table.\"\n",
              "              style=\"display:none;\">\n",
              "        \n",
              "  <svg xmlns=\"http://www.w3.org/2000/svg\" height=\"24px\"viewBox=\"0 0 24 24\"\n",
              "       width=\"24px\">\n",
              "    <path d=\"M0 0h24v24H0V0z\" fill=\"none\"/>\n",
              "    <path d=\"M18.56 5.44l.94 2.06.94-2.06 2.06-.94-2.06-.94-.94-2.06-.94 2.06-2.06.94zm-11 1L8.5 8.5l.94-2.06 2.06-.94-2.06-.94L8.5 2.5l-.94 2.06-2.06.94zm10 10l.94 2.06.94-2.06 2.06-.94-2.06-.94-.94-2.06-.94 2.06-2.06.94z\"/><path d=\"M17.41 7.96l-1.37-1.37c-.4-.4-.92-.59-1.43-.59-.52 0-1.04.2-1.43.59L10.3 9.45l-7.72 7.72c-.78.78-.78 2.05 0 2.83L4 21.41c.39.39.9.59 1.41.59.51 0 1.02-.2 1.41-.59l7.78-7.78 2.81-2.81c.8-.78.8-2.07 0-2.86zM5.41 20L4 18.59l7.72-7.72 1.47 1.35L5.41 20z\"/>\n",
              "  </svg>\n",
              "      </button>\n",
              "      \n",
              "  <style>\n",
              "    .colab-df-container {\n",
              "      display:flex;\n",
              "      flex-wrap:wrap;\n",
              "      gap: 12px;\n",
              "    }\n",
              "\n",
              "    .colab-df-convert {\n",
              "      background-color: #E8F0FE;\n",
              "      border: none;\n",
              "      border-radius: 50%;\n",
              "      cursor: pointer;\n",
              "      display: none;\n",
              "      fill: #1967D2;\n",
              "      height: 32px;\n",
              "      padding: 0 0 0 0;\n",
              "      width: 32px;\n",
              "    }\n",
              "\n",
              "    .colab-df-convert:hover {\n",
              "      background-color: #E2EBFA;\n",
              "      box-shadow: 0px 1px 2px rgba(60, 64, 67, 0.3), 0px 1px 3px 1px rgba(60, 64, 67, 0.15);\n",
              "      fill: #174EA6;\n",
              "    }\n",
              "\n",
              "    [theme=dark] .colab-df-convert {\n",
              "      background-color: #3B4455;\n",
              "      fill: #D2E3FC;\n",
              "    }\n",
              "\n",
              "    [theme=dark] .colab-df-convert:hover {\n",
              "      background-color: #434B5C;\n",
              "      box-shadow: 0px 1px 3px 1px rgba(0, 0, 0, 0.15);\n",
              "      filter: drop-shadow(0px 1px 2px rgba(0, 0, 0, 0.3));\n",
              "      fill: #FFFFFF;\n",
              "    }\n",
              "  </style>\n",
              "\n",
              "      <script>\n",
              "        const buttonEl =\n",
              "          document.querySelector('#df-112523ff-53fd-47ec-a728-6ce809d2736c button.colab-df-convert');\n",
              "        buttonEl.style.display =\n",
              "          google.colab.kernel.accessAllowed ? 'block' : 'none';\n",
              "\n",
              "        async function convertToInteractive(key) {\n",
              "          const element = document.querySelector('#df-112523ff-53fd-47ec-a728-6ce809d2736c');\n",
              "          const dataTable =\n",
              "            await google.colab.kernel.invokeFunction('convertToInteractive',\n",
              "                                                     [key], {});\n",
              "          if (!dataTable) return;\n",
              "\n",
              "          const docLinkHtml = 'Like what you see? Visit the ' +\n",
              "            '<a target=\"_blank\" href=https://colab.research.google.com/notebooks/data_table.ipynb>data table notebook</a>'\n",
              "            + ' to learn more about interactive tables.';\n",
              "          element.innerHTML = '';\n",
              "          dataTable['output_type'] = 'display_data';\n",
              "          await google.colab.output.renderOutput(dataTable, element);\n",
              "          const docLink = document.createElement('div');\n",
              "          docLink.innerHTML = docLinkHtml;\n",
              "          element.appendChild(docLink);\n",
              "        }\n",
              "      </script>\n",
              "    </div>\n",
              "  </div>\n",
              "  "
            ]
          },
          "metadata": {}
        }
      ]
    },
    {
      "cell_type": "code",
      "source": [
        "def get_constrained_sentence(translation, nsub):\n",
        "  constrained_sentence = \"\"\n",
        "  children = [child for child in nsub[0].children]\n",
        "  for token in translation:\n",
        "    if token not in nsub and token not in children:\n",
        "      constrained_sentence += token.text + \" \"\n",
        "\n",
        "  return constrained_sentence"
      ],
      "metadata": {
        "id": "vSsH5WQ4lfE5"
      },
      "execution_count": null,
      "outputs": []
    },
    {
      "cell_type": "code",
      "source": [
        "constrained_sentence = get_constrained_sentence(translation_google, nsub_translated_google)\n",
        "constrained_sentence"
      ],
      "metadata": {
        "colab": {
          "base_uri": "https://localhost:8080/",
          "height": 36
        },
        "id": "Csw7aOmNmCTH",
        "outputId": "af150f5e-2bd0-4a3d-9657-b49dd177c146"
      },
      "execution_count": null,
      "outputs": [
        {
          "output_type": "execute_result",
          "data": {
            "text/plain": [
              "'acabou seu trabalho '"
            ],
            "application/vnd.google.colaboratory.intrinsic+json": {
              "type": "string"
            }
          },
          "metadata": {},
          "execution_count": 68
        }
      ]
    },
    {
      "cell_type": "code",
      "source": [
        "sentence = \"The doctor finished her work.\"\n",
        "input_ids = tokenizer(sentence, return_tensors=\"pt\").input_ids\n",
        "\n",
        "force_word = constrained_sentence.strip()\n",
        "\n",
        "force_words_ids = [\n",
        "    tokenizer([force_word], add_special_tokens=False).input_ids,\n",
        "]\n",
        "\n",
        "\n",
        "outputs = model.generate(\n",
        "    input_ids,\n",
        "    force_words_ids=force_words_ids,\n",
        "    num_beams=20,\n",
        "    num_return_sequences=3,\n",
        "    top_k=50, \n",
        "    top_p=0.95,\n",
        "    temperature=0.7,\n",
        "    no_repeat_ngram_size=4\n",
        ")\n",
        "\n",
        "print(\"Output:\\n\" + 100 * '-')\n",
        "for i, sample_output in enumerate(outputs):\n",
        "  print(\"{}: {}\".format(i, tokenizer.decode(sample_output, skip_special_tokens=True)))"
      ],
      "metadata": {
        "colab": {
          "base_uri": "https://localhost:8080/"
        },
        "id": "VwQFwPvppWTK",
        "outputId": "b7fa5b19-4111-43aa-cf17-b99b32b95d5a"
      },
      "execution_count": null,
      "outputs": [
        {
          "output_type": "stream",
          "name": "stderr",
          "text": [
            "/usr/local/lib/python3.7/dist-packages/transformers/generation_utils.py:1301: UserWarning: Neither `max_length` nor `max_new_tokens` has been set, `max_length` will default to 20 (`self.config.max_length`). Controlling `max_length` via the config is deprecated and `max_length` will be removed from the config in v5 of Transformers -- we recommend using `max_new_tokens` to control the maximum length of the generation.\n",
            "  UserWarning,\n"
          ]
        },
        {
          "output_type": "stream",
          "name": "stdout",
          "text": [
            "Output:\n",
            "----------------------------------------------------------------------------------------------------\n",
            "0: A médica acabou seu trabalho.\n",
            "1: O médico acabou seu trabalho.\n",
            "2: A doutora acabou seu trabalho.\n"
          ]
        }
      ]
    },
    {
      "cell_type": "markdown",
      "source": [
        "Source tem gênero e não é a mesma da tradução?"
      ],
      "metadata": {
        "id": "iDJipWJ1sEAW"
      }
    },
    {
      "cell_type": "code",
      "source": [
        "translated_masc = nlp(\"O médico acabou seu trabalho\")\n",
        "nsub_translated = get_nsub_sentence(translated_masc)\n",
        "nsub_translated"
      ],
      "metadata": {
        "colab": {
          "base_uri": "https://localhost:8080/"
        },
        "id": "lU3VQIGzLT2J",
        "outputId": "09849345-f96c-4d34-b055-0483dc2fb601"
      },
      "execution_count": null,
      "outputs": [
        {
          "output_type": "execute_result",
          "data": {
            "text/plain": [
              "[médico]"
            ]
          },
          "metadata": {},
          "execution_count": 70
        }
      ]
    },
    {
      "cell_type": "code",
      "source": [
        "is_source_and_translated_same_gender(source_sentence, nsub_translated)"
      ],
      "metadata": {
        "colab": {
          "base_uri": "https://localhost:8080/"
        },
        "id": "RhkjPwInLvRi",
        "outputId": "06beaedf-f117-4179-d3e3-f3594beb5ada"
      },
      "execution_count": null,
      "outputs": [
        {
          "output_type": "stream",
          "name": "stdout",
          "text": [
            "['Fem'] ['Masc']\n"
          ]
        },
        {
          "output_type": "execute_result",
          "data": {
            "text/plain": [
              "False"
            ]
          },
          "metadata": {},
          "execution_count": 71
        }
      ]
    },
    {
      "cell_type": "code",
      "source": [
        "constrained_sentence = get_constrained_sentence(translated_masc, nsub_translated)\n",
        "constrained_sentence"
      ],
      "metadata": {
        "colab": {
          "base_uri": "https://localhost:8080/",
          "height": 36
        },
        "id": "WFXo9uTgL29B",
        "outputId": "ea9eeddf-a69a-45a7-fa27-adf074a30054"
      },
      "execution_count": null,
      "outputs": [
        {
          "output_type": "execute_result",
          "data": {
            "text/plain": [
              "'acabou seu trabalho '"
            ],
            "application/vnd.google.colaboratory.intrinsic+json": {
              "type": "string"
            }
          },
          "metadata": {},
          "execution_count": 72
        }
      ]
    },
    {
      "cell_type": "code",
      "source": [
        "sentence = \"The doctor finished her work.\"\n",
        "input_ids = tokenizer(sentence, return_tensors=\"pt\").input_ids\n",
        "\n",
        "force_word = constrained_sentence.strip()\n",
        "\n",
        "force_words_ids = [\n",
        "    tokenizer([force_word], add_special_tokens=False).input_ids,\n",
        "]\n",
        "\n",
        "\n",
        "outputs = model.generate(\n",
        "    input_ids,\n",
        "    force_words_ids=force_words_ids,\n",
        "    num_beams=20,\n",
        "    num_return_sequences=3,\n",
        "    top_k=50, \n",
        "    top_p=0.95,\n",
        "    temperature=0.7,\n",
        "    no_repeat_ngram_size=4\n",
        ")\n",
        "\n",
        "print(\"Output:\\n\" + 100 * '-')\n",
        "for i, sample_output in enumerate(outputs):\n",
        "  print(\"{}: {}\".format(i, tokenizer.decode(sample_output, skip_special_tokens=True)))"
      ],
      "metadata": {
        "colab": {
          "base_uri": "https://localhost:8080/"
        },
        "id": "17Y4g_jjMLhU",
        "outputId": "dfff3ebc-2adb-4f7d-a7ea-81a842dddbd3"
      },
      "execution_count": null,
      "outputs": [
        {
          "output_type": "stream",
          "name": "stdout",
          "text": [
            "Output:\n",
            "----------------------------------------------------------------------------------------------------\n",
            "0: A médica acabou seu trabalho.\n",
            "1: O médico acabou seu trabalho.\n",
            "2: A doutora acabou seu trabalho.\n"
          ]
        }
      ]
    },
    {
      "cell_type": "markdown",
      "source": [
        "Source tem mais de um gênero?"
      ],
      "metadata": {
        "id": "sQRUXM3jsRA0"
      }
    },
    {
      "cell_type": "code",
      "source": [
        "source_sentence = nlp_en(\"The doctor finished her work, the nurse was still on his break\")\n",
        "translation_google = nlp(\"O médico terminou seu trabalho, a enfermeira ainda estava de folga\")\n",
        "translation_model = nlp(\"O médico terminou seu trabalho, a enfermeira ainda era a sua pausa.\")\n",
        "\n",
        "print(source_sentence)\n",
        "print(translation_google)\n",
        "print(translation_model)"
      ],
      "metadata": {
        "colab": {
          "base_uri": "https://localhost:8080/"
        },
        "id": "De9tSuKZMkl6",
        "outputId": "e81371ba-46a7-4f7f-c44a-aa5c140c514d"
      },
      "execution_count": null,
      "outputs": [
        {
          "output_type": "stream",
          "name": "stdout",
          "text": [
            "The doctor finished her work, the nurse was still on his break\n",
            "O médico terminou seu trabalho, a enfermeira ainda estava de folga\n",
            "O médico terminou seu trabalho, a enfermeira ainda era a sua pausa.\n"
          ]
        }
      ]
    },
    {
      "cell_type": "code",
      "source": [
        "pronouns_list = get_pronoun(source_sentence)\n",
        "\n",
        "print(pronouns_list)"
      ],
      "metadata": {
        "colab": {
          "base_uri": "https://localhost:8080/"
        },
        "id": "jBmMbXJoN8fp",
        "outputId": "d0c5daca-4d77-4b01-b402-9bd7e5bd863e"
      },
      "execution_count": null,
      "outputs": [
        {
          "output_type": "stream",
          "name": "stdout",
          "text": [
            "[her, his]\n"
          ]
        }
      ]
    },
    {
      "cell_type": "code",
      "source": [
        "get_sentence_gender(source_sentence)"
      ],
      "metadata": {
        "colab": {
          "base_uri": "https://localhost:8080/"
        },
        "id": "X4aIqUFgOMhx",
        "outputId": "8c14cc53-bfbb-4878-ad20-b6e4bdfb2daa"
      },
      "execution_count": null,
      "outputs": [
        {
          "output_type": "execute_result",
          "data": {
            "text/plain": [
              "['Fem', 'Masc']"
            ]
          },
          "metadata": {},
          "execution_count": 76
        }
      ]
    },
    {
      "cell_type": "code",
      "source": [
        "table = {}\n",
        "text_list = []\n",
        "anc = []\n",
        "child = []\n",
        "dep = []\n",
        "head = []\n",
        "lemma = []\n",
        "morph = []\n",
        "pos = []\n",
        "tag = []\n",
        "norm = []\n",
        "suffix = []\n",
        "pref = []\n",
        "\n",
        "for token in source_sentence:\n",
        "  text_list.append(token.text)\n",
        "  anc.append([ancestor for ancestor in token.ancestors])\n",
        "  child.append([child for child in token.children])\n",
        "  dep.append(token.dep_)\n",
        "  head.append(token.head)\n",
        "  lemma.append(token.lemma_)\n",
        "  morph.append(token.morph)\n",
        "  pos.append(token.pos_)\n",
        "  norm.append(token.norm_)\n",
        "  pref.append(token.prefix_)\n",
        "  suffix.append(token.suffix_)\n",
        "\n",
        "table['text'] = text_list\n",
        "table['anc'] = anc\n",
        "table['child'] = child\n",
        "table['dep'] = dep\n",
        "table['head'] = head\n",
        "table['lemma'] = lemma\n",
        "table['morph'] = morph\n",
        "table['pos'] = pos\n",
        "table['norm'] = norm\n",
        "table['pref'] = pref\n",
        "table['suffix'] = suffix\n",
        "\n",
        "\n",
        "\n",
        "df = pd.DataFrame(table)\n",
        "\n",
        "display(df)"
      ],
      "metadata": {
        "colab": {
          "base_uri": "https://localhost:8080/",
          "height": 457
        },
        "id": "XWZxofZxPEZ9",
        "outputId": "410f88fa-c6c3-4dae-fd1e-b8fe3cbd7695"
      },
      "execution_count": null,
      "outputs": [
        {
          "output_type": "display_data",
          "data": {
            "text/plain": [
              "        text                      anc                            child  \\\n",
              "0        The  [doctor, finished, was]                               []   \n",
              "1     doctor          [finished, was]                            [The]   \n",
              "2   finished                    [was]                   [doctor, work]   \n",
              "3        her    [work, finished, was]                               []   \n",
              "4       work          [finished, was]                            [her]   \n",
              "5          ,                    [was]                               []   \n",
              "6        the             [nurse, was]                               []   \n",
              "7      nurse                    [was]                            [the]   \n",
              "8        was                       []  [finished, ,, nurse, still, on]   \n",
              "9      still                    [was]                               []   \n",
              "10        on                    [was]                          [break]   \n",
              "11       his         [break, on, was]                               []   \n",
              "12     break                [on, was]                            [his]   \n",
              "\n",
              "       dep      head   lemma  \\\n",
              "0      det    doctor     the   \n",
              "1    nsubj  finished  doctor   \n",
              "2    ccomp       was  finish   \n",
              "3     poss      work     her   \n",
              "4     dobj  finished    work   \n",
              "5    punct       was       ,   \n",
              "6      det     nurse     the   \n",
              "7    nsubj       was   nurse   \n",
              "8     ROOT       was      be   \n",
              "9   advmod       was   still   \n",
              "10    prep       was      on   \n",
              "11    poss     break     his   \n",
              "12    pobj        on   break   \n",
              "\n",
              "                                                morph    pos      norm pref  \\\n",
              "0                        (Definite=Def, PronType=Art)    DET       the    T   \n",
              "1                                       (Number=Sing)   NOUN    doctor    d   \n",
              "2                          (Tense=Past, VerbForm=Fin)   VERB  finished    f   \n",
              "3   (Gender=Fem, Number=Sing, Person=3, Poss=Yes, ...   PRON       her    h   \n",
              "4                                       (Number=Sing)   NOUN      work    w   \n",
              "5                                    (PunctType=Comm)  PUNCT         ,    ,   \n",
              "6                        (Definite=Def, PronType=Art)    DET       the    t   \n",
              "7                                       (Number=Sing)   NOUN     nurse    n   \n",
              "8   (Mood=Ind, Number=Sing, Person=3, Tense=Past, ...    AUX       was    w   \n",
              "9                                                  ()    ADV     still    s   \n",
              "10                                                 ()    ADP        on    o   \n",
              "11  (Gender=Masc, Number=Sing, Person=3, Poss=Yes,...   PRON       his    h   \n",
              "12                                      (Number=Sing)   NOUN     break    b   \n",
              "\n",
              "   suffix  \n",
              "0     The  \n",
              "1     tor  \n",
              "2     hed  \n",
              "3     her  \n",
              "4     ork  \n",
              "5       ,  \n",
              "6     the  \n",
              "7     rse  \n",
              "8     was  \n",
              "9     ill  \n",
              "10     on  \n",
              "11    his  \n",
              "12    eak  "
            ],
            "text/html": [
              "\n",
              "  <div id=\"df-951ab1c3-a1bf-40c1-bfb8-f24425643483\">\n",
              "    <div class=\"colab-df-container\">\n",
              "      <div>\n",
              "<style scoped>\n",
              "    .dataframe tbody tr th:only-of-type {\n",
              "        vertical-align: middle;\n",
              "    }\n",
              "\n",
              "    .dataframe tbody tr th {\n",
              "        vertical-align: top;\n",
              "    }\n",
              "\n",
              "    .dataframe thead th {\n",
              "        text-align: right;\n",
              "    }\n",
              "</style>\n",
              "<table border=\"1\" class=\"dataframe\">\n",
              "  <thead>\n",
              "    <tr style=\"text-align: right;\">\n",
              "      <th></th>\n",
              "      <th>text</th>\n",
              "      <th>anc</th>\n",
              "      <th>child</th>\n",
              "      <th>dep</th>\n",
              "      <th>head</th>\n",
              "      <th>lemma</th>\n",
              "      <th>morph</th>\n",
              "      <th>pos</th>\n",
              "      <th>norm</th>\n",
              "      <th>pref</th>\n",
              "      <th>suffix</th>\n",
              "    </tr>\n",
              "  </thead>\n",
              "  <tbody>\n",
              "    <tr>\n",
              "      <th>0</th>\n",
              "      <td>The</td>\n",
              "      <td>[doctor, finished, was]</td>\n",
              "      <td>[]</td>\n",
              "      <td>det</td>\n",
              "      <td>doctor</td>\n",
              "      <td>the</td>\n",
              "      <td>(Definite=Def, PronType=Art)</td>\n",
              "      <td>DET</td>\n",
              "      <td>the</td>\n",
              "      <td>T</td>\n",
              "      <td>The</td>\n",
              "    </tr>\n",
              "    <tr>\n",
              "      <th>1</th>\n",
              "      <td>doctor</td>\n",
              "      <td>[finished, was]</td>\n",
              "      <td>[The]</td>\n",
              "      <td>nsubj</td>\n",
              "      <td>finished</td>\n",
              "      <td>doctor</td>\n",
              "      <td>(Number=Sing)</td>\n",
              "      <td>NOUN</td>\n",
              "      <td>doctor</td>\n",
              "      <td>d</td>\n",
              "      <td>tor</td>\n",
              "    </tr>\n",
              "    <tr>\n",
              "      <th>2</th>\n",
              "      <td>finished</td>\n",
              "      <td>[was]</td>\n",
              "      <td>[doctor, work]</td>\n",
              "      <td>ccomp</td>\n",
              "      <td>was</td>\n",
              "      <td>finish</td>\n",
              "      <td>(Tense=Past, VerbForm=Fin)</td>\n",
              "      <td>VERB</td>\n",
              "      <td>finished</td>\n",
              "      <td>f</td>\n",
              "      <td>hed</td>\n",
              "    </tr>\n",
              "    <tr>\n",
              "      <th>3</th>\n",
              "      <td>her</td>\n",
              "      <td>[work, finished, was]</td>\n",
              "      <td>[]</td>\n",
              "      <td>poss</td>\n",
              "      <td>work</td>\n",
              "      <td>her</td>\n",
              "      <td>(Gender=Fem, Number=Sing, Person=3, Poss=Yes, ...</td>\n",
              "      <td>PRON</td>\n",
              "      <td>her</td>\n",
              "      <td>h</td>\n",
              "      <td>her</td>\n",
              "    </tr>\n",
              "    <tr>\n",
              "      <th>4</th>\n",
              "      <td>work</td>\n",
              "      <td>[finished, was]</td>\n",
              "      <td>[her]</td>\n",
              "      <td>dobj</td>\n",
              "      <td>finished</td>\n",
              "      <td>work</td>\n",
              "      <td>(Number=Sing)</td>\n",
              "      <td>NOUN</td>\n",
              "      <td>work</td>\n",
              "      <td>w</td>\n",
              "      <td>ork</td>\n",
              "    </tr>\n",
              "    <tr>\n",
              "      <th>5</th>\n",
              "      <td>,</td>\n",
              "      <td>[was]</td>\n",
              "      <td>[]</td>\n",
              "      <td>punct</td>\n",
              "      <td>was</td>\n",
              "      <td>,</td>\n",
              "      <td>(PunctType=Comm)</td>\n",
              "      <td>PUNCT</td>\n",
              "      <td>,</td>\n",
              "      <td>,</td>\n",
              "      <td>,</td>\n",
              "    </tr>\n",
              "    <tr>\n",
              "      <th>6</th>\n",
              "      <td>the</td>\n",
              "      <td>[nurse, was]</td>\n",
              "      <td>[]</td>\n",
              "      <td>det</td>\n",
              "      <td>nurse</td>\n",
              "      <td>the</td>\n",
              "      <td>(Definite=Def, PronType=Art)</td>\n",
              "      <td>DET</td>\n",
              "      <td>the</td>\n",
              "      <td>t</td>\n",
              "      <td>the</td>\n",
              "    </tr>\n",
              "    <tr>\n",
              "      <th>7</th>\n",
              "      <td>nurse</td>\n",
              "      <td>[was]</td>\n",
              "      <td>[the]</td>\n",
              "      <td>nsubj</td>\n",
              "      <td>was</td>\n",
              "      <td>nurse</td>\n",
              "      <td>(Number=Sing)</td>\n",
              "      <td>NOUN</td>\n",
              "      <td>nurse</td>\n",
              "      <td>n</td>\n",
              "      <td>rse</td>\n",
              "    </tr>\n",
              "    <tr>\n",
              "      <th>8</th>\n",
              "      <td>was</td>\n",
              "      <td>[]</td>\n",
              "      <td>[finished, ,, nurse, still, on]</td>\n",
              "      <td>ROOT</td>\n",
              "      <td>was</td>\n",
              "      <td>be</td>\n",
              "      <td>(Mood=Ind, Number=Sing, Person=3, Tense=Past, ...</td>\n",
              "      <td>AUX</td>\n",
              "      <td>was</td>\n",
              "      <td>w</td>\n",
              "      <td>was</td>\n",
              "    </tr>\n",
              "    <tr>\n",
              "      <th>9</th>\n",
              "      <td>still</td>\n",
              "      <td>[was]</td>\n",
              "      <td>[]</td>\n",
              "      <td>advmod</td>\n",
              "      <td>was</td>\n",
              "      <td>still</td>\n",
              "      <td>()</td>\n",
              "      <td>ADV</td>\n",
              "      <td>still</td>\n",
              "      <td>s</td>\n",
              "      <td>ill</td>\n",
              "    </tr>\n",
              "    <tr>\n",
              "      <th>10</th>\n",
              "      <td>on</td>\n",
              "      <td>[was]</td>\n",
              "      <td>[break]</td>\n",
              "      <td>prep</td>\n",
              "      <td>was</td>\n",
              "      <td>on</td>\n",
              "      <td>()</td>\n",
              "      <td>ADP</td>\n",
              "      <td>on</td>\n",
              "      <td>o</td>\n",
              "      <td>on</td>\n",
              "    </tr>\n",
              "    <tr>\n",
              "      <th>11</th>\n",
              "      <td>his</td>\n",
              "      <td>[break, on, was]</td>\n",
              "      <td>[]</td>\n",
              "      <td>poss</td>\n",
              "      <td>break</td>\n",
              "      <td>his</td>\n",
              "      <td>(Gender=Masc, Number=Sing, Person=3, Poss=Yes,...</td>\n",
              "      <td>PRON</td>\n",
              "      <td>his</td>\n",
              "      <td>h</td>\n",
              "      <td>his</td>\n",
              "    </tr>\n",
              "    <tr>\n",
              "      <th>12</th>\n",
              "      <td>break</td>\n",
              "      <td>[on, was]</td>\n",
              "      <td>[his]</td>\n",
              "      <td>pobj</td>\n",
              "      <td>on</td>\n",
              "      <td>break</td>\n",
              "      <td>(Number=Sing)</td>\n",
              "      <td>NOUN</td>\n",
              "      <td>break</td>\n",
              "      <td>b</td>\n",
              "      <td>eak</td>\n",
              "    </tr>\n",
              "  </tbody>\n",
              "</table>\n",
              "</div>\n",
              "      <button class=\"colab-df-convert\" onclick=\"convertToInteractive('df-951ab1c3-a1bf-40c1-bfb8-f24425643483')\"\n",
              "              title=\"Convert this dataframe to an interactive table.\"\n",
              "              style=\"display:none;\">\n",
              "        \n",
              "  <svg xmlns=\"http://www.w3.org/2000/svg\" height=\"24px\"viewBox=\"0 0 24 24\"\n",
              "       width=\"24px\">\n",
              "    <path d=\"M0 0h24v24H0V0z\" fill=\"none\"/>\n",
              "    <path d=\"M18.56 5.44l.94 2.06.94-2.06 2.06-.94-2.06-.94-.94-2.06-.94 2.06-2.06.94zm-11 1L8.5 8.5l.94-2.06 2.06-.94-2.06-.94L8.5 2.5l-.94 2.06-2.06.94zm10 10l.94 2.06.94-2.06 2.06-.94-2.06-.94-.94-2.06-.94 2.06-2.06.94z\"/><path d=\"M17.41 7.96l-1.37-1.37c-.4-.4-.92-.59-1.43-.59-.52 0-1.04.2-1.43.59L10.3 9.45l-7.72 7.72c-.78.78-.78 2.05 0 2.83L4 21.41c.39.39.9.59 1.41.59.51 0 1.02-.2 1.41-.59l7.78-7.78 2.81-2.81c.8-.78.8-2.07 0-2.86zM5.41 20L4 18.59l7.72-7.72 1.47 1.35L5.41 20z\"/>\n",
              "  </svg>\n",
              "      </button>\n",
              "      \n",
              "  <style>\n",
              "    .colab-df-container {\n",
              "      display:flex;\n",
              "      flex-wrap:wrap;\n",
              "      gap: 12px;\n",
              "    }\n",
              "\n",
              "    .colab-df-convert {\n",
              "      background-color: #E8F0FE;\n",
              "      border: none;\n",
              "      border-radius: 50%;\n",
              "      cursor: pointer;\n",
              "      display: none;\n",
              "      fill: #1967D2;\n",
              "      height: 32px;\n",
              "      padding: 0 0 0 0;\n",
              "      width: 32px;\n",
              "    }\n",
              "\n",
              "    .colab-df-convert:hover {\n",
              "      background-color: #E2EBFA;\n",
              "      box-shadow: 0px 1px 2px rgba(60, 64, 67, 0.3), 0px 1px 3px 1px rgba(60, 64, 67, 0.15);\n",
              "      fill: #174EA6;\n",
              "    }\n",
              "\n",
              "    [theme=dark] .colab-df-convert {\n",
              "      background-color: #3B4455;\n",
              "      fill: #D2E3FC;\n",
              "    }\n",
              "\n",
              "    [theme=dark] .colab-df-convert:hover {\n",
              "      background-color: #434B5C;\n",
              "      box-shadow: 0px 1px 3px 1px rgba(0, 0, 0, 0.15);\n",
              "      filter: drop-shadow(0px 1px 2px rgba(0, 0, 0, 0.3));\n",
              "      fill: #FFFFFF;\n",
              "    }\n",
              "  </style>\n",
              "\n",
              "      <script>\n",
              "        const buttonEl =\n",
              "          document.querySelector('#df-951ab1c3-a1bf-40c1-bfb8-f24425643483 button.colab-df-convert');\n",
              "        buttonEl.style.display =\n",
              "          google.colab.kernel.accessAllowed ? 'block' : 'none';\n",
              "\n",
              "        async function convertToInteractive(key) {\n",
              "          const element = document.querySelector('#df-951ab1c3-a1bf-40c1-bfb8-f24425643483');\n",
              "          const dataTable =\n",
              "            await google.colab.kernel.invokeFunction('convertToInteractive',\n",
              "                                                     [key], {});\n",
              "          if (!dataTable) return;\n",
              "\n",
              "          const docLinkHtml = 'Like what you see? Visit the ' +\n",
              "            '<a target=\"_blank\" href=https://colab.research.google.com/notebooks/data_table.ipynb>data table notebook</a>'\n",
              "            + ' to learn more about interactive tables.';\n",
              "          element.innerHTML = '';\n",
              "          dataTable['output_type'] = 'display_data';\n",
              "          await google.colab.output.renderOutput(dataTable, element);\n",
              "          const docLink = document.createElement('div');\n",
              "          docLink.innerHTML = docLinkHtml;\n",
              "          element.appendChild(docLink);\n",
              "        }\n",
              "      </script>\n",
              "    </div>\n",
              "  </div>\n",
              "  "
            ]
          },
          "metadata": {}
        }
      ]
    },
    {
      "cell_type": "code",
      "source": [
        "for s in source_sentence[1].head.subtree:\n",
        "  print(s)"
      ],
      "metadata": {
        "colab": {
          "base_uri": "https://localhost:8080/"
        },
        "id": "m0Q0gimhXKoj",
        "outputId": "2e9b4ed3-46f6-4528-af51-f0e2ca7b6c6e"
      },
      "execution_count": null,
      "outputs": [
        {
          "output_type": "stream",
          "name": "stdout",
          "text": [
            "The\n",
            "doctor\n",
            "finished\n",
            "her\n",
            "work\n"
          ]
        }
      ]
    },
    {
      "cell_type": "code",
      "source": [
        "teste = nlp_en(\", the nurse was still on his break\")\n",
        "\n",
        "for s in teste[2].head.subtree:\n",
        "  print(s)"
      ],
      "metadata": {
        "colab": {
          "base_uri": "https://localhost:8080/"
        },
        "id": "DMKi1tIUgHv8",
        "outputId": "27405660-6c91-4b66-b9aa-b2a7bebf9a59"
      },
      "execution_count": null,
      "outputs": [
        {
          "output_type": "stream",
          "name": "stdout",
          "text": [
            ",\n",
            "the\n",
            "nurse\n",
            "was\n",
            "still\n",
            "on\n",
            "his\n",
            "break\n"
          ]
        }
      ]
    },
    {
      "cell_type": "code",
      "source": [
        "nsub = get_nsub_sentence(source_sentence)\n",
        "nsub"
      ],
      "metadata": {
        "colab": {
          "base_uri": "https://localhost:8080/"
        },
        "id": "aQdpWdYy0MAg",
        "outputId": "6b74c91e-2a8d-4300-94c0-6b92846fe5d5"
      },
      "execution_count": null,
      "outputs": [
        {
          "output_type": "execute_result",
          "data": {
            "text/plain": [
              "[doctor, nurse]"
            ]
          },
          "metadata": {},
          "execution_count": 80
        }
      ]
    },
    {
      "cell_type": "code",
      "source": [
        "def split_sentences_by_nsubj(source_sentence, nsub):\n",
        "  splitted = []\n",
        "  sentence_complete = source_sentence\n",
        "  sentence_to_remove = \"\"\n",
        "  is_all_the_same = is_all_same_pronoun(source_sentence)\n",
        "\n",
        "  if is_all_the_same:\n",
        "    return [source_sentence.text_with_ws]\n",
        "\n",
        "  for sub in nsub:\n",
        "    sentence = get_new_sentence_without_subj(sentence_complete, sentence_to_remove)\n",
        "    for token in sentence:\n",
        "      if token.text == str(sub):\n",
        "        sentence_to_remove = get_subj_subtree(sentence, token.i)\n",
        "        splitted.append(sentence_to_remove)\n",
        "\n",
        "  return splitted"
      ],
      "metadata": {
        "id": "qZDUXRq9OpYg"
      },
      "execution_count": 315,
      "outputs": []
    },
    {
      "cell_type": "code",
      "source": [
        "def get_new_sentence_without_subj(sentence_complete, sentence_to_remove):\n",
        "  if len(sentence_to_remove) > 0:\n",
        "    new_sentence = sentence_complete.text.split(sentence_to_remove)[-1]\n",
        "    print(\"new_sentence\", new_sentence)\n",
        "\n",
        "  else:\n",
        "    new_sentence = sentence_complete.text\n",
        "\n",
        "  print(\"sentence_to_remove\", sentence_to_remove)\n",
        "  return nlp_en(new_sentence)\n"
      ],
      "metadata": {
        "id": "rC_A-ZmqWOyI"
      },
      "execution_count": 389,
      "outputs": []
    },
    {
      "cell_type": "code",
      "source": [
        "def get_subj_subtree(source_sentence, index):\n",
        "  sentence = \"\"\n",
        "  \n",
        "  for subtree in source_sentence[index].head.subtree:\n",
        "    sentence += subtree.text_with_ws\n",
        "\n",
        "  return sentence  "
      ],
      "metadata": {
        "id": "NnvJ2OiUSnCH"
      },
      "execution_count": null,
      "outputs": []
    },
    {
      "cell_type": "code",
      "source": [
        "sentences_splitted = split_sentences_by_nsubj(source_sentence, nsub)\n",
        "sentences_splitted"
      ],
      "metadata": {
        "colab": {
          "base_uri": "https://localhost:8080/"
        },
        "id": "H0IueQ8T1fl1",
        "outputId": "03232271-d162-430a-83b1-f81502d70070"
      },
      "execution_count": null,
      "outputs": [
        {
          "output_type": "execute_result",
          "data": {
            "text/plain": [
              "['The doctor finished her work', ', the nurse was still on his break']"
            ]
          },
          "metadata": {},
          "execution_count": 84
        }
      ]
    },
    {
      "cell_type": "code",
      "source": [
        "pronouns_list"
      ],
      "metadata": {
        "colab": {
          "base_uri": "https://localhost:8080/"
        },
        "id": "YFSe1fz2fvjv",
        "outputId": "c2461bf5-5a32-4969-d073-b3263a163967"
      },
      "execution_count": null,
      "outputs": [
        {
          "output_type": "execute_result",
          "data": {
            "text/plain": [
              "[her, his]"
            ]
          },
          "metadata": {},
          "execution_count": 85
        }
      ]
    },
    {
      "cell_type": "code",
      "source": [
        "for index, sentence in enumerate(sentences_splitted):\n",
        "  sentence = nlp_en(sentence)\n",
        "  pro = get_disambiguate_pronoun(sentence, pronouns_list[index])\n",
        "  print(pro)"
      ],
      "metadata": {
        "colab": {
          "base_uri": "https://localhost:8080/"
        },
        "id": "eb_UndNHfFgE",
        "outputId": "363b4695-cc01-4d06-dbbb-e9e83e28512c"
      },
      "execution_count": null,
      "outputs": [
        {
          "output_type": "stream",
          "name": "stdout",
          "text": [
            "The doctor\n",
            "nurse\n"
          ]
        }
      ]
    },
    {
      "cell_type": "code",
      "source": [
        "get_sentence_gender(source_sentence)"
      ],
      "metadata": {
        "colab": {
          "base_uri": "https://localhost:8080/"
        },
        "id": "0Lh4eqRxJeEz",
        "outputId": "63f9f9ee-aed6-404e-b0ef-91bbb9893558"
      },
      "execution_count": null,
      "outputs": [
        {
          "output_type": "execute_result",
          "data": {
            "text/plain": [
              "['Fem', 'Masc']"
            ]
          },
          "metadata": {},
          "execution_count": 87
        }
      ]
    },
    {
      "cell_type": "code",
      "source": [
        "import re\n",
        "\n",
        "def format_translation(translation):\n",
        "  regex = r\".,\"\n",
        "  subst = \",\"\n",
        "\n",
        "  result = re.sub(regex, subst, translation, 0, re.MULTILINE)\n",
        "\n",
        "  return result"
      ],
      "metadata": {
        "id": "_Ob1D04En7_b"
      },
      "execution_count": null,
      "outputs": []
    },
    {
      "cell_type": "code",
      "source": [
        "def generate_contrained_translation(sentences_splitted):\n",
        "  translation = \"\"\n",
        "  for sentence in sentences_splitted:\n",
        "    traslation_google_splitted = get_google_translation(sentence)\n",
        "    translation_model_splitted = get_nbest_translation_model(sentence)\n",
        "\n",
        "    nsub_google = get_nsub_sentence(traslation_google_splitted)\n",
        "\n",
        "    constrained_sentence = get_constrained_sentence(traslation_google_splitted, nsub_google)\n",
        "\n",
        "    translation_contrained = get_contrained_translation(sentence, constrained_sentence)\n",
        "    translation += translation_contrained\n",
        "    \n",
        "  return translation\n",
        "    "
      ],
      "metadata": {
        "id": "8XGmAfBAJ-4-"
      },
      "execution_count": null,
      "outputs": []
    },
    {
      "cell_type": "code",
      "source": [
        "def get_google_translation(sentence):\n",
        "  if \"doctor\" in sentence:\n",
        "    return nlp(\"O médico terminou seu trabalho\")\n",
        "  elif \"nurse\" in sentence:\n",
        "    return nlp(\", a enfermeira ainda estava de folga\")"
      ],
      "metadata": {
        "id": "tOMm6yszWLuk"
      },
      "execution_count": null,
      "outputs": []
    },
    {
      "cell_type": "code",
      "source": [
        "def get_nbest_translation_model(source):\n",
        "  source += \".\"\n",
        "  input_ids = tokenizer(source, return_tensors=\"pt\").input_ids  \n",
        "  output = model.generate(input_ids, num_beams=10, num_return_sequences=1)\n",
        "  translation = tokenizer.decode(output[0], skip_special_tokens=True)\n",
        "\n",
        "  return translation"
      ],
      "metadata": {
        "id": "PBi51yZPKDC3"
      },
      "execution_count": null,
      "outputs": []
    },
    {
      "cell_type": "code",
      "source": [
        "def get_contrained_translation(source, constrained_sentence):\n",
        "\n",
        "  source = source.strip() + \".\"\n",
        "  constrained_sentence = constrained_sentence.strip().lstrip(\",\") + \".\"\n",
        "  \n",
        "  input_ids = tokenizer(source, return_tensors=\"pt\").input_ids\n",
        "\n",
        "  force_words_ids = [\n",
        "    tokenizer([constrained_sentence], add_special_tokens=False).input_ids,\n",
        "  ]\n",
        "\n",
        "  output = model.generate(\n",
        "    input_ids,\n",
        "    force_words_ids=force_words_ids,\n",
        "    num_beams=20,\n",
        "    num_return_sequences=3,\n",
        "    max_new_tokens=50\n",
        "  )\n",
        "\n",
        "  translation = tokenizer.decode(output[0], skip_special_tokens=True)\n",
        " \n",
        "  return translation"
      ],
      "metadata": {
        "id": "O-ZrWo_sXenc"
      },
      "execution_count": null,
      "outputs": []
    },
    {
      "cell_type": "code",
      "source": [
        "translations_sep = generate_contrained_translation(sentences_splitted)\n",
        "translations_sep"
      ],
      "metadata": {
        "colab": {
          "base_uri": "https://localhost:8080/",
          "height": 90
        },
        "id": "YOzxaKgnOJIf",
        "outputId": "d4890c38-5848-4ebc-de50-a939d9ed267d"
      },
      "execution_count": null,
      "outputs": [
        {
          "output_type": "stream",
          "name": "stderr",
          "text": [
            "/usr/local/lib/python3.7/dist-packages/transformers/generation_utils.py:1301: UserWarning: Neither `max_length` nor `max_new_tokens` has been set, `max_length` will default to 20 (`self.config.max_length`). Controlling `max_length` via the config is deprecated and `max_length` will be removed from the config in v5 of Transformers -- we recommend using `max_new_tokens` to control the maximum length of the generation.\n",
            "  UserWarning,\n"
          ]
        },
        {
          "output_type": "execute_result",
          "data": {
            "text/plain": [
              "'A médica terminou seu trabalho., o enfermeiro ainda estava de folga.'"
            ],
            "application/vnd.google.colaboratory.intrinsic+json": {
              "type": "string"
            }
          },
          "metadata": {},
          "execution_count": 93
        }
      ]
    },
    {
      "cell_type": "code",
      "source": [
        "format_translation(translations_sep)"
      ],
      "metadata": {
        "colab": {
          "base_uri": "https://localhost:8080/",
          "height": 36
        },
        "id": "ifir1HYplWnn",
        "outputId": "73f32055-1fce-415d-ad0a-dcc00dde1f37"
      },
      "execution_count": null,
      "outputs": [
        {
          "output_type": "execute_result",
          "data": {
            "text/plain": [
              "'A médica terminou seu trabalho, o enfermeiro ainda estava de folga.'"
            ],
            "application/vnd.google.colaboratory.intrinsic+json": {
              "type": "string"
            }
          },
          "metadata": {},
          "execution_count": 94
        }
      ]
    },
    {
      "cell_type": "markdown",
      "source": [
        "Source tem mais de uma entidade e só um gênero?"
      ],
      "metadata": {
        "id": "AimSHVdhMv4f"
      }
    },
    {
      "cell_type": "code",
      "source": [
        "source_sentence = nlp_en(\"The doctor finished her work, the nurse was still working.\")\n",
        "translation_google = nlp(\"A médica terminou seu trabalho, a enfermeira ainda estava trabalhando.\")\n",
        "\n",
        "print(source_sentence)\n",
        "print(translation_google)"
      ],
      "metadata": {
        "colab": {
          "base_uri": "https://localhost:8080/"
        },
        "id": "AaGdaTnkpi9r",
        "outputId": "0248404a-5509-4d74-8684-2598b32d572c"
      },
      "execution_count": null,
      "outputs": [
        {
          "output_type": "stream",
          "name": "stdout",
          "text": [
            "The doctor finished her work, the nurse was still working.\n",
            "A médica terminou seu trabalho, a enfermeira ainda estava trabalhando.\n"
          ]
        }
      ]
    },
    {
      "cell_type": "code",
      "source": [
        "pronouns_list = get_pronoun(source_sentence)\n",
        "\n",
        "print(pronouns_list)"
      ],
      "metadata": {
        "colab": {
          "base_uri": "https://localhost:8080/"
        },
        "id": "WnTsvN_rqEQV",
        "outputId": "cdca8419-d783-4316-acea-984beee68c90"
      },
      "execution_count": null,
      "outputs": [
        {
          "output_type": "stream",
          "name": "stdout",
          "text": [
            "[her]\n"
          ]
        }
      ]
    },
    {
      "cell_type": "code",
      "source": [
        "get_sentence_gender(source_sentence)"
      ],
      "metadata": {
        "colab": {
          "base_uri": "https://localhost:8080/"
        },
        "id": "PwUh4DTJqKu7",
        "outputId": "cbae23e3-f164-4e96-8254-72b1941c7971"
      },
      "execution_count": null,
      "outputs": [
        {
          "output_type": "execute_result",
          "data": {
            "text/plain": [
              "['Fem']"
            ]
          },
          "metadata": {},
          "execution_count": 97
        }
      ]
    },
    {
      "cell_type": "code",
      "source": [
        "nsubs_source = get_nsub_sentence(source_sentence)\n",
        "nsubs_source"
      ],
      "metadata": {
        "colab": {
          "base_uri": "https://localhost:8080/"
        },
        "id": "p3zY2HzEqfbM",
        "outputId": "2e1777ad-15a6-4277-f62d-98b0cec4b623"
      },
      "execution_count": null,
      "outputs": [
        {
          "output_type": "execute_result",
          "data": {
            "text/plain": [
              "[doctor, nurse]"
            ]
          },
          "metadata": {},
          "execution_count": 98
        }
      ]
    },
    {
      "cell_type": "code",
      "source": [
        "def has_more_suject_than_pronoun(pronouns_list, nsubs_source):\n",
        "  return len(pronouns_list) == len(nsubs_source)"
      ],
      "metadata": {
        "id": "coZKEsfqq2Rn"
      },
      "execution_count": null,
      "outputs": []
    },
    {
      "cell_type": "code",
      "source": [
        "has_more_suject_than_pronoun(pronouns_list, nsubs_source)"
      ],
      "metadata": {
        "colab": {
          "base_uri": "https://localhost:8080/"
        },
        "id": "xZcEK0FDrOzi",
        "outputId": "185b30b4-04d4-4f4a-f81f-764c9af66352"
      },
      "execution_count": null,
      "outputs": [
        {
          "output_type": "execute_result",
          "data": {
            "text/plain": [
              "False"
            ]
          },
          "metadata": {},
          "execution_count": 100
        }
      ]
    },
    {
      "cell_type": "markdown",
      "source": [
        "Source não tem gênero?"
      ],
      "metadata": {
        "id": "pfLQO5jxsIWZ"
      }
    },
    {
      "cell_type": "code",
      "source": [
        "source_neutral = nlp_en(\"I am tired\")\n",
        "google_trans_neutral = nlp(\"estou cansado\")\n",
        "model_trans_neutral = nlp(\"Eu sou cansada\")"
      ],
      "metadata": {
        "id": "DyKyGJTCQOlL"
      },
      "execution_count": null,
      "outputs": []
    },
    {
      "cell_type": "code",
      "source": [
        "get_sentence_gender(source_neutral)"
      ],
      "metadata": {
        "colab": {
          "base_uri": "https://localhost:8080/"
        },
        "id": "AE0PpvMFRv29",
        "outputId": "a8c11a46-fa1a-47db-e96d-0665051adbea"
      },
      "execution_count": null,
      "outputs": [
        {
          "output_type": "execute_result",
          "data": {
            "text/plain": [
              "[]"
            ]
          },
          "metadata": {},
          "execution_count": 103
        }
      ]
    },
    {
      "cell_type": "code",
      "source": [
        "nsubs_source_neutral = get_nsub_sentence(source_neutral)\n",
        "nsubs_source_neutral"
      ],
      "metadata": {
        "colab": {
          "base_uri": "https://localhost:8080/"
        },
        "id": "vCwRUDZFR008",
        "outputId": "54f3cb72-35e3-4fce-8d9c-0ea7c3ba21ae"
      },
      "execution_count": null,
      "outputs": [
        {
          "output_type": "execute_result",
          "data": {
            "text/plain": [
              "[I]"
            ]
          },
          "metadata": {},
          "execution_count": 104
        }
      ]
    },
    {
      "cell_type": "code",
      "source": [
        "pronouns_list = get_pronoun(source_neutral)\n",
        "\n",
        "print(pronouns_list)"
      ],
      "metadata": {
        "colab": {
          "base_uri": "https://localhost:8080/"
        },
        "id": "Gz32qf-CSWoW",
        "outputId": "142734dc-c715-4db9-e23b-1a4fb0473a12"
      },
      "execution_count": null,
      "outputs": [
        {
          "output_type": "stream",
          "name": "stdout",
          "text": [
            "[I]\n"
          ]
        }
      ]
    },
    {
      "cell_type": "code",
      "source": [
        "has_more_suject_than_pronoun(pronouns_list, nsubs_source_neutral)"
      ],
      "metadata": {
        "colab": {
          "base_uri": "https://localhost:8080/"
        },
        "id": "sAgZr_jLSfmj",
        "outputId": "57bbfc4e-608e-492a-fcf7-aae850ebee6e"
      },
      "execution_count": null,
      "outputs": [
        {
          "output_type": "execute_result",
          "data": {
            "text/plain": [
              "True"
            ]
          },
          "metadata": {},
          "execution_count": 106
        }
      ]
    },
    {
      "cell_type": "code",
      "source": [
        "sentences_splitted = split_sentences_by_nsubj(source_neutral, nsubs_source_neutral)\n",
        "sentences_splitted"
      ],
      "metadata": {
        "colab": {
          "base_uri": "https://localhost:8080/"
        },
        "id": "2js6wmkqTL0y",
        "outputId": "8259f3ff-19ef-4c7b-f04c-049895036e9b"
      },
      "execution_count": null,
      "outputs": [
        {
          "output_type": "execute_result",
          "data": {
            "text/plain": [
              "['I am tired']"
            ]
          },
          "metadata": {},
          "execution_count": 107
        }
      ]
    },
    {
      "cell_type": "code",
      "source": [
        "translations = generate_multiple_translations(sentences_splitted)"
      ],
      "metadata": {
        "colab": {
          "base_uri": "https://localhost:8080/",
          "height": 287
        },
        "id": "1sNEr4F9UIb9",
        "outputId": "678a97bb-20b3-4861-9d73-54bbd420200f"
      },
      "execution_count": 319,
      "outputs": [
        {
          "output_type": "error",
          "ename": "AttributeError",
          "evalue": "ignored",
          "traceback": [
            "\u001b[0;31m---------------------------------------------------------------------------\u001b[0m",
            "\u001b[0;31mAttributeError\u001b[0m                            Traceback (most recent call last)",
            "\u001b[0;32m<ipython-input-319-d97c6b015034>\u001b[0m in \u001b[0;36m<module>\u001b[0;34m\u001b[0m\n\u001b[0;32m----> 1\u001b[0;31m \u001b[0mtranslations\u001b[0m \u001b[0;34m=\u001b[0m \u001b[0mgenerate_multiple_translations\u001b[0m\u001b[0;34m(\u001b[0m\u001b[0msentences_splitted\u001b[0m\u001b[0;34m)\u001b[0m\u001b[0;34m\u001b[0m\u001b[0;34m\u001b[0m\u001b[0m\n\u001b[0m",
            "\u001b[0;32m<ipython-input-310-ecaceaae88d4>\u001b[0m in \u001b[0;36mgenerate_multiple_translations\u001b[0;34m(sentences_splitted)\u001b[0m\n\u001b[1;32m      6\u001b[0m \u001b[0;34m\u001b[0m\u001b[0m\n\u001b[1;32m      7\u001b[0m     \u001b[0;31m#TODO criar regra para adicionar EU nas traduções do google quando for I AM\u001b[0m\u001b[0;34m\u001b[0m\u001b[0;34m\u001b[0m\u001b[0;34m\u001b[0m\u001b[0m\n\u001b[0;32m----> 8\u001b[0;31m     \u001b[0;32mif\u001b[0m \u001b[0msentence\u001b[0m\u001b[0;34m.\u001b[0m\u001b[0mtext\u001b[0m\u001b[0;34m.\u001b[0m\u001b[0mstartswith\u001b[0m\u001b[0;34m(\u001b[0m\u001b[0;34m\"I am\"\u001b[0m\u001b[0;34m)\u001b[0m\u001b[0;34m:\u001b[0m\u001b[0;34m\u001b[0m\u001b[0;34m\u001b[0m\u001b[0m\n\u001b[0m\u001b[1;32m      9\u001b[0m       \u001b[0mnew_sentence\u001b[0m \u001b[0;34m=\u001b[0m \u001b[0;34m\"Eu \"\u001b[0m \u001b[0;34m+\u001b[0m \u001b[0mtraslation_google_splitted\u001b[0m\u001b[0;34m.\u001b[0m\u001b[0mtext\u001b[0m\u001b[0;34m\u001b[0m\u001b[0;34m\u001b[0m\u001b[0m\n\u001b[1;32m     10\u001b[0m       \u001b[0mtraslation_google_splitted\u001b[0m \u001b[0;34m=\u001b[0m \u001b[0mnlp\u001b[0m\u001b[0;34m(\u001b[0m\u001b[0mnew_sentence\u001b[0m\u001b[0;34m)\u001b[0m\u001b[0;34m\u001b[0m\u001b[0;34m\u001b[0m\u001b[0m\n",
            "\u001b[0;31mAttributeError\u001b[0m: 'str' object has no attribute 'text'"
          ]
        }
      ]
    },
    {
      "cell_type": "code",
      "source": [
        "src_t = nlp_en(\"I am tired and I like to read alot\")\n",
        "nsubs_t = get_nsub_sentence(src_t)\n",
        "sentences_splitted_t = split_sentences_by_nsubj(src_t, nsubs_t)\n",
        "sentences_splitted_t"
      ],
      "metadata": {
        "colab": {
          "base_uri": "https://localhost:8080/"
        },
        "id": "qI8tAiZ9tG7k",
        "outputId": "16eb88b5-696a-445a-acdf-2a26cbc0e6cf"
      },
      "execution_count": 380,
      "outputs": [
        {
          "output_type": "stream",
          "name": "stdout",
          "text": [
            "['I', 'I']\n"
          ]
        },
        {
          "output_type": "execute_result",
          "data": {
            "text/plain": [
              "['I am tired and I like to read alot']"
            ]
          },
          "metadata": {},
          "execution_count": 380
        }
      ]
    },
    {
      "cell_type": "code",
      "source": [
        "nsubs_t"
      ],
      "metadata": {
        "colab": {
          "base_uri": "https://localhost:8080/"
        },
        "id": "8WRtblpvvqI0",
        "outputId": "44446137-2730-4788-c9ae-e9019aaa7d00"
      },
      "execution_count": 448,
      "outputs": [
        {
          "output_type": "execute_result",
          "data": {
            "text/plain": [
              "I"
            ]
          },
          "metadata": {},
          "execution_count": 448
        }
      ]
    },
    {
      "cell_type": "code",
      "source": [
        "is_all_same_pronoun(src_t)"
      ],
      "metadata": {
        "colab": {
          "base_uri": "https://localhost:8080/"
        },
        "id": "y9Let8S0ymYT",
        "outputId": "63302903-94e7-4cf8-afea-2435f08692fa"
      },
      "execution_count": 293,
      "outputs": [
        {
          "output_type": "stream",
          "name": "stdout",
          "text": [
            "['I', 'I']\n"
          ]
        },
        {
          "output_type": "execute_result",
          "data": {
            "text/plain": [
              "True"
            ]
          },
          "metadata": {},
          "execution_count": 293
        }
      ]
    },
    {
      "cell_type": "code",
      "source": [
        "def is_all_same_pronoun(sentence):\n",
        "  pronoun_list = []\n",
        "  for token in sentence:\n",
        "    if token.pos_ is 'PRON':\n",
        "      pronoun_list.append(token.text)\n",
        "\n",
        "  print(pronoun_list)  \n",
        "\n",
        "  return len(set(pronoun_list)) == 1"
      ],
      "metadata": {
        "id": "dmaT2gJ1v73V"
      },
      "execution_count": 395,
      "outputs": []
    },
    {
      "cell_type": "code",
      "source": [
        "def split_sentences_by_nsubj_same_subj(source_sentence, nsub):\n",
        "  splitted = []\n",
        "  sentence_complete = source_sentence\n",
        "  sentence_to_remove = \"\"\n",
        "  is_all_same = is_all_same_pronoun(source_sentence)\n",
        "\n",
        "  if is_all_same:\n",
        "    pronoun = nsub[0] \n",
        "\n",
        "    for words in sentence_complete:\n",
        "      if words.pos_ == 'CCONJ':\n",
        "        split_one = sentence_complete[:words.i]\n",
        "        split_two = sentence_complete[words.i]\n",
        "        split_three = sentence_complete[words.i+1:]\n",
        "        splitted.append(split_one.text)\n",
        "        splitted.append(split_two.text)\n",
        "        splitted.append(split_three.text)\n",
        "\n",
        "    # for sentence in splitted:\n",
        "    #   sentences = [pronoun.text + x for x in sentence.split(pronoun.text) if x]\n",
        "    #   teste.append(sentences)\n",
        "          \n",
        "\n",
        "    return splitted"
      ],
      "metadata": {
        "id": "Pi5b9lRHCHW9"
      },
      "execution_count": 548,
      "outputs": []
    },
    {
      "cell_type": "code",
      "source": [
        "pronouns = get_pronoun(src_t)"
      ],
      "metadata": {
        "id": "NPZuvAMmCoYz"
      },
      "execution_count": 415,
      "outputs": []
    },
    {
      "cell_type": "code",
      "source": [
        "src_t"
      ],
      "metadata": {
        "colab": {
          "base_uri": "https://localhost:8080/"
        },
        "id": "axZvHh5gEwFB",
        "outputId": "fd86ec01-cd1d-4d2c-8431-67a00606d283"
      },
      "execution_count": 392,
      "outputs": [
        {
          "output_type": "execute_result",
          "data": {
            "text/plain": [
              "I am tired and I like to read alot"
            ]
          },
          "metadata": {},
          "execution_count": 392
        }
      ]
    },
    {
      "cell_type": "code",
      "source": [
        "pronouns"
      ],
      "metadata": {
        "colab": {
          "base_uri": "https://localhost:8080/"
        },
        "id": "hdYmyXmfIjSt",
        "outputId": "20c2acf9-b5dd-4b0c-a601-b78406ece07d"
      },
      "execution_count": 416,
      "outputs": [
        {
          "output_type": "execute_result",
          "data": {
            "text/plain": [
              "[I, I]"
            ]
          },
          "metadata": {},
          "execution_count": 416
        }
      ]
    },
    {
      "cell_type": "code",
      "source": [
        "sentences_splitted_teste = split_sentences_by_nsubj_same_subj(src_t, pronouns)\n",
        "sentences_splitted_teste"
      ],
      "metadata": {
        "colab": {
          "base_uri": "https://localhost:8080/"
        },
        "id": "l_msclASCVl6",
        "outputId": "4f0bc127-77f7-4866-e878-b983d2f7051b"
      },
      "execution_count": 549,
      "outputs": [
        {
          "output_type": "stream",
          "name": "stdout",
          "text": [
            "['I', 'I']\n"
          ]
        },
        {
          "output_type": "execute_result",
          "data": {
            "text/plain": [
              "['I am tired', 'and', 'I like to read alot']"
            ]
          },
          "metadata": {},
          "execution_count": 549
        }
      ]
    },
    {
      "cell_type": "code",
      "source": [
        "for token in src_t:\n",
        "  print(token, \"--->\", token.pos_)"
      ],
      "metadata": {
        "colab": {
          "base_uri": "https://localhost:8080/"
        },
        "id": "kV2YauOOOe9c",
        "outputId": "77b11b6b-fa25-425d-bcc5-d17c11bc8dbb"
      },
      "execution_count": 453,
      "outputs": [
        {
          "output_type": "stream",
          "name": "stdout",
          "text": [
            "I ---> PRON\n",
            "am ---> AUX\n",
            "tired ---> ADJ\n",
            "and ---> CCONJ\n",
            "I ---> PRON\n",
            "like ---> VERB\n",
            "to ---> PART\n",
            "read ---> VERB\n",
            "alot ---> NOUN\n"
          ]
        }
      ]
    },
    {
      "cell_type": "code",
      "source": [
        "sentences_splitted_teste"
      ],
      "metadata": {
        "colab": {
          "base_uri": "https://localhost:8080/"
        },
        "id": "yijSJ-14S5Q7",
        "outputId": "c3ab32f5-e75e-4e8e-d64f-fc74a91ae650"
      },
      "execution_count": 557,
      "outputs": [
        {
          "output_type": "execute_result",
          "data": {
            "text/plain": [
              "['I am tired', 'and', 'I like to read alot']"
            ]
          },
          "metadata": {},
          "execution_count": 557
        }
      ]
    },
    {
      "cell_type": "code",
      "source": [
        "def get_constrained_sentence_multiple(translation, nsub):  \n",
        "  constrained_sentences = []\n",
        "\n",
        "  children = [child for child in nsub.children]\n",
        "  new_sentence = \"\"\n",
        "  \n",
        "  for token in translation:\n",
        "    if token.is_sent_start and token.text.lower() == \"eu\":\n",
        "      new_sentence += token.text_with_ws\n",
        "\n",
        "    if token != nsub and token not in children and token.tag_ != 'ADJ':\n",
        "      new_sentence += token.text_with_ws\n",
        "\n",
        "    if token.tag_ == 'ADJ' or token.is_sent_end:\n",
        "      constrained_sentences.append(new_sentence.strip())\n",
        "      new_sentence = \"\"\n",
        "\n",
        "  return constrained_sentences"
      ],
      "metadata": {
        "id": "FWYdYtzwUrbn"
      },
      "execution_count": 558,
      "outputs": []
    },
    {
      "cell_type": "code",
      "source": [
        "def get_google_translation_multiple(sentence):\n",
        "  if \"tired\" in sentence:\n",
        "    return nlp(\"estou cansado\")\n",
        "  elif \"and\" in sentence:\n",
        "    return nlp(\"e\")  \n",
        "  elif \"read\" in sentence:\n",
        "    return nlp(\"gosto de ler\")  "
      ],
      "metadata": {
        "id": "s45pD5oXKxut"
      },
      "execution_count": 534,
      "outputs": []
    },
    {
      "cell_type": "code",
      "source": [
        "def generate_multiple_translations(sentences_splitted):\n",
        "  translations = []\n",
        "  \n",
        "  for sentence in sentences_splitted:\n",
        "    is_one = sentence.split()  \n",
        "    if len(is_one) == 1:\n",
        "      traslation_google_splitted = get_google_translation_multiple(sentence)\n",
        "      translations.append(traslation_google_splitted.text_with_ws)\n",
        "    \n",
        "    else:  \n",
        "      traslation_google_splitted = get_google_translation_multiple(sentence)\n",
        "      translation_model_splitted = get_nbest_translation_model(sentence)\n",
        "\n",
        "      #TODO criar regra para adicionar EU nas traduções do google quando for I AM \n",
        "      if sentence.startswith(\"I \"):\n",
        "        new_sentence = \"Eu \" + traslation_google_splitted.text_with_ws\n",
        "        traslation_google_splitted = nlp(new_sentence)\n",
        "\n",
        "      nsub_google = get_nsub_sentence(traslation_google_splitted)\n",
        "\n",
        "      constrained_sentence = get_constrained_sentence_multiple(traslation_google_splitted, nsub_google)\n",
        "\n",
        "      translation_contrained = get_contrained_translation_multiple(sentence, constrained_sentence)\n",
        "      translations.append(translation_contrained)\n",
        "   \n",
        "  return translations"
      ],
      "metadata": {
        "id": "SlZ2eNjjSrO6"
      },
      "execution_count": 615,
      "outputs": []
    },
    {
      "cell_type": "code",
      "source": [
        "def get_contrained_translation_multiple(source, constrained_sentence):\n",
        "  source = source.strip() + \".\"\n",
        "  constrained_sentence = constrained_sentence\n",
        "  \n",
        "  input_ids = tokenizer(source, return_tensors=\"pt\").input_ids\n",
        "\n",
        "  force_words_ids = [\n",
        "    tokenizer(constrained_sentence, add_special_tokens=False).input_ids,\n",
        "  ]\n",
        "\n",
        "  output = model.generate(\n",
        "    input_ids,\n",
        "    force_words_ids=force_words_ids,\n",
        "    num_beams=50,\n",
        "    num_return_sequences=2,\n",
        "    no_repeat_ngram_size=5,\n",
        "  )\n",
        "\n",
        "  translations = []\n",
        "\n",
        "  for out in output:\n",
        "    translations.append(tokenizer.decode(out, skip_special_tokens=True))\n",
        " \n",
        "  return translations"
      ],
      "metadata": {
        "id": "kd5QG7hFTzQu"
      },
      "execution_count": 543,
      "outputs": []
    },
    {
      "cell_type": "code",
      "source": [
        "translations_t = generate_multiple_translations(sentences_splitted_teste)\n",
        "translations_t"
      ],
      "metadata": {
        "colab": {
          "base_uri": "https://localhost:8080/"
        },
        "id": "sMIbn4aIt4uE",
        "outputId": "5180e32f-f11c-450e-aea9-996d7c41fee6"
      },
      "execution_count": 616,
      "outputs": [
        {
          "output_type": "stream",
          "name": "stderr",
          "text": [
            "/usr/local/lib/python3.7/dist-packages/transformers/generation_utils.py:1301: UserWarning: Neither `max_length` nor `max_new_tokens` has been set, `max_length` will default to 20 (`self.config.max_length`). Controlling `max_length` via the config is deprecated and `max_length` will be removed from the config in v5 of Transformers -- we recommend using `max_new_tokens` to control the maximum length of the generation.\n",
            "  UserWarning,\n"
          ]
        },
        {
          "output_type": "execute_result",
          "data": {
            "text/plain": [
              "[['Eu estou cansada.', 'Eu estou cansado.'],\n",
              " 'e',\n",
              " ['Eu gosto de ler muito.', 'Eu gosto de ler muita coisa.']]"
            ]
          },
          "metadata": {},
          "execution_count": 616
        }
      ]
    },
    {
      "cell_type": "code",
      "source": [
        "format_multiple_sentence(translations_t)"
      ],
      "metadata": {
        "colab": {
          "base_uri": "https://localhost:8080/"
        },
        "id": "cr1DUpahpIgT",
        "outputId": "445730ac-602e-4dc2-c465-78caa8f9b9a0"
      },
      "execution_count": 625,
      "outputs": [
        {
          "output_type": "stream",
          "name": "stdout",
          "text": [
            "all_combinations [('Eu estou cansada.', 'e', 'Eu gosto de ler muito.'), ('Eu estou cansada.', 'e', 'Eu gosto de ler muita coisa.'), ('Eu estou cansado.', 'e', 'Eu gosto de ler muito.'), ('Eu estou cansado.', 'e', 'Eu gosto de ler muita coisa.')]\n",
            "eu estou cansada. e eu gosto de ler muito.\n",
            "eu estou cansada. e eu gosto de ler muita coisa.\n",
            "eu estou cansado. e eu gosto de ler muito.\n",
            "eu estou cansado. e eu gosto de ler muita coisa.\n"
          ]
        }
      ]
    },
    {
      "cell_type": "code",
      "source": [
        "import itertools\n",
        "\n",
        "def format_multiple_sentence(translations):\n",
        "  sentences_formatted = []\n",
        "  all_combinations = list(itertools.product(*translations))\n",
        "  print(\"all_combinations\", all_combinations)\n",
        "  # TODO checar se a string tem só uma palavra e se for, tirar o ponto do anterior e o maisculo do proximo\n",
        "\n",
        "  for sentence in all_combinations:\n",
        "    sent_joined = \" \".join(sentence)\n",
        "\n",
        "    print(sent_joined.lower())\n",
        "\n"
      ],
      "metadata": {
        "id": "dgC3LQf7oiYG"
      },
      "execution_count": 626,
      "outputs": []
    },
    {
      "cell_type": "markdown",
      "source": [
        "Adicionando a tradução neutra"
      ],
      "metadata": {
        "id": "xh9-lyEUsWHf"
      }
    }
  ]
}