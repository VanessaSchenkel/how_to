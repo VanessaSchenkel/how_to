{
  "nbformat": 4,
  "nbformat_minor": 0,
  "metadata": {
    "colab": {
      "provenance": [],
      "machine_shape": "hm",
      "authorship_tag": "ABX9TyNPWULhb3ztZGhSOZu34li8",
      "include_colab_link": true
    },
    "kernelspec": {
      "name": "python3",
      "display_name": "Python 3"
    },
    "language_info": {
      "name": "python"
    },
    "accelerator": "GPU",
    "gpuClass": "standard",
    "widgets": {
      "application/vnd.jupyter.widget-state+json": {
        "48f66244e7014fe890a54a6aacf8c059": {
          "model_module": "@jupyter-widgets/controls",
          "model_name": "HBoxModel",
          "model_module_version": "1.5.0",
          "state": {
            "_dom_classes": [],
            "_model_module": "@jupyter-widgets/controls",
            "_model_module_version": "1.5.0",
            "_model_name": "HBoxModel",
            "_view_count": null,
            "_view_module": "@jupyter-widgets/controls",
            "_view_module_version": "1.5.0",
            "_view_name": "HBoxView",
            "box_style": "",
            "children": [
              "IPY_MODEL_d4ad3aba369a444caa848729ad77b02a",
              "IPY_MODEL_60d17652943f496e9d2a2d638809ce58",
              "IPY_MODEL_53d83a3b173a4028802033183f3fcfc3"
            ],
            "layout": "IPY_MODEL_f98e9dbc83c54eb8ad5fa125e99aabbc"
          }
        },
        "d4ad3aba369a444caa848729ad77b02a": {
          "model_module": "@jupyter-widgets/controls",
          "model_name": "HTMLModel",
          "model_module_version": "1.5.0",
          "state": {
            "_dom_classes": [],
            "_model_module": "@jupyter-widgets/controls",
            "_model_module_version": "1.5.0",
            "_model_name": "HTMLModel",
            "_view_count": null,
            "_view_module": "@jupyter-widgets/controls",
            "_view_module_version": "1.5.0",
            "_view_name": "HTMLView",
            "description": "",
            "description_tooltip": null,
            "layout": "IPY_MODEL_36f847adff904483b4766aa5b1e79405",
            "placeholder": "​",
            "style": "IPY_MODEL_5d594133675d40839f950b83f988bab6",
            "value": "Downloading data files: 100%"
          }
        },
        "60d17652943f496e9d2a2d638809ce58": {
          "model_module": "@jupyter-widgets/controls",
          "model_name": "FloatProgressModel",
          "model_module_version": "1.5.0",
          "state": {
            "_dom_classes": [],
            "_model_module": "@jupyter-widgets/controls",
            "_model_module_version": "1.5.0",
            "_model_name": "FloatProgressModel",
            "_view_count": null,
            "_view_module": "@jupyter-widgets/controls",
            "_view_module_version": "1.5.0",
            "_view_name": "ProgressView",
            "bar_style": "success",
            "description": "",
            "description_tooltip": null,
            "layout": "IPY_MODEL_45e696e8762b433aa6a8f4ccfafe53d8",
            "max": 1,
            "min": 0,
            "orientation": "horizontal",
            "style": "IPY_MODEL_38718bc86e27486bb0f7b9996cd8dac7",
            "value": 1
          }
        },
        "53d83a3b173a4028802033183f3fcfc3": {
          "model_module": "@jupyter-widgets/controls",
          "model_name": "HTMLModel",
          "model_module_version": "1.5.0",
          "state": {
            "_dom_classes": [],
            "_model_module": "@jupyter-widgets/controls",
            "_model_module_version": "1.5.0",
            "_model_name": "HTMLModel",
            "_view_count": null,
            "_view_module": "@jupyter-widgets/controls",
            "_view_module_version": "1.5.0",
            "_view_name": "HTMLView",
            "description": "",
            "description_tooltip": null,
            "layout": "IPY_MODEL_1f80d6c4334545bca0a5dfcadeed944d",
            "placeholder": "​",
            "style": "IPY_MODEL_255887bf657c4656b45627578e09d74f",
            "value": " 1/1 [00:02&lt;00:00,  2.44s/it]"
          }
        },
        "f98e9dbc83c54eb8ad5fa125e99aabbc": {
          "model_module": "@jupyter-widgets/base",
          "model_name": "LayoutModel",
          "model_module_version": "1.2.0",
          "state": {
            "_model_module": "@jupyter-widgets/base",
            "_model_module_version": "1.2.0",
            "_model_name": "LayoutModel",
            "_view_count": null,
            "_view_module": "@jupyter-widgets/base",
            "_view_module_version": "1.2.0",
            "_view_name": "LayoutView",
            "align_content": null,
            "align_items": null,
            "align_self": null,
            "border": null,
            "bottom": null,
            "display": null,
            "flex": null,
            "flex_flow": null,
            "grid_area": null,
            "grid_auto_columns": null,
            "grid_auto_flow": null,
            "grid_auto_rows": null,
            "grid_column": null,
            "grid_gap": null,
            "grid_row": null,
            "grid_template_areas": null,
            "grid_template_columns": null,
            "grid_template_rows": null,
            "height": null,
            "justify_content": null,
            "justify_items": null,
            "left": null,
            "margin": null,
            "max_height": null,
            "max_width": null,
            "min_height": null,
            "min_width": null,
            "object_fit": null,
            "object_position": null,
            "order": null,
            "overflow": null,
            "overflow_x": null,
            "overflow_y": null,
            "padding": null,
            "right": null,
            "top": null,
            "visibility": null,
            "width": null
          }
        },
        "36f847adff904483b4766aa5b1e79405": {
          "model_module": "@jupyter-widgets/base",
          "model_name": "LayoutModel",
          "model_module_version": "1.2.0",
          "state": {
            "_model_module": "@jupyter-widgets/base",
            "_model_module_version": "1.2.0",
            "_model_name": "LayoutModel",
            "_view_count": null,
            "_view_module": "@jupyter-widgets/base",
            "_view_module_version": "1.2.0",
            "_view_name": "LayoutView",
            "align_content": null,
            "align_items": null,
            "align_self": null,
            "border": null,
            "bottom": null,
            "display": null,
            "flex": null,
            "flex_flow": null,
            "grid_area": null,
            "grid_auto_columns": null,
            "grid_auto_flow": null,
            "grid_auto_rows": null,
            "grid_column": null,
            "grid_gap": null,
            "grid_row": null,
            "grid_template_areas": null,
            "grid_template_columns": null,
            "grid_template_rows": null,
            "height": null,
            "justify_content": null,
            "justify_items": null,
            "left": null,
            "margin": null,
            "max_height": null,
            "max_width": null,
            "min_height": null,
            "min_width": null,
            "object_fit": null,
            "object_position": null,
            "order": null,
            "overflow": null,
            "overflow_x": null,
            "overflow_y": null,
            "padding": null,
            "right": null,
            "top": null,
            "visibility": null,
            "width": null
          }
        },
        "5d594133675d40839f950b83f988bab6": {
          "model_module": "@jupyter-widgets/controls",
          "model_name": "DescriptionStyleModel",
          "model_module_version": "1.5.0",
          "state": {
            "_model_module": "@jupyter-widgets/controls",
            "_model_module_version": "1.5.0",
            "_model_name": "DescriptionStyleModel",
            "_view_count": null,
            "_view_module": "@jupyter-widgets/base",
            "_view_module_version": "1.2.0",
            "_view_name": "StyleView",
            "description_width": ""
          }
        },
        "45e696e8762b433aa6a8f4ccfafe53d8": {
          "model_module": "@jupyter-widgets/base",
          "model_name": "LayoutModel",
          "model_module_version": "1.2.0",
          "state": {
            "_model_module": "@jupyter-widgets/base",
            "_model_module_version": "1.2.0",
            "_model_name": "LayoutModel",
            "_view_count": null,
            "_view_module": "@jupyter-widgets/base",
            "_view_module_version": "1.2.0",
            "_view_name": "LayoutView",
            "align_content": null,
            "align_items": null,
            "align_self": null,
            "border": null,
            "bottom": null,
            "display": null,
            "flex": null,
            "flex_flow": null,
            "grid_area": null,
            "grid_auto_columns": null,
            "grid_auto_flow": null,
            "grid_auto_rows": null,
            "grid_column": null,
            "grid_gap": null,
            "grid_row": null,
            "grid_template_areas": null,
            "grid_template_columns": null,
            "grid_template_rows": null,
            "height": null,
            "justify_content": null,
            "justify_items": null,
            "left": null,
            "margin": null,
            "max_height": null,
            "max_width": null,
            "min_height": null,
            "min_width": null,
            "object_fit": null,
            "object_position": null,
            "order": null,
            "overflow": null,
            "overflow_x": null,
            "overflow_y": null,
            "padding": null,
            "right": null,
            "top": null,
            "visibility": null,
            "width": null
          }
        },
        "38718bc86e27486bb0f7b9996cd8dac7": {
          "model_module": "@jupyter-widgets/controls",
          "model_name": "ProgressStyleModel",
          "model_module_version": "1.5.0",
          "state": {
            "_model_module": "@jupyter-widgets/controls",
            "_model_module_version": "1.5.0",
            "_model_name": "ProgressStyleModel",
            "_view_count": null,
            "_view_module": "@jupyter-widgets/base",
            "_view_module_version": "1.2.0",
            "_view_name": "StyleView",
            "bar_color": null,
            "description_width": ""
          }
        },
        "1f80d6c4334545bca0a5dfcadeed944d": {
          "model_module": "@jupyter-widgets/base",
          "model_name": "LayoutModel",
          "model_module_version": "1.2.0",
          "state": {
            "_model_module": "@jupyter-widgets/base",
            "_model_module_version": "1.2.0",
            "_model_name": "LayoutModel",
            "_view_count": null,
            "_view_module": "@jupyter-widgets/base",
            "_view_module_version": "1.2.0",
            "_view_name": "LayoutView",
            "align_content": null,
            "align_items": null,
            "align_self": null,
            "border": null,
            "bottom": null,
            "display": null,
            "flex": null,
            "flex_flow": null,
            "grid_area": null,
            "grid_auto_columns": null,
            "grid_auto_flow": null,
            "grid_auto_rows": null,
            "grid_column": null,
            "grid_gap": null,
            "grid_row": null,
            "grid_template_areas": null,
            "grid_template_columns": null,
            "grid_template_rows": null,
            "height": null,
            "justify_content": null,
            "justify_items": null,
            "left": null,
            "margin": null,
            "max_height": null,
            "max_width": null,
            "min_height": null,
            "min_width": null,
            "object_fit": null,
            "object_position": null,
            "order": null,
            "overflow": null,
            "overflow_x": null,
            "overflow_y": null,
            "padding": null,
            "right": null,
            "top": null,
            "visibility": null,
            "width": null
          }
        },
        "255887bf657c4656b45627578e09d74f": {
          "model_module": "@jupyter-widgets/controls",
          "model_name": "DescriptionStyleModel",
          "model_module_version": "1.5.0",
          "state": {
            "_model_module": "@jupyter-widgets/controls",
            "_model_module_version": "1.5.0",
            "_model_name": "DescriptionStyleModel",
            "_view_count": null,
            "_view_module": "@jupyter-widgets/base",
            "_view_module_version": "1.2.0",
            "_view_name": "StyleView",
            "description_width": ""
          }
        },
        "0b413f2721264326a1cd3fd6d2472afc": {
          "model_module": "@jupyter-widgets/controls",
          "model_name": "HBoxModel",
          "model_module_version": "1.5.0",
          "state": {
            "_dom_classes": [],
            "_model_module": "@jupyter-widgets/controls",
            "_model_module_version": "1.5.0",
            "_model_name": "HBoxModel",
            "_view_count": null,
            "_view_module": "@jupyter-widgets/controls",
            "_view_module_version": "1.5.0",
            "_view_name": "HBoxView",
            "box_style": "",
            "children": [
              "IPY_MODEL_7d55b6a8e1ec40c58f35ec01bea395c8",
              "IPY_MODEL_8624ebc720e5414eb599a1941a06d812",
              "IPY_MODEL_a43953169a7349fd9425ffff5b13056b"
            ],
            "layout": "IPY_MODEL_273483ab3c2e4829ab2c1b1b4f1c51c7"
          }
        },
        "7d55b6a8e1ec40c58f35ec01bea395c8": {
          "model_module": "@jupyter-widgets/controls",
          "model_name": "HTMLModel",
          "model_module_version": "1.5.0",
          "state": {
            "_dom_classes": [],
            "_model_module": "@jupyter-widgets/controls",
            "_model_module_version": "1.5.0",
            "_model_name": "HTMLModel",
            "_view_count": null,
            "_view_module": "@jupyter-widgets/controls",
            "_view_module_version": "1.5.0",
            "_view_name": "HTMLView",
            "description": "",
            "description_tooltip": null,
            "layout": "IPY_MODEL_14cc7ebdfb45471eaa18bab6f3149c32",
            "placeholder": "​",
            "style": "IPY_MODEL_341ad1d4e51949239e0f5a2425367a00",
            "value": "Downloading data: 100%"
          }
        },
        "8624ebc720e5414eb599a1941a06d812": {
          "model_module": "@jupyter-widgets/controls",
          "model_name": "FloatProgressModel",
          "model_module_version": "1.5.0",
          "state": {
            "_dom_classes": [],
            "_model_module": "@jupyter-widgets/controls",
            "_model_module_version": "1.5.0",
            "_model_name": "FloatProgressModel",
            "_view_count": null,
            "_view_module": "@jupyter-widgets/controls",
            "_view_module_version": "1.5.0",
            "_view_name": "ProgressView",
            "bar_style": "success",
            "description": "",
            "description_tooltip": null,
            "layout": "IPY_MODEL_542760f80b81415b9326c4d50e25c783",
            "max": 39066393,
            "min": 0,
            "orientation": "horizontal",
            "style": "IPY_MODEL_120772953e8d4162a9c701c1a1583268",
            "value": 39066393
          }
        },
        "a43953169a7349fd9425ffff5b13056b": {
          "model_module": "@jupyter-widgets/controls",
          "model_name": "HTMLModel",
          "model_module_version": "1.5.0",
          "state": {
            "_dom_classes": [],
            "_model_module": "@jupyter-widgets/controls",
            "_model_module_version": "1.5.0",
            "_model_name": "HTMLModel",
            "_view_count": null,
            "_view_module": "@jupyter-widgets/controls",
            "_view_module_version": "1.5.0",
            "_view_name": "HTMLView",
            "description": "",
            "description_tooltip": null,
            "layout": "IPY_MODEL_5954ef19ddeb4a33ba41571541982d00",
            "placeholder": "​",
            "style": "IPY_MODEL_fd42253812f04d028979d23c50451747",
            "value": " 39.1M/39.1M [00:01&lt;00:00, 45.7MB/s]"
          }
        },
        "273483ab3c2e4829ab2c1b1b4f1c51c7": {
          "model_module": "@jupyter-widgets/base",
          "model_name": "LayoutModel",
          "model_module_version": "1.2.0",
          "state": {
            "_model_module": "@jupyter-widgets/base",
            "_model_module_version": "1.2.0",
            "_model_name": "LayoutModel",
            "_view_count": null,
            "_view_module": "@jupyter-widgets/base",
            "_view_module_version": "1.2.0",
            "_view_name": "LayoutView",
            "align_content": null,
            "align_items": null,
            "align_self": null,
            "border": null,
            "bottom": null,
            "display": null,
            "flex": null,
            "flex_flow": null,
            "grid_area": null,
            "grid_auto_columns": null,
            "grid_auto_flow": null,
            "grid_auto_rows": null,
            "grid_column": null,
            "grid_gap": null,
            "grid_row": null,
            "grid_template_areas": null,
            "grid_template_columns": null,
            "grid_template_rows": null,
            "height": null,
            "justify_content": null,
            "justify_items": null,
            "left": null,
            "margin": null,
            "max_height": null,
            "max_width": null,
            "min_height": null,
            "min_width": null,
            "object_fit": null,
            "object_position": null,
            "order": null,
            "overflow": null,
            "overflow_x": null,
            "overflow_y": null,
            "padding": null,
            "right": null,
            "top": null,
            "visibility": null,
            "width": null
          }
        },
        "14cc7ebdfb45471eaa18bab6f3149c32": {
          "model_module": "@jupyter-widgets/base",
          "model_name": "LayoutModel",
          "model_module_version": "1.2.0",
          "state": {
            "_model_module": "@jupyter-widgets/base",
            "_model_module_version": "1.2.0",
            "_model_name": "LayoutModel",
            "_view_count": null,
            "_view_module": "@jupyter-widgets/base",
            "_view_module_version": "1.2.0",
            "_view_name": "LayoutView",
            "align_content": null,
            "align_items": null,
            "align_self": null,
            "border": null,
            "bottom": null,
            "display": null,
            "flex": null,
            "flex_flow": null,
            "grid_area": null,
            "grid_auto_columns": null,
            "grid_auto_flow": null,
            "grid_auto_rows": null,
            "grid_column": null,
            "grid_gap": null,
            "grid_row": null,
            "grid_template_areas": null,
            "grid_template_columns": null,
            "grid_template_rows": null,
            "height": null,
            "justify_content": null,
            "justify_items": null,
            "left": null,
            "margin": null,
            "max_height": null,
            "max_width": null,
            "min_height": null,
            "min_width": null,
            "object_fit": null,
            "object_position": null,
            "order": null,
            "overflow": null,
            "overflow_x": null,
            "overflow_y": null,
            "padding": null,
            "right": null,
            "top": null,
            "visibility": null,
            "width": null
          }
        },
        "341ad1d4e51949239e0f5a2425367a00": {
          "model_module": "@jupyter-widgets/controls",
          "model_name": "DescriptionStyleModel",
          "model_module_version": "1.5.0",
          "state": {
            "_model_module": "@jupyter-widgets/controls",
            "_model_module_version": "1.5.0",
            "_model_name": "DescriptionStyleModel",
            "_view_count": null,
            "_view_module": "@jupyter-widgets/base",
            "_view_module_version": "1.2.0",
            "_view_name": "StyleView",
            "description_width": ""
          }
        },
        "542760f80b81415b9326c4d50e25c783": {
          "model_module": "@jupyter-widgets/base",
          "model_name": "LayoutModel",
          "model_module_version": "1.2.0",
          "state": {
            "_model_module": "@jupyter-widgets/base",
            "_model_module_version": "1.2.0",
            "_model_name": "LayoutModel",
            "_view_count": null,
            "_view_module": "@jupyter-widgets/base",
            "_view_module_version": "1.2.0",
            "_view_name": "LayoutView",
            "align_content": null,
            "align_items": null,
            "align_self": null,
            "border": null,
            "bottom": null,
            "display": null,
            "flex": null,
            "flex_flow": null,
            "grid_area": null,
            "grid_auto_columns": null,
            "grid_auto_flow": null,
            "grid_auto_rows": null,
            "grid_column": null,
            "grid_gap": null,
            "grid_row": null,
            "grid_template_areas": null,
            "grid_template_columns": null,
            "grid_template_rows": null,
            "height": null,
            "justify_content": null,
            "justify_items": null,
            "left": null,
            "margin": null,
            "max_height": null,
            "max_width": null,
            "min_height": null,
            "min_width": null,
            "object_fit": null,
            "object_position": null,
            "order": null,
            "overflow": null,
            "overflow_x": null,
            "overflow_y": null,
            "padding": null,
            "right": null,
            "top": null,
            "visibility": null,
            "width": null
          }
        },
        "120772953e8d4162a9c701c1a1583268": {
          "model_module": "@jupyter-widgets/controls",
          "model_name": "ProgressStyleModel",
          "model_module_version": "1.5.0",
          "state": {
            "_model_module": "@jupyter-widgets/controls",
            "_model_module_version": "1.5.0",
            "_model_name": "ProgressStyleModel",
            "_view_count": null,
            "_view_module": "@jupyter-widgets/base",
            "_view_module_version": "1.2.0",
            "_view_name": "StyleView",
            "bar_color": null,
            "description_width": ""
          }
        },
        "5954ef19ddeb4a33ba41571541982d00": {
          "model_module": "@jupyter-widgets/base",
          "model_name": "LayoutModel",
          "model_module_version": "1.2.0",
          "state": {
            "_model_module": "@jupyter-widgets/base",
            "_model_module_version": "1.2.0",
            "_model_name": "LayoutModel",
            "_view_count": null,
            "_view_module": "@jupyter-widgets/base",
            "_view_module_version": "1.2.0",
            "_view_name": "LayoutView",
            "align_content": null,
            "align_items": null,
            "align_self": null,
            "border": null,
            "bottom": null,
            "display": null,
            "flex": null,
            "flex_flow": null,
            "grid_area": null,
            "grid_auto_columns": null,
            "grid_auto_flow": null,
            "grid_auto_rows": null,
            "grid_column": null,
            "grid_gap": null,
            "grid_row": null,
            "grid_template_areas": null,
            "grid_template_columns": null,
            "grid_template_rows": null,
            "height": null,
            "justify_content": null,
            "justify_items": null,
            "left": null,
            "margin": null,
            "max_height": null,
            "max_width": null,
            "min_height": null,
            "min_width": null,
            "object_fit": null,
            "object_position": null,
            "order": null,
            "overflow": null,
            "overflow_x": null,
            "overflow_y": null,
            "padding": null,
            "right": null,
            "top": null,
            "visibility": null,
            "width": null
          }
        },
        "fd42253812f04d028979d23c50451747": {
          "model_module": "@jupyter-widgets/controls",
          "model_name": "DescriptionStyleModel",
          "model_module_version": "1.5.0",
          "state": {
            "_model_module": "@jupyter-widgets/controls",
            "_model_module_version": "1.5.0",
            "_model_name": "DescriptionStyleModel",
            "_view_count": null,
            "_view_module": "@jupyter-widgets/base",
            "_view_module_version": "1.2.0",
            "_view_name": "StyleView",
            "description_width": ""
          }
        },
        "a3e9fa7002da47bd96d3399cd9962a20": {
          "model_module": "@jupyter-widgets/controls",
          "model_name": "HBoxModel",
          "model_module_version": "1.5.0",
          "state": {
            "_dom_classes": [],
            "_model_module": "@jupyter-widgets/controls",
            "_model_module_version": "1.5.0",
            "_model_name": "HBoxModel",
            "_view_count": null,
            "_view_module": "@jupyter-widgets/controls",
            "_view_module_version": "1.5.0",
            "_view_name": "HBoxView",
            "box_style": "",
            "children": [
              "IPY_MODEL_482f6b56e209453e8bdff72f6a7f78e0",
              "IPY_MODEL_57121b41c0d14301bc143d9ea42e8125",
              "IPY_MODEL_71eea24eb3fb4b52adeaed4f401e8048"
            ],
            "layout": "IPY_MODEL_25bb6f0407754414949bcb03aa978767"
          }
        },
        "482f6b56e209453e8bdff72f6a7f78e0": {
          "model_module": "@jupyter-widgets/controls",
          "model_name": "HTMLModel",
          "model_module_version": "1.5.0",
          "state": {
            "_dom_classes": [],
            "_model_module": "@jupyter-widgets/controls",
            "_model_module_version": "1.5.0",
            "_model_name": "HTMLModel",
            "_view_count": null,
            "_view_module": "@jupyter-widgets/controls",
            "_view_module_version": "1.5.0",
            "_view_name": "HTMLView",
            "description": "",
            "description_tooltip": null,
            "layout": "IPY_MODEL_d65d1a46eaac4f8b8ba90d59ca3095fb",
            "placeholder": "​",
            "style": "IPY_MODEL_b057918074c3486cbc6a77274abb7149",
            "value": "Extracting data files: 100%"
          }
        },
        "57121b41c0d14301bc143d9ea42e8125": {
          "model_module": "@jupyter-widgets/controls",
          "model_name": "FloatProgressModel",
          "model_module_version": "1.5.0",
          "state": {
            "_dom_classes": [],
            "_model_module": "@jupyter-widgets/controls",
            "_model_module_version": "1.5.0",
            "_model_name": "FloatProgressModel",
            "_view_count": null,
            "_view_module": "@jupyter-widgets/controls",
            "_view_module_version": "1.5.0",
            "_view_name": "ProgressView",
            "bar_style": "success",
            "description": "",
            "description_tooltip": null,
            "layout": "IPY_MODEL_f4fdafb1cf0646dc8990d639700791d0",
            "max": 1,
            "min": 0,
            "orientation": "horizontal",
            "style": "IPY_MODEL_c4b83641f1074b11bab003d9b8558e1a",
            "value": 1
          }
        },
        "71eea24eb3fb4b52adeaed4f401e8048": {
          "model_module": "@jupyter-widgets/controls",
          "model_name": "HTMLModel",
          "model_module_version": "1.5.0",
          "state": {
            "_dom_classes": [],
            "_model_module": "@jupyter-widgets/controls",
            "_model_module_version": "1.5.0",
            "_model_name": "HTMLModel",
            "_view_count": null,
            "_view_module": "@jupyter-widgets/controls",
            "_view_module_version": "1.5.0",
            "_view_name": "HTMLView",
            "description": "",
            "description_tooltip": null,
            "layout": "IPY_MODEL_7181fe2d76a5496abf196b712e4562fb",
            "placeholder": "​",
            "style": "IPY_MODEL_67ff966ae3774f6f8910b8dc1fe7164f",
            "value": " 1/1 [00:00&lt;00:00, 30.94it/s]"
          }
        },
        "25bb6f0407754414949bcb03aa978767": {
          "model_module": "@jupyter-widgets/base",
          "model_name": "LayoutModel",
          "model_module_version": "1.2.0",
          "state": {
            "_model_module": "@jupyter-widgets/base",
            "_model_module_version": "1.2.0",
            "_model_name": "LayoutModel",
            "_view_count": null,
            "_view_module": "@jupyter-widgets/base",
            "_view_module_version": "1.2.0",
            "_view_name": "LayoutView",
            "align_content": null,
            "align_items": null,
            "align_self": null,
            "border": null,
            "bottom": null,
            "display": null,
            "flex": null,
            "flex_flow": null,
            "grid_area": null,
            "grid_auto_columns": null,
            "grid_auto_flow": null,
            "grid_auto_rows": null,
            "grid_column": null,
            "grid_gap": null,
            "grid_row": null,
            "grid_template_areas": null,
            "grid_template_columns": null,
            "grid_template_rows": null,
            "height": null,
            "justify_content": null,
            "justify_items": null,
            "left": null,
            "margin": null,
            "max_height": null,
            "max_width": null,
            "min_height": null,
            "min_width": null,
            "object_fit": null,
            "object_position": null,
            "order": null,
            "overflow": null,
            "overflow_x": null,
            "overflow_y": null,
            "padding": null,
            "right": null,
            "top": null,
            "visibility": null,
            "width": null
          }
        },
        "d65d1a46eaac4f8b8ba90d59ca3095fb": {
          "model_module": "@jupyter-widgets/base",
          "model_name": "LayoutModel",
          "model_module_version": "1.2.0",
          "state": {
            "_model_module": "@jupyter-widgets/base",
            "_model_module_version": "1.2.0",
            "_model_name": "LayoutModel",
            "_view_count": null,
            "_view_module": "@jupyter-widgets/base",
            "_view_module_version": "1.2.0",
            "_view_name": "LayoutView",
            "align_content": null,
            "align_items": null,
            "align_self": null,
            "border": null,
            "bottom": null,
            "display": null,
            "flex": null,
            "flex_flow": null,
            "grid_area": null,
            "grid_auto_columns": null,
            "grid_auto_flow": null,
            "grid_auto_rows": null,
            "grid_column": null,
            "grid_gap": null,
            "grid_row": null,
            "grid_template_areas": null,
            "grid_template_columns": null,
            "grid_template_rows": null,
            "height": null,
            "justify_content": null,
            "justify_items": null,
            "left": null,
            "margin": null,
            "max_height": null,
            "max_width": null,
            "min_height": null,
            "min_width": null,
            "object_fit": null,
            "object_position": null,
            "order": null,
            "overflow": null,
            "overflow_x": null,
            "overflow_y": null,
            "padding": null,
            "right": null,
            "top": null,
            "visibility": null,
            "width": null
          }
        },
        "b057918074c3486cbc6a77274abb7149": {
          "model_module": "@jupyter-widgets/controls",
          "model_name": "DescriptionStyleModel",
          "model_module_version": "1.5.0",
          "state": {
            "_model_module": "@jupyter-widgets/controls",
            "_model_module_version": "1.5.0",
            "_model_name": "DescriptionStyleModel",
            "_view_count": null,
            "_view_module": "@jupyter-widgets/base",
            "_view_module_version": "1.2.0",
            "_view_name": "StyleView",
            "description_width": ""
          }
        },
        "f4fdafb1cf0646dc8990d639700791d0": {
          "model_module": "@jupyter-widgets/base",
          "model_name": "LayoutModel",
          "model_module_version": "1.2.0",
          "state": {
            "_model_module": "@jupyter-widgets/base",
            "_model_module_version": "1.2.0",
            "_model_name": "LayoutModel",
            "_view_count": null,
            "_view_module": "@jupyter-widgets/base",
            "_view_module_version": "1.2.0",
            "_view_name": "LayoutView",
            "align_content": null,
            "align_items": null,
            "align_self": null,
            "border": null,
            "bottom": null,
            "display": null,
            "flex": null,
            "flex_flow": null,
            "grid_area": null,
            "grid_auto_columns": null,
            "grid_auto_flow": null,
            "grid_auto_rows": null,
            "grid_column": null,
            "grid_gap": null,
            "grid_row": null,
            "grid_template_areas": null,
            "grid_template_columns": null,
            "grid_template_rows": null,
            "height": null,
            "justify_content": null,
            "justify_items": null,
            "left": null,
            "margin": null,
            "max_height": null,
            "max_width": null,
            "min_height": null,
            "min_width": null,
            "object_fit": null,
            "object_position": null,
            "order": null,
            "overflow": null,
            "overflow_x": null,
            "overflow_y": null,
            "padding": null,
            "right": null,
            "top": null,
            "visibility": null,
            "width": null
          }
        },
        "c4b83641f1074b11bab003d9b8558e1a": {
          "model_module": "@jupyter-widgets/controls",
          "model_name": "ProgressStyleModel",
          "model_module_version": "1.5.0",
          "state": {
            "_model_module": "@jupyter-widgets/controls",
            "_model_module_version": "1.5.0",
            "_model_name": "ProgressStyleModel",
            "_view_count": null,
            "_view_module": "@jupyter-widgets/base",
            "_view_module_version": "1.2.0",
            "_view_name": "StyleView",
            "bar_color": null,
            "description_width": ""
          }
        },
        "7181fe2d76a5496abf196b712e4562fb": {
          "model_module": "@jupyter-widgets/base",
          "model_name": "LayoutModel",
          "model_module_version": "1.2.0",
          "state": {
            "_model_module": "@jupyter-widgets/base",
            "_model_module_version": "1.2.0",
            "_model_name": "LayoutModel",
            "_view_count": null,
            "_view_module": "@jupyter-widgets/base",
            "_view_module_version": "1.2.0",
            "_view_name": "LayoutView",
            "align_content": null,
            "align_items": null,
            "align_self": null,
            "border": null,
            "bottom": null,
            "display": null,
            "flex": null,
            "flex_flow": null,
            "grid_area": null,
            "grid_auto_columns": null,
            "grid_auto_flow": null,
            "grid_auto_rows": null,
            "grid_column": null,
            "grid_gap": null,
            "grid_row": null,
            "grid_template_areas": null,
            "grid_template_columns": null,
            "grid_template_rows": null,
            "height": null,
            "justify_content": null,
            "justify_items": null,
            "left": null,
            "margin": null,
            "max_height": null,
            "max_width": null,
            "min_height": null,
            "min_width": null,
            "object_fit": null,
            "object_position": null,
            "order": null,
            "overflow": null,
            "overflow_x": null,
            "overflow_y": null,
            "padding": null,
            "right": null,
            "top": null,
            "visibility": null,
            "width": null
          }
        },
        "67ff966ae3774f6f8910b8dc1fe7164f": {
          "model_module": "@jupyter-widgets/controls",
          "model_name": "DescriptionStyleModel",
          "model_module_version": "1.5.0",
          "state": {
            "_model_module": "@jupyter-widgets/controls",
            "_model_module_version": "1.5.0",
            "_model_name": "DescriptionStyleModel",
            "_view_count": null,
            "_view_module": "@jupyter-widgets/base",
            "_view_module_version": "1.2.0",
            "_view_name": "StyleView",
            "description_width": ""
          }
        },
        "929e42d1f72f4ca2a8823cec1217df56": {
          "model_module": "@jupyter-widgets/controls",
          "model_name": "HBoxModel",
          "model_module_version": "1.5.0",
          "state": {
            "_dom_classes": [],
            "_model_module": "@jupyter-widgets/controls",
            "_model_module_version": "1.5.0",
            "_model_name": "HBoxModel",
            "_view_count": null,
            "_view_module": "@jupyter-widgets/controls",
            "_view_module_version": "1.5.0",
            "_view_name": "HBoxView",
            "box_style": "",
            "children": [
              "IPY_MODEL_7afbe280b1e740f8a6d82538bd35fd55",
              "IPY_MODEL_8831eac18a894e84b5455116df2d9f4b",
              "IPY_MODEL_7020541c1e384f4ca0b04b50412d4a39"
            ],
            "layout": "IPY_MODEL_23450bb1ccf342298bb478c5edf77d6b"
          }
        },
        "7afbe280b1e740f8a6d82538bd35fd55": {
          "model_module": "@jupyter-widgets/controls",
          "model_name": "HTMLModel",
          "model_module_version": "1.5.0",
          "state": {
            "_dom_classes": [],
            "_model_module": "@jupyter-widgets/controls",
            "_model_module_version": "1.5.0",
            "_model_name": "HTMLModel",
            "_view_count": null,
            "_view_module": "@jupyter-widgets/controls",
            "_view_module_version": "1.5.0",
            "_view_name": "HTMLView",
            "description": "",
            "description_tooltip": null,
            "layout": "IPY_MODEL_a33cdf9ac63a4a18b74c86815082bffe",
            "placeholder": "​",
            "style": "IPY_MODEL_cdf2c626312e4d53afe3616f7b4faa6c",
            "value": ""
          }
        },
        "8831eac18a894e84b5455116df2d9f4b": {
          "model_module": "@jupyter-widgets/controls",
          "model_name": "FloatProgressModel",
          "model_module_version": "1.5.0",
          "state": {
            "_dom_classes": [],
            "_model_module": "@jupyter-widgets/controls",
            "_model_module_version": "1.5.0",
            "_model_name": "FloatProgressModel",
            "_view_count": null,
            "_view_module": "@jupyter-widgets/controls",
            "_view_module_version": "1.5.0",
            "_view_name": "ProgressView",
            "bar_style": "info",
            "description": "",
            "description_tooltip": null,
            "layout": "IPY_MODEL_ff27950f1d14462e9d2c452764e68106",
            "max": 1,
            "min": 0,
            "orientation": "horizontal",
            "style": "IPY_MODEL_4caa857e6e1842a0b9e9487daaba942d",
            "value": 1
          }
        },
        "7020541c1e384f4ca0b04b50412d4a39": {
          "model_module": "@jupyter-widgets/controls",
          "model_name": "HTMLModel",
          "model_module_version": "1.5.0",
          "state": {
            "_dom_classes": [],
            "_model_module": "@jupyter-widgets/controls",
            "_model_module_version": "1.5.0",
            "_model_name": "HTMLModel",
            "_view_count": null,
            "_view_module": "@jupyter-widgets/controls",
            "_view_module_version": "1.5.0",
            "_view_name": "HTMLView",
            "description": "",
            "description_tooltip": null,
            "layout": "IPY_MODEL_0c9ae3ae813e4258b8630971a50d81f4",
            "placeholder": "​",
            "style": "IPY_MODEL_aa8530cc9f5143048fd0891037af6883",
            "value": " 1/? [00:01&lt;00:00,  1.71s/ tables]"
          }
        },
        "23450bb1ccf342298bb478c5edf77d6b": {
          "model_module": "@jupyter-widgets/base",
          "model_name": "LayoutModel",
          "model_module_version": "1.2.0",
          "state": {
            "_model_module": "@jupyter-widgets/base",
            "_model_module_version": "1.2.0",
            "_model_name": "LayoutModel",
            "_view_count": null,
            "_view_module": "@jupyter-widgets/base",
            "_view_module_version": "1.2.0",
            "_view_name": "LayoutView",
            "align_content": null,
            "align_items": null,
            "align_self": null,
            "border": null,
            "bottom": null,
            "display": null,
            "flex": null,
            "flex_flow": null,
            "grid_area": null,
            "grid_auto_columns": null,
            "grid_auto_flow": null,
            "grid_auto_rows": null,
            "grid_column": null,
            "grid_gap": null,
            "grid_row": null,
            "grid_template_areas": null,
            "grid_template_columns": null,
            "grid_template_rows": null,
            "height": null,
            "justify_content": null,
            "justify_items": null,
            "left": null,
            "margin": null,
            "max_height": null,
            "max_width": null,
            "min_height": null,
            "min_width": null,
            "object_fit": null,
            "object_position": null,
            "order": null,
            "overflow": null,
            "overflow_x": null,
            "overflow_y": null,
            "padding": null,
            "right": null,
            "top": null,
            "visibility": "hidden",
            "width": null
          }
        },
        "a33cdf9ac63a4a18b74c86815082bffe": {
          "model_module": "@jupyter-widgets/base",
          "model_name": "LayoutModel",
          "model_module_version": "1.2.0",
          "state": {
            "_model_module": "@jupyter-widgets/base",
            "_model_module_version": "1.2.0",
            "_model_name": "LayoutModel",
            "_view_count": null,
            "_view_module": "@jupyter-widgets/base",
            "_view_module_version": "1.2.0",
            "_view_name": "LayoutView",
            "align_content": null,
            "align_items": null,
            "align_self": null,
            "border": null,
            "bottom": null,
            "display": null,
            "flex": null,
            "flex_flow": null,
            "grid_area": null,
            "grid_auto_columns": null,
            "grid_auto_flow": null,
            "grid_auto_rows": null,
            "grid_column": null,
            "grid_gap": null,
            "grid_row": null,
            "grid_template_areas": null,
            "grid_template_columns": null,
            "grid_template_rows": null,
            "height": null,
            "justify_content": null,
            "justify_items": null,
            "left": null,
            "margin": null,
            "max_height": null,
            "max_width": null,
            "min_height": null,
            "min_width": null,
            "object_fit": null,
            "object_position": null,
            "order": null,
            "overflow": null,
            "overflow_x": null,
            "overflow_y": null,
            "padding": null,
            "right": null,
            "top": null,
            "visibility": null,
            "width": null
          }
        },
        "cdf2c626312e4d53afe3616f7b4faa6c": {
          "model_module": "@jupyter-widgets/controls",
          "model_name": "DescriptionStyleModel",
          "model_module_version": "1.5.0",
          "state": {
            "_model_module": "@jupyter-widgets/controls",
            "_model_module_version": "1.5.0",
            "_model_name": "DescriptionStyleModel",
            "_view_count": null,
            "_view_module": "@jupyter-widgets/base",
            "_view_module_version": "1.2.0",
            "_view_name": "StyleView",
            "description_width": ""
          }
        },
        "ff27950f1d14462e9d2c452764e68106": {
          "model_module": "@jupyter-widgets/base",
          "model_name": "LayoutModel",
          "model_module_version": "1.2.0",
          "state": {
            "_model_module": "@jupyter-widgets/base",
            "_model_module_version": "1.2.0",
            "_model_name": "LayoutModel",
            "_view_count": null,
            "_view_module": "@jupyter-widgets/base",
            "_view_module_version": "1.2.0",
            "_view_name": "LayoutView",
            "align_content": null,
            "align_items": null,
            "align_self": null,
            "border": null,
            "bottom": null,
            "display": null,
            "flex": null,
            "flex_flow": null,
            "grid_area": null,
            "grid_auto_columns": null,
            "grid_auto_flow": null,
            "grid_auto_rows": null,
            "grid_column": null,
            "grid_gap": null,
            "grid_row": null,
            "grid_template_areas": null,
            "grid_template_columns": null,
            "grid_template_rows": null,
            "height": null,
            "justify_content": null,
            "justify_items": null,
            "left": null,
            "margin": null,
            "max_height": null,
            "max_width": null,
            "min_height": null,
            "min_width": null,
            "object_fit": null,
            "object_position": null,
            "order": null,
            "overflow": null,
            "overflow_x": null,
            "overflow_y": null,
            "padding": null,
            "right": null,
            "top": null,
            "visibility": null,
            "width": "20px"
          }
        },
        "4caa857e6e1842a0b9e9487daaba942d": {
          "model_module": "@jupyter-widgets/controls",
          "model_name": "ProgressStyleModel",
          "model_module_version": "1.5.0",
          "state": {
            "_model_module": "@jupyter-widgets/controls",
            "_model_module_version": "1.5.0",
            "_model_name": "ProgressStyleModel",
            "_view_count": null,
            "_view_module": "@jupyter-widgets/base",
            "_view_module_version": "1.2.0",
            "_view_name": "StyleView",
            "bar_color": null,
            "description_width": ""
          }
        },
        "0c9ae3ae813e4258b8630971a50d81f4": {
          "model_module": "@jupyter-widgets/base",
          "model_name": "LayoutModel",
          "model_module_version": "1.2.0",
          "state": {
            "_model_module": "@jupyter-widgets/base",
            "_model_module_version": "1.2.0",
            "_model_name": "LayoutModel",
            "_view_count": null,
            "_view_module": "@jupyter-widgets/base",
            "_view_module_version": "1.2.0",
            "_view_name": "LayoutView",
            "align_content": null,
            "align_items": null,
            "align_self": null,
            "border": null,
            "bottom": null,
            "display": null,
            "flex": null,
            "flex_flow": null,
            "grid_area": null,
            "grid_auto_columns": null,
            "grid_auto_flow": null,
            "grid_auto_rows": null,
            "grid_column": null,
            "grid_gap": null,
            "grid_row": null,
            "grid_template_areas": null,
            "grid_template_columns": null,
            "grid_template_rows": null,
            "height": null,
            "justify_content": null,
            "justify_items": null,
            "left": null,
            "margin": null,
            "max_height": null,
            "max_width": null,
            "min_height": null,
            "min_width": null,
            "object_fit": null,
            "object_position": null,
            "order": null,
            "overflow": null,
            "overflow_x": null,
            "overflow_y": null,
            "padding": null,
            "right": null,
            "top": null,
            "visibility": null,
            "width": null
          }
        },
        "aa8530cc9f5143048fd0891037af6883": {
          "model_module": "@jupyter-widgets/controls",
          "model_name": "DescriptionStyleModel",
          "model_module_version": "1.5.0",
          "state": {
            "_model_module": "@jupyter-widgets/controls",
            "_model_module_version": "1.5.0",
            "_model_name": "DescriptionStyleModel",
            "_view_count": null,
            "_view_module": "@jupyter-widgets/base",
            "_view_module_version": "1.2.0",
            "_view_name": "StyleView",
            "description_width": ""
          }
        },
        "eb041767d46140ddb727a000a9783b61": {
          "model_module": "@jupyter-widgets/controls",
          "model_name": "HBoxModel",
          "model_module_version": "1.5.0",
          "state": {
            "_dom_classes": [],
            "_model_module": "@jupyter-widgets/controls",
            "_model_module_version": "1.5.0",
            "_model_name": "HBoxModel",
            "_view_count": null,
            "_view_module": "@jupyter-widgets/controls",
            "_view_module_version": "1.5.0",
            "_view_name": "HBoxView",
            "box_style": "",
            "children": [
              "IPY_MODEL_70bcc79ec78448fcbea7d1479fa0a6e4",
              "IPY_MODEL_92a4234344e24a5da9eceb68aa1ff77e",
              "IPY_MODEL_444f640cbc524025a7b9ee8d60009b58"
            ],
            "layout": "IPY_MODEL_51bd94fcad4f486f9578215e64d3804a"
          }
        },
        "70bcc79ec78448fcbea7d1479fa0a6e4": {
          "model_module": "@jupyter-widgets/controls",
          "model_name": "HTMLModel",
          "model_module_version": "1.5.0",
          "state": {
            "_dom_classes": [],
            "_model_module": "@jupyter-widgets/controls",
            "_model_module_version": "1.5.0",
            "_model_name": "HTMLModel",
            "_view_count": null,
            "_view_module": "@jupyter-widgets/controls",
            "_view_module_version": "1.5.0",
            "_view_name": "HTMLView",
            "description": "",
            "description_tooltip": null,
            "layout": "IPY_MODEL_d8361c4fd8434cb6887e507fb6539c61",
            "placeholder": "​",
            "style": "IPY_MODEL_f65dadc2bec44e038b7ddc73c5b1f30a",
            "value": "100%"
          }
        },
        "92a4234344e24a5da9eceb68aa1ff77e": {
          "model_module": "@jupyter-widgets/controls",
          "model_name": "FloatProgressModel",
          "model_module_version": "1.5.0",
          "state": {
            "_dom_classes": [],
            "_model_module": "@jupyter-widgets/controls",
            "_model_module_version": "1.5.0",
            "_model_name": "FloatProgressModel",
            "_view_count": null,
            "_view_module": "@jupyter-widgets/controls",
            "_view_module_version": "1.5.0",
            "_view_name": "ProgressView",
            "bar_style": "success",
            "description": "",
            "description_tooltip": null,
            "layout": "IPY_MODEL_eca0e11c35b24995b7e3ee2bfe3f4fa3",
            "max": 1,
            "min": 0,
            "orientation": "horizontal",
            "style": "IPY_MODEL_a647a2c715eb4428b70bbc1682ff502f",
            "value": 1
          }
        },
        "444f640cbc524025a7b9ee8d60009b58": {
          "model_module": "@jupyter-widgets/controls",
          "model_name": "HTMLModel",
          "model_module_version": "1.5.0",
          "state": {
            "_dom_classes": [],
            "_model_module": "@jupyter-widgets/controls",
            "_model_module_version": "1.5.0",
            "_model_name": "HTMLModel",
            "_view_count": null,
            "_view_module": "@jupyter-widgets/controls",
            "_view_module_version": "1.5.0",
            "_view_name": "HTMLView",
            "description": "",
            "description_tooltip": null,
            "layout": "IPY_MODEL_b8e36882bef04a7c8c320dde60bb6460",
            "placeholder": "​",
            "style": "IPY_MODEL_7915c1ef5f86429e8d09368b0fbe2574",
            "value": " 1/1 [00:00&lt;00:00, 27.80it/s]"
          }
        },
        "51bd94fcad4f486f9578215e64d3804a": {
          "model_module": "@jupyter-widgets/base",
          "model_name": "LayoutModel",
          "model_module_version": "1.2.0",
          "state": {
            "_model_module": "@jupyter-widgets/base",
            "_model_module_version": "1.2.0",
            "_model_name": "LayoutModel",
            "_view_count": null,
            "_view_module": "@jupyter-widgets/base",
            "_view_module_version": "1.2.0",
            "_view_name": "LayoutView",
            "align_content": null,
            "align_items": null,
            "align_self": null,
            "border": null,
            "bottom": null,
            "display": null,
            "flex": null,
            "flex_flow": null,
            "grid_area": null,
            "grid_auto_columns": null,
            "grid_auto_flow": null,
            "grid_auto_rows": null,
            "grid_column": null,
            "grid_gap": null,
            "grid_row": null,
            "grid_template_areas": null,
            "grid_template_columns": null,
            "grid_template_rows": null,
            "height": null,
            "justify_content": null,
            "justify_items": null,
            "left": null,
            "margin": null,
            "max_height": null,
            "max_width": null,
            "min_height": null,
            "min_width": null,
            "object_fit": null,
            "object_position": null,
            "order": null,
            "overflow": null,
            "overflow_x": null,
            "overflow_y": null,
            "padding": null,
            "right": null,
            "top": null,
            "visibility": null,
            "width": null
          }
        },
        "d8361c4fd8434cb6887e507fb6539c61": {
          "model_module": "@jupyter-widgets/base",
          "model_name": "LayoutModel",
          "model_module_version": "1.2.0",
          "state": {
            "_model_module": "@jupyter-widgets/base",
            "_model_module_version": "1.2.0",
            "_model_name": "LayoutModel",
            "_view_count": null,
            "_view_module": "@jupyter-widgets/base",
            "_view_module_version": "1.2.0",
            "_view_name": "LayoutView",
            "align_content": null,
            "align_items": null,
            "align_self": null,
            "border": null,
            "bottom": null,
            "display": null,
            "flex": null,
            "flex_flow": null,
            "grid_area": null,
            "grid_auto_columns": null,
            "grid_auto_flow": null,
            "grid_auto_rows": null,
            "grid_column": null,
            "grid_gap": null,
            "grid_row": null,
            "grid_template_areas": null,
            "grid_template_columns": null,
            "grid_template_rows": null,
            "height": null,
            "justify_content": null,
            "justify_items": null,
            "left": null,
            "margin": null,
            "max_height": null,
            "max_width": null,
            "min_height": null,
            "min_width": null,
            "object_fit": null,
            "object_position": null,
            "order": null,
            "overflow": null,
            "overflow_x": null,
            "overflow_y": null,
            "padding": null,
            "right": null,
            "top": null,
            "visibility": null,
            "width": null
          }
        },
        "f65dadc2bec44e038b7ddc73c5b1f30a": {
          "model_module": "@jupyter-widgets/controls",
          "model_name": "DescriptionStyleModel",
          "model_module_version": "1.5.0",
          "state": {
            "_model_module": "@jupyter-widgets/controls",
            "_model_module_version": "1.5.0",
            "_model_name": "DescriptionStyleModel",
            "_view_count": null,
            "_view_module": "@jupyter-widgets/base",
            "_view_module_version": "1.2.0",
            "_view_name": "StyleView",
            "description_width": ""
          }
        },
        "eca0e11c35b24995b7e3ee2bfe3f4fa3": {
          "model_module": "@jupyter-widgets/base",
          "model_name": "LayoutModel",
          "model_module_version": "1.2.0",
          "state": {
            "_model_module": "@jupyter-widgets/base",
            "_model_module_version": "1.2.0",
            "_model_name": "LayoutModel",
            "_view_count": null,
            "_view_module": "@jupyter-widgets/base",
            "_view_module_version": "1.2.0",
            "_view_name": "LayoutView",
            "align_content": null,
            "align_items": null,
            "align_self": null,
            "border": null,
            "bottom": null,
            "display": null,
            "flex": null,
            "flex_flow": null,
            "grid_area": null,
            "grid_auto_columns": null,
            "grid_auto_flow": null,
            "grid_auto_rows": null,
            "grid_column": null,
            "grid_gap": null,
            "grid_row": null,
            "grid_template_areas": null,
            "grid_template_columns": null,
            "grid_template_rows": null,
            "height": null,
            "justify_content": null,
            "justify_items": null,
            "left": null,
            "margin": null,
            "max_height": null,
            "max_width": null,
            "min_height": null,
            "min_width": null,
            "object_fit": null,
            "object_position": null,
            "order": null,
            "overflow": null,
            "overflow_x": null,
            "overflow_y": null,
            "padding": null,
            "right": null,
            "top": null,
            "visibility": null,
            "width": null
          }
        },
        "a647a2c715eb4428b70bbc1682ff502f": {
          "model_module": "@jupyter-widgets/controls",
          "model_name": "ProgressStyleModel",
          "model_module_version": "1.5.0",
          "state": {
            "_model_module": "@jupyter-widgets/controls",
            "_model_module_version": "1.5.0",
            "_model_name": "ProgressStyleModel",
            "_view_count": null,
            "_view_module": "@jupyter-widgets/base",
            "_view_module_version": "1.2.0",
            "_view_name": "StyleView",
            "bar_color": null,
            "description_width": ""
          }
        },
        "b8e36882bef04a7c8c320dde60bb6460": {
          "model_module": "@jupyter-widgets/base",
          "model_name": "LayoutModel",
          "model_module_version": "1.2.0",
          "state": {
            "_model_module": "@jupyter-widgets/base",
            "_model_module_version": "1.2.0",
            "_model_name": "LayoutModel",
            "_view_count": null,
            "_view_module": "@jupyter-widgets/base",
            "_view_module_version": "1.2.0",
            "_view_name": "LayoutView",
            "align_content": null,
            "align_items": null,
            "align_self": null,
            "border": null,
            "bottom": null,
            "display": null,
            "flex": null,
            "flex_flow": null,
            "grid_area": null,
            "grid_auto_columns": null,
            "grid_auto_flow": null,
            "grid_auto_rows": null,
            "grid_column": null,
            "grid_gap": null,
            "grid_row": null,
            "grid_template_areas": null,
            "grid_template_columns": null,
            "grid_template_rows": null,
            "height": null,
            "justify_content": null,
            "justify_items": null,
            "left": null,
            "margin": null,
            "max_height": null,
            "max_width": null,
            "min_height": null,
            "min_width": null,
            "object_fit": null,
            "object_position": null,
            "order": null,
            "overflow": null,
            "overflow_x": null,
            "overflow_y": null,
            "padding": null,
            "right": null,
            "top": null,
            "visibility": null,
            "width": null
          }
        },
        "7915c1ef5f86429e8d09368b0fbe2574": {
          "model_module": "@jupyter-widgets/controls",
          "model_name": "DescriptionStyleModel",
          "model_module_version": "1.5.0",
          "state": {
            "_model_module": "@jupyter-widgets/controls",
            "_model_module_version": "1.5.0",
            "_model_name": "DescriptionStyleModel",
            "_view_count": null,
            "_view_module": "@jupyter-widgets/base",
            "_view_module_version": "1.2.0",
            "_view_name": "StyleView",
            "description_width": ""
          }
        },
        "1e7c7fbc6e954a56999a64ae71f0997a": {
          "model_module": "@jupyter-widgets/controls",
          "model_name": "HBoxModel",
          "model_module_version": "1.5.0",
          "state": {
            "_dom_classes": [],
            "_model_module": "@jupyter-widgets/controls",
            "_model_module_version": "1.5.0",
            "_model_name": "HBoxModel",
            "_view_count": null,
            "_view_module": "@jupyter-widgets/controls",
            "_view_module_version": "1.5.0",
            "_view_name": "HBoxView",
            "box_style": "",
            "children": [
              "IPY_MODEL_4f77d6df04be42f2a96fde97811b1182",
              "IPY_MODEL_fc23da63379c4365b2ce0ba9288d7e23",
              "IPY_MODEL_4fc66043092346a9a8798a5898da6338"
            ],
            "layout": "IPY_MODEL_bf8a29ad826c439e8fca41a3f7daea6e"
          }
        },
        "4f77d6df04be42f2a96fde97811b1182": {
          "model_module": "@jupyter-widgets/controls",
          "model_name": "HTMLModel",
          "model_module_version": "1.5.0",
          "state": {
            "_dom_classes": [],
            "_model_module": "@jupyter-widgets/controls",
            "_model_module_version": "1.5.0",
            "_model_name": "HTMLModel",
            "_view_count": null,
            "_view_module": "@jupyter-widgets/controls",
            "_view_module_version": "1.5.0",
            "_view_name": "HTMLView",
            "description": "",
            "description_tooltip": null,
            "layout": "IPY_MODEL_cbcd2698f7ee4504921b9c38ffcc4172",
            "placeholder": "​",
            "style": "IPY_MODEL_999849f745ca44058ac72cbe46ec5b4e",
            "value": "100%"
          }
        },
        "fc23da63379c4365b2ce0ba9288d7e23": {
          "model_module": "@jupyter-widgets/controls",
          "model_name": "FloatProgressModel",
          "model_module_version": "1.5.0",
          "state": {
            "_dom_classes": [],
            "_model_module": "@jupyter-widgets/controls",
            "_model_module_version": "1.5.0",
            "_model_name": "FloatProgressModel",
            "_view_count": null,
            "_view_module": "@jupyter-widgets/controls",
            "_view_module_version": "1.5.0",
            "_view_name": "ProgressView",
            "bar_style": "success",
            "description": "",
            "description_tooltip": null,
            "layout": "IPY_MODEL_d3fda33b2d734750befa8f6632bae008",
            "max": 322,
            "min": 0,
            "orientation": "horizontal",
            "style": "IPY_MODEL_546a695fe37f43d289bb72820cfc5dae",
            "value": 322
          }
        },
        "4fc66043092346a9a8798a5898da6338": {
          "model_module": "@jupyter-widgets/controls",
          "model_name": "HTMLModel",
          "model_module_version": "1.5.0",
          "state": {
            "_dom_classes": [],
            "_model_module": "@jupyter-widgets/controls",
            "_model_module_version": "1.5.0",
            "_model_name": "HTMLModel",
            "_view_count": null,
            "_view_module": "@jupyter-widgets/controls",
            "_view_module_version": "1.5.0",
            "_view_name": "HTMLView",
            "description": "",
            "description_tooltip": null,
            "layout": "IPY_MODEL_0e507cf854fa48828152d93c1c3fcfaa",
            "placeholder": "​",
            "style": "IPY_MODEL_5e2d03e304244f1093e6d2a17a801d93",
            "value": " 322/322 [00:02&lt;00:00, 160.70ba/s]"
          }
        },
        "bf8a29ad826c439e8fca41a3f7daea6e": {
          "model_module": "@jupyter-widgets/base",
          "model_name": "LayoutModel",
          "model_module_version": "1.2.0",
          "state": {
            "_model_module": "@jupyter-widgets/base",
            "_model_module_version": "1.2.0",
            "_model_name": "LayoutModel",
            "_view_count": null,
            "_view_module": "@jupyter-widgets/base",
            "_view_module_version": "1.2.0",
            "_view_name": "LayoutView",
            "align_content": null,
            "align_items": null,
            "align_self": null,
            "border": null,
            "bottom": null,
            "display": null,
            "flex": null,
            "flex_flow": null,
            "grid_area": null,
            "grid_auto_columns": null,
            "grid_auto_flow": null,
            "grid_auto_rows": null,
            "grid_column": null,
            "grid_gap": null,
            "grid_row": null,
            "grid_template_areas": null,
            "grid_template_columns": null,
            "grid_template_rows": null,
            "height": null,
            "justify_content": null,
            "justify_items": null,
            "left": null,
            "margin": null,
            "max_height": null,
            "max_width": null,
            "min_height": null,
            "min_width": null,
            "object_fit": null,
            "object_position": null,
            "order": null,
            "overflow": null,
            "overflow_x": null,
            "overflow_y": null,
            "padding": null,
            "right": null,
            "top": null,
            "visibility": null,
            "width": null
          }
        },
        "cbcd2698f7ee4504921b9c38ffcc4172": {
          "model_module": "@jupyter-widgets/base",
          "model_name": "LayoutModel",
          "model_module_version": "1.2.0",
          "state": {
            "_model_module": "@jupyter-widgets/base",
            "_model_module_version": "1.2.0",
            "_model_name": "LayoutModel",
            "_view_count": null,
            "_view_module": "@jupyter-widgets/base",
            "_view_module_version": "1.2.0",
            "_view_name": "LayoutView",
            "align_content": null,
            "align_items": null,
            "align_self": null,
            "border": null,
            "bottom": null,
            "display": null,
            "flex": null,
            "flex_flow": null,
            "grid_area": null,
            "grid_auto_columns": null,
            "grid_auto_flow": null,
            "grid_auto_rows": null,
            "grid_column": null,
            "grid_gap": null,
            "grid_row": null,
            "grid_template_areas": null,
            "grid_template_columns": null,
            "grid_template_rows": null,
            "height": null,
            "justify_content": null,
            "justify_items": null,
            "left": null,
            "margin": null,
            "max_height": null,
            "max_width": null,
            "min_height": null,
            "min_width": null,
            "object_fit": null,
            "object_position": null,
            "order": null,
            "overflow": null,
            "overflow_x": null,
            "overflow_y": null,
            "padding": null,
            "right": null,
            "top": null,
            "visibility": null,
            "width": null
          }
        },
        "999849f745ca44058ac72cbe46ec5b4e": {
          "model_module": "@jupyter-widgets/controls",
          "model_name": "DescriptionStyleModel",
          "model_module_version": "1.5.0",
          "state": {
            "_model_module": "@jupyter-widgets/controls",
            "_model_module_version": "1.5.0",
            "_model_name": "DescriptionStyleModel",
            "_view_count": null,
            "_view_module": "@jupyter-widgets/base",
            "_view_module_version": "1.2.0",
            "_view_name": "StyleView",
            "description_width": ""
          }
        },
        "d3fda33b2d734750befa8f6632bae008": {
          "model_module": "@jupyter-widgets/base",
          "model_name": "LayoutModel",
          "model_module_version": "1.2.0",
          "state": {
            "_model_module": "@jupyter-widgets/base",
            "_model_module_version": "1.2.0",
            "_model_name": "LayoutModel",
            "_view_count": null,
            "_view_module": "@jupyter-widgets/base",
            "_view_module_version": "1.2.0",
            "_view_name": "LayoutView",
            "align_content": null,
            "align_items": null,
            "align_self": null,
            "border": null,
            "bottom": null,
            "display": null,
            "flex": null,
            "flex_flow": null,
            "grid_area": null,
            "grid_auto_columns": null,
            "grid_auto_flow": null,
            "grid_auto_rows": null,
            "grid_column": null,
            "grid_gap": null,
            "grid_row": null,
            "grid_template_areas": null,
            "grid_template_columns": null,
            "grid_template_rows": null,
            "height": null,
            "justify_content": null,
            "justify_items": null,
            "left": null,
            "margin": null,
            "max_height": null,
            "max_width": null,
            "min_height": null,
            "min_width": null,
            "object_fit": null,
            "object_position": null,
            "order": null,
            "overflow": null,
            "overflow_x": null,
            "overflow_y": null,
            "padding": null,
            "right": null,
            "top": null,
            "visibility": null,
            "width": null
          }
        },
        "546a695fe37f43d289bb72820cfc5dae": {
          "model_module": "@jupyter-widgets/controls",
          "model_name": "ProgressStyleModel",
          "model_module_version": "1.5.0",
          "state": {
            "_model_module": "@jupyter-widgets/controls",
            "_model_module_version": "1.5.0",
            "_model_name": "ProgressStyleModel",
            "_view_count": null,
            "_view_module": "@jupyter-widgets/base",
            "_view_module_version": "1.2.0",
            "_view_name": "StyleView",
            "bar_color": null,
            "description_width": ""
          }
        },
        "0e507cf854fa48828152d93c1c3fcfaa": {
          "model_module": "@jupyter-widgets/base",
          "model_name": "LayoutModel",
          "model_module_version": "1.2.0",
          "state": {
            "_model_module": "@jupyter-widgets/base",
            "_model_module_version": "1.2.0",
            "_model_name": "LayoutModel",
            "_view_count": null,
            "_view_module": "@jupyter-widgets/base",
            "_view_module_version": "1.2.0",
            "_view_name": "LayoutView",
            "align_content": null,
            "align_items": null,
            "align_self": null,
            "border": null,
            "bottom": null,
            "display": null,
            "flex": null,
            "flex_flow": null,
            "grid_area": null,
            "grid_auto_columns": null,
            "grid_auto_flow": null,
            "grid_auto_rows": null,
            "grid_column": null,
            "grid_gap": null,
            "grid_row": null,
            "grid_template_areas": null,
            "grid_template_columns": null,
            "grid_template_rows": null,
            "height": null,
            "justify_content": null,
            "justify_items": null,
            "left": null,
            "margin": null,
            "max_height": null,
            "max_width": null,
            "min_height": null,
            "min_width": null,
            "object_fit": null,
            "object_position": null,
            "order": null,
            "overflow": null,
            "overflow_x": null,
            "overflow_y": null,
            "padding": null,
            "right": null,
            "top": null,
            "visibility": null,
            "width": null
          }
        },
        "5e2d03e304244f1093e6d2a17a801d93": {
          "model_module": "@jupyter-widgets/controls",
          "model_name": "DescriptionStyleModel",
          "model_module_version": "1.5.0",
          "state": {
            "_model_module": "@jupyter-widgets/controls",
            "_model_module_version": "1.5.0",
            "_model_name": "DescriptionStyleModel",
            "_view_count": null,
            "_view_module": "@jupyter-widgets/base",
            "_view_module_version": "1.2.0",
            "_view_name": "StyleView",
            "description_width": ""
          }
        }
      }
    }
  },
  "cells": [
    {
      "cell_type": "markdown",
      "metadata": {
        "id": "view-in-github",
        "colab_type": "text"
      },
      "source": [
        "<a href=\"https://colab.research.google.com/github/VanessaSchenkel/how_to/blob/main/how_to_contrained_beam_search.ipynb\" target=\"_parent\"><img src=\"https://colab.research.google.com/assets/colab-badge.svg\" alt=\"Open In Colab\"/></a>"
      ]
    },
    {
      "cell_type": "code",
      "execution_count": null,
      "metadata": {
        "id": "Tprln3Yjsh2Y"
      },
      "outputs": [],
      "source": [
        "!pip install transformers\n",
        "!pip install spacy\n",
        "!python -m spacy download pt_core_news_lg"
      ]
    },
    {
      "cell_type": "markdown",
      "source": [
        "### Model"
      ],
      "metadata": {
        "id": "-zeROUjXyUa5"
      }
    },
    {
      "cell_type": "code",
      "source": [
        "import spacy\n",
        "\n",
        "nlp = spacy.load(\"pt_core_news_lg\")\n",
        "\n",
        "doc = nlp(\"O médico acabou seu trabalho.\")"
      ],
      "metadata": {
        "id": "zwPxEsKgtrrt"
      },
      "execution_count": 2,
      "outputs": []
    },
    {
      "cell_type": "code",
      "source": [
        "from transformers import AutoTokenizer, AutoModelForSeq2SeqLM\n",
        "\n",
        "model_name = 'VanessaSchenkel/pt-unicamp-handcrafted'\n",
        "tokenizer = AutoTokenizer.from_pretrained(model_name)\n",
        "model = AutoModelForSeq2SeqLM.from_pretrained(model_name)\n",
        "\n",
        "sentence = \"The doctor finished her work.\"\n",
        "input_ids = tokenizer(sentence, return_tensors=\"pt\").input_ids\n",
        "\n",
        "outputs = model.generate(input_ids, num_beams=5)\n",
        "tokenizer.batch_decode(outputs, skip_special_tokens=True)"
      ],
      "metadata": {
        "id": "wi0UKHuft2-S"
      },
      "execution_count": null,
      "outputs": []
    },
    {
      "cell_type": "code",
      "source": [
        "translation_google = nlp(\"O médico terminou seu trabalho.\")\n",
        "translation_model = tokenizer.batch_decode(outputs, skip_special_tokens=True)\n",
        "\n",
        "print(translation_google)\n",
        "print(translation_model)"
      ],
      "metadata": {
        "colab": {
          "base_uri": "https://localhost:8080/"
        },
        "id": "IAR8ZOfquQEB",
        "outputId": "3c0cc873-9721-4bd2-ac26-8e5b10c5a99b"
      },
      "execution_count": 4,
      "outputs": [
        {
          "output_type": "stream",
          "name": "stdout",
          "text": [
            "O médico terminou seu trabalho.\n",
            "['A médica terminou seu trabalho.']\n"
          ]
        }
      ]
    },
    {
      "cell_type": "code",
      "source": [
        "from transformers import PhrasalConstraint\n",
        "\n",
        "sentence = \"The doctor finished her work.\"\n",
        "input_ids = tokenizer(sentence, return_tensors=\"pt\").input_ids\n",
        "\n",
        "constraints = [\n",
        "    PhrasalConstraint(\n",
        "        tokenizer(\"acabou seu trabalho\", add_special_tokens=False).input_ids\n",
        "    )\n",
        "]\n",
        "\n",
        "outputs = model.generate(\n",
        "    input_ids,\n",
        "    constraints=constraints,\n",
        "    num_beams=10,\n",
        "    num_return_sequences=3,\n",
        ")\n",
        "\n",
        "print(\"Output:\\n\" + 100 * '-')\n",
        "for i, sample_output in enumerate(outputs):\n",
        "  print(\"{}: {}\".format(i, tokenizer.decode(sample_output, skip_special_tokens=True)))"
      ],
      "metadata": {
        "colab": {
          "base_uri": "https://localhost:8080/"
        },
        "id": "NYL2mSUnu3Au",
        "outputId": "bcabaf91-2033-4b32-ee1f-d3389d15a591"
      },
      "execution_count": 5,
      "outputs": [
        {
          "output_type": "stream",
          "name": "stdout",
          "text": [
            "Output:\n",
            "----------------------------------------------------------------------------------------------------\n",
            "0: A médica acabou seu trabalho.\n",
            "1: O médico acabou seu trabalho.\n",
            "2: O doutor acabou seu trabalho.\n"
          ]
        }
      ]
    },
    {
      "cell_type": "code",
      "source": [
        "from transformers import DisjunctiveConstraint\n",
        "\n",
        "sentence = \"The doctor finished her work.\"\n",
        "input_ids = tokenizer(sentence, return_tensors=\"pt\").input_ids\n",
        "\n",
        "flexible_phrases = tokenizer([\"médica\", \"médico\"], add_special_tokens=False).input_ids\n",
        "\n",
        "constraints = [DisjunctiveConstraint(flexible_phrases)]\n",
        "\n",
        "outputs = model.generate(\n",
        "    input_ids,\n",
        "    constraints=constraints,\n",
        "    num_beams=10,\n",
        "    num_return_sequences=3,\n",
        ")\n",
        "\n",
        "print(\"Output:\\n\" + 100 * '-')\n",
        "for i, sample_output in enumerate(outputs):\n",
        "  print(\"{}: {}\".format(i, tokenizer.decode(sample_output, skip_special_tokens=True)))"
      ],
      "metadata": {
        "colab": {
          "base_uri": "https://localhost:8080/"
        },
        "id": "JSuC2a5U1X8i",
        "outputId": "cf717952-0110-46e2-8080-e06f558e828b"
      },
      "execution_count": 6,
      "outputs": [
        {
          "output_type": "stream",
          "name": "stdout",
          "text": [
            "Output:\n",
            "----------------------------------------------------------------------------------------------------\n",
            "0: A médica terminou seu trabalho.\n",
            "1: A médica terminou o seu trabalho.\n",
            "2: O médico terminou seu trabalho.\n"
          ]
        }
      ]
    },
    {
      "cell_type": "code",
      "source": [
        "print(translation_google)\n",
        "print(translation_model)"
      ],
      "metadata": {
        "colab": {
          "base_uri": "https://localhost:8080/"
        },
        "id": "sQXw3y_0Z3bS",
        "outputId": "ac329488-8ecd-44b5-b591-1b9ef39554e6"
      },
      "execution_count": 7,
      "outputs": [
        {
          "output_type": "stream",
          "name": "stdout",
          "text": [
            "O médico terminou seu trabalho.\n",
            "['A médica terminou seu trabalho.']\n"
          ]
        }
      ]
    },
    {
      "cell_type": "code",
      "source": [
        "translation_model = nlp(translation_model[0])\n",
        "translation_model"
      ],
      "metadata": {
        "colab": {
          "base_uri": "https://localhost:8080/"
        },
        "id": "2npNhLLXiBE6",
        "outputId": "bb43ef1b-f3c4-406f-fa69-2605446482d5"
      },
      "execution_count": 8,
      "outputs": [
        {
          "output_type": "execute_result",
          "data": {
            "text/plain": [
              "A médica terminou seu trabalho."
            ]
          },
          "metadata": {},
          "execution_count": 8
        }
      ]
    },
    {
      "cell_type": "code",
      "source": [
        "for token in translation_model:\n",
        "  print(token.text)\n",
        "  print(\"ancestors -> \", [ancestor for ancestor in token.ancestors])\n",
        "  print(\"children ->\", [child for child in token.children])\n",
        "  print(\"dep_ ->\",token.dep_)\n",
        "  print(\"head ->\", token.head)\n",
        "  print(\"is_ancestor ->\", token.is_ancestor(token))\n",
        "  print(\"lemma_ ->\", token.lemma_)\n",
        "  print(\"morph ->\", token.morph)\n",
        "  print(\"pos_ ->\", token.pos_)\n",
        "  print(\"norm_ ->\", token.norm_)\n",
        "  print(\"pos_ ->\", token.pos_)\n",
        "  print(\"tag_ ->\", token.tag_)\n",
        "  print(\"suffix_ ->\", token.suffix_ )\n",
        "  print(\"------\")\n",
        " "
      ],
      "metadata": {
        "id": "lWclUI8YiZjW"
      },
      "execution_count": null,
      "outputs": []
    },
    {
      "cell_type": "code",
      "source": [
        "teste = nlp(\"A médica terminou o trabalho, porém o enfermeiro ainda não. Outra frase aqui.\")\n",
        "\n",
        "for n in teste.noun_chunks:\n",
        "  print(n)"
      ],
      "metadata": {
        "colab": {
          "base_uri": "https://localhost:8080/"
        },
        "id": "8UrWi37vwZAr",
        "outputId": "41ab6ce0-f3c3-4da7-8e9f-b290fe0fbd5c"
      },
      "execution_count": 10,
      "outputs": [
        {
          "output_type": "stream",
          "name": "stdout",
          "text": [
            "A médica\n",
            "o trabalho\n",
            ", porém o enfermeiro\n",
            "Outra frase\n"
          ]
        }
      ]
    },
    {
      "cell_type": "code",
      "source": [
        "for ex in translation_google.noun_chunks:\n",
        "  print(ex)"
      ],
      "metadata": {
        "colab": {
          "base_uri": "https://localhost:8080/"
        },
        "id": "AxPp9oTWA-NK",
        "outputId": "f0bcd6fd-e4bd-445f-e639-cdf56127e633"
      },
      "execution_count": 11,
      "outputs": [
        {
          "output_type": "stream",
          "name": "stdout",
          "text": [
            "O médico\n",
            "seu trabalho\n"
          ]
        }
      ]
    },
    {
      "cell_type": "code",
      "source": [
        "teste = nlp(\"A médica era linda, o enfermeiro nem tanto\")\n",
        "for ex in teste.noun_chunks:\n",
        "  print(ex)\n"
      ],
      "metadata": {
        "colab": {
          "base_uri": "https://localhost:8080/"
        },
        "id": "YHntYj1oBdLF",
        "outputId": "797f1e8a-dd48-45e1-c507-6c337739e97a"
      },
      "execution_count": 12,
      "outputs": [
        {
          "output_type": "stream",
          "name": "stdout",
          "text": [
            "A médica\n",
            "o enfermeiro\n"
          ]
        }
      ]
    },
    {
      "cell_type": "code",
      "source": [
        "for token in teste:\n",
        "  print(\"TOKEN:  \", token.text)\n",
        "  print(\"ancestors -> \", [ancestor for ancestor in token.ancestors])\n",
        "  print(\"children ->\", [child for child in token.children])\n",
        "  print(\"dep_ ->\",token.dep_)\n",
        "  print(\"head ->\", token.head)\n",
        "  print(\"is_ancestor ->\", token.is_ancestor(token))\n",
        "  print(\"lemma_ ->\", token.lemma_)\n",
        "  print(\"morph ->\", token.morph)\n",
        "  print(\"pos_ ->\", token.pos_)\n",
        "  print(\"norm_ ->\", token.norm_)\n",
        "  print(\"tag_ ->\", token.tag_)\n",
        "  print(\"suffix_ ->\", token.suffix_ )\n",
        "  print(\"--------------------\")"
      ],
      "metadata": {
        "id": "C_ET2A5CHbLr"
      },
      "execution_count": null,
      "outputs": []
    },
    {
      "cell_type": "code",
      "source": [
        "teste = nlp(\"A médica comeu a comida dela, o enfermeiro comeu o sanduíche dele\")\n",
        "\n",
        "table = {}\n",
        "text_list = []\n",
        "anc = []\n",
        "child = []\n",
        "dep = []\n",
        "head = []\n",
        "lemma = []\n",
        "morph = []\n",
        "pos = []\n",
        "tag = []\n",
        "norm = []\n",
        "suffix = []\n",
        "pref = []\n",
        "\n",
        "for token in teste:\n",
        "  text_list.append(token.text)\n",
        "  anc.append([ancestor for ancestor in token.ancestors])\n",
        "  child.append([child for child in token.children])\n",
        "  dep.append(token.dep_)\n",
        "  head.append(token.head)\n",
        "  lemma.append(token.lemma_)\n",
        "  morph.append(token.morph)\n",
        "  pos.append(token.pos_)\n",
        "  norm.append(token.norm_)\n",
        "  pref.append(token.prefix_)\n",
        "  suffix.append(token.suffix_)\n",
        "\n",
        "table['text'] = text_list\n",
        "table['anc'] = anc\n",
        "table['child'] = child\n",
        "table['dep'] = dep\n",
        "table['head'] = head\n",
        "table['lemma'] = lemma\n",
        "table['morph'] = morph\n",
        "table['pos'] = pos\n",
        "table['norm'] = norm\n",
        "table['pref'] = pref\n",
        "table['suffix'] = suffix"
      ],
      "metadata": {
        "id": "2XW81OeCC5BZ"
      },
      "execution_count": 14,
      "outputs": []
    },
    {
      "cell_type": "code",
      "source": [
        "import pandas as pd\n",
        "\n",
        "df = pd.DataFrame(table)\n",
        "\n",
        "display(df)"
      ],
      "metadata": {
        "colab": {
          "base_uri": "https://localhost:8080/",
          "height": 457
        },
        "id": "ess1PvBYJK_W",
        "outputId": "9a024df4-c5ff-4d6d-b494-566a9b43940c"
      },
      "execution_count": 15,
      "outputs": [
        {
          "output_type": "display_data",
          "data": {
            "text/plain": [
              "          text                         anc                       child    dep  \\\n",
              "0            A             [médica, comeu]                          []    det   \n",
              "1       médica                     [comeu]                         [A]  nsubj   \n",
              "2        comeu                          []  [médica, comida, ,, comeu]   ROOT   \n",
              "3            a             [comida, comeu]                          []    det   \n",
              "4       comida                     [comeu]                   [a, dela]    obj   \n",
              "5         dela             [comida, comeu]                          []   nmod   \n",
              "6            ,                     [comeu]                          []  punct   \n",
              "7            o  [enfermeiro, comeu, comeu]                          []    det   \n",
              "8   enfermeiro              [comeu, comeu]                         [o]  nsubj   \n",
              "9        comeu                     [comeu]     [enfermeiro, sanduíche]   conj   \n",
              "10           o   [sanduíche, comeu, comeu]                          []    det   \n",
              "11   sanduíche              [comeu, comeu]                   [o, dele]    obj   \n",
              "12        dele   [sanduíche, comeu, comeu]                          []   nmod   \n",
              "\n",
              "          head       lemma                                              morph  \\\n",
              "0       médica           o  (Definite=Def, Gender=Fem, Number=Sing, PronTy...   \n",
              "1        comeu      médica                          (Gender=Fem, Number=Sing)   \n",
              "2        comeu       comeu  (Mood=Sub, Number=Sing, Person=3, Tense=Past, ...   \n",
              "3       comida           o  (Definite=Def, Gender=Fem, Number=Sing, PronTy...   \n",
              "4        comeu      comida                          (Gender=Fem, Number=Sing)   \n",
              "5       comida      de ele  (Gender=Fem, Number=Sing, Person=3, PronType=Prs)   \n",
              "6        comeu           ,                                                 ()   \n",
              "7   enfermeiro           o  (Definite=Def, Gender=Masc, Number=Sing, PronT...   \n",
              "8        comeu  enfermeiro                         (Gender=Masc, Number=Sing)   \n",
              "9        comeu       comeu  (Mood=Sub, Number=Sing, Person=3, Tense=Past, ...   \n",
              "10   sanduíche           o  (Definite=Def, Gender=Masc, Number=Sing, PronT...   \n",
              "11       comeu   sanduíche                         (Gender=Masc, Number=Sing)   \n",
              "12   sanduíche      de ele  (Gender=Masc, Number=Sing, Person=3, PronType=...   \n",
              "\n",
              "      pos        norm pref suffix  \n",
              "0     DET           a    A      A  \n",
              "1    NOUN      médica    m    ica  \n",
              "2    VERB       comeu    c    meu  \n",
              "3     DET           a    a      a  \n",
              "4    NOUN      comida    c    ida  \n",
              "5    PRON        dela    d    ela  \n",
              "6   PUNCT           ,    ,      ,  \n",
              "7     DET           o    o      o  \n",
              "8    NOUN  enfermeiro    e    iro  \n",
              "9    VERB       comeu    c    meu  \n",
              "10    DET           o    o      o  \n",
              "11   NOUN   sanduíche    s    che  \n",
              "12   PRON        dele    d    ele  "
            ],
            "text/html": [
              "\n",
              "  <div id=\"df-e37eb0fa-13a2-450f-a300-8bd98cebe4e5\">\n",
              "    <div class=\"colab-df-container\">\n",
              "      <div>\n",
              "<style scoped>\n",
              "    .dataframe tbody tr th:only-of-type {\n",
              "        vertical-align: middle;\n",
              "    }\n",
              "\n",
              "    .dataframe tbody tr th {\n",
              "        vertical-align: top;\n",
              "    }\n",
              "\n",
              "    .dataframe thead th {\n",
              "        text-align: right;\n",
              "    }\n",
              "</style>\n",
              "<table border=\"1\" class=\"dataframe\">\n",
              "  <thead>\n",
              "    <tr style=\"text-align: right;\">\n",
              "      <th></th>\n",
              "      <th>text</th>\n",
              "      <th>anc</th>\n",
              "      <th>child</th>\n",
              "      <th>dep</th>\n",
              "      <th>head</th>\n",
              "      <th>lemma</th>\n",
              "      <th>morph</th>\n",
              "      <th>pos</th>\n",
              "      <th>norm</th>\n",
              "      <th>pref</th>\n",
              "      <th>suffix</th>\n",
              "    </tr>\n",
              "  </thead>\n",
              "  <tbody>\n",
              "    <tr>\n",
              "      <th>0</th>\n",
              "      <td>A</td>\n",
              "      <td>[médica, comeu]</td>\n",
              "      <td>[]</td>\n",
              "      <td>det</td>\n",
              "      <td>médica</td>\n",
              "      <td>o</td>\n",
              "      <td>(Definite=Def, Gender=Fem, Number=Sing, PronTy...</td>\n",
              "      <td>DET</td>\n",
              "      <td>a</td>\n",
              "      <td>A</td>\n",
              "      <td>A</td>\n",
              "    </tr>\n",
              "    <tr>\n",
              "      <th>1</th>\n",
              "      <td>médica</td>\n",
              "      <td>[comeu]</td>\n",
              "      <td>[A]</td>\n",
              "      <td>nsubj</td>\n",
              "      <td>comeu</td>\n",
              "      <td>médica</td>\n",
              "      <td>(Gender=Fem, Number=Sing)</td>\n",
              "      <td>NOUN</td>\n",
              "      <td>médica</td>\n",
              "      <td>m</td>\n",
              "      <td>ica</td>\n",
              "    </tr>\n",
              "    <tr>\n",
              "      <th>2</th>\n",
              "      <td>comeu</td>\n",
              "      <td>[]</td>\n",
              "      <td>[médica, comida, ,, comeu]</td>\n",
              "      <td>ROOT</td>\n",
              "      <td>comeu</td>\n",
              "      <td>comeu</td>\n",
              "      <td>(Mood=Sub, Number=Sing, Person=3, Tense=Past, ...</td>\n",
              "      <td>VERB</td>\n",
              "      <td>comeu</td>\n",
              "      <td>c</td>\n",
              "      <td>meu</td>\n",
              "    </tr>\n",
              "    <tr>\n",
              "      <th>3</th>\n",
              "      <td>a</td>\n",
              "      <td>[comida, comeu]</td>\n",
              "      <td>[]</td>\n",
              "      <td>det</td>\n",
              "      <td>comida</td>\n",
              "      <td>o</td>\n",
              "      <td>(Definite=Def, Gender=Fem, Number=Sing, PronTy...</td>\n",
              "      <td>DET</td>\n",
              "      <td>a</td>\n",
              "      <td>a</td>\n",
              "      <td>a</td>\n",
              "    </tr>\n",
              "    <tr>\n",
              "      <th>4</th>\n",
              "      <td>comida</td>\n",
              "      <td>[comeu]</td>\n",
              "      <td>[a, dela]</td>\n",
              "      <td>obj</td>\n",
              "      <td>comeu</td>\n",
              "      <td>comida</td>\n",
              "      <td>(Gender=Fem, Number=Sing)</td>\n",
              "      <td>NOUN</td>\n",
              "      <td>comida</td>\n",
              "      <td>c</td>\n",
              "      <td>ida</td>\n",
              "    </tr>\n",
              "    <tr>\n",
              "      <th>5</th>\n",
              "      <td>dela</td>\n",
              "      <td>[comida, comeu]</td>\n",
              "      <td>[]</td>\n",
              "      <td>nmod</td>\n",
              "      <td>comida</td>\n",
              "      <td>de ele</td>\n",
              "      <td>(Gender=Fem, Number=Sing, Person=3, PronType=Prs)</td>\n",
              "      <td>PRON</td>\n",
              "      <td>dela</td>\n",
              "      <td>d</td>\n",
              "      <td>ela</td>\n",
              "    </tr>\n",
              "    <tr>\n",
              "      <th>6</th>\n",
              "      <td>,</td>\n",
              "      <td>[comeu]</td>\n",
              "      <td>[]</td>\n",
              "      <td>punct</td>\n",
              "      <td>comeu</td>\n",
              "      <td>,</td>\n",
              "      <td>()</td>\n",
              "      <td>PUNCT</td>\n",
              "      <td>,</td>\n",
              "      <td>,</td>\n",
              "      <td>,</td>\n",
              "    </tr>\n",
              "    <tr>\n",
              "      <th>7</th>\n",
              "      <td>o</td>\n",
              "      <td>[enfermeiro, comeu, comeu]</td>\n",
              "      <td>[]</td>\n",
              "      <td>det</td>\n",
              "      <td>enfermeiro</td>\n",
              "      <td>o</td>\n",
              "      <td>(Definite=Def, Gender=Masc, Number=Sing, PronT...</td>\n",
              "      <td>DET</td>\n",
              "      <td>o</td>\n",
              "      <td>o</td>\n",
              "      <td>o</td>\n",
              "    </tr>\n",
              "    <tr>\n",
              "      <th>8</th>\n",
              "      <td>enfermeiro</td>\n",
              "      <td>[comeu, comeu]</td>\n",
              "      <td>[o]</td>\n",
              "      <td>nsubj</td>\n",
              "      <td>comeu</td>\n",
              "      <td>enfermeiro</td>\n",
              "      <td>(Gender=Masc, Number=Sing)</td>\n",
              "      <td>NOUN</td>\n",
              "      <td>enfermeiro</td>\n",
              "      <td>e</td>\n",
              "      <td>iro</td>\n",
              "    </tr>\n",
              "    <tr>\n",
              "      <th>9</th>\n",
              "      <td>comeu</td>\n",
              "      <td>[comeu]</td>\n",
              "      <td>[enfermeiro, sanduíche]</td>\n",
              "      <td>conj</td>\n",
              "      <td>comeu</td>\n",
              "      <td>comeu</td>\n",
              "      <td>(Mood=Sub, Number=Sing, Person=3, Tense=Past, ...</td>\n",
              "      <td>VERB</td>\n",
              "      <td>comeu</td>\n",
              "      <td>c</td>\n",
              "      <td>meu</td>\n",
              "    </tr>\n",
              "    <tr>\n",
              "      <th>10</th>\n",
              "      <td>o</td>\n",
              "      <td>[sanduíche, comeu, comeu]</td>\n",
              "      <td>[]</td>\n",
              "      <td>det</td>\n",
              "      <td>sanduíche</td>\n",
              "      <td>o</td>\n",
              "      <td>(Definite=Def, Gender=Masc, Number=Sing, PronT...</td>\n",
              "      <td>DET</td>\n",
              "      <td>o</td>\n",
              "      <td>o</td>\n",
              "      <td>o</td>\n",
              "    </tr>\n",
              "    <tr>\n",
              "      <th>11</th>\n",
              "      <td>sanduíche</td>\n",
              "      <td>[comeu, comeu]</td>\n",
              "      <td>[o, dele]</td>\n",
              "      <td>obj</td>\n",
              "      <td>comeu</td>\n",
              "      <td>sanduíche</td>\n",
              "      <td>(Gender=Masc, Number=Sing)</td>\n",
              "      <td>NOUN</td>\n",
              "      <td>sanduíche</td>\n",
              "      <td>s</td>\n",
              "      <td>che</td>\n",
              "    </tr>\n",
              "    <tr>\n",
              "      <th>12</th>\n",
              "      <td>dele</td>\n",
              "      <td>[sanduíche, comeu, comeu]</td>\n",
              "      <td>[]</td>\n",
              "      <td>nmod</td>\n",
              "      <td>sanduíche</td>\n",
              "      <td>de ele</td>\n",
              "      <td>(Gender=Masc, Number=Sing, Person=3, PronType=...</td>\n",
              "      <td>PRON</td>\n",
              "      <td>dele</td>\n",
              "      <td>d</td>\n",
              "      <td>ele</td>\n",
              "    </tr>\n",
              "  </tbody>\n",
              "</table>\n",
              "</div>\n",
              "      <button class=\"colab-df-convert\" onclick=\"convertToInteractive('df-e37eb0fa-13a2-450f-a300-8bd98cebe4e5')\"\n",
              "              title=\"Convert this dataframe to an interactive table.\"\n",
              "              style=\"display:none;\">\n",
              "        \n",
              "  <svg xmlns=\"http://www.w3.org/2000/svg\" height=\"24px\"viewBox=\"0 0 24 24\"\n",
              "       width=\"24px\">\n",
              "    <path d=\"M0 0h24v24H0V0z\" fill=\"none\"/>\n",
              "    <path d=\"M18.56 5.44l.94 2.06.94-2.06 2.06-.94-2.06-.94-.94-2.06-.94 2.06-2.06.94zm-11 1L8.5 8.5l.94-2.06 2.06-.94-2.06-.94L8.5 2.5l-.94 2.06-2.06.94zm10 10l.94 2.06.94-2.06 2.06-.94-2.06-.94-.94-2.06-.94 2.06-2.06.94z\"/><path d=\"M17.41 7.96l-1.37-1.37c-.4-.4-.92-.59-1.43-.59-.52 0-1.04.2-1.43.59L10.3 9.45l-7.72 7.72c-.78.78-.78 2.05 0 2.83L4 21.41c.39.39.9.59 1.41.59.51 0 1.02-.2 1.41-.59l7.78-7.78 2.81-2.81c.8-.78.8-2.07 0-2.86zM5.41 20L4 18.59l7.72-7.72 1.47 1.35L5.41 20z\"/>\n",
              "  </svg>\n",
              "      </button>\n",
              "      \n",
              "  <style>\n",
              "    .colab-df-container {\n",
              "      display:flex;\n",
              "      flex-wrap:wrap;\n",
              "      gap: 12px;\n",
              "    }\n",
              "\n",
              "    .colab-df-convert {\n",
              "      background-color: #E8F0FE;\n",
              "      border: none;\n",
              "      border-radius: 50%;\n",
              "      cursor: pointer;\n",
              "      display: none;\n",
              "      fill: #1967D2;\n",
              "      height: 32px;\n",
              "      padding: 0 0 0 0;\n",
              "      width: 32px;\n",
              "    }\n",
              "\n",
              "    .colab-df-convert:hover {\n",
              "      background-color: #E2EBFA;\n",
              "      box-shadow: 0px 1px 2px rgba(60, 64, 67, 0.3), 0px 1px 3px 1px rgba(60, 64, 67, 0.15);\n",
              "      fill: #174EA6;\n",
              "    }\n",
              "\n",
              "    [theme=dark] .colab-df-convert {\n",
              "      background-color: #3B4455;\n",
              "      fill: #D2E3FC;\n",
              "    }\n",
              "\n",
              "    [theme=dark] .colab-df-convert:hover {\n",
              "      background-color: #434B5C;\n",
              "      box-shadow: 0px 1px 3px 1px rgba(0, 0, 0, 0.15);\n",
              "      filter: drop-shadow(0px 1px 2px rgba(0, 0, 0, 0.3));\n",
              "      fill: #FFFFFF;\n",
              "    }\n",
              "  </style>\n",
              "\n",
              "      <script>\n",
              "        const buttonEl =\n",
              "          document.querySelector('#df-e37eb0fa-13a2-450f-a300-8bd98cebe4e5 button.colab-df-convert');\n",
              "        buttonEl.style.display =\n",
              "          google.colab.kernel.accessAllowed ? 'block' : 'none';\n",
              "\n",
              "        async function convertToInteractive(key) {\n",
              "          const element = document.querySelector('#df-e37eb0fa-13a2-450f-a300-8bd98cebe4e5');\n",
              "          const dataTable =\n",
              "            await google.colab.kernel.invokeFunction('convertToInteractive',\n",
              "                                                     [key], {});\n",
              "          if (!dataTable) return;\n",
              "\n",
              "          const docLinkHtml = 'Like what you see? Visit the ' +\n",
              "            '<a target=\"_blank\" href=https://colab.research.google.com/notebooks/data_table.ipynb>data table notebook</a>'\n",
              "            + ' to learn more about interactive tables.';\n",
              "          element.innerHTML = '';\n",
              "          dataTable['output_type'] = 'display_data';\n",
              "          await google.colab.output.renderOutput(dataTable, element);\n",
              "          const docLink = document.createElement('div');\n",
              "          docLink.innerHTML = docLinkHtml;\n",
              "          element.appendChild(docLink);\n",
              "        }\n",
              "      </script>\n",
              "    </div>\n",
              "  </div>\n",
              "  "
            ]
          },
          "metadata": {}
        }
      ]
    },
    {
      "cell_type": "code",
      "source": [
        "for n in teste.noun_chunks:\n",
        "  print(n)"
      ],
      "metadata": {
        "colab": {
          "base_uri": "https://localhost:8080/"
        },
        "id": "-E9oxaGy2O9m",
        "outputId": "0f570a4b-be4d-4fb3-e8f3-76f9c2df1bd8"
      },
      "execution_count": 16,
      "outputs": [
        {
          "output_type": "stream",
          "name": "stdout",
          "text": [
            "A médica\n",
            "a comida\n",
            "dela\n",
            "o enfermeiro\n",
            "o sanduíche\n",
            "dele\n"
          ]
        }
      ]
    },
    {
      "cell_type": "code",
      "source": [
        "from transformers import PhrasalConstraint\n",
        "\n",
        "sentence = \"The doctor finished her work, the nurse has his job.\"\n",
        "input_ids = tokenizer(sentence, return_tensors=\"pt\").input_ids\n",
        "\n",
        "constraints = [\n",
        "    PhrasalConstraint(\n",
        "        tokenizer(\"acabou seu trabalho\", add_special_tokens=False).input_ids\n",
        "    )\n",
        "]\n",
        "\n",
        "outputs = model.generate(\n",
        "    input_ids,\n",
        "    constraints=constraints,\n",
        "    num_beams=10,\n",
        "    num_return_sequences=3,\n",
        ")\n",
        "\n",
        "print(\"Output:\\n\" + 100 * '-')\n",
        "for i, sample_output in enumerate(outputs):\n",
        "  print(\"{}: {}\".format(i, tokenizer.decode(sample_output, skip_special_tokens=True)))"
      ],
      "metadata": {
        "colab": {
          "base_uri": "https://localhost:8080/"
        },
        "id": "_vTU8wMpDqXI",
        "outputId": "acb87652-3ba5-4136-f38f-4e3be943a212"
      },
      "execution_count": 17,
      "outputs": [
        {
          "output_type": "stream",
          "name": "stderr",
          "text": [
            "/usr/local/lib/python3.7/dist-packages/transformers/generation_utils.py:1232: UserWarning: Neither `max_length` nor `max_new_tokens` has been set, `max_length` will default to 20 (`self.config.max_length`). Controlling `max_length` via the config is deprecated and `max_length` will be removed from the config in v5 of Transformers -- we recommend using `max_new_tokens` to control the maximum length of the generation.\n",
            "  UserWarning,\n"
          ]
        },
        {
          "output_type": "stream",
          "name": "stdout",
          "text": [
            "Output:\n",
            "----------------------------------------------------------------------------------------------------\n",
            "0: O médico acabou seu trabalho, a enfermeira tem o seu trabalho.\n",
            "1: O médico acabou seu trabalho, o enfermeiro tem o seu trabalho.\n",
            "2: A médica acabou seu trabalho, a enfermeira tem o seu trabalho.\n"
          ]
        }
      ]
    },
    {
      "cell_type": "code",
      "source": [
        "from transformers import DisjunctiveConstraint\n",
        "\n",
        "sentence = \"The doctor finished her work, the nurse has his job.\"\n",
        "input_ids = tokenizer(sentence, return_tensors=\"pt\").input_ids\n",
        "\n",
        "flexible_phrases = tokenizer([\"médica\", \"médico\", \"enfermeira\", \"enfermeiro\"], add_special_tokens=False).input_ids\n",
        "\n",
        "constraints = [DisjunctiveConstraint(flexible_phrases)]\n",
        "\n",
        "outputs = model.generate(\n",
        "    input_ids,\n",
        "    constraints=constraints,\n",
        "    num_beams=10,\n",
        "    num_return_sequences=6,\n",
        ")\n",
        "\n",
        "print(\"Output:\\n\" + 100 * '-')\n",
        "for i, sample_output in enumerate(outputs):\n",
        "  print(\"{}: {}\".format(i, tokenizer.decode(sample_output, skip_special_tokens=True)))"
      ],
      "metadata": {
        "colab": {
          "base_uri": "https://localhost:8080/"
        },
        "id": "PIyRaiifUKFy",
        "outputId": "a51e714c-4c08-4625-8da2-aefbc13d691f"
      },
      "execution_count": 18,
      "outputs": [
        {
          "output_type": "stream",
          "name": "stdout",
          "text": [
            "Output:\n",
            "----------------------------------------------------------------------------------------------------\n",
            "0: A médica terminou seu trabalho, a enfermeira tem o seu trabalho.\n",
            "1: O médico terminou seu trabalho, a enfermeira tem o seu trabalho.\n",
            "2: A médica terminou seu trabalho, a enfermeira tem o seu emprego.\n",
            "3: O médico terminou seu trabalho, o enfermeiro tem o seu trabalho.\n",
            "4: O médico terminou seu trabalho, a enfermeira tem o seu emprego.\n",
            "5: O médico terminou seu trabalho, o enfermeiro tem o seu emprego.\n"
          ]
        }
      ]
    },
    {
      "cell_type": "markdown",
      "source": [
        "### roBERTa"
      ],
      "metadata": {
        "id": "cnL2ZMes4Ohj"
      }
    },
    {
      "cell_type": "code",
      "source": [
        "!pip install torch torchvision\n",
        "!pip install fairseq\n",
        "!pip install sacremoses\n",
        "!python -m spacy download en_core_web_lg"
      ],
      "metadata": {
        "id": "HFnxJYJB4SSW"
      },
      "execution_count": null,
      "outputs": []
    },
    {
      "cell_type": "code",
      "source": [
        "import torch\n",
        "\n",
        "roberta = torch.hub.load('pytorch/fairseq', 'roberta.large.wsc', user_dir='examples/roberta/wsc')"
      ],
      "metadata": {
        "id": "y8OJYVMk4eH6"
      },
      "execution_count": null,
      "outputs": []
    },
    {
      "cell_type": "code",
      "source": [
        "source_sentence = \"The doctor finished her work.\"\n",
        "trans_google = \"O médico terminou seu trabalho.\"\n",
        "trans_model = \"A médica acabou seu trabalho.\""
      ],
      "metadata": {
        "id": "p0-j1lBE5jgk"
      },
      "execution_count": 21,
      "outputs": []
    },
    {
      "cell_type": "code",
      "source": [
        "roberta.disambiguate_pronoun('A médica terminou o trabalho [dela].')"
      ],
      "metadata": {
        "colab": {
          "base_uri": "https://localhost:8080/",
          "height": 36
        },
        "id": "b1Prw_8R52UF",
        "outputId": "282b0244-e8ae-4419-f462-334c456910ab"
      },
      "execution_count": 22,
      "outputs": [
        {
          "output_type": "execute_result",
          "data": {
            "text/plain": [
              "'médica'"
            ],
            "application/vnd.google.colaboratory.intrinsic+json": {
              "type": "string"
            }
          },
          "metadata": {},
          "execution_count": 22
        }
      ]
    },
    {
      "cell_type": "code",
      "source": [
        "roberta.disambiguate_pronoun('The doctor finished [her] work.')"
      ],
      "metadata": {
        "colab": {
          "base_uri": "https://localhost:8080/",
          "height": 36
        },
        "id": "OFKOg-UBrwNA",
        "outputId": "d4fd42a9-8009-4110-dbbf-85fa57eb2bfb"
      },
      "execution_count": 23,
      "outputs": [
        {
          "output_type": "execute_result",
          "data": {
            "text/plain": [
              "'The doctor'"
            ],
            "application/vnd.google.colaboratory.intrinsic+json": {
              "type": "string"
            }
          },
          "metadata": {},
          "execution_count": 23
        }
      ]
    },
    {
      "cell_type": "code",
      "source": [
        "tokens = roberta.encode(\"Hello world\")\n",
        "t = roberta.extract_features(tokens)\n"
      ],
      "metadata": {
        "colab": {
          "base_uri": "https://localhost:8080/"
        },
        "id": "oy1WrILWwOxi",
        "outputId": "42e0e4c9-3e49-4f70-d501-3b2292fad097"
      },
      "execution_count": 38,
      "outputs": [
        {
          "output_type": "execute_result",
          "data": {
            "text/plain": [
              "tensor([[[-3.4100e-02, -5.7759e-02, -1.3744e-01,  ..., -1.0358e-01,\n",
              "           1.1683e-03, -6.4825e-02],\n",
              "         [ 2.5671e-01,  5.2687e-01, -1.6095e+00,  ..., -1.1937e-01,\n",
              "          -6.5655e-01, -1.1647e-01],\n",
              "         [ 4.5235e-01, -6.6283e-02, -8.3834e-01,  ...,  6.5676e-01,\n",
              "          -2.0854e-02,  2.8804e-01],\n",
              "         [ 3.0257e-03, -7.1395e-02, -1.2563e-01,  ..., -1.5921e-01,\n",
              "           5.7723e-03, -7.5381e-02]]], grad_fn=<TransposeBackward0>)"
            ]
          },
          "metadata": {},
          "execution_count": 38
        }
      ]
    },
    {
      "cell_type": "markdown",
      "source": [
        "Tem indicativo de gênero na frase? "
      ],
      "metadata": {
        "id": "sMu6qoAy6t33"
      }
    },
    {
      "cell_type": "code",
      "source": [
        "import spacy\n",
        "\n",
        "nlp_en = spacy.load(\"en_core_web_lg\")\n",
        "\n",
        "source_sentence = nlp_en(source_sentence)\n",
        "\n",
        "for token in source_sentence:\n",
        "  print(token.pos_)"
      ],
      "metadata": {
        "colab": {
          "base_uri": "https://localhost:8080/"
        },
        "id": "wAQIzVZ47vwc",
        "outputId": "c273f69e-d994-483a-87fe-bd11c57a87d4"
      },
      "execution_count": 24,
      "outputs": [
        {
          "output_type": "stream",
          "name": "stdout",
          "text": [
            "DET\n",
            "NOUN\n",
            "VERB\n",
            "PRON\n",
            "NOUN\n",
            "PUNCT\n"
          ]
        }
      ]
    },
    {
      "cell_type": "code",
      "source": [
        "has_pronoun = False\n",
        "\n",
        "for token in source_sentence:\n",
        "  if token.pos_ is 'PRON':\n",
        "    has_pronoun = True\n",
        "\n",
        "print(has_pronoun)    "
      ],
      "metadata": {
        "colab": {
          "base_uri": "https://localhost:8080/"
        },
        "id": "jRxMlaPYBa6u",
        "outputId": "33e0bf19-1c04-4c26-ae61-ed8284fb3dd5"
      },
      "execution_count": 25,
      "outputs": [
        {
          "output_type": "stream",
          "name": "stdout",
          "text": [
            "True\n"
          ]
        }
      ]
    },
    {
      "cell_type": "code",
      "source": [
        "get_pronoun = ''\n",
        "\n",
        "for token in source_sentence: \n",
        "  if token.pos_ is 'PRON':\n",
        "    get_pronoun = token\n",
        "\n",
        "print(get_pronoun)    "
      ],
      "metadata": {
        "colab": {
          "base_uri": "https://localhost:8080/"
        },
        "id": "dLxkC-w7CjUE",
        "outputId": "0a68e226-b614-4b98-ddbc-4beb3e910e18"
      },
      "execution_count": 26,
      "outputs": [
        {
          "output_type": "stream",
          "name": "stdout",
          "text": [
            "her\n"
          ]
        }
      ]
    },
    {
      "cell_type": "code",
      "source": [
        "pronoun_text = \"[\" + get_pronoun.text + \"]\"\n",
        "new_source_sentence = source_sentence.text.replace(get_pronoun.text, pronoun_text)\n",
        "\n",
        "new_source_sentence"
      ],
      "metadata": {
        "colab": {
          "base_uri": "https://localhost:8080/",
          "height": 36
        },
        "id": "zVnJvNc6GPtk",
        "outputId": "b5098637-912b-4c11-a0d6-59976bbb3383"
      },
      "execution_count": 27,
      "outputs": [
        {
          "output_type": "execute_result",
          "data": {
            "text/plain": [
              "'The doctor finished [her] work.'"
            ],
            "application/vnd.google.colaboratory.intrinsic+json": {
              "type": "string"
            }
          },
          "metadata": {},
          "execution_count": 27
        }
      ]
    },
    {
      "cell_type": "code",
      "source": [
        "subj = roberta.disambiguate_pronoun(new_source_sentence)\n",
        "\n",
        "subj"
      ],
      "metadata": {
        "colab": {
          "base_uri": "https://localhost:8080/",
          "height": 36
        },
        "id": "yNLJOgW0Ek-4",
        "outputId": "9867a97c-efe8-4af9-cfa1-c91d0102c455"
      },
      "execution_count": 28,
      "outputs": [
        {
          "output_type": "execute_result",
          "data": {
            "text/plain": [
              "'The doctor'"
            ],
            "application/vnd.google.colaboratory.intrinsic+json": {
              "type": "string"
            }
          },
          "metadata": {},
          "execution_count": 28
        }
      ]
    },
    {
      "cell_type": "code",
      "source": [
        "get_pronoun.morph\n",
        "\n",
        "\n",
        "is_fem = False\n",
        "is_masc = False \n",
        "is_neutral = False\n",
        "\n",
        "gender = get_pronoun.morph.get(\"Gender\")\n",
        "\n",
        "if gender == ['Fem']:\n",
        "  is_fem = True\n",
        "elif gender == ['Masc']:\n",
        "  is_masc = True\n",
        "else:\n",
        "  is_neutral = True\n",
        "\n",
        "print(is_fem)    \n",
        "print(is_masc)    \n",
        "print(is_neutral)    "
      ],
      "metadata": {
        "colab": {
          "base_uri": "https://localhost:8080/"
        },
        "id": "dNz5JmJ7FtVG",
        "outputId": "6c04e799-06ae-4f07-dbbc-5e004ef890d1"
      },
      "execution_count": 29,
      "outputs": [
        {
          "output_type": "stream",
          "name": "stdout",
          "text": [
            "True\n",
            "False\n",
            "False\n"
          ]
        }
      ]
    },
    {
      "cell_type": "code",
      "source": [
        "subj_model = roberta.disambiguate_pronoun('A médica terminou o trabalho [dela].')"
      ],
      "metadata": {
        "id": "JRZH1qNyLTtd"
      },
      "execution_count": 30,
      "outputs": []
    },
    {
      "cell_type": "code",
      "source": [
        "subj_model"
      ],
      "metadata": {
        "colab": {
          "base_uri": "https://localhost:8080/",
          "height": 36
        },
        "id": "lx5sGab3LoaX",
        "outputId": "0c6de9c6-229d-4455-8da5-3cef4d39ac9a"
      },
      "execution_count": 31,
      "outputs": [
        {
          "output_type": "execute_result",
          "data": {
            "text/plain": [
              "'médica'"
            ],
            "application/vnd.google.colaboratory.intrinsic+json": {
              "type": "string"
            }
          },
          "metadata": {},
          "execution_count": 31
        }
      ]
    },
    {
      "cell_type": "code",
      "source": [
        "subj"
      ],
      "metadata": {
        "colab": {
          "base_uri": "https://localhost:8080/",
          "height": 36
        },
        "id": "MLnHKqRqLZ0N",
        "outputId": "402d68be-1534-45ea-b0d6-297d1f1fb4b4"
      },
      "execution_count": 32,
      "outputs": [
        {
          "output_type": "execute_result",
          "data": {
            "text/plain": [
              "'The doctor'"
            ],
            "application/vnd.google.colaboratory.intrinsic+json": {
              "type": "string"
            }
          },
          "metadata": {},
          "execution_count": 32
        }
      ]
    },
    {
      "cell_type": "code",
      "source": [
        "test_model = nlp(subj_model)\n",
        "test_model"
      ],
      "metadata": {
        "colab": {
          "base_uri": "https://localhost:8080/"
        },
        "id": "hOtqZLaTL1HX",
        "outputId": "0be999c4-771e-4332-d9b5-60acea4fc421"
      },
      "execution_count": 33,
      "outputs": [
        {
          "output_type": "execute_result",
          "data": {
            "text/plain": [
              "médica"
            ]
          },
          "metadata": {},
          "execution_count": 33
        }
      ]
    },
    {
      "cell_type": "code",
      "source": [
        "test_source = nlp_en(subj)\n",
        "test_source"
      ],
      "metadata": {
        "colab": {
          "base_uri": "https://localhost:8080/"
        },
        "id": "4IRPpcVhMNDP",
        "outputId": "358cac15-3646-45f8-e4c7-46ad65dd0326"
      },
      "execution_count": 34,
      "outputs": [
        {
          "output_type": "execute_result",
          "data": {
            "text/plain": [
              "The doctor"
            ]
          },
          "metadata": {},
          "execution_count": 34
        }
      ]
    },
    {
      "cell_type": "code",
      "source": [
        "for i in test_model: \n",
        "  print(i.morph)"
      ],
      "metadata": {
        "colab": {
          "base_uri": "https://localhost:8080/"
        },
        "id": "JfHczOUIMQB-",
        "outputId": "ead52948-aecb-48f7-e982-250a23691d1b"
      },
      "execution_count": 35,
      "outputs": [
        {
          "output_type": "stream",
          "name": "stdout",
          "text": [
            "Gender=Fem|Number=Sing\n"
          ]
        }
      ]
    },
    {
      "cell_type": "code",
      "source": [
        "for i in test_source: \n",
        "  print(i.morph)"
      ],
      "metadata": {
        "colab": {
          "base_uri": "https://localhost:8080/"
        },
        "id": "TYpQD3TBMXU2",
        "outputId": "178ac04a-8c5e-4b15-8e3c-26f05466ee23"
      },
      "execution_count": 36,
      "outputs": [
        {
          "output_type": "stream",
          "name": "stdout",
          "text": [
            "Definite=Def|PronType=Art\n",
            "Number=Sing\n"
          ]
        }
      ]
    },
    {
      "cell_type": "code",
      "source": [
        "\n",
        "is_fem_trans = False\n",
        "is_masc_trans = False \n",
        "is_neutral_trans = False\n",
        "\n",
        "\n",
        "for g in test_model:\n",
        "  gender = g.morph.get(\"Gender\")\n",
        "  if gender == ['Fem']:\n",
        "    is_fem_trans = True\n",
        "  elif gender == ['Masc']:\n",
        "    is_masc_trans = True\n",
        "  else:\n",
        "    is_neutral_trans = True\n",
        "\n",
        "print(is_fem_trans)    \n",
        "print(is_masc_trans)    \n",
        "print(is_neutral_trans)   "
      ],
      "metadata": {
        "colab": {
          "base_uri": "https://localhost:8080/"
        },
        "id": "DsnsVxPkMpH6",
        "outputId": "665cf6be-5dd6-4cea-8a50-b43ff79322be"
      },
      "execution_count": 37,
      "outputs": [
        {
          "output_type": "stream",
          "name": "stdout",
          "text": [
            "True\n",
            "False\n",
            "False\n"
          ]
        }
      ]
    },
    {
      "cell_type": "code",
      "source": [
        "are_both_fem = is_fem and is_fem_trans\n",
        "are_both_masc = is_masc and is_masc_trans\n",
        "are_both_neutral = is_neutral and is_neutral_trans\n",
        "\n",
        "print(are_both_fem)\n",
        "print(are_both_masc)\n",
        "print(are_both_neutral)"
      ],
      "metadata": {
        "colab": {
          "base_uri": "https://localhost:8080/"
        },
        "id": "8QSd02n0Neje",
        "outputId": "4a95a401-120c-4ea4-fcdd-2fe6fa389952"
      },
      "execution_count": 38,
      "outputs": [
        {
          "output_type": "stream",
          "name": "stdout",
          "text": [
            "True\n",
            "False\n",
            "False\n"
          ]
        }
      ]
    },
    {
      "cell_type": "code",
      "source": [
        "!pip install datasets"
      ],
      "metadata": {
        "id": "NC28HHvMOy6M"
      },
      "execution_count": null,
      "outputs": []
    },
    {
      "cell_type": "code",
      "source": [
        "from datasets import load_dataset\n",
        "remote_dataset = load_dataset(\"VanessaSchenkel/pt_gender\", field=\"data\")\n",
        "remote_dataset\n"
      ],
      "metadata": {
        "colab": {
          "base_uri": "https://localhost:8080/",
          "height": 321,
          "referenced_widgets": [
            "48f66244e7014fe890a54a6aacf8c059",
            "d4ad3aba369a444caa848729ad77b02a",
            "60d17652943f496e9d2a2d638809ce58",
            "53d83a3b173a4028802033183f3fcfc3",
            "f98e9dbc83c54eb8ad5fa125e99aabbc",
            "36f847adff904483b4766aa5b1e79405",
            "5d594133675d40839f950b83f988bab6",
            "45e696e8762b433aa6a8f4ccfafe53d8",
            "38718bc86e27486bb0f7b9996cd8dac7",
            "1f80d6c4334545bca0a5dfcadeed944d",
            "255887bf657c4656b45627578e09d74f",
            "0b413f2721264326a1cd3fd6d2472afc",
            "7d55b6a8e1ec40c58f35ec01bea395c8",
            "8624ebc720e5414eb599a1941a06d812",
            "a43953169a7349fd9425ffff5b13056b",
            "273483ab3c2e4829ab2c1b1b4f1c51c7",
            "14cc7ebdfb45471eaa18bab6f3149c32",
            "341ad1d4e51949239e0f5a2425367a00",
            "542760f80b81415b9326c4d50e25c783",
            "120772953e8d4162a9c701c1a1583268",
            "5954ef19ddeb4a33ba41571541982d00",
            "fd42253812f04d028979d23c50451747",
            "a3e9fa7002da47bd96d3399cd9962a20",
            "482f6b56e209453e8bdff72f6a7f78e0",
            "57121b41c0d14301bc143d9ea42e8125",
            "71eea24eb3fb4b52adeaed4f401e8048",
            "25bb6f0407754414949bcb03aa978767",
            "d65d1a46eaac4f8b8ba90d59ca3095fb",
            "b057918074c3486cbc6a77274abb7149",
            "f4fdafb1cf0646dc8990d639700791d0",
            "c4b83641f1074b11bab003d9b8558e1a",
            "7181fe2d76a5496abf196b712e4562fb",
            "67ff966ae3774f6f8910b8dc1fe7164f",
            "929e42d1f72f4ca2a8823cec1217df56",
            "7afbe280b1e740f8a6d82538bd35fd55",
            "8831eac18a894e84b5455116df2d9f4b",
            "7020541c1e384f4ca0b04b50412d4a39",
            "23450bb1ccf342298bb478c5edf77d6b",
            "a33cdf9ac63a4a18b74c86815082bffe",
            "cdf2c626312e4d53afe3616f7b4faa6c",
            "ff27950f1d14462e9d2c452764e68106",
            "4caa857e6e1842a0b9e9487daaba942d",
            "0c9ae3ae813e4258b8630971a50d81f4",
            "aa8530cc9f5143048fd0891037af6883",
            "eb041767d46140ddb727a000a9783b61",
            "70bcc79ec78448fcbea7d1479fa0a6e4",
            "92a4234344e24a5da9eceb68aa1ff77e",
            "444f640cbc524025a7b9ee8d60009b58",
            "51bd94fcad4f486f9578215e64d3804a",
            "d8361c4fd8434cb6887e507fb6539c61",
            "f65dadc2bec44e038b7ddc73c5b1f30a",
            "eca0e11c35b24995b7e3ee2bfe3f4fa3",
            "a647a2c715eb4428b70bbc1682ff502f",
            "b8e36882bef04a7c8c320dde60bb6460",
            "7915c1ef5f86429e8d09368b0fbe2574"
          ]
        },
        "id": "BJx2o1yrOkRE",
        "outputId": "041c0729-3128-4384-ae07-784afea4b93d"
      },
      "execution_count": 40,
      "outputs": [
        {
          "output_type": "stream",
          "name": "stderr",
          "text": [
            "WARNING:datasets.builder:Using custom data configuration VanessaSchenkel--pt_gender-95b0f9b96d3847c6\n"
          ]
        },
        {
          "output_type": "stream",
          "name": "stdout",
          "text": [
            "Downloading and preparing dataset json/VanessaSchenkel--pt_gender to /root/.cache/huggingface/datasets/VanessaSchenkel___json/VanessaSchenkel--pt_gender-95b0f9b96d3847c6/0.0.0/e6070c77f18f01a5ad4551a8b7edfba20b8438b7cad4d94e6ad9378022ce4aab...\n"
          ]
        },
        {
          "output_type": "display_data",
          "data": {
            "text/plain": [
              "Downloading data files:   0%|          | 0/1 [00:00<?, ?it/s]"
            ],
            "application/vnd.jupyter.widget-view+json": {
              "version_major": 2,
              "version_minor": 0,
              "model_id": "48f66244e7014fe890a54a6aacf8c059"
            }
          },
          "metadata": {}
        },
        {
          "output_type": "display_data",
          "data": {
            "text/plain": [
              "Downloading data:   0%|          | 0.00/39.1M [00:00<?, ?B/s]"
            ],
            "application/vnd.jupyter.widget-view+json": {
              "version_major": 2,
              "version_minor": 0,
              "model_id": "0b413f2721264326a1cd3fd6d2472afc"
            }
          },
          "metadata": {}
        },
        {
          "output_type": "display_data",
          "data": {
            "text/plain": [
              "Extracting data files:   0%|          | 0/1 [00:00<?, ?it/s]"
            ],
            "application/vnd.jupyter.widget-view+json": {
              "version_major": 2,
              "version_minor": 0,
              "model_id": "a3e9fa7002da47bd96d3399cd9962a20"
            }
          },
          "metadata": {}
        },
        {
          "output_type": "display_data",
          "data": {
            "text/plain": [
              "0 tables [00:00, ? tables/s]"
            ],
            "application/vnd.jupyter.widget-view+json": {
              "version_major": 2,
              "version_minor": 0,
              "model_id": "929e42d1f72f4ca2a8823cec1217df56"
            }
          },
          "metadata": {}
        },
        {
          "output_type": "stream",
          "name": "stdout",
          "text": [
            "Dataset json downloaded and prepared to /root/.cache/huggingface/datasets/VanessaSchenkel___json/VanessaSchenkel--pt_gender-95b0f9b96d3847c6/0.0.0/e6070c77f18f01a5ad4551a8b7edfba20b8438b7cad4d94e6ad9378022ce4aab. Subsequent calls will reuse this data.\n"
          ]
        },
        {
          "output_type": "display_data",
          "data": {
            "text/plain": [
              "  0%|          | 0/1 [00:00<?, ?it/s]"
            ],
            "application/vnd.jupyter.widget-view+json": {
              "version_major": 2,
              "version_minor": 0,
              "model_id": "eb041767d46140ddb727a000a9783b61"
            }
          },
          "metadata": {}
        },
        {
          "output_type": "execute_result",
          "data": {
            "text/plain": [
              "DatasetDict({\n",
              "    train: Dataset({\n",
              "        features: ['root', 'words'],\n",
              "        num_rows: 321265\n",
              "    })\n",
              "})"
            ]
          },
          "metadata": {},
          "execution_count": 40
        }
      ]
    },
    {
      "cell_type": "code",
      "source": [
        "t = remote_dataset.filter(lambda example: \"médica\" in example['words'])\n",
        "\n",
        "t"
      ],
      "metadata": {
        "colab": {
          "base_uri": "https://localhost:8080/",
          "height": 153,
          "referenced_widgets": [
            "1e7c7fbc6e954a56999a64ae71f0997a",
            "4f77d6df04be42f2a96fde97811b1182",
            "fc23da63379c4365b2ce0ba9288d7e23",
            "4fc66043092346a9a8798a5898da6338",
            "bf8a29ad826c439e8fca41a3f7daea6e",
            "cbcd2698f7ee4504921b9c38ffcc4172",
            "999849f745ca44058ac72cbe46ec5b4e",
            "d3fda33b2d734750befa8f6632bae008",
            "546a695fe37f43d289bb72820cfc5dae",
            "0e507cf854fa48828152d93c1c3fcfaa",
            "5e2d03e304244f1093e6d2a17a801d93"
          ]
        },
        "id": "QGpdPUgdPJpX",
        "outputId": "baf605ba-df91-4b21-9eaf-df870cd6e396"
      },
      "execution_count": 41,
      "outputs": [
        {
          "output_type": "display_data",
          "data": {
            "text/plain": [
              "  0%|          | 0/322 [00:00<?, ?ba/s]"
            ],
            "application/vnd.jupyter.widget-view+json": {
              "version_major": 2,
              "version_minor": 0,
              "model_id": "1e7c7fbc6e954a56999a64ae71f0997a"
            }
          },
          "metadata": {}
        },
        {
          "output_type": "execute_result",
          "data": {
            "text/plain": [
              "DatasetDict({\n",
              "    train: Dataset({\n",
              "        features: ['root', 'words'],\n",
              "        num_rows: 1\n",
              "    })\n",
              "})"
            ]
          },
          "metadata": {},
          "execution_count": 41
        }
      ]
    },
    {
      "cell_type": "code",
      "source": [
        "t['train'][0]"
      ],
      "metadata": {
        "colab": {
          "base_uri": "https://localhost:8080/"
        },
        "id": "EXIULFy2SFiX",
        "outputId": "c90609d0-00d0-4cf2-8473-59d326081deb"
      },
      "execution_count": 42,
      "outputs": [
        {
          "output_type": "execute_result",
          "data": {
            "text/plain": [
              "{'root': 'médico', 'words': ['médico', 'médicos', 'médica', 'médicas']}"
            ]
          },
          "metadata": {},
          "execution_count": 42
        }
      ]
    },
    {
      "cell_type": "code",
      "source": [
        "words_with_gender = t['train'][0]['words']\n",
        "words_with_gender"
      ],
      "metadata": {
        "colab": {
          "base_uri": "https://localhost:8080/"
        },
        "id": "9h6qw2tqqPeW",
        "outputId": "5a36c91a-a2ad-4edc-a884-573459cc2b46"
      },
      "execution_count": 43,
      "outputs": [
        {
          "output_type": "execute_result",
          "data": {
            "text/plain": [
              "['médico', 'médicos', 'médica', 'médicas']"
            ]
          },
          "metadata": {},
          "execution_count": 43
        }
      ]
    },
    {
      "cell_type": "code",
      "source": [
        "sentence = \"The doctor finished her work.\"\n",
        "input_ids = tokenizer(sentence, return_tensors=\"pt\").input_ids\n",
        "\n",
        "flexible_phrases = tokenizer([\"médica\", \"médico\"], add_special_tokens=False).input_ids\n",
        "\n",
        "constraints = [DisjunctiveConstraint(flexible_phrases)]\n",
        "\n",
        "outputs = model.generate(\n",
        "    input_ids,\n",
        "    constraints=constraints,\n",
        "    num_beams=10,\n",
        "    num_return_sequences=6,\n",
        ")\n",
        "\n",
        "print(\"Output:\\n\" + 100 * '-')\n",
        "for i, sample_output in enumerate(outputs):\n",
        "  print(\"{}: {}\".format(i, tokenizer.decode(sample_output, skip_special_tokens=True)))"
      ],
      "metadata": {
        "colab": {
          "base_uri": "https://localhost:8080/"
        },
        "id": "kxa4V7CqqZ4V",
        "outputId": "71b86b99-aa74-4f02-f0d9-899c0a267055"
      },
      "execution_count": 122,
      "outputs": [
        {
          "output_type": "stream",
          "name": "stdout",
          "text": [
            "Output:\n",
            "----------------------------------------------------------------------------------------------------\n",
            "0: A médica terminou seu trabalho.\n",
            "1: A médica terminou o seu trabalho.\n",
            "2: O médico terminou seu trabalho.\n",
            "3: A médica acabou seu trabalho.\n",
            "4: O médico terminou o seu trabalho.\n",
            "5: A médica acabou o seu trabalho.\n"
          ]
        }
      ]
    },
    {
      "cell_type": "markdown",
      "source": [
        "**constraints** (List[Constraint], optional) — Custom constraints that can be added to the generation to ensure that the output will contain the use of certain tokens as defined by Constraint objects, in the most sensible way possible.\n",
        "\n",
        "**force_words_ids**(List[List[int]] or List[List[List[int]]], optional) — List of token ids that must be generated. If given a List[List[int]], this is treated as a simple list of words that must be included, the opposite to bad_words_ids. If given List[List[List[int]]], this triggers a disjunctive constraint, where one can allow different forms of each word."
      ],
      "metadata": {
        "id": "7rlGQd19w1-i"
      }
    },
    {
      "cell_type": "code",
      "source": [
        "sentence = \"The developer finished her work.\"\n",
        "input_ids = tokenizer(sentence, return_tensors=\"pt\").input_ids\n",
        "\n",
        "force_word = \"terminou o trabalho\"\n",
        "force_flexible = [\"desenvolvedor\", \"desenvolvedora\"]\n",
        "\n",
        "force_words_ids = [\n",
        "    tokenizer([force_word], add_special_tokens=False).input_ids,\n",
        "    tokenizer(force_flexible, add_special_tokens=False).input_ids,\n",
        "]\n",
        "\n",
        "\n",
        "outputs = model.generate(\n",
        "    input_ids,\n",
        "    force_words_ids=force_words_ids,\n",
        "    num_beams=20,\n",
        "    num_return_sequences=3,\n",
        "    top_k=50, \n",
        "    top_p=0.95,\n",
        "    temperature=0.7,\n",
        "    no_repeat_ngram_size=4\n",
        ")\n",
        "\n",
        "print(\"Output:\\n\" + 100 * '-')\n",
        "for i, sample_output in enumerate(outputs):\n",
        "  print(\"{}: {}\".format(i, tokenizer.decode(sample_output, skip_special_tokens=True)))"
      ],
      "metadata": {
        "colab": {
          "base_uri": "https://localhost:8080/"
        },
        "id": "z0FXpxiL5kHz",
        "outputId": "24d51ce2-2cb7-430e-98b5-a05a9f29dba0"
      },
      "execution_count": 157,
      "outputs": [
        {
          "output_type": "stream",
          "name": "stdout",
          "text": [
            "Output:\n",
            "----------------------------------------------------------------------------------------------------\n",
            "0: A desenvolvedora terminou o trabalho.\n",
            "1: O desenvolvedor terminou o trabalho.\n",
            "2: O desenvolvedora terminou o trabalho.\n"
          ]
        }
      ]
    },
    {
      "cell_type": "markdown",
      "source": [
        "Source tem gênero e é a mesma da tradução? "
      ],
      "metadata": {
        "id": "2UXL22PWAbTI"
      }
    },
    {
      "cell_type": "code",
      "source": [
        "source_sentence = \"The doctor finished her work\"\n",
        "\n",
        "print(source_sentence)\n",
        "print(translation_google)\n",
        "print(translation_model)"
      ],
      "metadata": {
        "colab": {
          "base_uri": "https://localhost:8080/"
        },
        "id": "RFs6e7btAaRP",
        "outputId": "efc62935-10a7-4c4b-a778-8e54c785f23e"
      },
      "execution_count": 159,
      "outputs": [
        {
          "output_type": "stream",
          "name": "stdout",
          "text": [
            "The doctor finished her work\n",
            "O médico terminou seu trabalho.\n",
            "A médica terminou seu trabalho.\n"
          ]
        }
      ]
    },
    {
      "cell_type": "code",
      "source": [
        "def get_pronoun(sentence):\n",
        "  pronoun_list = []\n",
        "  for token in sentence:\n",
        "    if token.pos_ is 'PRON':\n",
        "      pronoun_list.append(token)\n",
        "\n",
        "  return pronoun_list\n"
      ],
      "metadata": {
        "id": "YX0VVJBNDRKy"
      },
      "execution_count": 199,
      "outputs": []
    },
    {
      "cell_type": "code",
      "source": [
        "source_sentence = nlp_en(\"The doctor finished her work.\")\n",
        "\n",
        "pronouns_list = get_pronoun(source_sentence)\n",
        "\n",
        "print(pronouns_list)"
      ],
      "metadata": {
        "colab": {
          "base_uri": "https://localhost:8080/"
        },
        "id": "ubjHa3gLEfms",
        "outputId": "f85fdc8e-9e48-4eb5-a58a-13345ec36f36"
      },
      "execution_count": 209,
      "outputs": [
        {
          "output_type": "stream",
          "name": "stdout",
          "text": [
            "[her]\n"
          ]
        }
      ]
    },
    {
      "cell_type": "code",
      "source": [
        "def get_disambiguate_pronoun(sentence, pronouns_list):\n",
        "  noun_chunks_list = []\n",
        "  \n",
        "  for pronoun in pronouns_list:\n",
        "    pronoun_text_formatted = \"[\" + pronoun.text + \"]\"\n",
        "    new_source_sentence = sentence.text.replace(pronoun.text, pronoun_text_formatted)\n",
        "    chunk = roberta.disambiguate_pronoun(new_source_sentence)\n",
        "    noun_chunks_list.append(chunk)\n",
        "    \n",
        "  return noun_chunks_list"
      ],
      "metadata": {
        "id": "mqdSKY06J4V9"
      },
      "execution_count": 211,
      "outputs": []
    },
    {
      "cell_type": "code",
      "source": [
        "disambiguation = get_disambiguate_pronoun(source_sentence, pronouns_list)\n",
        "disambiguation"
      ],
      "metadata": {
        "colab": {
          "base_uri": "https://localhost:8080/"
        },
        "id": "WiLE3irRFPQE",
        "outputId": "2334b21e-4745-4783-a881-f7bf72172098"
      },
      "execution_count": 212,
      "outputs": [
        {
          "output_type": "execute_result",
          "data": {
            "text/plain": [
              "['The doctor']"
            ]
          },
          "metadata": {},
          "execution_count": 212
        }
      ]
    },
    {
      "cell_type": "code",
      "source": [
        "def get_sentence_gender(sentence):\n",
        "  gender_list = []\n",
        "  for token in sentence:\n",
        "    gender = token.morph.get(\"Gender\")\n",
        "    if len(gender) > 0:\n",
        "      gender_list.append(gender.pop())\n",
        "    \n",
        "  return gender_list  \n"
      ],
      "metadata": {
        "id": "vP-8WWrsKXa4"
      },
      "execution_count": 223,
      "outputs": []
    },
    {
      "cell_type": "code",
      "source": [
        "get_sentence_gender(source_sentence)"
      ],
      "metadata": {
        "colab": {
          "base_uri": "https://localhost:8080/"
        },
        "id": "QwrDT9HuNYYx",
        "outputId": "d06a4539-b1f8-4848-9859-7a46fc157e42"
      },
      "execution_count": 224,
      "outputs": [
        {
          "output_type": "execute_result",
          "data": {
            "text/plain": [
              "['Fem']"
            ]
          },
          "metadata": {},
          "execution_count": 224
        }
      ]
    },
    {
      "cell_type": "code",
      "source": [
        "def is_source_and_translated_same_gender(source, translated):\n",
        "  source_gender = get_sentence_gender(source)\n",
        "  translated_gender = get_sentence_gender(translated)\n",
        "  print(source_gender, translated_gender)\n",
        "  return source_gender == translated_gender"
      ],
      "metadata": {
        "id": "g-UQPt8TOqrO"
      },
      "execution_count": 228,
      "outputs": []
    },
    {
      "cell_type": "code",
      "source": [
        "translated = nlp(\"A médica terminou o seu trabalho\")\n",
        "\n",
        "is_source_and_translated_same_gender(source_sentence, translated)"
      ],
      "metadata": {
        "colab": {
          "base_uri": "https://localhost:8080/"
        },
        "id": "V-jTsg56PEZO",
        "outputId": "3008145c-f9b1-4f8f-cb1f-8d9e9ef3b6b0"
      },
      "execution_count": 232,
      "outputs": [
        {
          "output_type": "stream",
          "name": "stdout",
          "text": [
            "['Fem'] ['Fem', 'Fem', 'Masc', 'Masc', 'Masc']\n"
          ]
        },
        {
          "output_type": "execute_result",
          "data": {
            "text/plain": [
              "False"
            ]
          },
          "metadata": {},
          "execution_count": 232
        }
      ]
    },
    {
      "cell_type": "code",
      "source": [
        "pronouns_list_pt = get_pronoun(translated)\n",
        "pronouns_list_pt"
      ],
      "metadata": {
        "colab": {
          "base_uri": "https://localhost:8080/"
        },
        "id": "-GFBCYlLROty",
        "outputId": "d6620dcc-365e-402e-ce5e-b18c3d8440b2"
      },
      "execution_count": 233,
      "outputs": [
        {
          "output_type": "execute_result",
          "data": {
            "text/plain": [
              "[]"
            ]
          },
          "metadata": {},
          "execution_count": 233
        }
      ]
    },
    {
      "cell_type": "code",
      "source": [
        "for token in translated.noun_chunks:\n",
        "  print(token)"
      ],
      "metadata": {
        "colab": {
          "base_uri": "https://localhost:8080/"
        },
        "id": "vjGJw0alSpwD",
        "outputId": "f6a3f4a2-4e27-4cf6-89e3-9351fec801a8"
      },
      "execution_count": 234,
      "outputs": [
        {
          "output_type": "stream",
          "name": "stdout",
          "text": [
            "A médica\n",
            "o seu trabalho\n"
          ]
        }
      ]
    },
    {
      "cell_type": "code",
      "source": [
        "for token in source_sentence.noun_chunks:\n",
        "  print(token)"
      ],
      "metadata": {
        "colab": {
          "base_uri": "https://localhost:8080/"
        },
        "id": "ZjklC40FgKzO",
        "outputId": "a160d7d9-854f-4df6-eb0b-2631bc71dae0"
      },
      "execution_count": 258,
      "outputs": [
        {
          "output_type": "stream",
          "name": "stdout",
          "text": [
            "The doctor\n",
            "her work\n"
          ]
        }
      ]
    },
    {
      "cell_type": "code",
      "source": [
        "for token in source_sentence:\n",
        "  print(token.dep_)"
      ],
      "metadata": {
        "colab": {
          "base_uri": "https://localhost:8080/"
        },
        "id": "foW1Nx4ggs1i",
        "outputId": "f2f091c1-183c-408b-994f-fb06e5f193ad"
      },
      "execution_count": 268,
      "outputs": [
        {
          "output_type": "stream",
          "name": "stdout",
          "text": [
            "det\n",
            "nsubj\n",
            "ROOT\n",
            "poss\n",
            "dobj\n",
            "punct\n"
          ]
        }
      ]
    },
    {
      "cell_type": "code",
      "source": [
        "for token in translated:\n",
        "  print(token.dep_)"
      ],
      "metadata": {
        "colab": {
          "base_uri": "https://localhost:8080/"
        },
        "id": "CfKJygC1gzK4",
        "outputId": "dcc2b04a-ffa7-4b59-bc43-f4abcd2f2fc1"
      },
      "execution_count": 267,
      "outputs": [
        {
          "output_type": "stream",
          "name": "stdout",
          "text": [
            "det\n",
            "nsubj\n",
            "ROOT\n",
            "det\n",
            "det\n",
            "obj\n"
          ]
        }
      ]
    },
    {
      "cell_type": "code",
      "source": [
        "spacy.explain('nsubj')"
      ],
      "metadata": {
        "colab": {
          "base_uri": "https://localhost:8080/",
          "height": 36
        },
        "id": "XR7lkH6VhQFd",
        "outputId": "a6c0a56d-6a06-4b92-a447-814bc575f5c9"
      },
      "execution_count": 269,
      "outputs": [
        {
          "output_type": "execute_result",
          "data": {
            "text/plain": [
              "'nominal subject'"
            ],
            "application/vnd.google.colaboratory.intrinsic+json": {
              "type": "string"
            }
          },
          "metadata": {},
          "execution_count": 269
        }
      ]
    },
    {
      "cell_type": "code",
      "source": [
        "def get_nsub_sentence(sentence):\n",
        "  nsub_list = []\n",
        "  for token in sentence:\n",
        "    if token.dep_ == 'nsubj':\n",
        "      nsub_list.append(token)\n",
        "\n",
        "  return nsub_list "
      ],
      "metadata": {
        "id": "TCHXc6LliNsB"
      },
      "execution_count": 270,
      "outputs": []
    },
    {
      "cell_type": "code",
      "source": [
        "nsub_translated = get_nsub_sentence(translated)\n",
        "nsub_translated"
      ],
      "metadata": {
        "colab": {
          "base_uri": "https://localhost:8080/"
        },
        "id": "ocD-51c4iw3q",
        "outputId": "6233bd91-0cc3-43e4-a82f-31211121be57"
      },
      "execution_count": 271,
      "outputs": [
        {
          "output_type": "execute_result",
          "data": {
            "text/plain": [
              "[médica]"
            ]
          },
          "metadata": {},
          "execution_count": 271
        }
      ]
    },
    {
      "cell_type": "code",
      "source": [
        "is_source_and_translated_same_gender(source_sentence, nsub_translated)"
      ],
      "metadata": {
        "colab": {
          "base_uri": "https://localhost:8080/"
        },
        "id": "44He7w--i5KK",
        "outputId": "f0d36e3c-4b11-4a45-e7fb-a62513273cdb"
      },
      "execution_count": 272,
      "outputs": [
        {
          "output_type": "stream",
          "name": "stdout",
          "text": [
            "['Fem'] ['Fem']\n"
          ]
        },
        {
          "output_type": "execute_result",
          "data": {
            "text/plain": [
              "True"
            ]
          },
          "metadata": {},
          "execution_count": 272
        }
      ]
    },
    {
      "cell_type": "code",
      "source": [
        "translation_google = nlp(\"O médico acabou seu trabalho\")"
      ],
      "metadata": {
        "id": "Ub6jagAwkCH6"
      },
      "execution_count": 274,
      "outputs": []
    },
    {
      "cell_type": "code",
      "source": [
        "nsub_translated_google = get_nsub_sentence(translation_google)\n",
        "nsub_translated_google"
      ],
      "metadata": {
        "colab": {
          "base_uri": "https://localhost:8080/"
        },
        "id": "GubT-FFfkQHY",
        "outputId": "bb33b2c6-d39c-4501-842c-98b3f04b19d1"
      },
      "execution_count": 297,
      "outputs": [
        {
          "output_type": "execute_result",
          "data": {
            "text/plain": [
              "[médico]"
            ]
          },
          "metadata": {},
          "execution_count": 297
        }
      ]
    },
    {
      "cell_type": "code",
      "source": [
        "table = {}\n",
        "text_list = []\n",
        "anc = []\n",
        "child = []\n",
        "dep = []\n",
        "head = []\n",
        "lemma = []\n",
        "morph = []\n",
        "pos = []\n",
        "tag = []\n",
        "norm = []\n",
        "suffix = []\n",
        "pref = []\n",
        "\n",
        "for token in translation_google:\n",
        "  text_list.append(token.text)\n",
        "  anc.append([ancestor for ancestor in token.ancestors])\n",
        "  child.append([child for child in token.children])\n",
        "  dep.append(token.dep_)\n",
        "  head.append(token.head)\n",
        "  lemma.append(token.lemma_)\n",
        "  morph.append(token.morph)\n",
        "  pos.append(token.pos_)\n",
        "  norm.append(token.norm_)\n",
        "  pref.append(token.prefix_)\n",
        "  suffix.append(token.suffix_)\n",
        "\n",
        "table['text'] = text_list\n",
        "table['anc'] = anc\n",
        "table['child'] = child\n",
        "table['dep'] = dep\n",
        "table['head'] = head\n",
        "table['lemma'] = lemma\n",
        "table['morph'] = morph\n",
        "table['pos'] = pos\n",
        "table['norm'] = norm\n",
        "table['pref'] = pref\n",
        "table['suffix'] = suffix\n",
        "\n",
        "\n",
        "\n",
        "df = pd.DataFrame(table)\n",
        "\n",
        "display(df)"
      ],
      "metadata": {
        "colab": {
          "base_uri": "https://localhost:8080/",
          "height": 206
        },
        "id": "7jKv2JsWlLfP",
        "outputId": "669ba285-fa5d-4d36-c85c-4db728e2599e"
      },
      "execution_count": 276,
      "outputs": [
        {
          "output_type": "display_data",
          "data": {
            "text/plain": [
              "       text                 anc               child    dep      head  \\\n",
              "0         O    [médico, acabou]                  []    det    médico   \n",
              "1    médico            [acabou]                 [O]  nsubj    acabou   \n",
              "2    acabou                  []  [médico, trabalho]   ROOT    acabou   \n",
              "3       seu  [trabalho, acabou]                  []    det  trabalho   \n",
              "4  trabalho            [acabou]               [seu]    obj    acabou   \n",
              "\n",
              "      lemma                                              morph   pos  \\\n",
              "0         o  (Definite=Def, Gender=Masc, Number=Sing, PronT...   DET   \n",
              "1    médico                         (Gender=Masc, Number=Sing)  NOUN   \n",
              "2    acabar  (Mood=Ind, Number=Sing, Person=3, Tense=Past, ...  VERB   \n",
              "3       seu           (Gender=Masc, Number=Sing, PronType=Prs)   DET   \n",
              "4  trabalho                         (Gender=Masc, Number=Sing)  NOUN   \n",
              "\n",
              "       norm pref suffix  \n",
              "0         o    O      O  \n",
              "1    médico    m    ico  \n",
              "2    acabou    a    bou  \n",
              "3       seu    s    seu  \n",
              "4  trabalho    t    lho  "
            ],
            "text/html": [
              "\n",
              "  <div id=\"df-acae5f4b-3d56-4c44-8a34-de1d0516702c\">\n",
              "    <div class=\"colab-df-container\">\n",
              "      <div>\n",
              "<style scoped>\n",
              "    .dataframe tbody tr th:only-of-type {\n",
              "        vertical-align: middle;\n",
              "    }\n",
              "\n",
              "    .dataframe tbody tr th {\n",
              "        vertical-align: top;\n",
              "    }\n",
              "\n",
              "    .dataframe thead th {\n",
              "        text-align: right;\n",
              "    }\n",
              "</style>\n",
              "<table border=\"1\" class=\"dataframe\">\n",
              "  <thead>\n",
              "    <tr style=\"text-align: right;\">\n",
              "      <th></th>\n",
              "      <th>text</th>\n",
              "      <th>anc</th>\n",
              "      <th>child</th>\n",
              "      <th>dep</th>\n",
              "      <th>head</th>\n",
              "      <th>lemma</th>\n",
              "      <th>morph</th>\n",
              "      <th>pos</th>\n",
              "      <th>norm</th>\n",
              "      <th>pref</th>\n",
              "      <th>suffix</th>\n",
              "    </tr>\n",
              "  </thead>\n",
              "  <tbody>\n",
              "    <tr>\n",
              "      <th>0</th>\n",
              "      <td>O</td>\n",
              "      <td>[médico, acabou]</td>\n",
              "      <td>[]</td>\n",
              "      <td>det</td>\n",
              "      <td>médico</td>\n",
              "      <td>o</td>\n",
              "      <td>(Definite=Def, Gender=Masc, Number=Sing, PronT...</td>\n",
              "      <td>DET</td>\n",
              "      <td>o</td>\n",
              "      <td>O</td>\n",
              "      <td>O</td>\n",
              "    </tr>\n",
              "    <tr>\n",
              "      <th>1</th>\n",
              "      <td>médico</td>\n",
              "      <td>[acabou]</td>\n",
              "      <td>[O]</td>\n",
              "      <td>nsubj</td>\n",
              "      <td>acabou</td>\n",
              "      <td>médico</td>\n",
              "      <td>(Gender=Masc, Number=Sing)</td>\n",
              "      <td>NOUN</td>\n",
              "      <td>médico</td>\n",
              "      <td>m</td>\n",
              "      <td>ico</td>\n",
              "    </tr>\n",
              "    <tr>\n",
              "      <th>2</th>\n",
              "      <td>acabou</td>\n",
              "      <td>[]</td>\n",
              "      <td>[médico, trabalho]</td>\n",
              "      <td>ROOT</td>\n",
              "      <td>acabou</td>\n",
              "      <td>acabar</td>\n",
              "      <td>(Mood=Ind, Number=Sing, Person=3, Tense=Past, ...</td>\n",
              "      <td>VERB</td>\n",
              "      <td>acabou</td>\n",
              "      <td>a</td>\n",
              "      <td>bou</td>\n",
              "    </tr>\n",
              "    <tr>\n",
              "      <th>3</th>\n",
              "      <td>seu</td>\n",
              "      <td>[trabalho, acabou]</td>\n",
              "      <td>[]</td>\n",
              "      <td>det</td>\n",
              "      <td>trabalho</td>\n",
              "      <td>seu</td>\n",
              "      <td>(Gender=Masc, Number=Sing, PronType=Prs)</td>\n",
              "      <td>DET</td>\n",
              "      <td>seu</td>\n",
              "      <td>s</td>\n",
              "      <td>seu</td>\n",
              "    </tr>\n",
              "    <tr>\n",
              "      <th>4</th>\n",
              "      <td>trabalho</td>\n",
              "      <td>[acabou]</td>\n",
              "      <td>[seu]</td>\n",
              "      <td>obj</td>\n",
              "      <td>acabou</td>\n",
              "      <td>trabalho</td>\n",
              "      <td>(Gender=Masc, Number=Sing)</td>\n",
              "      <td>NOUN</td>\n",
              "      <td>trabalho</td>\n",
              "      <td>t</td>\n",
              "      <td>lho</td>\n",
              "    </tr>\n",
              "  </tbody>\n",
              "</table>\n",
              "</div>\n",
              "      <button class=\"colab-df-convert\" onclick=\"convertToInteractive('df-acae5f4b-3d56-4c44-8a34-de1d0516702c')\"\n",
              "              title=\"Convert this dataframe to an interactive table.\"\n",
              "              style=\"display:none;\">\n",
              "        \n",
              "  <svg xmlns=\"http://www.w3.org/2000/svg\" height=\"24px\"viewBox=\"0 0 24 24\"\n",
              "       width=\"24px\">\n",
              "    <path d=\"M0 0h24v24H0V0z\" fill=\"none\"/>\n",
              "    <path d=\"M18.56 5.44l.94 2.06.94-2.06 2.06-.94-2.06-.94-.94-2.06-.94 2.06-2.06.94zm-11 1L8.5 8.5l.94-2.06 2.06-.94-2.06-.94L8.5 2.5l-.94 2.06-2.06.94zm10 10l.94 2.06.94-2.06 2.06-.94-2.06-.94-.94-2.06-.94 2.06-2.06.94z\"/><path d=\"M17.41 7.96l-1.37-1.37c-.4-.4-.92-.59-1.43-.59-.52 0-1.04.2-1.43.59L10.3 9.45l-7.72 7.72c-.78.78-.78 2.05 0 2.83L4 21.41c.39.39.9.59 1.41.59.51 0 1.02-.2 1.41-.59l7.78-7.78 2.81-2.81c.8-.78.8-2.07 0-2.86zM5.41 20L4 18.59l7.72-7.72 1.47 1.35L5.41 20z\"/>\n",
              "  </svg>\n",
              "      </button>\n",
              "      \n",
              "  <style>\n",
              "    .colab-df-container {\n",
              "      display:flex;\n",
              "      flex-wrap:wrap;\n",
              "      gap: 12px;\n",
              "    }\n",
              "\n",
              "    .colab-df-convert {\n",
              "      background-color: #E8F0FE;\n",
              "      border: none;\n",
              "      border-radius: 50%;\n",
              "      cursor: pointer;\n",
              "      display: none;\n",
              "      fill: #1967D2;\n",
              "      height: 32px;\n",
              "      padding: 0 0 0 0;\n",
              "      width: 32px;\n",
              "    }\n",
              "\n",
              "    .colab-df-convert:hover {\n",
              "      background-color: #E2EBFA;\n",
              "      box-shadow: 0px 1px 2px rgba(60, 64, 67, 0.3), 0px 1px 3px 1px rgba(60, 64, 67, 0.15);\n",
              "      fill: #174EA6;\n",
              "    }\n",
              "\n",
              "    [theme=dark] .colab-df-convert {\n",
              "      background-color: #3B4455;\n",
              "      fill: #D2E3FC;\n",
              "    }\n",
              "\n",
              "    [theme=dark] .colab-df-convert:hover {\n",
              "      background-color: #434B5C;\n",
              "      box-shadow: 0px 1px 3px 1px rgba(0, 0, 0, 0.15);\n",
              "      filter: drop-shadow(0px 1px 2px rgba(0, 0, 0, 0.3));\n",
              "      fill: #FFFFFF;\n",
              "    }\n",
              "  </style>\n",
              "\n",
              "      <script>\n",
              "        const buttonEl =\n",
              "          document.querySelector('#df-acae5f4b-3d56-4c44-8a34-de1d0516702c button.colab-df-convert');\n",
              "        buttonEl.style.display =\n",
              "          google.colab.kernel.accessAllowed ? 'block' : 'none';\n",
              "\n",
              "        async function convertToInteractive(key) {\n",
              "          const element = document.querySelector('#df-acae5f4b-3d56-4c44-8a34-de1d0516702c');\n",
              "          const dataTable =\n",
              "            await google.colab.kernel.invokeFunction('convertToInteractive',\n",
              "                                                     [key], {});\n",
              "          if (!dataTable) return;\n",
              "\n",
              "          const docLinkHtml = 'Like what you see? Visit the ' +\n",
              "            '<a target=\"_blank\" href=https://colab.research.google.com/notebooks/data_table.ipynb>data table notebook</a>'\n",
              "            + ' to learn more about interactive tables.';\n",
              "          element.innerHTML = '';\n",
              "          dataTable['output_type'] = 'display_data';\n",
              "          await google.colab.output.renderOutput(dataTable, element);\n",
              "          const docLink = document.createElement('div');\n",
              "          docLink.innerHTML = docLinkHtml;\n",
              "          element.appendChild(docLink);\n",
              "        }\n",
              "      </script>\n",
              "    </div>\n",
              "  </div>\n",
              "  "
            ]
          },
          "metadata": {}
        }
      ]
    },
    {
      "cell_type": "code",
      "source": [
        "def get_constrained_sentence(translation, nsub):\n",
        "  constrained_sentence = \"\"\n",
        "  children = [child for child in nsub[0].children]\n",
        "  for token in translation:\n",
        "    if token not in nsub and token not in children:\n",
        "      constrained_sentence += token.text + \" \"\n",
        "\n",
        "  return constrained_sentence"
      ],
      "metadata": {
        "id": "vSsH5WQ4lfE5"
      },
      "execution_count": 325,
      "outputs": []
    },
    {
      "cell_type": "code",
      "source": [
        "constrained_sentence = get_constrained_sentence(translation_google, nsub_translated_google)\n",
        "constrained_sentence"
      ],
      "metadata": {
        "colab": {
          "base_uri": "https://localhost:8080/",
          "height": 36
        },
        "id": "Csw7aOmNmCTH",
        "outputId": "25356477-8393-49ce-eb1c-a5b60e57021f"
      },
      "execution_count": 328,
      "outputs": [
        {
          "output_type": "execute_result",
          "data": {
            "text/plain": [
              "'acabou seu trabalho '"
            ],
            "application/vnd.google.colaboratory.intrinsic+json": {
              "type": "string"
            }
          },
          "metadata": {},
          "execution_count": 328
        }
      ]
    },
    {
      "cell_type": "code",
      "source": [
        "sentence = \"The doctor finished her work.\"\n",
        "input_ids = tokenizer(sentence, return_tensors=\"pt\").input_ids\n",
        "\n",
        "force_word = constrained_sentence.strip()\n",
        "\n",
        "force_words_ids = [\n",
        "    tokenizer([force_word], add_special_tokens=False).input_ids,\n",
        "]\n",
        "\n",
        "\n",
        "outputs = model.generate(\n",
        "    input_ids,\n",
        "    force_words_ids=force_words_ids,\n",
        "    num_beams=20,\n",
        "    num_return_sequences=3,\n",
        "    top_k=50, \n",
        "    top_p=0.95,\n",
        "    temperature=0.7,\n",
        "    no_repeat_ngram_size=4\n",
        ")\n",
        "\n",
        "print(\"Output:\\n\" + 100 * '-')\n",
        "for i, sample_output in enumerate(outputs):\n",
        "  print(\"{}: {}\".format(i, tokenizer.decode(sample_output, skip_special_tokens=True)))"
      ],
      "metadata": {
        "colab": {
          "base_uri": "https://localhost:8080/"
        },
        "id": "VwQFwPvppWTK",
        "outputId": "693bb981-f206-4a51-94e6-4540a7eb7332"
      },
      "execution_count": 339,
      "outputs": [
        {
          "output_type": "stream",
          "name": "stderr",
          "text": [
            "/usr/local/lib/python3.7/dist-packages/transformers/generation_utils.py:1232: UserWarning: Neither `max_length` nor `max_new_tokens` has been set, `max_length` will default to 20 (`self.config.max_length`). Controlling `max_length` via the config is deprecated and `max_length` will be removed from the config in v5 of Transformers -- we recommend using `max_new_tokens` to control the maximum length of the generation.\n",
            "  UserWarning,\n"
          ]
        },
        {
          "output_type": "stream",
          "name": "stdout",
          "text": [
            "Output:\n",
            "----------------------------------------------------------------------------------------------------\n",
            "0: A médica acabou seu trabalho.\n",
            "1: O médico acabou seu trabalho.\n",
            "2: A doutora acabou seu trabalho.\n"
          ]
        }
      ]
    },
    {
      "cell_type": "markdown",
      "source": [
        "Source tem gênero e não é a mesma da tradução?"
      ],
      "metadata": {
        "id": "iDJipWJ1sEAW"
      }
    },
    {
      "cell_type": "markdown",
      "source": [
        "Source não tem gênero?"
      ],
      "metadata": {
        "id": "pfLQO5jxsIWZ"
      }
    },
    {
      "cell_type": "markdown",
      "source": [
        "Source tem mais de um gênero?"
      ],
      "metadata": {
        "id": "sQRUXM3jsRA0"
      }
    },
    {
      "cell_type": "markdown",
      "source": [
        "Adicionando a tradução neutra"
      ],
      "metadata": {
        "id": "xh9-lyEUsWHf"
      }
    }
  ]
}